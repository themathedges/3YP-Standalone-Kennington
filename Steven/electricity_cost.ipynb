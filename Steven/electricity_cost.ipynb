{
 "metadata": {
  "language_info": {
   "codemirror_mode": {
    "name": "ipython",
    "version": 3
   },
   "file_extension": ".py",
   "mimetype": "text/x-python",
   "name": "python",
   "nbconvert_exporter": "python",
   "pygments_lexer": "ipython3",
   "version": "3.8.3"
  },
  "orig_nbformat": 2,
  "kernelspec": {
   "name": "python383jvsc74a57bd06a6186864f407513c43a5dc5d2839af60d6241251b265e53be23a238f809215b",
   "display_name": "Python 3.8.3 64-bit ('base': conda)"
  }
 },
 "nbformat": 4,
 "nbformat_minor": 2,
 "cells": [
  {
   "cell_type": "code",
   "execution_count": 5,
   "metadata": {},
   "outputs": [],
   "source": [
    "import pandas as pd\n",
    "import numpy as np \n",
    "import matplotlib.pyplot as plt\n",
    "import datetime \n",
    "from datetime import datetime,timedelta\n",
    "\n",
    "plt.style.use('default')\n",
    "\n",
    "# reading the csv files and creating the dataframe\n",
    "filename = \"Data/domestic_demand.csv\"\n",
    "cost_df = pd.read_csv(filename)\n",
    "\n",
    "filename = \"Data/domestic_demand_reduced.csv\"\n",
    "underfloorheating_df = pd.read_csv(filename)\n",
    "\n",
    "filename = \"Data/passivhaus_demand.csv\"\n",
    "passivhaus_df = pd.read_csv(filename)\n",
    "\n",
    "filename = \"Data/Walls_demand.csv\"\n",
    "cavitywalls_df = pd.read_csv(filename)\n",
    "\n",
    "filename = \"Data/Windows_demand.csv\"\n",
    "doubleglazing_df = pd.read_csv(filename)\n",
    "\n",
    "filename = \"Data/Loft_demand.csv\"\n",
    "loftinsulation_df = pd.read_csv(filename)\n",
    "\n",
    "cost_df['Domestic Demand Reduced'] = underfloorheating_df['Domestic Demand Reduced']\n",
    "cost_df['Passivhaus Demand'] = passivhaus_df['Passivhaus Demand']\n",
    "cost_df['Walls Total Demand'] = cavitywalls_df['Walls Total Demand']\n",
    "cost_df['Windows Total Demand'] = doubleglazing_df['Windows Total Demand']\n",
    "cost_df['Loft Total Demand'] = loftinsulation_df['Loft Total Demand']\n",
    "\n",
    "# changing the data types of the time and value columns\n",
    "cost_df['Time'] = pd.to_datetime(cost_df['Time'])\n",
    "\n",
    "# renaming column to Date_Time\n",
    "cost_df.rename(columns = {'Time': 'Date_Time'}, inplace=True)\n",
    "\n",
    "# separating Date_Time columns  \n",
    "cost_df['Date'] = [d.date() for d in cost_df['Date_Time']] \n",
    "cost_df['Time'] = [d.time() for d in cost_df['Date_Time']]\n",
    "\n",
    "\n",
    "\n"
   ]
  },
  {
   "cell_type": "code",
   "execution_count": 6,
   "metadata": {},
   "outputs": [
    {
     "output_type": "stream",
     "name": "stdout",
     "text": [
      "<class 'pandas.core.frame.DataFrame'>\nRangeIndex: 17520 entries, 0 to 17519\nData columns (total 10 columns):\n #   Column                   Non-Null Count  Dtype         \n---  ------                   --------------  -----         \n 0   Unnamed: 0               17520 non-null  int64         \n 1   Date_Time                17520 non-null  datetime64[ns]\n 2   Domestic Demand          17520 non-null  float64       \n 3   Domestic Demand Reduced  17520 non-null  float64       \n 4   Passivhaus Demand        17520 non-null  float64       \n 5   Walls Total Demand       17520 non-null  float64       \n 6   Windows Total Demand     17520 non-null  float64       \n 7   Loft Total Demand        17520 non-null  float64       \n 8   Date                     17520 non-null  object        \n 9   Time                     17520 non-null  object        \ndtypes: datetime64[ns](1), float64(6), int64(1), object(2)\nmemory usage: 1.3+ MB\n"
     ]
    }
   ],
   "source": [
    "cost_df.info()"
   ]
  },
  {
   "cell_type": "code",
   "execution_count": 7,
   "metadata": {},
   "outputs": [
    {
     "output_type": "stream",
     "name": "stdout",
     "text": [
      "The original cost is:  496.5041684402928  GBP\nThe cost with underfloor heating is:  327.26518281417106  GBP\nThe Passivhaus cost is:  160.29345115966825  GBP\nThe cost with cavity walls is:  385.67672139261344  GBP\nThe cost with double glazing is:  418.19930224092343  GBP\nThe cost with loft insulation is:  401.93801181676963  GBP\n"
     ]
    }
   ],
   "source": [
    "import datetime\n",
    "\n",
    "# define the start and end times for each price band\n",
    "low_price_start_time = datetime.time(22, 30)\n",
    "low_price_end_time = datetime.time(7, 00)\n",
    "high_price_start_time = datetime.time(16, 00)\n",
    " \n",
    "# set the mean price levels\n",
    "low_price_level = 0.07\n",
    "medium_price_level = 0.135\n",
    "high_price_level = 0.20\n",
    " \n",
    "# do the price calculation\n",
    " \n",
    "# insert a new column\n",
    "cost_df['Original_cost'] = cost_df['Domestic Demand']\n",
    "cost_df['Reduced_cost'] = cost_df['Domestic Demand Reduced']\n",
    "cost_df['Passivhaus_cost'] = cost_df['Passivhaus Demand']\n",
    "cost_df['Walls_cost'] = cost_df['Walls Total Demand']\n",
    "cost_df['Windows_cost'] = cost_df['Windows Total Demand']\n",
    "cost_df['Loft_cost'] = cost_df['Loft Total Demand']\n",
    " \n",
    "# low price period\n",
    "cost_df.loc[((cost_df['Time'] >= low_price_start_time) | (cost_df['Time'] < low_price_end_time)), 'Original_cost'] = cost_df.loc[((cost_df['Time'] >= low_price_start_time) | (cost_df['Time'] < low_price_end_time)), 'Domestic Demand'] * low_price_level\n",
    "\n",
    "cost_df.loc[((cost_df['Time'] >= low_price_start_time) | (cost_df['Time'] < low_price_end_time)), 'Reduced_cost'] = cost_df.loc[((cost_df['Time'] >= low_price_start_time) | (cost_df['Time'] < low_price_end_time)), 'Domestic Demand Reduced'] * low_price_level\n",
    "\n",
    "cost_df.loc[((cost_df['Time'] >= low_price_start_time) | (cost_df['Time'] < low_price_end_time)), 'Passivhaus_cost'] = cost_df.loc[((cost_df['Time'] >= low_price_start_time) | (cost_df['Time'] < low_price_end_time)), 'Passivhaus Demand'] * low_price_level\n",
    "\n",
    "cost_df.loc[((cost_df['Time'] >= low_price_start_time) | (cost_df['Time'] < low_price_end_time)), 'Walls_cost'] = cost_df.loc[((cost_df['Time'] >= low_price_start_time) | (cost_df['Time'] < low_price_end_time)), 'Walls Total Demand'] * low_price_level\n",
    "\n",
    "cost_df.loc[((cost_df['Time'] >= low_price_start_time) | (cost_df['Time'] < low_price_end_time)), 'Windows_cost'] = cost_df.loc[((cost_df['Time'] >= low_price_start_time) | (cost_df['Time'] < low_price_end_time)), 'Windows Total Demand'] * low_price_level\n",
    "\n",
    "cost_df.loc[((cost_df['Time'] >= low_price_start_time) | (cost_df['Time'] < low_price_end_time)), 'Loft_cost'] = cost_df.loc[((cost_df['Time'] >= low_price_start_time) | (cost_df['Time'] < low_price_end_time)), 'Loft Total Demand'] * low_price_level\n",
    " \n",
    "# medium price period\n",
    "cost_df.loc[((cost_df['Time'] >= low_price_end_time) & (cost_df['Time'] < high_price_start_time)), 'Original_cost'] = cost_df.loc[((cost_df['Time'] >= low_price_end_time) & (cost_df['Time'] < high_price_start_time)), 'Domestic Demand'] * medium_price_level\n",
    "\n",
    "cost_df.loc[((cost_df['Time'] >= low_price_end_time) & (cost_df['Time'] < high_price_start_time)), 'Reduced_cost'] = cost_df.loc[((cost_df['Time'] >= low_price_end_time) & (cost_df['Time'] < high_price_start_time)), 'Domestic Demand Reduced'] * medium_price_level\n",
    "\n",
    "cost_df.loc[((cost_df['Time'] >= low_price_end_time) & (cost_df['Time'] < high_price_start_time)), 'Passivhaus_cost'] = cost_df.loc[((cost_df['Time'] >= low_price_end_time) & (cost_df['Time'] < high_price_start_time)), 'Passivhaus Demand'] * medium_price_level\n",
    "\n",
    "cost_df.loc[((cost_df['Time'] >= low_price_end_time) & (cost_df['Time'] < high_price_start_time)), 'Walls_cost'] = cost_df.loc[((cost_df['Time'] >= low_price_end_time) & (cost_df['Time'] < high_price_start_time)), 'Walls Total Demand'] * medium_price_level\n",
    "\n",
    "cost_df.loc[((cost_df['Time'] >= low_price_end_time) & (cost_df['Time'] < high_price_start_time)), 'Windows_cost'] = cost_df.loc[((cost_df['Time'] >= low_price_end_time) & (cost_df['Time'] < high_price_start_time)), 'Windows Total Demand'] * medium_price_level\n",
    "\n",
    "cost_df.loc[((cost_df['Time'] >= low_price_end_time) & (cost_df['Time'] < high_price_start_time)), 'Loft_cost'] = cost_df.loc[((cost_df['Time'] >= low_price_end_time) & (cost_df['Time'] < high_price_start_time)), 'Loft Total Demand'] * medium_price_level\n",
    " \n",
    "# high price period\n",
    "cost_df.loc[((cost_df['Time'] >= high_price_start_time) & (cost_df['Time'] < low_price_start_time)), 'Original_cost'] = cost_df.loc[((cost_df['Time'] >= high_price_start_time) & (cost_df['Time'] < low_price_start_time)), 'Domestic Demand'] * high_price_level\n",
    "\n",
    "cost_df.loc[((cost_df['Time'] >= high_price_start_time) & (cost_df['Time'] < low_price_start_time)), 'Reduced_cost'] = cost_df.loc[((cost_df['Time'] >= high_price_start_time) & (cost_df['Time'] < low_price_start_time)), 'Domestic Demand Reduced'] * high_price_level\n",
    "\n",
    "cost_df.loc[((cost_df['Time'] >= high_price_start_time) & (cost_df['Time'] < low_price_start_time)), 'Passivhaus_cost'] = cost_df.loc[((cost_df['Time'] >= high_price_start_time) & (cost_df['Time'] < low_price_start_time)), 'Passivhaus Demand'] * high_price_level\n",
    "\n",
    "cost_df.loc[((cost_df['Time'] >= high_price_start_time) & (cost_df['Time'] < low_price_start_time)), 'Walls_cost'] = cost_df.loc[((cost_df['Time'] >= high_price_start_time) & (cost_df['Time'] < low_price_start_time)), 'Walls Total Demand'] * high_price_level\n",
    "\n",
    "cost_df.loc[((cost_df['Time'] >= high_price_start_time) & (cost_df['Time'] < low_price_start_time)), 'Windows_cost'] = cost_df.loc[((cost_df['Time'] >= high_price_start_time) & (cost_df['Time'] < low_price_start_time)), 'Windows Total Demand'] * high_price_level\n",
    "\n",
    "cost_df.loc[((cost_df['Time'] >= high_price_start_time) & (cost_df['Time'] < low_price_start_time)), 'Loft_cost'] = cost_df.loc[((cost_df['Time'] >= high_price_start_time) & (cost_df['Time'] < low_price_start_time)), 'Loft Total Demand'] * high_price_level\n",
    "\n",
    "# print the costs out\n",
    "print('The original cost is: ', sum(cost_df['Original_cost']), ' GBP')\n",
    "print('The cost with underfloor heating is: ', sum(cost_df['Reduced_cost']), ' GBP')\n",
    "print('The Passivhaus cost is: ', sum(cost_df['Passivhaus_cost']), ' GBP')\n",
    "print('The cost with cavity walls is: ', sum(cost_df['Walls_cost']), ' GBP')\n",
    "print('The cost with double glazing is: ', sum(cost_df['Windows_cost']), ' GBP')\n",
    "print('The cost with loft insulation is: ', sum(cost_df['Loft_cost']), ' GBP')"
   ]
  },
  {
   "cell_type": "code",
   "execution_count": 8,
   "metadata": {},
   "outputs": [
    {
     "output_type": "stream",
     "name": "stdout",
     "text": [
      "<class 'pandas.core.frame.DataFrame'>\nRangeIndex: 17520 entries, 0 to 17519\nData columns (total 16 columns):\n #   Column                   Non-Null Count  Dtype         \n---  ------                   --------------  -----         \n 0   Unnamed: 0               17520 non-null  int64         \n 1   Date_Time                17520 non-null  datetime64[ns]\n 2   Domestic Demand          17520 non-null  float64       \n 3   Domestic Demand Reduced  17520 non-null  float64       \n 4   Passivhaus Demand        17520 non-null  float64       \n 5   Walls Total Demand       17520 non-null  float64       \n 6   Windows Total Demand     17520 non-null  float64       \n 7   Loft Total Demand        17520 non-null  float64       \n 8   Date                     17520 non-null  object        \n 9   Time                     17520 non-null  object        \n 10  Original_cost            17520 non-null  float64       \n 11  Reduced_cost             17520 non-null  float64       \n 12  Passivhaus_cost          17520 non-null  float64       \n 13  Walls_cost               17520 non-null  float64       \n 14  Windows_cost             17520 non-null  float64       \n 15  Loft_cost                17520 non-null  float64       \ndtypes: datetime64[ns](1), float64(12), int64(1), object(2)\nmemory usage: 2.1+ MB\n"
     ]
    }
   ],
   "source": [
    "cost_df.info()"
   ]
  },
  {
   "cell_type": "code",
   "execution_count": null,
   "metadata": {},
   "outputs": [],
   "source": []
  }
 ]
}