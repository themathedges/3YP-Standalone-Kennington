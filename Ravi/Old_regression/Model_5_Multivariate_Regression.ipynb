{
  "nbformat": 4,
  "nbformat_minor": 0,
  "metadata": {
    "colab": {
      "name": "Model_5_Multivariate_Regression.ipynb",
      "provenance": [],
      "collapsed_sections": [],
      "toc_visible": true,
      "authorship_tag": "ABX9TyOocAnguBiOH8U/BuDdAE5N",
      "include_colab_link": true
    },
    "kernelspec": {
      "name": "python3",
      "display_name": "Python 3"
    }
  },
  "cells": [
    {
      "cell_type": "markdown",
      "metadata": {
        "id": "view-in-github",
        "colab_type": "text"
      },
      "source": [
        "<a href=\"https://colab.research.google.com/github/themathedges/3YP-Standalone-Kennington/blob/main/Ravi/Old_regression/Model_5_Multivariate_Regression.ipynb\" target=\"_parent\"><img src=\"https://colab.research.google.com/assets/colab-badge.svg\" alt=\"Open In Colab\"/></a>"
      ]
    },
    {
      "cell_type": "markdown",
      "metadata": {
        "id": "G-Rwo1ZObTcd"
      },
      "source": [
        "# Model 5: Multivariate Regression (Daily)"
      ]
    },
    {
      "cell_type": "markdown",
      "metadata": {
        "id": "Z1sMmM5NbPyV"
      },
      "source": [
        "**Author:** Ravi Kohli\n",
        "\n",
        "**Date:** January 5th, 2021\n",
        "\n",
        "**College:** Christ Church"
      ]
    },
    {
      "cell_type": "markdown",
      "metadata": {
        "id": "vLN4P4QAb8FJ"
      },
      "source": [
        "**Goal:**\n",
        "- To make a very simple multivariate linear regression monthly model to forecast the future generation profile of Sandford Hydro"
      ]
    },
    {
      "cell_type": "code",
      "metadata": {
        "colab": {
          "base_uri": "https://localhost:8080/"
        },
        "id": "hK_NM4gRbMei",
        "outputId": "7f81dd90-711d-468b-9272-ecf9c5b24a61"
      },
      "source": [
        "# Mounting the Google Drive\n",
        "from google.colab import drive\n",
        "drive.mount('/content/drive')"
      ],
      "execution_count": null,
      "outputs": [
        {
          "output_type": "stream",
          "text": [
            "Mounted at /content/drive\n"
          ],
          "name": "stdout"
        }
      ]
    },
    {
      "cell_type": "code",
      "metadata": {
        "id": "A7p3DYTEcLh3"
      },
      "source": [
        "# import the modules\n",
        "import numpy as np\n",
        "import pandas as pd\n",
        "import matplotlib\n",
        "import matplotlib.pyplot as plt\n",
        "import matplotlib.dates as mdates\n",
        "from scipy.stats import pearsonr\n",
        "import pickle\n",
        "from sklearn.linear_model import LinearRegression"
      ],
      "execution_count": null,
      "outputs": []
    },
    {
      "cell_type": "markdown",
      "metadata": {
        "id": "WQPcrL_scZBm"
      },
      "source": [
        "## Collecting the Data"
      ]
    },
    {
      "cell_type": "markdown",
      "metadata": {
        "id": "uV82PbQFhDZ0"
      },
      "source": [
        "### Defining the Mask"
      ]
    },
    {
      "cell_type": "code",
      "metadata": {
        "id": "rA7kQPFXef5Y"
      },
      "source": [
        "# extract the rows that we want by using a mask\n",
        "# format of mask: YYYY-MM-DD\n",
        "model_5_current_mask_start = pd.to_datetime('2018-12-01')\n",
        "model_5_current_mask_end = pd.to_datetime('2019-10-22')"
      ],
      "execution_count": null,
      "outputs": []
    },
    {
      "cell_type": "markdown",
      "metadata": {
        "id": "AyPbqnm_ccL6"
      },
      "source": [
        "### Daily Current Generation"
      ]
    },
    {
      "cell_type": "code",
      "metadata": {
        "id": "UfXYWnP1d2M2"
      },
      "source": [
        "# unpickle the processed daily generation dataframe\n",
        "path = '/content/drive/My Drive/3YP/data/'\n",
        "filename = 'daily_sandford_generation_data'\n",
        "infile = open(path+filename, 'rb')\n",
        "sandford_daily_df = pickle.load(infile)\n",
        "infile.close()"
      ],
      "execution_count": null,
      "outputs": []
    },
    {
      "cell_type": "code",
      "metadata": {
        "colab": {
          "base_uri": "https://localhost:8080/",
          "height": 411
        },
        "id": "i6BQg67Q5vGj",
        "outputId": "fc26ee2b-6f3f-4020-c819-73b2a5e8e907"
      },
      "source": [
        "sandford_daily_df"
      ],
      "execution_count": null,
      "outputs": [
        {
          "output_type": "execute_result",
          "data": {
            "text/html": [
              "<div>\n",
              "<style scoped>\n",
              "    .dataframe tbody tr th:only-of-type {\n",
              "        vertical-align: middle;\n",
              "    }\n",
              "\n",
              "    .dataframe tbody tr th {\n",
              "        vertical-align: top;\n",
              "    }\n",
              "\n",
              "    .dataframe thead th {\n",
              "        text-align: right;\n",
              "    }\n",
              "</style>\n",
              "<table border=\"1\" class=\"dataframe\">\n",
              "  <thead>\n",
              "    <tr style=\"text-align: right;\">\n",
              "      <th></th>\n",
              "      <th>Reading Date</th>\n",
              "      <th>Incremental Reading</th>\n",
              "      <th>Meter Reading</th>\n",
              "    </tr>\n",
              "  </thead>\n",
              "  <tbody>\n",
              "    <tr>\n",
              "      <th>0</th>\n",
              "      <td>2019-10-22</td>\n",
              "      <td>1284.10</td>\n",
              "      <td>1763145.53</td>\n",
              "    </tr>\n",
              "    <tr>\n",
              "      <th>1</th>\n",
              "      <td>2019-10-21</td>\n",
              "      <td>1175.01</td>\n",
              "      <td>1761861.43</td>\n",
              "    </tr>\n",
              "    <tr>\n",
              "      <th>2</th>\n",
              "      <td>2019-10-20</td>\n",
              "      <td>1175.01</td>\n",
              "      <td>NaN</td>\n",
              "    </tr>\n",
              "    <tr>\n",
              "      <th>3</th>\n",
              "      <td>2019-10-19</td>\n",
              "      <td>1175.01</td>\n",
              "      <td>NaN</td>\n",
              "    </tr>\n",
              "    <tr>\n",
              "      <th>4</th>\n",
              "      <td>2019-10-18</td>\n",
              "      <td>2265.09</td>\n",
              "      <td>1758336.41</td>\n",
              "    </tr>\n",
              "    <tr>\n",
              "      <th>...</th>\n",
              "      <td>...</td>\n",
              "      <td>...</td>\n",
              "      <td>...</td>\n",
              "    </tr>\n",
              "    <tr>\n",
              "      <th>364</th>\n",
              "      <td>2018-10-22</td>\n",
              "      <td>0.00</td>\n",
              "      <td>548149.91</td>\n",
              "    </tr>\n",
              "    <tr>\n",
              "      <th>365</th>\n",
              "      <td>2018-10-21</td>\n",
              "      <td>0.00</td>\n",
              "      <td>548149.91</td>\n",
              "    </tr>\n",
              "    <tr>\n",
              "      <th>366</th>\n",
              "      <td>2018-10-20</td>\n",
              "      <td>0.00</td>\n",
              "      <td>548149.91</td>\n",
              "    </tr>\n",
              "    <tr>\n",
              "      <th>367</th>\n",
              "      <td>2018-10-19</td>\n",
              "      <td>0.00</td>\n",
              "      <td>548149.91</td>\n",
              "    </tr>\n",
              "    <tr>\n",
              "      <th>368</th>\n",
              "      <td>2018-10-18</td>\n",
              "      <td>0.00</td>\n",
              "      <td>548149.91</td>\n",
              "    </tr>\n",
              "  </tbody>\n",
              "</table>\n",
              "<p>369 rows × 3 columns</p>\n",
              "</div>"
            ],
            "text/plain": [
              "    Reading Date  Incremental Reading  Meter Reading\n",
              "0     2019-10-22              1284.10     1763145.53\n",
              "1     2019-10-21              1175.01     1761861.43\n",
              "2     2019-10-20              1175.01            NaN\n",
              "3     2019-10-19              1175.01            NaN\n",
              "4     2019-10-18              2265.09     1758336.41\n",
              "..           ...                  ...            ...\n",
              "364   2018-10-22                 0.00      548149.91\n",
              "365   2018-10-21                 0.00      548149.91\n",
              "366   2018-10-20                 0.00      548149.91\n",
              "367   2018-10-19                 0.00      548149.91\n",
              "368   2018-10-18                 0.00      548149.91\n",
              "\n",
              "[369 rows x 3 columns]"
            ]
          },
          "metadata": {
            "tags": []
          },
          "execution_count": 5
        }
      ]
    },
    {
      "cell_type": "code",
      "metadata": {
        "id": "xvsjLXow_oVu"
      },
      "source": [
        "model_5_gen_current_mask = (sandford_daily_df['Reading Date'] >= model_5_current_mask_start) & (sandford_daily_df['Reading Date'] <= model_5_current_mask_end)\n",
        "\n",
        "# extract the rows from the dataframe by using the mask\n",
        "sandford_gen_df = sandford_daily_df.loc[model_5_gen_current_mask]"
      ],
      "execution_count": null,
      "outputs": []
    },
    {
      "cell_type": "code",
      "metadata": {
        "colab": {
          "base_uri": "https://localhost:8080/",
          "height": 411
        },
        "id": "0X8Fr22UAWY4",
        "outputId": "8225f456-c955-4836-bcc2-ce180c36158e"
      },
      "source": [
        "sandford_gen_df"
      ],
      "execution_count": null,
      "outputs": [
        {
          "output_type": "execute_result",
          "data": {
            "text/html": [
              "<div>\n",
              "<style scoped>\n",
              "    .dataframe tbody tr th:only-of-type {\n",
              "        vertical-align: middle;\n",
              "    }\n",
              "\n",
              "    .dataframe tbody tr th {\n",
              "        vertical-align: top;\n",
              "    }\n",
              "\n",
              "    .dataframe thead th {\n",
              "        text-align: right;\n",
              "    }\n",
              "</style>\n",
              "<table border=\"1\" class=\"dataframe\">\n",
              "  <thead>\n",
              "    <tr style=\"text-align: right;\">\n",
              "      <th></th>\n",
              "      <th>Reading Date</th>\n",
              "      <th>Incremental Reading</th>\n",
              "      <th>Meter Reading</th>\n",
              "    </tr>\n",
              "  </thead>\n",
              "  <tbody>\n",
              "    <tr>\n",
              "      <th>0</th>\n",
              "      <td>2019-10-22</td>\n",
              "      <td>1284.100</td>\n",
              "      <td>1763145.53</td>\n",
              "    </tr>\n",
              "    <tr>\n",
              "      <th>1</th>\n",
              "      <td>2019-10-21</td>\n",
              "      <td>1175.010</td>\n",
              "      <td>1761861.43</td>\n",
              "    </tr>\n",
              "    <tr>\n",
              "      <th>2</th>\n",
              "      <td>2019-10-20</td>\n",
              "      <td>1175.010</td>\n",
              "      <td>NaN</td>\n",
              "    </tr>\n",
              "    <tr>\n",
              "      <th>3</th>\n",
              "      <td>2019-10-19</td>\n",
              "      <td>1175.010</td>\n",
              "      <td>NaN</td>\n",
              "    </tr>\n",
              "    <tr>\n",
              "      <th>4</th>\n",
              "      <td>2019-10-18</td>\n",
              "      <td>2265.090</td>\n",
              "      <td>1758336.41</td>\n",
              "    </tr>\n",
              "    <tr>\n",
              "      <th>...</th>\n",
              "      <td>...</td>\n",
              "      <td>...</td>\n",
              "      <td>...</td>\n",
              "    </tr>\n",
              "    <tr>\n",
              "      <th>320</th>\n",
              "      <td>2018-12-05</td>\n",
              "      <td>12.493</td>\n",
              "      <td>551201.08</td>\n",
              "    </tr>\n",
              "    <tr>\n",
              "      <th>321</th>\n",
              "      <td>2018-12-04</td>\n",
              "      <td>0.000</td>\n",
              "      <td>551188.58</td>\n",
              "    </tr>\n",
              "    <tr>\n",
              "      <th>322</th>\n",
              "      <td>2018-12-03</td>\n",
              "      <td>0.000</td>\n",
              "      <td>551188.58</td>\n",
              "    </tr>\n",
              "    <tr>\n",
              "      <th>323</th>\n",
              "      <td>2018-12-02</td>\n",
              "      <td>2.765</td>\n",
              "      <td>551188.58</td>\n",
              "    </tr>\n",
              "    <tr>\n",
              "      <th>324</th>\n",
              "      <td>2018-12-01</td>\n",
              "      <td>1272.220</td>\n",
              "      <td>551185.82</td>\n",
              "    </tr>\n",
              "  </tbody>\n",
              "</table>\n",
              "<p>325 rows × 3 columns</p>\n",
              "</div>"
            ],
            "text/plain": [
              "    Reading Date  Incremental Reading  Meter Reading\n",
              "0     2019-10-22             1284.100     1763145.53\n",
              "1     2019-10-21             1175.010     1761861.43\n",
              "2     2019-10-20             1175.010            NaN\n",
              "3     2019-10-19             1175.010            NaN\n",
              "4     2019-10-18             2265.090     1758336.41\n",
              "..           ...                  ...            ...\n",
              "320   2018-12-05               12.493      551201.08\n",
              "321   2018-12-04                0.000      551188.58\n",
              "322   2018-12-03                0.000      551188.58\n",
              "323   2018-12-02                2.765      551188.58\n",
              "324   2018-12-01             1272.220      551185.82\n",
              "\n",
              "[325 rows x 3 columns]"
            ]
          },
          "metadata": {
            "tags": []
          },
          "execution_count": 7
        }
      ]
    },
    {
      "cell_type": "markdown",
      "metadata": {
        "id": "-Xbns-uahHED"
      },
      "source": [
        "### Daily Precipitation"
      ]
    },
    {
      "cell_type": "code",
      "metadata": {
        "id": "7_4xRgQ_cUp4"
      },
      "source": [
        "# unpickle the current precipitation daily dataframe\n",
        "path = '/content/drive/My Drive/3YP/data/'\n",
        "filename = 'radcliffe_daily_precipitation_data_processed'\n",
        "infile = open(path+filename, 'rb')\n",
        "precipitation_daily_df = pickle.load(infile)\n",
        "infile.close()"
      ],
      "execution_count": null,
      "outputs": []
    },
    {
      "cell_type": "code",
      "metadata": {
        "id": "eGc4Ci-Shf-E"
      },
      "source": [
        "model_5_precip_current_mask = (precipitation_daily_df['Date'] >= model_5_current_mask_start) & (precipitation_daily_df['Date'] <= model_5_current_mask_end)\n",
        "\n",
        "# extract the rows from the dataframe by using the mask\n",
        "precipitation_current_df = precipitation_daily_df.loc[model_5_precip_current_mask]"
      ],
      "execution_count": null,
      "outputs": []
    },
    {
      "cell_type": "markdown",
      "metadata": {
        "id": "xOqLlbFvhLr5"
      },
      "source": [
        "### Daily Temperature data"
      ]
    },
    {
      "cell_type": "code",
      "metadata": {
        "id": "WiqEt2qjeTZ3"
      },
      "source": [
        "# unpickle the temperature daily dataframe\n",
        "path = '/content/drive/My Drive/3YP/data/'\n",
        "filename = 'radcliffe_daily_temperature_data_processed'\n",
        "infile = open(path+filename, 'rb')\n",
        "temperature_daily_df = pickle.load(infile)\n",
        "infile.close()"
      ],
      "execution_count": null,
      "outputs": []
    },
    {
      "cell_type": "code",
      "metadata": {
        "id": "U8_b9XsWcfrn"
      },
      "source": [
        "model_5_temp_current_mask = (temperature_daily_df['Date'] >= model_5_current_mask_start) & (temperature_daily_df['Date'] <= model_5_current_mask_end)\n",
        "\n",
        "# extract the rows from the dataframe by using the mask\n",
        "temp_current_df = temperature_daily_df.loc[model_5_temp_current_mask]"
      ],
      "execution_count": null,
      "outputs": []
    },
    {
      "cell_type": "markdown",
      "metadata": {
        "id": "l90EbKitjIYd"
      },
      "source": [
        "### Future Precipitation data"
      ]
    },
    {
      "cell_type": "code",
      "metadata": {
        "id": "mb_GHgM2z5xa"
      },
      "source": [
        "# unpickle the future temperature dataframe\n",
        "path = '/content/drive/My Drive/3YP/data/met_office/'\n",
        "filename = 'precip_2242_met_daily' \n",
        "infile = open(path+filename, 'rb')\n",
        "precipitation_future_df = pickle.load(infile)\n",
        "infile.close()"
      ],
      "execution_count": null,
      "outputs": []
    },
    {
      "cell_type": "code",
      "metadata": {
        "id": "jyiXsYbf0IkV"
      },
      "source": [
        "# extract the rows that we want by using a mask\n",
        "# format of mask: YYYY-MM-DD\n",
        "model_5_future_mask_start = pd.to_datetime('2050-01-01')\n",
        "model_5_future_mask_end = pd.to_datetime('2050-12-31')"
      ],
      "execution_count": null,
      "outputs": []
    },
    {
      "cell_type": "code",
      "metadata": {
        "id": "JNo4LawF02IB"
      },
      "source": [
        "model_5_precip_future_mask = (precipitation_future_df['Date'] >= model_5_future_mask_start) & (precipitation_future_df['Date'] <= model_5_future_mask_end)\n",
        "\n",
        "# extract the rows from the dataframe by using the mask\n",
        "precipitation_future = precipitation_future_df.loc[model_5_precip_future_mask]"
      ],
      "execution_count": null,
      "outputs": []
    },
    {
      "cell_type": "code",
      "metadata": {
        "colab": {
          "base_uri": "https://localhost:8080/",
          "height": 411
        },
        "id": "zLayHqaBDt9K",
        "outputId": "bf466e13-48f6-4612-c588-d564a46d5cf2"
      },
      "source": [
        "precipitation_future"
      ],
      "execution_count": null,
      "outputs": [
        {
          "output_type": "execute_result",
          "data": {
            "text/html": [
              "<div>\n",
              "<style scoped>\n",
              "    .dataframe tbody tr th:only-of-type {\n",
              "        vertical-align: middle;\n",
              "    }\n",
              "\n",
              "    .dataframe tbody tr th {\n",
              "        vertical-align: top;\n",
              "    }\n",
              "\n",
              "    .dataframe thead th {\n",
              "        text-align: right;\n",
              "    }\n",
              "</style>\n",
              "<table border=\"1\" class=\"dataframe\">\n",
              "  <thead>\n",
              "    <tr style=\"text-align: right;\">\n",
              "      <th></th>\n",
              "      <th>Date</th>\n",
              "      <th>Precipitation Rate</th>\n",
              "    </tr>\n",
              "  </thead>\n",
              "  <tbody>\n",
              "    <tr>\n",
              "      <th>24870</th>\n",
              "      <td>2050-01-01</td>\n",
              "      <td>10.622042</td>\n",
              "    </tr>\n",
              "    <tr>\n",
              "      <th>24871</th>\n",
              "      <td>2050-01-02</td>\n",
              "      <td>26.987028</td>\n",
              "    </tr>\n",
              "    <tr>\n",
              "      <th>24872</th>\n",
              "      <td>2050-01-03</td>\n",
              "      <td>11.353615</td>\n",
              "    </tr>\n",
              "    <tr>\n",
              "      <th>24873</th>\n",
              "      <td>2050-01-04</td>\n",
              "      <td>0.251311</td>\n",
              "    </tr>\n",
              "    <tr>\n",
              "      <th>24874</th>\n",
              "      <td>2050-01-05</td>\n",
              "      <td>1.852849</td>\n",
              "    </tr>\n",
              "    <tr>\n",
              "      <th>...</th>\n",
              "      <td>...</td>\n",
              "      <td>...</td>\n",
              "    </tr>\n",
              "    <tr>\n",
              "      <th>25225</th>\n",
              "      <td>2050-12-26</td>\n",
              "      <td>0.000615</td>\n",
              "    </tr>\n",
              "    <tr>\n",
              "      <th>25226</th>\n",
              "      <td>2050-12-27</td>\n",
              "      <td>5.991373</td>\n",
              "    </tr>\n",
              "    <tr>\n",
              "      <th>25227</th>\n",
              "      <td>2050-12-28</td>\n",
              "      <td>4.328137</td>\n",
              "    </tr>\n",
              "    <tr>\n",
              "      <th>25228</th>\n",
              "      <td>2050-12-29</td>\n",
              "      <td>0.100387</td>\n",
              "    </tr>\n",
              "    <tr>\n",
              "      <th>25229</th>\n",
              "      <td>2050-12-30</td>\n",
              "      <td>0.076974</td>\n",
              "    </tr>\n",
              "  </tbody>\n",
              "</table>\n",
              "<p>358 rows × 2 columns</p>\n",
              "</div>"
            ],
            "text/plain": [
              "            Date  Precipitation Rate\n",
              "24870 2050-01-01           10.622042\n",
              "24871 2050-01-02           26.987028\n",
              "24872 2050-01-03           11.353615\n",
              "24873 2050-01-04            0.251311\n",
              "24874 2050-01-05            1.852849\n",
              "...          ...                 ...\n",
              "25225 2050-12-26            0.000615\n",
              "25226 2050-12-27            5.991373\n",
              "25227 2050-12-28            4.328137\n",
              "25228 2050-12-29            0.100387\n",
              "25229 2050-12-30            0.076974\n",
              "\n",
              "[358 rows x 2 columns]"
            ]
          },
          "metadata": {
            "tags": []
          },
          "execution_count": 15
        }
      ]
    },
    {
      "cell_type": "markdown",
      "metadata": {
        "id": "joIB7oSE03PJ"
      },
      "source": [
        "### Future Temperature Data"
      ]
    },
    {
      "cell_type": "code",
      "metadata": {
        "id": "Ejw4Gqyy_ugQ"
      },
      "source": [
        "# unpickle the future temperature dataframe\n",
        "path = '/content/drive/My Drive/3YP/data/met_office/'\n",
        "filename = 'temp_2242_met_daily'\n",
        "infile = open(path+filename, 'rb')\n",
        "temperature_future_df = pickle.load(infile)\n",
        "infile.close()"
      ],
      "execution_count": null,
      "outputs": []
    },
    {
      "cell_type": "code",
      "metadata": {
        "id": "rWRUP78nDHNs",
        "colab": {
          "base_uri": "https://localhost:8080/",
          "height": 411
        },
        "outputId": "7711870b-cead-4cd2-ef1d-d4316b17f1ad"
      },
      "source": [
        "temperature_future_df"
      ],
      "execution_count": null,
      "outputs": [
        {
          "output_type": "execute_result",
          "data": {
            "text/html": [
              "<div>\n",
              "<style scoped>\n",
              "    .dataframe tbody tr th:only-of-type {\n",
              "        vertical-align: middle;\n",
              "    }\n",
              "\n",
              "    .dataframe tbody tr th {\n",
              "        vertical-align: top;\n",
              "    }\n",
              "\n",
              "    .dataframe thead th {\n",
              "        text-align: right;\n",
              "    }\n",
              "</style>\n",
              "<table border=\"1\" class=\"dataframe\">\n",
              "  <thead>\n",
              "    <tr style=\"text-align: right;\">\n",
              "      <th></th>\n",
              "      <th>Date</th>\n",
              "      <th>Temperature</th>\n",
              "    </tr>\n",
              "  </thead>\n",
              "  <tbody>\n",
              "    <tr>\n",
              "      <th>0</th>\n",
              "      <td>1980-12-01</td>\n",
              "      <td>-0.965012</td>\n",
              "    </tr>\n",
              "    <tr>\n",
              "      <th>1</th>\n",
              "      <td>1980-12-02</td>\n",
              "      <td>-0.719904</td>\n",
              "    </tr>\n",
              "    <tr>\n",
              "      <th>2</th>\n",
              "      <td>1980-12-03</td>\n",
              "      <td>0.271304</td>\n",
              "    </tr>\n",
              "    <tr>\n",
              "      <th>3</th>\n",
              "      <td>1980-12-04</td>\n",
              "      <td>-5.000383</td>\n",
              "    </tr>\n",
              "    <tr>\n",
              "      <th>4</th>\n",
              "      <td>1980-12-05</td>\n",
              "      <td>-3.902606</td>\n",
              "    </tr>\n",
              "    <tr>\n",
              "      <th>...</th>\n",
              "      <td>...</td>\n",
              "      <td>...</td>\n",
              "    </tr>\n",
              "    <tr>\n",
              "      <th>25225</th>\n",
              "      <td>2050-12-26</td>\n",
              "      <td>8.359898</td>\n",
              "    </tr>\n",
              "    <tr>\n",
              "      <th>25226</th>\n",
              "      <td>2050-12-27</td>\n",
              "      <td>8.109031</td>\n",
              "    </tr>\n",
              "    <tr>\n",
              "      <th>25227</th>\n",
              "      <td>2050-12-28</td>\n",
              "      <td>7.250457</td>\n",
              "    </tr>\n",
              "    <tr>\n",
              "      <th>25228</th>\n",
              "      <td>2050-12-29</td>\n",
              "      <td>7.026456</td>\n",
              "    </tr>\n",
              "    <tr>\n",
              "      <th>25229</th>\n",
              "      <td>2050-12-30</td>\n",
              "      <td>8.258388</td>\n",
              "    </tr>\n",
              "  </tbody>\n",
              "</table>\n",
              "<p>25107 rows × 2 columns</p>\n",
              "</div>"
            ],
            "text/plain": [
              "            Date  Temperature\n",
              "0     1980-12-01    -0.965012\n",
              "1     1980-12-02    -0.719904\n",
              "2     1980-12-03     0.271304\n",
              "3     1980-12-04    -5.000383\n",
              "4     1980-12-05    -3.902606\n",
              "...          ...          ...\n",
              "25225 2050-12-26     8.359898\n",
              "25226 2050-12-27     8.109031\n",
              "25227 2050-12-28     7.250457\n",
              "25228 2050-12-29     7.026456\n",
              "25229 2050-12-30     8.258388\n",
              "\n",
              "[25107 rows x 2 columns]"
            ]
          },
          "metadata": {
            "tags": []
          },
          "execution_count": 17
        }
      ]
    },
    {
      "cell_type": "code",
      "metadata": {
        "id": "mkob2C0I09Ma"
      },
      "source": [
        "model_5_temp_future_mask = (temperature_future_df['Date'] >= model_5_future_mask_start) & (temperature_future_df['Date'] <= model_5_future_mask_end)\n",
        "\n",
        "# extract the rows from the dataframe by using the mask\n",
        "temperature_future = temperature_future_df.loc[model_5_temp_future_mask]"
      ],
      "execution_count": null,
      "outputs": []
    },
    {
      "cell_type": "markdown",
      "metadata": {
        "id": "VdFJBRbkcs-L"
      },
      "source": [
        "## Multivariate Regression Analysis"
      ]
    },
    {
      "cell_type": "code",
      "metadata": {
        "id": "yWqsPJ4KcwHK"
      },
      "source": [
        "model_5 = LinearRegression()"
      ],
      "execution_count": null,
      "outputs": []
    },
    {
      "cell_type": "code",
      "metadata": {
        "colab": {
          "base_uri": "https://localhost:8080/",
          "height": 1000
        },
        "id": "dj6aAFGe_FAN",
        "outputId": "65bd919b-acb0-4038-ac6b-1db39a202066"
      },
      "source": [
        "sandford_daily_df.tail(50)"
      ],
      "execution_count": null,
      "outputs": [
        {
          "output_type": "execute_result",
          "data": {
            "text/html": [
              "<div>\n",
              "<style scoped>\n",
              "    .dataframe tbody tr th:only-of-type {\n",
              "        vertical-align: middle;\n",
              "    }\n",
              "\n",
              "    .dataframe tbody tr th {\n",
              "        vertical-align: top;\n",
              "    }\n",
              "\n",
              "    .dataframe thead th {\n",
              "        text-align: right;\n",
              "    }\n",
              "</style>\n",
              "<table border=\"1\" class=\"dataframe\">\n",
              "  <thead>\n",
              "    <tr style=\"text-align: right;\">\n",
              "      <th></th>\n",
              "      <th>Reading Date</th>\n",
              "      <th>Incremental Reading</th>\n",
              "      <th>Meter Reading</th>\n",
              "    </tr>\n",
              "  </thead>\n",
              "  <tbody>\n",
              "    <tr>\n",
              "      <th>319</th>\n",
              "      <td>2018-12-06</td>\n",
              "      <td>713.933</td>\n",
              "      <td>551915.01</td>\n",
              "    </tr>\n",
              "    <tr>\n",
              "      <th>320</th>\n",
              "      <td>2018-12-05</td>\n",
              "      <td>12.493</td>\n",
              "      <td>551201.08</td>\n",
              "    </tr>\n",
              "    <tr>\n",
              "      <th>321</th>\n",
              "      <td>2018-12-04</td>\n",
              "      <td>0.000</td>\n",
              "      <td>551188.58</td>\n",
              "    </tr>\n",
              "    <tr>\n",
              "      <th>322</th>\n",
              "      <td>2018-12-03</td>\n",
              "      <td>0.000</td>\n",
              "      <td>551188.58</td>\n",
              "    </tr>\n",
              "    <tr>\n",
              "      <th>323</th>\n",
              "      <td>2018-12-02</td>\n",
              "      <td>2.765</td>\n",
              "      <td>551188.58</td>\n",
              "    </tr>\n",
              "    <tr>\n",
              "      <th>324</th>\n",
              "      <td>2018-12-01</td>\n",
              "      <td>1272.220</td>\n",
              "      <td>551185.82</td>\n",
              "    </tr>\n",
              "    <tr>\n",
              "      <th>325</th>\n",
              "      <td>2018-11-30</td>\n",
              "      <td>1440.100</td>\n",
              "      <td>549913.60</td>\n",
              "    </tr>\n",
              "    <tr>\n",
              "      <th>326</th>\n",
              "      <td>2018-11-29</td>\n",
              "      <td>0.000</td>\n",
              "      <td>548473.50</td>\n",
              "    </tr>\n",
              "    <tr>\n",
              "      <th>327</th>\n",
              "      <td>2018-11-28</td>\n",
              "      <td>0.000</td>\n",
              "      <td>548473.50</td>\n",
              "    </tr>\n",
              "    <tr>\n",
              "      <th>328</th>\n",
              "      <td>2018-11-27</td>\n",
              "      <td>0.000</td>\n",
              "      <td>548473.50</td>\n",
              "    </tr>\n",
              "    <tr>\n",
              "      <th>329</th>\n",
              "      <td>2018-11-26</td>\n",
              "      <td>0.000</td>\n",
              "      <td>548473.50</td>\n",
              "    </tr>\n",
              "    <tr>\n",
              "      <th>330</th>\n",
              "      <td>2018-11-25</td>\n",
              "      <td>0.000</td>\n",
              "      <td>548473.50</td>\n",
              "    </tr>\n",
              "    <tr>\n",
              "      <th>331</th>\n",
              "      <td>2018-11-24</td>\n",
              "      <td>0.000</td>\n",
              "      <td>548473.50</td>\n",
              "    </tr>\n",
              "    <tr>\n",
              "      <th>332</th>\n",
              "      <td>2018-11-23</td>\n",
              "      <td>0.000</td>\n",
              "      <td>548473.50</td>\n",
              "    </tr>\n",
              "    <tr>\n",
              "      <th>333</th>\n",
              "      <td>2018-11-22</td>\n",
              "      <td>0.000</td>\n",
              "      <td>548473.50</td>\n",
              "    </tr>\n",
              "    <tr>\n",
              "      <th>334</th>\n",
              "      <td>2018-11-21</td>\n",
              "      <td>0.000</td>\n",
              "      <td>548473.50</td>\n",
              "    </tr>\n",
              "    <tr>\n",
              "      <th>335</th>\n",
              "      <td>2018-11-20</td>\n",
              "      <td>0.000</td>\n",
              "      <td>548473.50</td>\n",
              "    </tr>\n",
              "    <tr>\n",
              "      <th>336</th>\n",
              "      <td>2018-11-19</td>\n",
              "      <td>0.000</td>\n",
              "      <td>548473.50</td>\n",
              "    </tr>\n",
              "    <tr>\n",
              "      <th>337</th>\n",
              "      <td>2018-11-18</td>\n",
              "      <td>0.000</td>\n",
              "      <td>548473.50</td>\n",
              "    </tr>\n",
              "    <tr>\n",
              "      <th>338</th>\n",
              "      <td>2018-11-17</td>\n",
              "      <td>0.000</td>\n",
              "      <td>548473.50</td>\n",
              "    </tr>\n",
              "    <tr>\n",
              "      <th>339</th>\n",
              "      <td>2018-11-16</td>\n",
              "      <td>0.000</td>\n",
              "      <td>548473.50</td>\n",
              "    </tr>\n",
              "    <tr>\n",
              "      <th>340</th>\n",
              "      <td>2018-11-15</td>\n",
              "      <td>87.654</td>\n",
              "      <td>548473.50</td>\n",
              "    </tr>\n",
              "    <tr>\n",
              "      <th>341</th>\n",
              "      <td>2018-11-14</td>\n",
              "      <td>169.011</td>\n",
              "      <td>548385.84</td>\n",
              "    </tr>\n",
              "    <tr>\n",
              "      <th>342</th>\n",
              "      <td>2018-11-13</td>\n",
              "      <td>27.085</td>\n",
              "      <td>548216.83</td>\n",
              "    </tr>\n",
              "    <tr>\n",
              "      <th>343</th>\n",
              "      <td>2018-11-12</td>\n",
              "      <td>0.000</td>\n",
              "      <td>548189.75</td>\n",
              "    </tr>\n",
              "    <tr>\n",
              "      <th>344</th>\n",
              "      <td>2018-11-11</td>\n",
              "      <td>0.000</td>\n",
              "      <td>548189.75</td>\n",
              "    </tr>\n",
              "    <tr>\n",
              "      <th>345</th>\n",
              "      <td>2018-11-10</td>\n",
              "      <td>8.090</td>\n",
              "      <td>548189.75</td>\n",
              "    </tr>\n",
              "    <tr>\n",
              "      <th>346</th>\n",
              "      <td>2018-11-09</td>\n",
              "      <td>31.744</td>\n",
              "      <td>548181.66</td>\n",
              "    </tr>\n",
              "    <tr>\n",
              "      <th>347</th>\n",
              "      <td>2018-11-08</td>\n",
              "      <td>0.000</td>\n",
              "      <td>548149.91</td>\n",
              "    </tr>\n",
              "    <tr>\n",
              "      <th>348</th>\n",
              "      <td>2018-11-07</td>\n",
              "      <td>0.000</td>\n",
              "      <td>548149.91</td>\n",
              "    </tr>\n",
              "    <tr>\n",
              "      <th>349</th>\n",
              "      <td>2018-11-06</td>\n",
              "      <td>0.000</td>\n",
              "      <td>548149.91</td>\n",
              "    </tr>\n",
              "    <tr>\n",
              "      <th>350</th>\n",
              "      <td>2018-11-05</td>\n",
              "      <td>0.000</td>\n",
              "      <td>548149.91</td>\n",
              "    </tr>\n",
              "    <tr>\n",
              "      <th>351</th>\n",
              "      <td>2018-11-04</td>\n",
              "      <td>0.000</td>\n",
              "      <td>548149.91</td>\n",
              "    </tr>\n",
              "    <tr>\n",
              "      <th>352</th>\n",
              "      <td>2018-11-03</td>\n",
              "      <td>0.000</td>\n",
              "      <td>548149.91</td>\n",
              "    </tr>\n",
              "    <tr>\n",
              "      <th>353</th>\n",
              "      <td>2018-11-02</td>\n",
              "      <td>0.000</td>\n",
              "      <td>548149.91</td>\n",
              "    </tr>\n",
              "    <tr>\n",
              "      <th>354</th>\n",
              "      <td>2018-11-01</td>\n",
              "      <td>0.000</td>\n",
              "      <td>548149.91</td>\n",
              "    </tr>\n",
              "    <tr>\n",
              "      <th>355</th>\n",
              "      <td>2018-10-31</td>\n",
              "      <td>0.000</td>\n",
              "      <td>548149.91</td>\n",
              "    </tr>\n",
              "    <tr>\n",
              "      <th>356</th>\n",
              "      <td>2018-10-30</td>\n",
              "      <td>0.000</td>\n",
              "      <td>548149.91</td>\n",
              "    </tr>\n",
              "    <tr>\n",
              "      <th>357</th>\n",
              "      <td>2018-10-29</td>\n",
              "      <td>0.000</td>\n",
              "      <td>548149.91</td>\n",
              "    </tr>\n",
              "    <tr>\n",
              "      <th>358</th>\n",
              "      <td>2018-10-28</td>\n",
              "      <td>0.000</td>\n",
              "      <td>548149.91</td>\n",
              "    </tr>\n",
              "    <tr>\n",
              "      <th>359</th>\n",
              "      <td>2018-10-27</td>\n",
              "      <td>0.000</td>\n",
              "      <td>548149.91</td>\n",
              "    </tr>\n",
              "    <tr>\n",
              "      <th>360</th>\n",
              "      <td>2018-10-26</td>\n",
              "      <td>0.000</td>\n",
              "      <td>548149.91</td>\n",
              "    </tr>\n",
              "    <tr>\n",
              "      <th>361</th>\n",
              "      <td>2018-10-25</td>\n",
              "      <td>0.000</td>\n",
              "      <td>548149.91</td>\n",
              "    </tr>\n",
              "    <tr>\n",
              "      <th>362</th>\n",
              "      <td>2018-10-24</td>\n",
              "      <td>0.000</td>\n",
              "      <td>548149.91</td>\n",
              "    </tr>\n",
              "    <tr>\n",
              "      <th>363</th>\n",
              "      <td>2018-10-23</td>\n",
              "      <td>0.000</td>\n",
              "      <td>548149.91</td>\n",
              "    </tr>\n",
              "    <tr>\n",
              "      <th>364</th>\n",
              "      <td>2018-10-22</td>\n",
              "      <td>0.000</td>\n",
              "      <td>548149.91</td>\n",
              "    </tr>\n",
              "    <tr>\n",
              "      <th>365</th>\n",
              "      <td>2018-10-21</td>\n",
              "      <td>0.000</td>\n",
              "      <td>548149.91</td>\n",
              "    </tr>\n",
              "    <tr>\n",
              "      <th>366</th>\n",
              "      <td>2018-10-20</td>\n",
              "      <td>0.000</td>\n",
              "      <td>548149.91</td>\n",
              "    </tr>\n",
              "    <tr>\n",
              "      <th>367</th>\n",
              "      <td>2018-10-19</td>\n",
              "      <td>0.000</td>\n",
              "      <td>548149.91</td>\n",
              "    </tr>\n",
              "    <tr>\n",
              "      <th>368</th>\n",
              "      <td>2018-10-18</td>\n",
              "      <td>0.000</td>\n",
              "      <td>548149.91</td>\n",
              "    </tr>\n",
              "  </tbody>\n",
              "</table>\n",
              "</div>"
            ],
            "text/plain": [
              "    Reading Date  Incremental Reading  Meter Reading\n",
              "319   2018-12-06              713.933      551915.01\n",
              "320   2018-12-05               12.493      551201.08\n",
              "321   2018-12-04                0.000      551188.58\n",
              "322   2018-12-03                0.000      551188.58\n",
              "323   2018-12-02                2.765      551188.58\n",
              "324   2018-12-01             1272.220      551185.82\n",
              "325   2018-11-30             1440.100      549913.60\n",
              "326   2018-11-29                0.000      548473.50\n",
              "327   2018-11-28                0.000      548473.50\n",
              "328   2018-11-27                0.000      548473.50\n",
              "329   2018-11-26                0.000      548473.50\n",
              "330   2018-11-25                0.000      548473.50\n",
              "331   2018-11-24                0.000      548473.50\n",
              "332   2018-11-23                0.000      548473.50\n",
              "333   2018-11-22                0.000      548473.50\n",
              "334   2018-11-21                0.000      548473.50\n",
              "335   2018-11-20                0.000      548473.50\n",
              "336   2018-11-19                0.000      548473.50\n",
              "337   2018-11-18                0.000      548473.50\n",
              "338   2018-11-17                0.000      548473.50\n",
              "339   2018-11-16                0.000      548473.50\n",
              "340   2018-11-15               87.654      548473.50\n",
              "341   2018-11-14              169.011      548385.84\n",
              "342   2018-11-13               27.085      548216.83\n",
              "343   2018-11-12                0.000      548189.75\n",
              "344   2018-11-11                0.000      548189.75\n",
              "345   2018-11-10                8.090      548189.75\n",
              "346   2018-11-09               31.744      548181.66\n",
              "347   2018-11-08                0.000      548149.91\n",
              "348   2018-11-07                0.000      548149.91\n",
              "349   2018-11-06                0.000      548149.91\n",
              "350   2018-11-05                0.000      548149.91\n",
              "351   2018-11-04                0.000      548149.91\n",
              "352   2018-11-03                0.000      548149.91\n",
              "353   2018-11-02                0.000      548149.91\n",
              "354   2018-11-01                0.000      548149.91\n",
              "355   2018-10-31                0.000      548149.91\n",
              "356   2018-10-30                0.000      548149.91\n",
              "357   2018-10-29                0.000      548149.91\n",
              "358   2018-10-28                0.000      548149.91\n",
              "359   2018-10-27                0.000      548149.91\n",
              "360   2018-10-26                0.000      548149.91\n",
              "361   2018-10-25                0.000      548149.91\n",
              "362   2018-10-24                0.000      548149.91\n",
              "363   2018-10-23                0.000      548149.91\n",
              "364   2018-10-22                0.000      548149.91\n",
              "365   2018-10-21                0.000      548149.91\n",
              "366   2018-10-20                0.000      548149.91\n",
              "367   2018-10-19                0.000      548149.91\n",
              "368   2018-10-18                0.000      548149.91"
            ]
          },
          "metadata": {
            "tags": []
          },
          "execution_count": 20
        }
      ]
    },
    {
      "cell_type": "code",
      "metadata": {
        "id": "vY0jZ1yMfIyu"
      },
      "source": [
        "# note the indexing as we need to exclude november and start the data as december\n",
        "model_5_train_df = pd.DataFrame([precipitation_current_df['Date']]).T\n",
        "model_5_train_df['Mean_temp'] = temp_current_df['Daily Tmean °C']\n",
        "model_5_train_df['Total_precip'] = precipitation_current_df['Rainfall mm 1 dpl no traces']"
      ],
      "execution_count": null,
      "outputs": []
    },
    {
      "cell_type": "code",
      "metadata": {
        "colab": {
          "base_uri": "https://localhost:8080/"
        },
        "id": "zK4Q07BDCIoj",
        "outputId": "2a3dcff2-66f4-4500-e1de-24f0f585ceea"
      },
      "source": [
        "set(model_5_train_df['Date']) - set(sandford_gen_df['Reading Date'])"
      ],
      "execution_count": null,
      "outputs": [
        {
          "output_type": "execute_result",
          "data": {
            "text/plain": [
              "{Timestamp('2019-06-01 00:00:00')}"
            ]
          },
          "metadata": {
            "tags": []
          },
          "execution_count": 22
        }
      ]
    },
    {
      "cell_type": "code",
      "metadata": {
        "id": "Ydo_pxHZR2dr"
      },
      "source": [
        "# now we want to exclude the row whose date isn't in the generation data\n",
        "model_5_train = model_5_train_df[model_5_train_df['Date'] != '2019-06-01 00:00:00']"
      ],
      "execution_count": null,
      "outputs": []
    },
    {
      "cell_type": "code",
      "metadata": {
        "colab": {
          "base_uri": "https://localhost:8080/"
        },
        "id": "k5yltCPyBIWj",
        "outputId": "3760a816-f244-42fb-c14b-5c4f8c14b0f9"
      },
      "source": [
        "model_5_train['Total_monthly_generation'] = sandford_gen_df['Incremental Reading'].values[::-1]"
      ],
      "execution_count": null,
      "outputs": [
        {
          "output_type": "stream",
          "text": [
            "/usr/local/lib/python3.6/dist-packages/ipykernel_launcher.py:1: SettingWithCopyWarning: \n",
            "A value is trying to be set on a copy of a slice from a DataFrame.\n",
            "Try using .loc[row_indexer,col_indexer] = value instead\n",
            "\n",
            "See the caveats in the documentation: https://pandas.pydata.org/pandas-docs/stable/user_guide/indexing.html#returning-a-view-versus-a-copy\n",
            "  \"\"\"Entry point for launching an IPython kernel.\n"
          ],
          "name": "stderr"
        }
      ]
    },
    {
      "cell_type": "code",
      "metadata": {
        "colab": {
          "base_uri": "https://localhost:8080/",
          "height": 411
        },
        "id": "xsd7v14t-UIo",
        "outputId": "53a25489-2398-4229-82c4-1a2290241a12"
      },
      "source": [
        "temperature_future"
      ],
      "execution_count": null,
      "outputs": [
        {
          "output_type": "execute_result",
          "data": {
            "text/html": [
              "<div>\n",
              "<style scoped>\n",
              "    .dataframe tbody tr th:only-of-type {\n",
              "        vertical-align: middle;\n",
              "    }\n",
              "\n",
              "    .dataframe tbody tr th {\n",
              "        vertical-align: top;\n",
              "    }\n",
              "\n",
              "    .dataframe thead th {\n",
              "        text-align: right;\n",
              "    }\n",
              "</style>\n",
              "<table border=\"1\" class=\"dataframe\">\n",
              "  <thead>\n",
              "    <tr style=\"text-align: right;\">\n",
              "      <th></th>\n",
              "      <th>Date</th>\n",
              "      <th>Temperature</th>\n",
              "    </tr>\n",
              "  </thead>\n",
              "  <tbody>\n",
              "    <tr>\n",
              "      <th>24870</th>\n",
              "      <td>2050-01-01</td>\n",
              "      <td>12.811341</td>\n",
              "    </tr>\n",
              "    <tr>\n",
              "      <th>24871</th>\n",
              "      <td>2050-01-02</td>\n",
              "      <td>11.466982</td>\n",
              "    </tr>\n",
              "    <tr>\n",
              "      <th>24872</th>\n",
              "      <td>2050-01-03</td>\n",
              "      <td>11.742976</td>\n",
              "    </tr>\n",
              "    <tr>\n",
              "      <th>24873</th>\n",
              "      <td>2050-01-04</td>\n",
              "      <td>5.330974</td>\n",
              "    </tr>\n",
              "    <tr>\n",
              "      <th>24874</th>\n",
              "      <td>2050-01-05</td>\n",
              "      <td>2.696981</td>\n",
              "    </tr>\n",
              "    <tr>\n",
              "      <th>...</th>\n",
              "      <td>...</td>\n",
              "      <td>...</td>\n",
              "    </tr>\n",
              "    <tr>\n",
              "      <th>25225</th>\n",
              "      <td>2050-12-26</td>\n",
              "      <td>8.359898</td>\n",
              "    </tr>\n",
              "    <tr>\n",
              "      <th>25226</th>\n",
              "      <td>2050-12-27</td>\n",
              "      <td>8.109031</td>\n",
              "    </tr>\n",
              "    <tr>\n",
              "      <th>25227</th>\n",
              "      <td>2050-12-28</td>\n",
              "      <td>7.250457</td>\n",
              "    </tr>\n",
              "    <tr>\n",
              "      <th>25228</th>\n",
              "      <td>2050-12-29</td>\n",
              "      <td>7.026456</td>\n",
              "    </tr>\n",
              "    <tr>\n",
              "      <th>25229</th>\n",
              "      <td>2050-12-30</td>\n",
              "      <td>8.258388</td>\n",
              "    </tr>\n",
              "  </tbody>\n",
              "</table>\n",
              "<p>358 rows × 2 columns</p>\n",
              "</div>"
            ],
            "text/plain": [
              "            Date  Temperature\n",
              "24870 2050-01-01    12.811341\n",
              "24871 2050-01-02    11.466982\n",
              "24872 2050-01-03    11.742976\n",
              "24873 2050-01-04     5.330974\n",
              "24874 2050-01-05     2.696981\n",
              "...          ...          ...\n",
              "25225 2050-12-26     8.359898\n",
              "25226 2050-12-27     8.109031\n",
              "25227 2050-12-28     7.250457\n",
              "25228 2050-12-29     7.026456\n",
              "25229 2050-12-30     8.258388\n",
              "\n",
              "[358 rows x 2 columns]"
            ]
          },
          "metadata": {
            "tags": []
          },
          "execution_count": 25
        }
      ]
    },
    {
      "cell_type": "code",
      "metadata": {
        "id": "czMR89LagsY1"
      },
      "source": [
        "# get the training features and target vector\n",
        "x_train = model_5_train[['Mean_temp', 'Total_precip']]\n",
        "y_train = model_5_train['Total_monthly_generation']"
      ],
      "execution_count": null,
      "outputs": []
    },
    {
      "cell_type": "code",
      "metadata": {
        "id": "wcPYrVjSTJZR"
      },
      "source": [
        "# form the testing data dataframe\n",
        "model_5_test_df = temperature_future[['Date', 'Temperature']]\n",
        "model_5_test_df['Future_precip'] = precipitation_future['Precipitation Rate']"
      ],
      "execution_count": null,
      "outputs": []
    },
    {
      "cell_type": "code",
      "metadata": {
        "colab": {
          "base_uri": "https://localhost:8080/"
        },
        "id": "fCwTzzqMVS4p",
        "outputId": "47e06d21-1e2e-4040-b0a0-c19a1d782241"
      },
      "source": [
        "model_5_test_df.info()"
      ],
      "execution_count": null,
      "outputs": [
        {
          "output_type": "stream",
          "text": [
            "<class 'pandas.core.frame.DataFrame'>\n",
            "Int64Index: 358 entries, 24870 to 25229\n",
            "Data columns (total 3 columns):\n",
            " #   Column         Non-Null Count  Dtype         \n",
            "---  ------         --------------  -----         \n",
            " 0   Date           358 non-null    datetime64[ns]\n",
            " 1   Temperature    358 non-null    float64       \n",
            " 2   Future_precip  358 non-null    float64       \n",
            "dtypes: datetime64[ns](1), float64(2)\n",
            "memory usage: 11.2 KB\n"
          ],
          "name": "stdout"
        }
      ]
    },
    {
      "cell_type": "code",
      "metadata": {
        "id": "nRdbgd4kgEjA",
        "colab": {
          "base_uri": "https://localhost:8080/"
        },
        "outputId": "e5905aa5-9c7a-43e1-de63-05a3c5f14263"
      },
      "source": [
        "model_5.fit(x_train, y_train)\n",
        "print(model_5.intercept_, model_5.coef_)"
      ],
      "execution_count": null,
      "outputs": [
        {
          "output_type": "stream",
          "text": [
            "8507.727072270478 [-397.09240864  -33.33649143]\n"
          ],
          "name": "stdout"
        }
      ]
    },
    {
      "cell_type": "code",
      "metadata": {
        "id": "xlSMcN_egFwg"
      },
      "source": [
        "# make predictions on the future\n",
        "y_pred = model_5.predict(model_5_test_df[['Temperature', 'Future_precip']])"
      ],
      "execution_count": null,
      "outputs": []
    },
    {
      "cell_type": "code",
      "metadata": {
        "id": "mKdpjvCslbu5",
        "colab": {
          "base_uri": "https://localhost:8080/"
        },
        "outputId": "00457340-3d71-4b6a-8f0e-f6839fbd1203"
      },
      "source": [
        "y_pred_corrected = [max(i, 0) for i in y_pred]\n",
        "model_5_test_df['Predicted generation'] = y_pred_corrected\n",
        "model_5_test_df['Generation rolling average'] = model_5_test_df['Predicted generation'].rolling(10).mean()\n",
        "print(sum(y_pred_corrected))"
      ],
      "execution_count": null,
      "outputs": [
        {
          "output_type": "stream",
          "text": [
            "1198475.052355905\n"
          ],
          "name": "stdout"
        }
      ]
    },
    {
      "cell_type": "code",
      "metadata": {
        "id": "qdPA0jwI6XpJ",
        "colab": {
          "base_uri": "https://localhost:8080/"
        },
        "outputId": "d2049a94-29f5-43eb-c0fc-97f53cd0a0aa"
      },
      "source": [
        "(1198475.052355905 - 1211960)/1211960 * 100"
      ],
      "execution_count": null,
      "outputs": [
        {
          "output_type": "execute_result",
          "data": {
            "text/plain": [
              "-1.112656163907632"
            ]
          },
          "metadata": {
            "tags": []
          },
          "execution_count": 32
        }
      ]
    },
    {
      "cell_type": "code",
      "metadata": {
        "colab": {
          "base_uri": "https://localhost:8080/",
          "height": 728
        },
        "id": "adX9aIb1XRZZ",
        "outputId": "8dc2c1c7-cb98-4796-94bc-f20d66ccf80e"
      },
      "source": [
        "# Let us plot the generation profile\n",
        "gen_fig, gen_ax = plt.subplots(figsize = (10, 10))\n",
        "gen_ax.tick_params(axis='x', rotation=60)\n",
        "gen_ax.plot(temperature_future['Date'], model_5_test_df['Predicted generation'], 'r', label = 'Generation')  \n",
        "gen_ax.plot(temperature_future['Date'], model_5_test_df['Generation rolling average'], 'b', label = '10-day rolling average')  \n",
        "gen_ax.set(title = 'Model 5:Estimated Sandford Hydro generation Profile for 2050', xlabel= 'Date', ylabel='Generation (kWh)')\n",
        "gen_ax.legend(loc='center left', bbox_to_anchor=(1, 0.5))\n",
        "font = {'family' : 'normal',\n",
        "        'weight' : 'bold',\n",
        "        'size'   : 22}\n",
        "\n",
        "matplotlib.rc('font', **font)"
      ],
      "execution_count": null,
      "outputs": [
        {
          "output_type": "display_data",
          "data": {
            "image/png": "[encoded data removed]",
            "text/plain": [
              "<Figure size 720x720 with 1 Axes>"
            ]
          },
          "metadata": {
            "tags": [],
            "needs_background": "light"
          }
        }
      ]
    },
    {
      "cell_type": "code",
      "metadata": {
        "id": "HOUgFLLSWnBa"
      },
      "source": [
        ""
      ],
      "execution_count": null,
      "outputs": []
    }
  ]
}