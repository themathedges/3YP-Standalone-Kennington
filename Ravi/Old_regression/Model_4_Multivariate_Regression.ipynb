{
  "nbformat": 4,
  "nbformat_minor": 0,
  "metadata": {
    "colab": {
      "name": "Model_4_Multivariate_Regression.ipynb",
      "provenance": [],
      "collapsed_sections": [],
      "authorship_tag": "ABX9TyPEvYUqShujfsP6XDH8wL2x",
      "include_colab_link": true
    },
    "kernelspec": {
      "name": "python3",
      "display_name": "Python 3"
    }
  },
  "cells": [
    {
      "cell_type": "markdown",
      "metadata": {
        "id": "view-in-github",
        "colab_type": "text"
      },
      "source": [
        "<a href=\"https://colab.research.google.com/github/themathedges/3YP-Standalone-Kennington/blob/main/Ravi/Old_regression/Model_4_Multivariate_Regression.ipynb\" target=\"_parent\"><img src=\"https://colab.research.google.com/assets/colab-badge.svg\" alt=\"Open In Colab\"/></a>"
      ]
    },
    {
      "cell_type": "markdown",
      "metadata": {
        "id": "G-Rwo1ZObTcd"
      },
      "source": [
        "# Model 4: Multivariate Regression"
      ]
    },
    {
      "cell_type": "markdown",
      "metadata": {
        "id": "Z1sMmM5NbPyV"
      },
      "source": [
        "**Author:** Ravi Kohli\n",
        "\n",
        "**Date:** December 27th, 2020\n",
        "\n",
        "**College:** Christ Church"
      ]
    },
    {
      "cell_type": "markdown",
      "metadata": {
        "id": "vLN4P4QAb8FJ"
      },
      "source": [
        "**Goal:**\n",
        "- To make a very simple multivariate linear regression monthly model to forecast the future generation profile of Sandford Hydro"
      ]
    },
    {
      "cell_type": "code",
      "metadata": {
        "colab": {
          "base_uri": "https://localhost:8080/"
        },
        "id": "hK_NM4gRbMei",
        "outputId": "dcdf4af3-7415-4d62-b03f-f0072b467f73"
      },
      "source": [
        "# Mounting the Google Drive\n",
        "from google.colab import drive\n",
        "drive.mount('/content/drive')"
      ],
      "execution_count": null,
      "outputs": [
        {
          "output_type": "stream",
          "text": [
            "Drive already mounted at /content/drive; to attempt to forcibly remount, call drive.mount(\"/content/drive\", force_remount=True).\n"
          ],
          "name": "stdout"
        }
      ]
    },
    {
      "cell_type": "code",
      "metadata": {
        "id": "A7p3DYTEcLh3"
      },
      "source": [
        "# import the modules\n",
        "import numpy as np\n",
        "import pandas as pd\n",
        "import matplotlib\n",
        "import matplotlib.pyplot as plt\n",
        "import matplotlib.dates as mdates\n",
        "from scipy.stats import pearsonr\n",
        "import pickle\n",
        "from sklearn.linear_model import LinearRegression"
      ],
      "execution_count": null,
      "outputs": []
    },
    {
      "cell_type": "markdown",
      "metadata": {
        "id": "WQPcrL_scZBm"
      },
      "source": [
        "## Collecting the Data"
      ]
    },
    {
      "cell_type": "markdown",
      "metadata": {
        "id": "AyPbqnm_ccL6"
      },
      "source": [
        "### Total Monthly Precipitation"
      ]
    },
    {
      "cell_type": "code",
      "metadata": {
        "id": "7_4xRgQ_cUp4"
      },
      "source": [
        "# unpickle the current precipitation monthly precipitation dataframe\n",
        "path = '/content/drive/My Drive/3YP/data/'\n",
        "filename = 'precipitation_data_processed'\n",
        "infile = open(path+filename, 'rb')\n",
        "precipitation_monthly_df = pickle.load(infile)\n",
        "infile.close()"
      ],
      "execution_count": null,
      "outputs": []
    },
    {
      "cell_type": "code",
      "metadata": {
        "id": "U8_b9XsWcfrn"
      },
      "source": [
        "precip_overlay_part1 = precipitation_monthly_df.iloc[250][12:13]          # getting the December 2018 data\n",
        "precip_overlay_part2 = precipitation_monthly_df.iloc[251][1:11]           # getting the 2019 data\n",
        "model_4_precip = pd.concat([precip_overlay_part1, precip_overlay_part2])  # combining the precipitation data to form montly data"
      ],
      "execution_count": null,
      "outputs": []
    },
    {
      "cell_type": "code",
      "metadata": {
        "id": "aQeJTAxk_itR"
      },
      "source": [
        "# unpickle the future precipitation monthly precipitation dataframe\n",
        "path = '/content/drive/My Drive/3YP/data/met_office/'\n",
        "filename = 'precip_2335_met_monthly'\n",
        "infile = open(path+filename, 'rb')\n",
        "precipitation_future_df = pickle.load(infile)\n",
        "infile.close()"
      ],
      "execution_count": null,
      "outputs": []
    },
    {
      "cell_type": "code",
      "metadata": {
        "id": "2HPOA5gLAA4V"
      },
      "source": [
        "# extract the rows that we want by using a mask\n",
        "# format of mask: YYYY-MM-DD\n",
        "model_4_future_mask_start = pd.to_datetime('2050-01-01')\n",
        "model_4_future_mask_end = pd.to_datetime('2050-12-31')\n",
        "\n",
        "model_4_precip_future_mask = (precipitation_future_df['Date'] >= model_4_future_mask_start) & (precipitation_future_df['Date'] <= model_4_future_mask_end)\n",
        "\n",
        "# extract the rows from the dataframe by using the mask\n",
        "precipitation_future = precipitation_future_df.loc[model_4_precip_future_mask]"
      ],
      "execution_count": null,
      "outputs": []
    },
    {
      "cell_type": "code",
      "metadata": {
        "colab": {
          "base_uri": "https://localhost:8080/",
          "height": 414
        },
        "id": "zLayHqaBDt9K",
        "outputId": "0a171e69-6604-4f82-abe0-7db993d1b01d"
      },
      "source": [
        "precipitation_future"
      ],
      "execution_count": null,
      "outputs": [
        {
          "output_type": "execute_result",
          "data": {
            "text/html": [
              "<div>\n",
              "<style scoped>\n",
              "    .dataframe tbody tr th:only-of-type {\n",
              "        vertical-align: middle;\n",
              "    }\n",
              "\n",
              "    .dataframe tbody tr th {\n",
              "        vertical-align: top;\n",
              "    }\n",
              "\n",
              "    .dataframe thead th {\n",
              "        text-align: right;\n",
              "    }\n",
              "</style>\n",
              "<table border=\"1\" class=\"dataframe\">\n",
              "  <thead>\n",
              "    <tr style=\"text-align: right;\">\n",
              "      <th></th>\n",
              "      <th>Date</th>\n",
              "      <th>Precipitation Rate</th>\n",
              "    </tr>\n",
              "  </thead>\n",
              "  <tbody>\n",
              "    <tr>\n",
              "      <th>3330</th>\n",
              "      <td>2050-01-16</td>\n",
              "      <td>3.122402</td>\n",
              "    </tr>\n",
              "    <tr>\n",
              "      <th>3334</th>\n",
              "      <td>2050-02-16</td>\n",
              "      <td>2.776208</td>\n",
              "    </tr>\n",
              "    <tr>\n",
              "      <th>3338</th>\n",
              "      <td>2050-03-16</td>\n",
              "      <td>3.617622</td>\n",
              "    </tr>\n",
              "    <tr>\n",
              "      <th>3342</th>\n",
              "      <td>2050-04-16</td>\n",
              "      <td>1.736092</td>\n",
              "    </tr>\n",
              "    <tr>\n",
              "      <th>3346</th>\n",
              "      <td>2050-05-16</td>\n",
              "      <td>1.108913</td>\n",
              "    </tr>\n",
              "    <tr>\n",
              "      <th>3350</th>\n",
              "      <td>2050-06-16</td>\n",
              "      <td>1.903900</td>\n",
              "    </tr>\n",
              "    <tr>\n",
              "      <th>3354</th>\n",
              "      <td>2050-07-16</td>\n",
              "      <td>1.971584</td>\n",
              "    </tr>\n",
              "    <tr>\n",
              "      <th>3358</th>\n",
              "      <td>2050-08-16</td>\n",
              "      <td>0.550804</td>\n",
              "    </tr>\n",
              "    <tr>\n",
              "      <th>3362</th>\n",
              "      <td>2050-09-16</td>\n",
              "      <td>0.236867</td>\n",
              "    </tr>\n",
              "    <tr>\n",
              "      <th>3366</th>\n",
              "      <td>2050-10-16</td>\n",
              "      <td>1.071648</td>\n",
              "    </tr>\n",
              "    <tr>\n",
              "      <th>3370</th>\n",
              "      <td>2050-11-16</td>\n",
              "      <td>2.912588</td>\n",
              "    </tr>\n",
              "    <tr>\n",
              "      <th>3374</th>\n",
              "      <td>2050-12-16</td>\n",
              "      <td>2.644010</td>\n",
              "    </tr>\n",
              "  </tbody>\n",
              "</table>\n",
              "</div>"
            ],
            "text/plain": [
              "           Date  Precipitation Rate\n",
              "3330 2050-01-16            3.122402\n",
              "3334 2050-02-16            2.776208\n",
              "3338 2050-03-16            3.617622\n",
              "3342 2050-04-16            1.736092\n",
              "3346 2050-05-16            1.108913\n",
              "3350 2050-06-16            1.903900\n",
              "3354 2050-07-16            1.971584\n",
              "3358 2050-08-16            0.550804\n",
              "3362 2050-09-16            0.236867\n",
              "3366 2050-10-16            1.071648\n",
              "3370 2050-11-16            2.912588\n",
              "3374 2050-12-16            2.644010"
            ]
          },
          "metadata": {
            "tags": []
          },
          "execution_count": 7
        }
      ]
    },
    {
      "cell_type": "code",
      "metadata": {
        "id": "_YuQjb7T9s8L"
      },
      "source": [
        "number_of_days = np.array([31, 28, 31, 30, 31, 30, 31, 31, 30, 31, 30, 31])"
      ],
      "execution_count": null,
      "outputs": []
    },
    {
      "cell_type": "code",
      "metadata": {
        "id": "Ka1nUvCpc0q0"
      },
      "source": [
        "# monthly precipitation data future forecast data\n",
        "\n",
        "# multiply the average per day by the number of days\n",
        "precip_target = np.array(precipitation_future['Precipitation Rate'] * number_of_days)"
      ],
      "execution_count": null,
      "outputs": []
    },
    {
      "cell_type": "code",
      "metadata": {
        "id": "7x_est-KFwOW"
      },
      "source": [
        "# order the array to exclude november and start with december\n",
        "# index 0 = January now, but we need it to be december \n",
        "precip_target_ordered = np.array([precip_target[i] for i in range(-1, len(precip_target) - 2) ])"
      ],
      "execution_count": null,
      "outputs": []
    },
    {
      "cell_type": "markdown",
      "metadata": {
        "id": "1fLpA1kZc6PK"
      },
      "source": [
        "### Average Monthly Temperature"
      ]
    },
    {
      "cell_type": "code",
      "metadata": {
        "id": "r_HB2GiUdL6v"
      },
      "source": [
        "# unpickle the current temperature daily dataframe\n",
        "path = '/content/drive/My Drive/3YP/data/'\n",
        "filename = 'radcliffe_daily_temperature_data_processed'\n",
        "infile = open(path+filename, 'rb')\n",
        "temperature_daily_df = pickle.load(infile)\n",
        "infile.close()"
      ],
      "execution_count": null,
      "outputs": []
    },
    {
      "cell_type": "code",
      "metadata": {
        "id": "ZsH1ii9gdc-J"
      },
      "source": [
        "# resample the daily dataframe to form a monthly average dataframe\n",
        "temperature_monthly_df = temperature_daily_df.resample('M', on='Date').mean()"
      ],
      "execution_count": null,
      "outputs": []
    },
    {
      "cell_type": "code",
      "metadata": {
        "id": "Q1jFOcFSd5EE"
      },
      "source": [
        "# form a mask to extract the relevant rows from the data\n",
        "# format of mask: YYYY-MM-DD\n",
        "model_4_temp_mask_start = pd.to_datetime('2018-12-01')\n",
        "model_4_temp_mask_end = pd.to_datetime('2019-10-31')\n",
        "\n",
        "model_4_temp_mask = (temperature_monthly_df.index >= model_4_temp_mask_start) & (temperature_monthly_df.index <= model_4_temp_mask_end)\n",
        "\n",
        "# extract the rows from the dataframe by using the mask\n",
        "model_4_temp_extract = temperature_monthly_df.loc[model_4_temp_mask]"
      ],
      "execution_count": null,
      "outputs": []
    },
    {
      "cell_type": "code",
      "metadata": {
        "id": "Ejw4Gqyy_ugQ"
      },
      "source": [
        "# unpickle the future temperature dataframe\n",
        "path = '/content/drive/My Drive/3YP/data/met_office/'\n",
        "filename = 'temp_2242_met_monthly' #2335\n",
        "infile = open(path+filename, 'rb')\n",
        "temperature_future_df = pickle.load(infile)\n",
        "infile.close()"
      ],
      "execution_count": null,
      "outputs": []
    },
    {
      "cell_type": "code",
      "metadata": {
        "id": "rWRUP78nDHNs",
        "colab": {
          "base_uri": "https://localhost:8080/",
          "height": 411
        },
        "outputId": "be768f23-5d4f-464f-c201-8875dea81c93"
      },
      "source": [
        "temperature_future_df"
      ],
      "execution_count": null,
      "outputs": [
        {
          "output_type": "execute_result",
          "data": {
            "text/html": [
              "<div>\n",
              "<style scoped>\n",
              "    .dataframe tbody tr th:only-of-type {\n",
              "        vertical-align: middle;\n",
              "    }\n",
              "\n",
              "    .dataframe tbody tr th {\n",
              "        vertical-align: top;\n",
              "    }\n",
              "\n",
              "    .dataframe thead th {\n",
              "        text-align: right;\n",
              "    }\n",
              "</style>\n",
              "<table border=\"1\" class=\"dataframe\">\n",
              "  <thead>\n",
              "    <tr style=\"text-align: right;\">\n",
              "      <th></th>\n",
              "      <th>Date</th>\n",
              "      <th>Mean Air Tempeature</th>\n",
              "    </tr>\n",
              "  </thead>\n",
              "  <tbody>\n",
              "    <tr>\n",
              "      <th>14</th>\n",
              "      <td>1980-12-16</td>\n",
              "      <td>-0.447383</td>\n",
              "    </tr>\n",
              "    <tr>\n",
              "      <th>18</th>\n",
              "      <td>1981-01-16</td>\n",
              "      <td>-1.803063</td>\n",
              "    </tr>\n",
              "    <tr>\n",
              "      <th>22</th>\n",
              "      <td>1981-02-16</td>\n",
              "      <td>5.492897</td>\n",
              "    </tr>\n",
              "    <tr>\n",
              "      <th>26</th>\n",
              "      <td>1981-03-16</td>\n",
              "      <td>6.562324</td>\n",
              "    </tr>\n",
              "    <tr>\n",
              "      <th>30</th>\n",
              "      <td>1981-04-16</td>\n",
              "      <td>9.374220</td>\n",
              "    </tr>\n",
              "    <tr>\n",
              "      <th>...</th>\n",
              "      <td>...</td>\n",
              "      <td>...</td>\n",
              "    </tr>\n",
              "    <tr>\n",
              "      <th>3406</th>\n",
              "      <td>2051-08-16</td>\n",
              "      <td>21.363884</td>\n",
              "    </tr>\n",
              "    <tr>\n",
              "      <th>3410</th>\n",
              "      <td>2051-09-16</td>\n",
              "      <td>17.817898</td>\n",
              "    </tr>\n",
              "    <tr>\n",
              "      <th>3414</th>\n",
              "      <td>2051-10-16</td>\n",
              "      <td>13.470314</td>\n",
              "    </tr>\n",
              "    <tr>\n",
              "      <th>3418</th>\n",
              "      <td>2051-11-16</td>\n",
              "      <td>9.025274</td>\n",
              "    </tr>\n",
              "    <tr>\n",
              "      <th>3422</th>\n",
              "      <td>2051-12-16</td>\n",
              "      <td>6.506032</td>\n",
              "    </tr>\n",
              "  </tbody>\n",
              "</table>\n",
              "<p>853 rows × 2 columns</p>\n",
              "</div>"
            ],
            "text/plain": [
              "           Date  Mean Air Tempeature\n",
              "14   1980-12-16            -0.447383\n",
              "18   1981-01-16            -1.803063\n",
              "22   1981-02-16             5.492897\n",
              "26   1981-03-16             6.562324\n",
              "30   1981-04-16             9.374220\n",
              "...         ...                  ...\n",
              "3406 2051-08-16            21.363884\n",
              "3410 2051-09-16            17.817898\n",
              "3414 2051-10-16            13.470314\n",
              "3418 2051-11-16             9.025274\n",
              "3422 2051-12-16             6.506032\n",
              "\n",
              "[853 rows x 2 columns]"
            ]
          },
          "metadata": {
            "tags": []
          },
          "execution_count": 15
        }
      ]
    },
    {
      "cell_type": "code",
      "metadata": {
        "id": "hkcwOlZv_3js"
      },
      "source": [
        "# extract the rows that we want by using a mask\n",
        "\n",
        "model_4_temp_future_mask = (temperature_future_df['Date'] >= model_4_future_mask_start) & (temperature_future_df['Date'] <= model_4_future_mask_end)\n",
        "\n",
        "# extract the rows from the dataframe by using the mask\n",
        "temp_future = np.array(temperature_future_df.loc[model_4_precip_future_mask]['Mean Air Tempeature'])    # data in degrees celsius"
      ],
      "execution_count": null,
      "outputs": []
    },
    {
      "cell_type": "code",
      "metadata": {
        "id": "4qDWdY_BFJ_W"
      },
      "source": [
        "temp_future_ordered = np.array([temp_future[i] for i in range(-1, len(temp_future) - 2) ])"
      ],
      "execution_count": null,
      "outputs": []
    },
    {
      "cell_type": "code",
      "metadata": {
        "id": "x1ImmEl_HTJL",
        "colab": {
          "base_uri": "https://localhost:8080/"
        },
        "outputId": "9745ea6b-c087-4be4-e4ec-7aff6380a2d7"
      },
      "source": [
        "print(temp_future, temp_future_ordered)"
      ],
      "execution_count": null,
      "outputs": [
        {
          "output_type": "stream",
          "text": [
            "[ 6.61692565  7.33836532  5.78745175 11.82022925 14.328254   17.83871075\n",
            " 20.807478   22.87336775 18.087347   12.85819375 11.1655725   5.97792705] [ 5.97792705  6.61692565  7.33836532  5.78745175 11.82022925 14.328254\n",
            " 17.83871075 20.807478   22.87336775 18.087347   12.85819375]\n"
          ],
          "name": "stdout"
        }
      ]
    },
    {
      "cell_type": "markdown",
      "metadata": {
        "id": "Su9wW6_tcl8E"
      },
      "source": [
        "### Total Monthly Generation"
      ]
    },
    {
      "cell_type": "code",
      "metadata": {
        "id": "OiYIT9B7cogr"
      },
      "source": [
        "# the generations (kWh) array\n",
        "monthly_sandford_generation = np.array([181051, 190126, 204585, 207951, 154112, 49882, 75884, 11172, 22088, 18483, 96626]) # data is in kWh"
      ],
      "execution_count": null,
      "outputs": []
    },
    {
      "cell_type": "markdown",
      "metadata": {
        "id": "VdFJBRbkcs-L"
      },
      "source": [
        "## Multivariate Regression Analysis"
      ]
    },
    {
      "cell_type": "code",
      "metadata": {
        "id": "yWqsPJ4KcwHK"
      },
      "source": [
        "model_4 = LinearRegression()"
      ],
      "execution_count": null,
      "outputs": []
    },
    {
      "cell_type": "code",
      "metadata": {
        "id": "vY0jZ1yMfIyu"
      },
      "source": [
        "# note the indexing as we need to exclude november and start the data as december\n",
        "model_4_df = pd.DataFrame([model_4_temp_extract.index, model_4_temp_extract['Daily Tmean °C'], model_4_precip.values, monthly_sandford_generation, \n",
        "                           precip_target_ordered, \n",
        "                           temp_future_ordered]).T\n",
        "model_4_df.columns = ['Date', 'Mean_temp', 'Total_precip', 'Total_monthly_generation', 'Future_precip', 'Future_temp']"
      ],
      "execution_count": null,
      "outputs": []
    },
    {
      "cell_type": "code",
      "metadata": {
        "id": "Vf0o7rCyjJhW",
        "colab": {
          "base_uri": "https://localhost:8080/",
          "height": 383
        },
        "outputId": "36bb5c9a-4161-4102-a53c-01d927dcdb5d"
      },
      "source": [
        "model_4_df"
      ],
      "execution_count": null,
      "outputs": [
        {
          "output_type": "execute_result",
          "data": {
            "text/html": [
              "<div>\n",
              "<style scoped>\n",
              "    .dataframe tbody tr th:only-of-type {\n",
              "        vertical-align: middle;\n",
              "    }\n",
              "\n",
              "    .dataframe tbody tr th {\n",
              "        vertical-align: top;\n",
              "    }\n",
              "\n",
              "    .dataframe thead th {\n",
              "        text-align: right;\n",
              "    }\n",
              "</style>\n",
              "<table border=\"1\" class=\"dataframe\">\n",
              "  <thead>\n",
              "    <tr style=\"text-align: right;\">\n",
              "      <th></th>\n",
              "      <th>Date</th>\n",
              "      <th>Mean_temp</th>\n",
              "      <th>Total_precip</th>\n",
              "      <th>Total_monthly_generation</th>\n",
              "      <th>Future_precip</th>\n",
              "      <th>Future_temp</th>\n",
              "    </tr>\n",
              "  </thead>\n",
              "  <tbody>\n",
              "    <tr>\n",
              "      <th>0</th>\n",
              "      <td>2018-12-31</td>\n",
              "      <td>7.43226</td>\n",
              "      <td>76.1</td>\n",
              "      <td>181051</td>\n",
              "      <td>81.9643</td>\n",
              "      <td>5.97793</td>\n",
              "    </tr>\n",
              "    <tr>\n",
              "      <th>1</th>\n",
              "      <td>2019-01-31</td>\n",
              "      <td>4.1</td>\n",
              "      <td>58.6</td>\n",
              "      <td>190126</td>\n",
              "      <td>96.7945</td>\n",
              "      <td>6.61693</td>\n",
              "    </tr>\n",
              "    <tr>\n",
              "      <th>2</th>\n",
              "      <td>2019-02-28</td>\n",
              "      <td>7.08214</td>\n",
              "      <td>24.1</td>\n",
              "      <td>204585</td>\n",
              "      <td>77.7338</td>\n",
              "      <td>7.33837</td>\n",
              "    </tr>\n",
              "    <tr>\n",
              "      <th>3</th>\n",
              "      <td>2019-03-31</td>\n",
              "      <td>8.88065</td>\n",
              "      <td>83.4</td>\n",
              "      <td>207951</td>\n",
              "      <td>112.146</td>\n",
              "      <td>5.78745</td>\n",
              "    </tr>\n",
              "    <tr>\n",
              "      <th>4</th>\n",
              "      <td>2019-04-30</td>\n",
              "      <td>9.66667</td>\n",
              "      <td>52.8</td>\n",
              "      <td>154112</td>\n",
              "      <td>52.0828</td>\n",
              "      <td>11.8202</td>\n",
              "    </tr>\n",
              "    <tr>\n",
              "      <th>5</th>\n",
              "      <td>2019-05-31</td>\n",
              "      <td>12.6581</td>\n",
              "      <td>86.2</td>\n",
              "      <td>49882</td>\n",
              "      <td>34.3763</td>\n",
              "      <td>14.3283</td>\n",
              "    </tr>\n",
              "    <tr>\n",
              "      <th>6</th>\n",
              "      <td>2019-06-30</td>\n",
              "      <td>15.6367</td>\n",
              "      <td>2.5</td>\n",
              "      <td>75884</td>\n",
              "      <td>57.117</td>\n",
              "      <td>17.8387</td>\n",
              "    </tr>\n",
              "    <tr>\n",
              "      <th>7</th>\n",
              "      <td>2019-07-31</td>\n",
              "      <td>19.1097</td>\n",
              "      <td>23.2</td>\n",
              "      <td>11172</td>\n",
              "      <td>61.1191</td>\n",
              "      <td>20.8075</td>\n",
              "    </tr>\n",
              "    <tr>\n",
              "      <th>8</th>\n",
              "      <td>2019-08-31</td>\n",
              "      <td>18.5516</td>\n",
              "      <td>43.2</td>\n",
              "      <td>22088</td>\n",
              "      <td>17.0749</td>\n",
              "      <td>22.8734</td>\n",
              "    </tr>\n",
              "    <tr>\n",
              "      <th>9</th>\n",
              "      <td>2019-09-30</td>\n",
              "      <td>15.52</td>\n",
              "      <td>30.3</td>\n",
              "      <td>18483</td>\n",
              "      <td>7.106</td>\n",
              "      <td>18.0873</td>\n",
              "    </tr>\n",
              "    <tr>\n",
              "      <th>10</th>\n",
              "      <td>2019-10-31</td>\n",
              "      <td>10.9548</td>\n",
              "      <td>50.1</td>\n",
              "      <td>96626</td>\n",
              "      <td>33.2211</td>\n",
              "      <td>12.8582</td>\n",
              "    </tr>\n",
              "  </tbody>\n",
              "</table>\n",
              "</div>"
            ],
            "text/plain": [
              "         Date Mean_temp  ... Future_precip Future_temp\n",
              "0  2018-12-31   7.43226  ...       81.9643     5.97793\n",
              "1  2019-01-31       4.1  ...       96.7945     6.61693\n",
              "2  2019-02-28   7.08214  ...       77.7338     7.33837\n",
              "3  2019-03-31   8.88065  ...       112.146     5.78745\n",
              "4  2019-04-30   9.66667  ...       52.0828     11.8202\n",
              "5  2019-05-31   12.6581  ...       34.3763     14.3283\n",
              "6  2019-06-30   15.6367  ...        57.117     17.8387\n",
              "7  2019-07-31   19.1097  ...       61.1191     20.8075\n",
              "8  2019-08-31   18.5516  ...       17.0749     22.8734\n",
              "9  2019-09-30     15.52  ...         7.106     18.0873\n",
              "10 2019-10-31   10.9548  ...       33.2211     12.8582\n",
              "\n",
              "[11 rows x 6 columns]"
            ]
          },
          "metadata": {
            "tags": []
          },
          "execution_count": 22
        }
      ]
    },
    {
      "cell_type": "code",
      "metadata": {
        "id": "czMR89LagsY1"
      },
      "source": [
        "x_train = model_4_df[['Mean_temp', 'Total_precip']]\n",
        "y_train = model_4_df['Total_monthly_generation']"
      ],
      "execution_count": null,
      "outputs": []
    },
    {
      "cell_type": "code",
      "metadata": {
        "id": "nRdbgd4kgEjA",
        "colab": {
          "base_uri": "https://localhost:8080/"
        },
        "outputId": "c4424e72-d3c1-4fb8-9676-f77f22770a93"
      },
      "source": [
        "model_4.fit(x_train, y_train)\n",
        "print(model_4.intercept_, model_4.coef_)"
      ],
      "execution_count": null,
      "outputs": [
        {
          "output_type": "stream",
          "text": [
            "302030.3743351451 [-15347.02854018   -229.0541033 ]\n"
          ],
          "name": "stdout"
        }
      ]
    },
    {
      "cell_type": "code",
      "metadata": {
        "id": "xlSMcN_egFwg"
      },
      "source": [
        "# make predictions on the future\n",
        "y_pred = model_4.predict(model_4_df[['Future_temp', 'Future_precip']])"
      ],
      "execution_count": null,
      "outputs": []
    },
    {
      "cell_type": "code",
      "metadata": {
        "id": "fGpWTQcjla9V",
        "colab": {
          "base_uri": "https://localhost:8080/"
        },
        "outputId": "cfbfeefe-03cf-401c-e89d-c0e795ecb317"
      },
      "source": [
        "# print out those monthly predictions\n",
        "y_pred"
      ],
      "execution_count": null,
      "outputs": [
        {
          "output_type": "execute_result",
          "data": {
            "text/plain": [
              "array([191512.69362759, 178309.05582047, 171603.01865674, 187522.62002563,\n",
              "       108695.21034068,  74260.21516736,  15176.28708574, -31302.16381126,\n",
              "       -52918.93351512,  22815.68517744,  97085.87984367])"
            ]
          },
          "metadata": {
            "tags": []
          },
          "execution_count": 26
        }
      ]
    },
    {
      "cell_type": "code",
      "metadata": {
        "id": "mKdpjvCslbu5",
        "colab": {
          "base_uri": "https://localhost:8080/"
        },
        "outputId": "b9379f50-e21c-4b7d-add1-334fc9ffd0d1"
      },
      "source": [
        "y_pred_corrected = [max(i, 0) for i in y_pred]\n",
        "print(sum(y_pred_corrected))"
      ],
      "execution_count": null,
      "outputs": [
        {
          "output_type": "stream",
          "text": [
            "1046980.6657453115\n"
          ],
          "name": "stdout"
        }
      ]
    },
    {
      "cell_type": "code",
      "metadata": {
        "id": "sKUZ9p_8lpeI",
        "colab": {
          "base_uri": "https://localhost:8080/"
        },
        "outputId": "d44a7fdf-e819-47db-bd8a-ee9104b7b453"
      },
      "source": [
        "((y_pred_corrected - monthly_sandford_generation) / monthly_sandford_generation ) * 100"
      ],
      "execution_count": null,
      "outputs": [
        {
          "output_type": "execute_result",
          "data": {
            "text/plain": [
              "array([   5.77831309,   -6.21532256,  -16.12140741,   -9.82365075,\n",
              "        -29.46998914,   48.87176771,  -80.00067592, -100.        ,\n",
              "       -100.        ,   23.44146068,    0.47593799])"
            ]
          },
          "metadata": {
            "tags": []
          },
          "execution_count": 28
        }
      ]
    },
    {
      "cell_type": "code",
      "metadata": {
        "id": "uShExoa642mr",
        "colab": {
          "base_uri": "https://localhost:8080/"
        },
        "outputId": "bdaf95dc-3b74-4bb2-fd0f-baad3dd37882"
      },
      "source": [
        "sum(monthly_sandford_generation)"
      ],
      "execution_count": null,
      "outputs": [
        {
          "output_type": "execute_result",
          "data": {
            "text/plain": [
              "1211960"
            ]
          },
          "metadata": {
            "tags": []
          },
          "execution_count": 29
        }
      ]
    },
    {
      "cell_type": "code",
      "metadata": {
        "id": "qdPA0jwI6XpJ",
        "colab": {
          "base_uri": "https://localhost:8080/"
        },
        "outputId": "27abe8c5-9da2-41b6-ea8c-f8a5ba751825"
      },
      "source": [
        "(1046980.6657453115 - 1211960)/1211960 * 100"
      ],
      "execution_count": null,
      "outputs": [
        {
          "output_type": "execute_result",
          "data": {
            "text/plain": [
              "-13.612605552550288"
            ]
          },
          "metadata": {
            "tags": []
          },
          "execution_count": 30
        }
      ]
    },
    {
      "cell_type": "code",
      "metadata": {
        "id": "WHgjp7cFMCiW"
      },
      "source": [
        ""
      ],
      "execution_count": null,
      "outputs": []
    }
  ]
}