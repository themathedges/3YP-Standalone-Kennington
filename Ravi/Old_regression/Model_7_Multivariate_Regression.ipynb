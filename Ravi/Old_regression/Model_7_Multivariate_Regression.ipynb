{
  "nbformat": 4,
  "nbformat_minor": 0,
  "metadata": {
    "colab": {
      "name": "Model_7_Multivariate_Regression.ipynb",
      "provenance": [],
      "collapsed_sections": [
        "uV82PbQFhDZ0"
      ],
      "toc_visible": true,
      "authorship_tag": "ABX9TyMmPNOkm47cc/NX/bgtxsnR",
      "include_colab_link": true
    },
    "kernelspec": {
      "name": "python3",
      "display_name": "Python 3"
    }
  },
  "cells": [
    {
      "cell_type": "markdown",
      "metadata": {
        "id": "view-in-github",
        "colab_type": "text"
      },
      "source": [
        "<a href=\"https://colab.research.google.com/github/themathedges/3YP-Standalone-Kennington/blob/main/Ravi/Old_regression/Model_7_Multivariate_Regression.ipynb\" target=\"_parent\"><img src=\"https://colab.research.google.com/assets/colab-badge.svg\" alt=\"Open In Colab\"/></a>"
      ]
    },
    {
      "cell_type": "markdown",
      "metadata": {
        "id": "G-Rwo1ZObTcd"
      },
      "source": [
        "# Model 7: Multivariate Regression (Daily)"
      ]
    },
    {
      "cell_type": "markdown",
      "metadata": {
        "id": "Z1sMmM5NbPyV"
      },
      "source": [
        "**Author:** Ravi Kohli\n",
        "\n",
        "**Date:** January 8th, 2021\n",
        "\n",
        "**College:** Christ Church"
      ]
    },
    {
      "cell_type": "markdown",
      "metadata": {
        "id": "vLN4P4QAb8FJ"
      },
      "source": [
        "**Goal:**\n",
        "- To make a very simple multivariate linear regression monthly model to forecast the future generation profile of Sandford Hydro\n",
        "- We will use the variables: precipitation and snowfall"
      ]
    },
    {
      "cell_type": "code",
      "metadata": {
        "colab": {
          "base_uri": "https://localhost:8080/"
        },
        "id": "hK_NM4gRbMei",
        "outputId": "5c0fbdb6-7cc6-427c-ccc8-91203444d68d"
      },
      "source": [
        "# Mounting the Google Drive\n",
        "from google.colab import drive\n",
        "drive.mount('/content/drive')"
      ],
      "execution_count": null,
      "outputs": [
        {
          "output_type": "stream",
          "text": [
            "Mounted at /content/drive\n"
          ],
          "name": "stdout"
        }
      ]
    },
    {
      "cell_type": "code",
      "metadata": {
        "id": "A7p3DYTEcLh3"
      },
      "source": [
        "# import the modules\n",
        "import numpy as np\n",
        "import pandas as pd\n",
        "from pandas import Timestamp\n",
        "import matplotlib\n",
        "import matplotlib.pyplot as plt\n",
        "import matplotlib.dates as mdates\n",
        "from scipy.stats import pearsonr\n",
        "import pickle\n",
        "from sklearn.linear_model import LinearRegression\n",
        "from sklearn.preprocessing import StandardScaler"
      ],
      "execution_count": null,
      "outputs": []
    },
    {
      "cell_type": "markdown",
      "metadata": {
        "id": "WQPcrL_scZBm"
      },
      "source": [
        "## Collecting the Data"
      ]
    },
    {
      "cell_type": "markdown",
      "metadata": {
        "id": "uV82PbQFhDZ0"
      },
      "source": [
        "### Defining the Mask"
      ]
    },
    {
      "cell_type": "code",
      "metadata": {
        "id": "rA7kQPFXef5Y"
      },
      "source": [
        "# extract the rows that we want by using a mask\n",
        "# format of mask: YYYY-MM-DD\n",
        "model_7_current_mask_start = pd.to_datetime('2018-12-01')\n",
        "model_7_current_mask_end = pd.to_datetime('2019-10-22')"
      ],
      "execution_count": null,
      "outputs": []
    },
    {
      "cell_type": "markdown",
      "metadata": {
        "id": "AyPbqnm_ccL6"
      },
      "source": [
        "### Daily Current Generation"
      ]
    },
    {
      "cell_type": "code",
      "metadata": {
        "id": "UfXYWnP1d2M2"
      },
      "source": [
        "# unpickle the processed daily generation dataframe\n",
        "path = '/content/drive/My Drive/3YP/data/'\n",
        "filename = 'daily_sandford_generation_data'\n",
        "infile = open(path+filename, 'rb')\n",
        "sandford_daily_df = pickle.load(infile)\n",
        "infile.close()"
      ],
      "execution_count": null,
      "outputs": []
    },
    {
      "cell_type": "code",
      "metadata": {
        "colab": {
          "base_uri": "https://localhost:8080/",
          "height": 411
        },
        "id": "i6BQg67Q5vGj",
        "outputId": "eac98e27-0214-484a-f4f4-c46286a79431"
      },
      "source": [
        "sandford_daily_df"
      ],
      "execution_count": null,
      "outputs": [
        {
          "output_type": "execute_result",
          "data": {
            "text/html": [
              "<div>\n",
              "<style scoped>\n",
              "    .dataframe tbody tr th:only-of-type {\n",
              "        vertical-align: middle;\n",
              "    }\n",
              "\n",
              "    .dataframe tbody tr th {\n",
              "        vertical-align: top;\n",
              "    }\n",
              "\n",
              "    .dataframe thead th {\n",
              "        text-align: right;\n",
              "    }\n",
              "</style>\n",
              "<table border=\"1\" class=\"dataframe\">\n",
              "  <thead>\n",
              "    <tr style=\"text-align: right;\">\n",
              "      <th></th>\n",
              "      <th>Reading Date</th>\n",
              "      <th>Incremental Reading</th>\n",
              "      <th>Meter Reading</th>\n",
              "    </tr>\n",
              "  </thead>\n",
              "  <tbody>\n",
              "    <tr>\n",
              "      <th>0</th>\n",
              "      <td>2019-10-22</td>\n",
              "      <td>1284.10</td>\n",
              "      <td>1763145.53</td>\n",
              "    </tr>\n",
              "    <tr>\n",
              "      <th>1</th>\n",
              "      <td>2019-10-21</td>\n",
              "      <td>1175.01</td>\n",
              "      <td>1761861.43</td>\n",
              "    </tr>\n",
              "    <tr>\n",
              "      <th>2</th>\n",
              "      <td>2019-10-20</td>\n",
              "      <td>1175.01</td>\n",
              "      <td>NaN</td>\n",
              "    </tr>\n",
              "    <tr>\n",
              "      <th>3</th>\n",
              "      <td>2019-10-19</td>\n",
              "      <td>1175.01</td>\n",
              "      <td>NaN</td>\n",
              "    </tr>\n",
              "    <tr>\n",
              "      <th>4</th>\n",
              "      <td>2019-10-18</td>\n",
              "      <td>2265.09</td>\n",
              "      <td>1758336.41</td>\n",
              "    </tr>\n",
              "    <tr>\n",
              "      <th>...</th>\n",
              "      <td>...</td>\n",
              "      <td>...</td>\n",
              "      <td>...</td>\n",
              "    </tr>\n",
              "    <tr>\n",
              "      <th>364</th>\n",
              "      <td>2018-10-22</td>\n",
              "      <td>0.00</td>\n",
              "      <td>548149.91</td>\n",
              "    </tr>\n",
              "    <tr>\n",
              "      <th>365</th>\n",
              "      <td>2018-10-21</td>\n",
              "      <td>0.00</td>\n",
              "      <td>548149.91</td>\n",
              "    </tr>\n",
              "    <tr>\n",
              "      <th>366</th>\n",
              "      <td>2018-10-20</td>\n",
              "      <td>0.00</td>\n",
              "      <td>548149.91</td>\n",
              "    </tr>\n",
              "    <tr>\n",
              "      <th>367</th>\n",
              "      <td>2018-10-19</td>\n",
              "      <td>0.00</td>\n",
              "      <td>548149.91</td>\n",
              "    </tr>\n",
              "    <tr>\n",
              "      <th>368</th>\n",
              "      <td>2018-10-18</td>\n",
              "      <td>0.00</td>\n",
              "      <td>548149.91</td>\n",
              "    </tr>\n",
              "  </tbody>\n",
              "</table>\n",
              "<p>369 rows × 3 columns</p>\n",
              "</div>"
            ],
            "text/plain": [
              "    Reading Date  Incremental Reading  Meter Reading\n",
              "0     2019-10-22              1284.10     1763145.53\n",
              "1     2019-10-21              1175.01     1761861.43\n",
              "2     2019-10-20              1175.01            NaN\n",
              "3     2019-10-19              1175.01            NaN\n",
              "4     2019-10-18              2265.09     1758336.41\n",
              "..           ...                  ...            ...\n",
              "364   2018-10-22                 0.00      548149.91\n",
              "365   2018-10-21                 0.00      548149.91\n",
              "366   2018-10-20                 0.00      548149.91\n",
              "367   2018-10-19                 0.00      548149.91\n",
              "368   2018-10-18                 0.00      548149.91\n",
              "\n",
              "[369 rows x 3 columns]"
            ]
          },
          "metadata": {
            "tags": []
          },
          "execution_count": 6
        }
      ]
    },
    {
      "cell_type": "code",
      "metadata": {
        "id": "xvsjLXow_oVu"
      },
      "source": [
        "model_7_gen_current_mask = (sandford_daily_df['Reading Date'] >= model_7_current_mask_start) & (sandford_daily_df['Reading Date'] <= model_7_current_mask_end)\n",
        "\n",
        "# extract the rows from the dataframe by using the mask\n",
        "sandford_gen_df = sandford_daily_df.loc[model_7_gen_current_mask]"
      ],
      "execution_count": null,
      "outputs": []
    },
    {
      "cell_type": "code",
      "metadata": {
        "colab": {
          "base_uri": "https://localhost:8080/",
          "height": 411
        },
        "id": "0X8Fr22UAWY4",
        "outputId": "50bd60e7-8adb-436e-92ab-449c82058745"
      },
      "source": [
        "sandford_gen_df"
      ],
      "execution_count": null,
      "outputs": [
        {
          "output_type": "execute_result",
          "data": {
            "text/html": [
              "<div>\n",
              "<style scoped>\n",
              "    .dataframe tbody tr th:only-of-type {\n",
              "        vertical-align: middle;\n",
              "    }\n",
              "\n",
              "    .dataframe tbody tr th {\n",
              "        vertical-align: top;\n",
              "    }\n",
              "\n",
              "    .dataframe thead th {\n",
              "        text-align: right;\n",
              "    }\n",
              "</style>\n",
              "<table border=\"1\" class=\"dataframe\">\n",
              "  <thead>\n",
              "    <tr style=\"text-align: right;\">\n",
              "      <th></th>\n",
              "      <th>Reading Date</th>\n",
              "      <th>Incremental Reading</th>\n",
              "      <th>Meter Reading</th>\n",
              "    </tr>\n",
              "  </thead>\n",
              "  <tbody>\n",
              "    <tr>\n",
              "      <th>0</th>\n",
              "      <td>2019-10-22</td>\n",
              "      <td>1284.100</td>\n",
              "      <td>1763145.53</td>\n",
              "    </tr>\n",
              "    <tr>\n",
              "      <th>1</th>\n",
              "      <td>2019-10-21</td>\n",
              "      <td>1175.010</td>\n",
              "      <td>1761861.43</td>\n",
              "    </tr>\n",
              "    <tr>\n",
              "      <th>2</th>\n",
              "      <td>2019-10-20</td>\n",
              "      <td>1175.010</td>\n",
              "      <td>NaN</td>\n",
              "    </tr>\n",
              "    <tr>\n",
              "      <th>3</th>\n",
              "      <td>2019-10-19</td>\n",
              "      <td>1175.010</td>\n",
              "      <td>NaN</td>\n",
              "    </tr>\n",
              "    <tr>\n",
              "      <th>4</th>\n",
              "      <td>2019-10-18</td>\n",
              "      <td>2265.090</td>\n",
              "      <td>1758336.41</td>\n",
              "    </tr>\n",
              "    <tr>\n",
              "      <th>...</th>\n",
              "      <td>...</td>\n",
              "      <td>...</td>\n",
              "      <td>...</td>\n",
              "    </tr>\n",
              "    <tr>\n",
              "      <th>320</th>\n",
              "      <td>2018-12-05</td>\n",
              "      <td>12.493</td>\n",
              "      <td>551201.08</td>\n",
              "    </tr>\n",
              "    <tr>\n",
              "      <th>321</th>\n",
              "      <td>2018-12-04</td>\n",
              "      <td>0.000</td>\n",
              "      <td>551188.58</td>\n",
              "    </tr>\n",
              "    <tr>\n",
              "      <th>322</th>\n",
              "      <td>2018-12-03</td>\n",
              "      <td>0.000</td>\n",
              "      <td>551188.58</td>\n",
              "    </tr>\n",
              "    <tr>\n",
              "      <th>323</th>\n",
              "      <td>2018-12-02</td>\n",
              "      <td>2.765</td>\n",
              "      <td>551188.58</td>\n",
              "    </tr>\n",
              "    <tr>\n",
              "      <th>324</th>\n",
              "      <td>2018-12-01</td>\n",
              "      <td>1272.220</td>\n",
              "      <td>551185.82</td>\n",
              "    </tr>\n",
              "  </tbody>\n",
              "</table>\n",
              "<p>325 rows × 3 columns</p>\n",
              "</div>"
            ],
            "text/plain": [
              "    Reading Date  Incremental Reading  Meter Reading\n",
              "0     2019-10-22             1284.100     1763145.53\n",
              "1     2019-10-21             1175.010     1761861.43\n",
              "2     2019-10-20             1175.010            NaN\n",
              "3     2019-10-19             1175.010            NaN\n",
              "4     2019-10-18             2265.090     1758336.41\n",
              "..           ...                  ...            ...\n",
              "320   2018-12-05               12.493      551201.08\n",
              "321   2018-12-04                0.000      551188.58\n",
              "322   2018-12-03                0.000      551188.58\n",
              "323   2018-12-02                2.765      551188.58\n",
              "324   2018-12-01             1272.220      551185.82\n",
              "\n",
              "[325 rows x 3 columns]"
            ]
          },
          "metadata": {
            "tags": []
          },
          "execution_count": 8
        }
      ]
    },
    {
      "cell_type": "markdown",
      "metadata": {
        "id": "-Xbns-uahHED"
      },
      "source": [
        "### Daily Precipitation"
      ]
    },
    {
      "cell_type": "code",
      "metadata": {
        "id": "7_4xRgQ_cUp4"
      },
      "source": [
        "# unpickle the current precipitation daily dataframe\n",
        "path = '/content/drive/My Drive/3YP/data/'\n",
        "filename = 'radcliffe_daily_precipitation_data_processed'\n",
        "infile = open(path+filename, 'rb')\n",
        "precipitation_daily_df = pickle.load(infile)\n",
        "infile.close()"
      ],
      "execution_count": null,
      "outputs": []
    },
    {
      "cell_type": "code",
      "metadata": {
        "id": "eGc4Ci-Shf-E"
      },
      "source": [
        "model_7_precip_current_mask = (precipitation_daily_df['Date'] >= model_7_current_mask_start) & (precipitation_daily_df['Date'] <= model_7_current_mask_end)\n",
        "\n",
        "# extract the rows from the dataframe by using the mask\n",
        "precipitation_current_df = precipitation_daily_df.loc[model_7_precip_current_mask]"
      ],
      "execution_count": null,
      "outputs": []
    },
    {
      "cell_type": "markdown",
      "metadata": {
        "id": "5_eapo4bTp2v"
      },
      "source": [
        "### Daily Snowfall data: current"
      ]
    },
    {
      "cell_type": "code",
      "metadata": {
        "id": "gDDAh4xbTpEa"
      },
      "source": [
        "# unpickle the snowfall daily dataframe\n",
        "path = '/content/drive/My Drive/3YP/data/met_office/'\n",
        "filename = 'snowfall_2242_met_daily'\n",
        "infile = open(path+filename, 'rb')\n",
        "snowfall_daily_df = pickle.load(infile)\n",
        "infile.close()"
      ],
      "execution_count": null,
      "outputs": []
    },
    {
      "cell_type": "code",
      "metadata": {
        "colab": {
          "base_uri": "https://localhost:8080/",
          "height": 411
        },
        "id": "5KOKt4fidk-2",
        "outputId": "2c129699-d202-43d4-e62a-5206fc1a86a6"
      },
      "source": [
        "snowfall_daily_df"
      ],
      "execution_count": null,
      "outputs": [
        {
          "output_type": "execute_result",
          "data": {
            "text/html": [
              "<div>\n",
              "<style scoped>\n",
              "    .dataframe tbody tr th:only-of-type {\n",
              "        vertical-align: middle;\n",
              "    }\n",
              "\n",
              "    .dataframe tbody tr th {\n",
              "        vertical-align: top;\n",
              "    }\n",
              "\n",
              "    .dataframe thead th {\n",
              "        text-align: right;\n",
              "    }\n",
              "</style>\n",
              "<table border=\"1\" class=\"dataframe\">\n",
              "  <thead>\n",
              "    <tr style=\"text-align: right;\">\n",
              "      <th></th>\n",
              "      <th>Date</th>\n",
              "      <th>Snowfall</th>\n",
              "    </tr>\n",
              "  </thead>\n",
              "  <tbody>\n",
              "    <tr>\n",
              "      <th>0</th>\n",
              "      <td>1980-12-01</td>\n",
              "      <td>0.047270</td>\n",
              "    </tr>\n",
              "    <tr>\n",
              "      <th>1</th>\n",
              "      <td>1980-12-02</td>\n",
              "      <td>0.050254</td>\n",
              "    </tr>\n",
              "    <tr>\n",
              "      <th>2</th>\n",
              "      <td>1980-12-03</td>\n",
              "      <td>1.431502</td>\n",
              "    </tr>\n",
              "    <tr>\n",
              "      <th>3</th>\n",
              "      <td>1980-12-04</td>\n",
              "      <td>0.241387</td>\n",
              "    </tr>\n",
              "    <tr>\n",
              "      <th>4</th>\n",
              "      <td>1980-12-05</td>\n",
              "      <td>0.460901</td>\n",
              "    </tr>\n",
              "    <tr>\n",
              "      <th>...</th>\n",
              "      <td>...</td>\n",
              "      <td>...</td>\n",
              "    </tr>\n",
              "    <tr>\n",
              "      <th>25225</th>\n",
              "      <td>2050-12-26</td>\n",
              "      <td>0.000000</td>\n",
              "    </tr>\n",
              "    <tr>\n",
              "      <th>25226</th>\n",
              "      <td>2050-12-27</td>\n",
              "      <td>0.000000</td>\n",
              "    </tr>\n",
              "    <tr>\n",
              "      <th>25227</th>\n",
              "      <td>2050-12-28</td>\n",
              "      <td>0.000000</td>\n",
              "    </tr>\n",
              "    <tr>\n",
              "      <th>25228</th>\n",
              "      <td>2050-12-29</td>\n",
              "      <td>0.000000</td>\n",
              "    </tr>\n",
              "    <tr>\n",
              "      <th>25229</th>\n",
              "      <td>2050-12-30</td>\n",
              "      <td>0.000000</td>\n",
              "    </tr>\n",
              "  </tbody>\n",
              "</table>\n",
              "<p>25107 rows × 2 columns</p>\n",
              "</div>"
            ],
            "text/plain": [
              "            Date  Snowfall\n",
              "0     1980-12-01  0.047270\n",
              "1     1980-12-02  0.050254\n",
              "2     1980-12-03  1.431502\n",
              "3     1980-12-04  0.241387\n",
              "4     1980-12-05  0.460901\n",
              "...          ...       ...\n",
              "25225 2050-12-26  0.000000\n",
              "25226 2050-12-27  0.000000\n",
              "25227 2050-12-28  0.000000\n",
              "25228 2050-12-29  0.000000\n",
              "25229 2050-12-30  0.000000\n",
              "\n",
              "[25107 rows x 2 columns]"
            ]
          },
          "metadata": {
            "tags": []
          },
          "execution_count": 12
        }
      ]
    },
    {
      "cell_type": "code",
      "metadata": {
        "id": "55P43Ax0Vh0z"
      },
      "source": [
        "model_7_snow_current_mask = (snowfall_daily_df['Date'] >= model_7_current_mask_start) & (snowfall_daily_df['Date'] <= model_7_current_mask_end)\n",
        "\n",
        "# extract the rows from the dataframe by using the mask\n",
        "snowfall_current = snowfall_daily_df.loc[model_7_snow_current_mask]"
      ],
      "execution_count": null,
      "outputs": []
    },
    {
      "cell_type": "code",
      "metadata": {
        "colab": {
          "base_uri": "https://localhost:8080/"
        },
        "id": "zDoju7n-dmWF",
        "outputId": "41db3b5e-9918-4272-f78e-db89306568d9"
      },
      "source": [
        "snowfall_current.info()"
      ],
      "execution_count": null,
      "outputs": [
        {
          "output_type": "stream",
          "text": [
            "<class 'pandas.core.frame.DataFrame'>\n",
            "Int64Index: 320 entries, 13680 to 14001\n",
            "Data columns (total 2 columns):\n",
            " #   Column    Non-Null Count  Dtype         \n",
            "---  ------    --------------  -----         \n",
            " 0   Date      320 non-null    datetime64[ns]\n",
            " 1   Snowfall  320 non-null    float64       \n",
            "dtypes: datetime64[ns](1), float64(1)\n",
            "memory usage: 7.5 KB\n"
          ],
          "name": "stdout"
        }
      ]
    },
    {
      "cell_type": "markdown",
      "metadata": {
        "id": "l90EbKitjIYd"
      },
      "source": [
        "### Future Precipitation data"
      ]
    },
    {
      "cell_type": "code",
      "metadata": {
        "id": "mb_GHgM2z5xa"
      },
      "source": [
        "# unpickle the future temperature dataframe\n",
        "path = '/content/drive/My Drive/3YP/data/met_office/'\n",
        "filename = 'precip_2242_met_daily' \n",
        "infile = open(path+filename, 'rb')\n",
        "precipitation_future_df = pickle.load(infile)\n",
        "infile.close()"
      ],
      "execution_count": null,
      "outputs": []
    },
    {
      "cell_type": "code",
      "metadata": {
        "id": "jyiXsYbf0IkV"
      },
      "source": [
        "# extract the rows that we want by using a mask\n",
        "# format of mask: YYYY-MM-DD\n",
        "model_7_future_mask_start = pd.to_datetime('2050-01-01')\n",
        "model_7_future_mask_end = pd.to_datetime('2050-12-31')"
      ],
      "execution_count": null,
      "outputs": []
    },
    {
      "cell_type": "code",
      "metadata": {
        "id": "JNo4LawF02IB"
      },
      "source": [
        "model_7_precip_future_mask = (precipitation_future_df['Date'] >= model_7_future_mask_start) & (precipitation_future_df['Date'] <= model_7_future_mask_end)\n",
        "\n",
        "# extract the rows from the dataframe by using the mask\n",
        "precipitation_future = precipitation_future_df.loc[model_7_precip_future_mask]"
      ],
      "execution_count": null,
      "outputs": []
    },
    {
      "cell_type": "code",
      "metadata": {
        "colab": {
          "base_uri": "https://localhost:8080/",
          "height": 411
        },
        "id": "zLayHqaBDt9K",
        "outputId": "957e8edb-4f50-47b3-ce5a-6670b724eb2a"
      },
      "source": [
        "precipitation_future"
      ],
      "execution_count": null,
      "outputs": [
        {
          "output_type": "execute_result",
          "data": {
            "text/html": [
              "<div>\n",
              "<style scoped>\n",
              "    .dataframe tbody tr th:only-of-type {\n",
              "        vertical-align: middle;\n",
              "    }\n",
              "\n",
              "    .dataframe tbody tr th {\n",
              "        vertical-align: top;\n",
              "    }\n",
              "\n",
              "    .dataframe thead th {\n",
              "        text-align: right;\n",
              "    }\n",
              "</style>\n",
              "<table border=\"1\" class=\"dataframe\">\n",
              "  <thead>\n",
              "    <tr style=\"text-align: right;\">\n",
              "      <th></th>\n",
              "      <th>Date</th>\n",
              "      <th>Precipitation Rate</th>\n",
              "    </tr>\n",
              "  </thead>\n",
              "  <tbody>\n",
              "    <tr>\n",
              "      <th>24870</th>\n",
              "      <td>2050-01-01</td>\n",
              "      <td>10.622042</td>\n",
              "    </tr>\n",
              "    <tr>\n",
              "      <th>24871</th>\n",
              "      <td>2050-01-02</td>\n",
              "      <td>26.987028</td>\n",
              "    </tr>\n",
              "    <tr>\n",
              "      <th>24872</th>\n",
              "      <td>2050-01-03</td>\n",
              "      <td>11.353615</td>\n",
              "    </tr>\n",
              "    <tr>\n",
              "      <th>24873</th>\n",
              "      <td>2050-01-04</td>\n",
              "      <td>0.251311</td>\n",
              "    </tr>\n",
              "    <tr>\n",
              "      <th>24874</th>\n",
              "      <td>2050-01-05</td>\n",
              "      <td>1.852849</td>\n",
              "    </tr>\n",
              "    <tr>\n",
              "      <th>...</th>\n",
              "      <td>...</td>\n",
              "      <td>...</td>\n",
              "    </tr>\n",
              "    <tr>\n",
              "      <th>25225</th>\n",
              "      <td>2050-12-26</td>\n",
              "      <td>0.000615</td>\n",
              "    </tr>\n",
              "    <tr>\n",
              "      <th>25226</th>\n",
              "      <td>2050-12-27</td>\n",
              "      <td>5.991373</td>\n",
              "    </tr>\n",
              "    <tr>\n",
              "      <th>25227</th>\n",
              "      <td>2050-12-28</td>\n",
              "      <td>4.328137</td>\n",
              "    </tr>\n",
              "    <tr>\n",
              "      <th>25228</th>\n",
              "      <td>2050-12-29</td>\n",
              "      <td>0.100387</td>\n",
              "    </tr>\n",
              "    <tr>\n",
              "      <th>25229</th>\n",
              "      <td>2050-12-30</td>\n",
              "      <td>0.076974</td>\n",
              "    </tr>\n",
              "  </tbody>\n",
              "</table>\n",
              "<p>358 rows × 2 columns</p>\n",
              "</div>"
            ],
            "text/plain": [
              "            Date  Precipitation Rate\n",
              "24870 2050-01-01           10.622042\n",
              "24871 2050-01-02           26.987028\n",
              "24872 2050-01-03           11.353615\n",
              "24873 2050-01-04            0.251311\n",
              "24874 2050-01-05            1.852849\n",
              "...          ...                 ...\n",
              "25225 2050-12-26            0.000615\n",
              "25226 2050-12-27            5.991373\n",
              "25227 2050-12-28            4.328137\n",
              "25228 2050-12-29            0.100387\n",
              "25229 2050-12-30            0.076974\n",
              "\n",
              "[358 rows x 2 columns]"
            ]
          },
          "metadata": {
            "tags": []
          },
          "execution_count": 18
        }
      ]
    },
    {
      "cell_type": "markdown",
      "metadata": {
        "id": "s6hVJYLNY66T"
      },
      "source": [
        "### Future Snowfall data"
      ]
    },
    {
      "cell_type": "code",
      "metadata": {
        "id": "GPzyrIJCY6rM"
      },
      "source": [
        "model_7_snow_future_mask = (snowfall_daily_df['Date'] >= model_7_future_mask_start) & (snowfall_daily_df['Date'] <= model_7_future_mask_end)\n",
        "\n",
        "# extract the rows from the dataframe by using the mask\n",
        "snow_future = snowfall_daily_df.loc[model_7_snow_future_mask]"
      ],
      "execution_count": null,
      "outputs": []
    },
    {
      "cell_type": "markdown",
      "metadata": {
        "id": "VdFJBRbkcs-L"
      },
      "source": [
        "## Multivariate Regression Analysis"
      ]
    },
    {
      "cell_type": "code",
      "metadata": {
        "id": "yWqsPJ4KcwHK"
      },
      "source": [
        "model_7 = LinearRegression()"
      ],
      "execution_count": null,
      "outputs": []
    },
    {
      "cell_type": "code",
      "metadata": {
        "id": "vY0jZ1yMfIyu"
      },
      "source": [
        "# note the indexing as we need to exclude november and start the data as december\n",
        "model_7_train_df = pd.DataFrame([precipitation_current_df['Date']]).T\n",
        "model_7_train_df['Total_precip'] = precipitation_current_df['Rainfall mm 1 dpl no traces']"
      ],
      "execution_count": null,
      "outputs": []
    },
    {
      "cell_type": "code",
      "metadata": {
        "colab": {
          "base_uri": "https://localhost:8080/"
        },
        "id": "zK4Q07BDCIoj",
        "outputId": "d7517d46-f343-4c44-c634-01beee07e99c"
      },
      "source": [
        "# define a set of dates that need to be removed from the rest of the training data sets\n",
        "dates_to_remove = set(model_7_train_df['Date']) - (set(snowfall_current['Date']))\n",
        "dates_to_remove"
      ],
      "execution_count": null,
      "outputs": [
        {
          "output_type": "execute_result",
          "data": {
            "text/plain": [
              "{Timestamp('2018-12-31 00:00:00'),\n",
              " Timestamp('2019-01-31 00:00:00'),\n",
              " Timestamp('2019-03-31 00:00:00'),\n",
              " Timestamp('2019-05-31 00:00:00'),\n",
              " Timestamp('2019-07-31 00:00:00'),\n",
              " Timestamp('2019-08-31 00:00:00')}"
            ]
          },
          "metadata": {
            "tags": []
          },
          "execution_count": 22
        }
      ]
    },
    {
      "cell_type": "code",
      "metadata": {
        "colab": {
          "base_uri": "https://localhost:8080/"
        },
        "id": "k5yltCPyBIWj",
        "outputId": "9033b5f9-60ea-4709-96d4-e03b3ebe217a"
      },
      "source": [
        "# remove the row with the extra date from the snowfall data\n",
        "snowfall_current_removed = snowfall_current[snowfall_current['Date'] != '2019-06-01 00:00:00']\n",
        "\n",
        "# remove the row with the extra date from the training data\n",
        "model_7_train = model_7_train_df[model_7_train_df['Date'] != '2019-06-01 00:00:00']\n",
        "model_7_train['Total_daily_generation'] = sandford_gen_df['Incremental Reading'].values[::-1]"
      ],
      "execution_count": null,
      "outputs": [
        {
          "output_type": "stream",
          "text": [
            "/usr/local/lib/python3.6/dist-packages/ipykernel_launcher.py:6: SettingWithCopyWarning: \n",
            "A value is trying to be set on a copy of a slice from a DataFrame.\n",
            "Try using .loc[row_indexer,col_indexer] = value instead\n",
            "\n",
            "See the caveats in the documentation: https://pandas.pydata.org/pandas-docs/stable/user_guide/indexing.html#returning-a-view-versus-a-copy\n",
            "  \n"
          ],
          "name": "stderr"
        }
      ]
    },
    {
      "cell_type": "code",
      "metadata": {
        "id": "ITVQLJI0jhQY"
      },
      "source": [
        "# now we want to exclude the row whose date isn't in the generation data\n",
        "for i in dates_to_remove:\n",
        "  model_7_train = model_7_train[model_7_train['Date'] != i]"
      ],
      "execution_count": null,
      "outputs": []
    },
    {
      "cell_type": "code",
      "metadata": {
        "colab": {
          "base_uri": "https://localhost:8080/",
          "height": 411
        },
        "id": "4nTzmvpjnAnV",
        "outputId": "3a6000bf-2645-4366-f31f-7062c832790c"
      },
      "source": [
        "# reset the indices to try and align them\n",
        "snowfall_current_removed.reset_index(drop = True)\n",
        "model_7_train.reset_index(drop = True)"
      ],
      "execution_count": null,
      "outputs": [
        {
          "output_type": "execute_result",
          "data": {
            "text/html": [
              "<div>\n",
              "<style scoped>\n",
              "    .dataframe tbody tr th:only-of-type {\n",
              "        vertical-align: middle;\n",
              "    }\n",
              "\n",
              "    .dataframe tbody tr th {\n",
              "        vertical-align: top;\n",
              "    }\n",
              "\n",
              "    .dataframe thead th {\n",
              "        text-align: right;\n",
              "    }\n",
              "</style>\n",
              "<table border=\"1\" class=\"dataframe\">\n",
              "  <thead>\n",
              "    <tr style=\"text-align: right;\">\n",
              "      <th></th>\n",
              "      <th>Date</th>\n",
              "      <th>Total_precip</th>\n",
              "      <th>Total_daily_generation</th>\n",
              "    </tr>\n",
              "  </thead>\n",
              "  <tbody>\n",
              "    <tr>\n",
              "      <th>0</th>\n",
              "      <td>2018-12-01</td>\n",
              "      <td>3.1</td>\n",
              "      <td>1272.220</td>\n",
              "    </tr>\n",
              "    <tr>\n",
              "      <th>1</th>\n",
              "      <td>2018-12-02</td>\n",
              "      <td>1.0</td>\n",
              "      <td>2.765</td>\n",
              "    </tr>\n",
              "    <tr>\n",
              "      <th>2</th>\n",
              "      <td>2018-12-03</td>\n",
              "      <td>2.7</td>\n",
              "      <td>0.000</td>\n",
              "    </tr>\n",
              "    <tr>\n",
              "      <th>3</th>\n",
              "      <td>2018-12-04</td>\n",
              "      <td>8.5</td>\n",
              "      <td>0.000</td>\n",
              "    </tr>\n",
              "    <tr>\n",
              "      <th>4</th>\n",
              "      <td>2018-12-05</td>\n",
              "      <td>0.0</td>\n",
              "      <td>12.493</td>\n",
              "    </tr>\n",
              "    <tr>\n",
              "      <th>...</th>\n",
              "      <td>...</td>\n",
              "      <td>...</td>\n",
              "      <td>...</td>\n",
              "    </tr>\n",
              "    <tr>\n",
              "      <th>314</th>\n",
              "      <td>2019-10-18</td>\n",
              "      <td>0.2</td>\n",
              "      <td>2265.090</td>\n",
              "    </tr>\n",
              "    <tr>\n",
              "      <th>315</th>\n",
              "      <td>2019-10-19</td>\n",
              "      <td>0.0</td>\n",
              "      <td>1175.010</td>\n",
              "    </tr>\n",
              "    <tr>\n",
              "      <th>316</th>\n",
              "      <td>2019-10-20</td>\n",
              "      <td>0.0</td>\n",
              "      <td>1175.010</td>\n",
              "    </tr>\n",
              "    <tr>\n",
              "      <th>317</th>\n",
              "      <td>2019-10-21</td>\n",
              "      <td>0.0</td>\n",
              "      <td>1175.010</td>\n",
              "    </tr>\n",
              "    <tr>\n",
              "      <th>318</th>\n",
              "      <td>2019-10-22</td>\n",
              "      <td>0.0</td>\n",
              "      <td>1284.100</td>\n",
              "    </tr>\n",
              "  </tbody>\n",
              "</table>\n",
              "<p>319 rows × 3 columns</p>\n",
              "</div>"
            ],
            "text/plain": [
              "          Date  Total_precip  Total_daily_generation\n",
              "0   2018-12-01           3.1                1272.220\n",
              "1   2018-12-02           1.0                   2.765\n",
              "2   2018-12-03           2.7                   0.000\n",
              "3   2018-12-04           8.5                   0.000\n",
              "4   2018-12-05           0.0                  12.493\n",
              "..         ...           ...                     ...\n",
              "314 2019-10-18           0.2                2265.090\n",
              "315 2019-10-19           0.0                1175.010\n",
              "316 2019-10-20           0.0                1175.010\n",
              "317 2019-10-21           0.0                1175.010\n",
              "318 2019-10-22           0.0                1284.100\n",
              "\n",
              "[319 rows x 3 columns]"
            ]
          },
          "metadata": {
            "tags": []
          },
          "execution_count": 25
        }
      ]
    },
    {
      "cell_type": "code",
      "metadata": {
        "id": "522tVjlxlOKJ"
      },
      "source": [
        "# the .to_numpy() argument is used to bypass the problems due to index misalignment\n",
        "model_7_train['Snowfall'] = snowfall_current_removed['Snowfall'].to_numpy()"
      ],
      "execution_count": null,
      "outputs": []
    },
    {
      "cell_type": "code",
      "metadata": {
        "colab": {
          "base_uri": "https://localhost:8080/"
        },
        "id": "4XD0oHlHkmyv",
        "outputId": "58ad4666-8575-44cd-fe18-13f3ca566416"
      },
      "source": [
        "model_7_train.info()"
      ],
      "execution_count": null,
      "outputs": [
        {
          "output_type": "stream",
          "text": [
            "<class 'pandas.core.frame.DataFrame'>\n",
            "Int64Index: 319 entries, 74479 to 74804\n",
            "Data columns (total 4 columns):\n",
            " #   Column                  Non-Null Count  Dtype         \n",
            "---  ------                  --------------  -----         \n",
            " 0   Date                    319 non-null    datetime64[ns]\n",
            " 1   Total_precip            319 non-null    float64       \n",
            " 2   Total_daily_generation  319 non-null    float64       \n",
            " 3   Snowfall                319 non-null    float64       \n",
            "dtypes: datetime64[ns](1), float64(3)\n",
            "memory usage: 12.5 KB\n"
          ],
          "name": "stdout"
        }
      ]
    },
    {
      "cell_type": "code",
      "metadata": {
        "id": "czMR89LagsY1"
      },
      "source": [
        "# get the training features and target vector\n",
        "x_train = model_7_train[['Total_precip', 'Snowfall']]\n",
        "y_train = model_7_train['Total_daily_generation']"
      ],
      "execution_count": null,
      "outputs": []
    },
    {
      "cell_type": "code",
      "metadata": {
        "colab": {
          "base_uri": "https://localhost:8080/"
        },
        "id": "t04Dc5modfXw",
        "outputId": "14911fd0-5d01-4d81-aa30-2c7e67dc80cf"
      },
      "source": [
        "x_train.info()"
      ],
      "execution_count": null,
      "outputs": [
        {
          "output_type": "stream",
          "text": [
            "<class 'pandas.core.frame.DataFrame'>\n",
            "Int64Index: 319 entries, 74479 to 74804\n",
            "Data columns (total 2 columns):\n",
            " #   Column        Non-Null Count  Dtype  \n",
            "---  ------        --------------  -----  \n",
            " 0   Total_precip  319 non-null    float64\n",
            " 1   Snowfall      319 non-null    float64\n",
            "dtypes: float64(2)\n",
            "memory usage: 7.5 KB\n"
          ],
          "name": "stdout"
        }
      ]
    },
    {
      "cell_type": "code",
      "metadata": {
        "id": "wcPYrVjSTJZR"
      },
      "source": [
        "# form the testing data dataframe\n",
        "model_7_test_df = precipitation_future[['Date', 'Precipitation Rate']]\n",
        "model_7_test_df.columns = ['Date', 'Future_precip']\n",
        "model_7_test_df['Future_snowfall'] = snow_future['Snowfall'].fillna(0)"
      ],
      "execution_count": null,
      "outputs": []
    },
    {
      "cell_type": "code",
      "metadata": {
        "id": "Ga4GudlGbxtc"
      },
      "source": [
        "model_7_test_df = model_7_test_df.reset_index(drop = True)"
      ],
      "execution_count": null,
      "outputs": []
    },
    {
      "cell_type": "code",
      "metadata": {
        "colab": {
          "base_uri": "https://localhost:8080/"
        },
        "id": "QtQfwnzucMZx",
        "outputId": "1286c64a-6ae4-4723-eb9a-b134f8354466"
      },
      "source": [
        "model_7_test_df.info()"
      ],
      "execution_count": null,
      "outputs": [
        {
          "output_type": "stream",
          "text": [
            "<class 'pandas.core.frame.DataFrame'>\n",
            "RangeIndex: 358 entries, 0 to 357\n",
            "Data columns (total 3 columns):\n",
            " #   Column           Non-Null Count  Dtype         \n",
            "---  ------           --------------  -----         \n",
            " 0   Date             358 non-null    datetime64[ns]\n",
            " 1   Future_precip    358 non-null    float64       \n",
            " 2   Future_snowfall  358 non-null    float64       \n",
            "dtypes: datetime64[ns](1), float64(2)\n",
            "memory usage: 8.5 KB\n"
          ],
          "name": "stdout"
        }
      ]
    },
    {
      "cell_type": "code",
      "metadata": {
        "id": "nRdbgd4kgEjA",
        "colab": {
          "base_uri": "https://localhost:8080/"
        },
        "outputId": "7fc8edc9-b684-4388-eb52-454a83adf410"
      },
      "source": [
        "model_7.fit(x_train, y_train)\n",
        "print(model_7.intercept_, model_7.coef_)"
      ],
      "execution_count": null,
      "outputs": [
        {
          "output_type": "stream",
          "text": [
            "3746.9973785767834 [-30.97122461 910.32024494]\n"
          ],
          "name": "stdout"
        }
      ]
    },
    {
      "cell_type": "code",
      "metadata": {
        "id": "xlSMcN_egFwg"
      },
      "source": [
        "# make predictions on the future\n",
        "y_pred = model_7.predict(model_7_test_df[['Future_precip', 'Future_snowfall']])"
      ],
      "execution_count": null,
      "outputs": []
    },
    {
      "cell_type": "code",
      "metadata": {
        "id": "mKdpjvCslbu5",
        "colab": {
          "base_uri": "https://localhost:8080/"
        },
        "outputId": "8753f7e2-0dd2-485d-9e37-d00d269f89ec"
      },
      "source": [
        "y_pred_corrected = [max(i, 0) for i in y_pred]\n",
        "model_7_test_df['Predicted generation'] = y_pred_corrected\n",
        "model_7_test_df['Generation rolling average'] = model_7_test_df['Predicted generation'].rolling(10).mean()\n",
        "print(sum(y_pred_corrected))"
      ],
      "execution_count": null,
      "outputs": [
        {
          "output_type": "stream",
          "text": [
            "1319110.6896681024\n"
          ],
          "name": "stdout"
        }
      ]
    },
    {
      "cell_type": "code",
      "metadata": {
        "id": "qdPA0jwI6XpJ",
        "colab": {
          "base_uri": "https://localhost:8080/"
        },
        "outputId": "f5045d4d-975c-48dd-8033-530ac816d7fe"
      },
      "source": [
        "(1319110.6896681024 - 1211960)/1211960 * 100"
      ],
      "execution_count": null,
      "outputs": [
        {
          "output_type": "execute_result",
          "data": {
            "text/plain": [
              "8.841107764951188"
            ]
          },
          "metadata": {
            "tags": []
          },
          "execution_count": 36
        }
      ]
    },
    {
      "cell_type": "code",
      "metadata": {
        "colab": {
          "base_uri": "https://localhost:8080/",
          "height": 777
        },
        "id": "adX9aIb1XRZZ",
        "outputId": "21d05485-e4ce-4295-c2a9-8172488db1a5"
      },
      "source": [
        "# Let us plot the generation profile\n",
        "gen_fig, gen_ax = plt.subplots(figsize = (10, 10))\n",
        "gen_ax.tick_params(axis='x', rotation=60)\n",
        "gen_ax.plot(precipitation_future['Date'], model_7_test_df['Predicted generation'], 'r', label = 'Generation')  \n",
        "gen_ax.plot(precipitation_future['Date'], model_7_test_df['Generation rolling average'], 'b', label = '10-day rolling average')  \n",
        "gen_ax.set(title = 'Model 7: Estimated Sandford Hydro generation Profile for 2050', xlabel= 'Date', ylabel='Generation (kWh)')\n",
        "gen_ax.legend(loc='center left', bbox_to_anchor=(1, 0.5))\n",
        "font = {'family' : 'normal',\n",
        "        'weight' : 'bold',\n",
        "        'size'   : 22}\n",
        "\n",
        "matplotlib.rc('font', **font)"
      ],
      "execution_count": null,
      "outputs": [
        {
          "output_type": "stream",
          "text": [
            "findfont: Font family ['normal'] not found. Falling back to DejaVu Sans.\n",
            "findfont: Font family ['normal'] not found. Falling back to DejaVu Sans.\n",
            "findfont: Font family ['normal'] not found. Falling back to DejaVu Sans.\n"
          ],
          "name": "stderr"
        },
        {
          "output_type": "display_data",
          "data": {
            "image/png": "[encoded data removed]",
            "text/plain": [
              "<Figure size 720x720 with 1 Axes>"
            ]
          },
          "metadata": {
            "tags": [],
            "needs_background": "light"
          }
        }
      ]
    },
    {
      "cell_type": "markdown",
      "metadata": {
        "id": "xjZnPafepTJO"
      },
      "source": [
        "Now we will run the same Linear Regression, but we will standardise the data now using the sklearn function `StandardScaler()`"
      ]
    },
    {
      "cell_type": "code",
      "metadata": {
        "id": "iXPg0ya-po5e"
      },
      "source": [
        "model_7_scaled = LinearRegression()\n",
        "model_7_scaler = StandardScaler()"
      ],
      "execution_count": null,
      "outputs": []
    },
    {
      "cell_type": "code",
      "metadata": {
        "id": "HOUgFLLSWnBa"
      },
      "source": [
        "# standardise the training data\n",
        "x_train_scaled = model_7_scaler.fit_transform(x_train) \n",
        "y_train_scaled = model_7_scaler.fit_transform(y_train.values.reshape((-1, 1)))"
      ],
      "execution_count": null,
      "outputs": []
    },
    {
      "cell_type": "code",
      "metadata": {
        "id": "OxmuuoU8p_-8"
      },
      "source": [
        "# process the testing data\n",
        "model_7_scaler.fit(x_train)\n",
        "model_7_test = model_7_scaler.transform(model_7_test_df[['Future_precip', 'Future_snowfall']])"
      ],
      "execution_count": null,
      "outputs": []
    },
    {
      "cell_type": "code",
      "metadata": {
        "colab": {
          "base_uri": "https://localhost:8080/"
        },
        "id": "w8wtEt8yryz6",
        "outputId": "a3b4a54e-673c-45af-c53c-a15be85383e7"
      },
      "source": [
        "# conduct the regression\n",
        "model_7_scaled.fit(x_train_scaled, y_train_scaled)\n",
        "print(model_7_scaled.intercept_, model_7_scaled.coef_)"
      ],
      "execution_count": null,
      "outputs": [
        {
          "output_type": "stream",
          "text": [
            "[-9.18372046e-17] [[-0.03768027  0.0992078 ]]\n"
          ],
          "name": "stdout"
        }
      ]
    },
    {
      "cell_type": "code",
      "metadata": {
        "id": "D7a7pDaGsDnB"
      },
      "source": [
        "# make predictions on the future\n",
        "y_pred_scaled = model_7_scaled.predict(model_7_test)"
      ],
      "execution_count": null,
      "outputs": []
    },
    {
      "cell_type": "code",
      "metadata": {
        "colab": {
          "base_uri": "https://localhost:8080/"
        },
        "id": "FcsEZ_y7uf6y",
        "outputId": "c6a13d37-a30e-4af0-8a29-7efbc3136106"
      },
      "source": [
        "y_pred_corrected_scaled = [max(i, 0) for i in y_pred_scaled]\n",
        "print(sum(y_pred_corrected_scaled))"
      ],
      "execution_count": null,
      "outputs": [
        {
          "output_type": "stream",
          "text": [
            "[0.98713298]\n"
          ],
          "name": "stdout"
        }
      ]
    },
    {
      "cell_type": "code",
      "metadata": {
        "id": "OJ_Ls9_avKii"
      },
      "source": [
        ""
      ],
      "execution_count": null,
      "outputs": []
    }
  ]
}