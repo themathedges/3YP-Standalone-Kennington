{
  "nbformat": 4,
  "nbformat_minor": 0,
  "metadata": {
    "colab": {
      "name": "Met_office_data_daily_processing.ipynb",
      "provenance": [],
      "collapsed_sections": [],
      "toc_visible": true,
      "authorship_tag": "ABX9TyMEOPrU0pZLGYQ5XS34yQLe",
      "include_colab_link": true
    },
    "kernelspec": {
      "name": "python3",
      "display_name": "Python 3"
    }
  },
  "cells": [
    {
      "cell_type": "markdown",
      "metadata": {
        "id": "view-in-github",
        "colab_type": "text"
      },
      "source": [
        "<a href=\"https://colab.research.google.com/github/themathedges/3YP-Standalone-Kennington/blob/main/Ravi/Preprocessing_notebooks/Met_office_data_daily_processing.ipynb\" target=\"_parent\"><img src=\"https://colab.research.google.com/assets/colab-badge.svg\" alt=\"Open In Colab\"/></a>"
      ]
    },
    {
      "cell_type": "markdown",
      "metadata": {
        "id": "5mkxjp7AgXOS"
      },
      "source": [
        "# Met Office Data Daily Processing"
      ]
    },
    {
      "cell_type": "markdown",
      "metadata": {
        "id": "xBi2cTTBhCwD"
      },
      "source": [
        "**Author:** Ravi Kohli\n",
        "\n",
        "**Date:** January 5th, 2021\n",
        "\n",
        "**College:** Christ Church"
      ]
    },
    {
      "cell_type": "markdown",
      "metadata": {
        "id": "yDQaBFSqggJB"
      },
      "source": [
        "**Goal:**\n",
        "- Write a script to analyse and collect the Met Office data and put it into a dataframe"
      ]
    },
    {
      "cell_type": "code",
      "metadata": {
        "colab": {
          "base_uri": "https://localhost:8080/"
        },
        "id": "QZCydYE0gTIu",
        "outputId": "10df2dd7-b9f1-45f4-be09-4c8a5fa1e888"
      },
      "source": [
        "# Mounting the Google Drive\n",
        "from google.colab import drive\n",
        "drive.mount('/content/drive')"
      ],
      "execution_count": null,
      "outputs": [
        {
          "output_type": "stream",
          "text": [
            "Drive already mounted at /content/drive; to attempt to forcibly remount, call drive.mount(\"/content/drive\", force_remount=True).\n"
          ],
          "name": "stdout"
        }
      ]
    },
    {
      "cell_type": "code",
      "metadata": {
        "id": "9VlqHM2RrbeR"
      },
      "source": [
        "# import the modules\n",
        "import numpy as np\n",
        "import pandas as pd\n",
        "import matplotlib\n",
        "import matplotlib.pyplot as plt\n",
        "import matplotlib.dates as mdates\n",
        "from scipy.stats import pearsonr\n",
        "import pickle"
      ],
      "execution_count": null,
      "outputs": []
    },
    {
      "cell_type": "code",
      "metadata": {
        "id": "WxDWR-AVqM5h"
      },
      "source": [
        "# Retrieving the precipitation data\n",
        "path = '/content/drive/My Drive/3YP/data/met_office/'    # when running in a notebook in colab\n",
        "\n",
        "# put the name of the file\n",
        "filename = \"daily_upstream3_precipitation_data/daily_precipitation_upstream3_2242 - Sheet1.csv\"\n",
        "#filename = \"daily_upstream2_precipitation_data/daily_precipitation_upstream3_2242 - Sheet1.csv\"\n",
        "df = pd.read_csv(path+filename, error_bad_lines = False)               # converting the csv file to a dataframe"
      ],
      "execution_count": null,
      "outputs": []
    },
    {
      "cell_type": "code",
      "metadata": {
        "id": "8D09W-W1qGhM",
        "colab": {
          "base_uri": "https://localhost:8080/",
          "height": 411
        },
        "outputId": "cba54dd0-d6d9-4caf-db8e-4be4c0b8b9e7"
      },
      "source": [
        "df"
      ],
      "execution_count": null,
      "outputs": [
        {
          "output_type": "execute_result",
          "data": {
            "text/html": [
              "<div>\n",
              "<style scoped>\n",
              "    .dataframe tbody tr th:only-of-type {\n",
              "        vertical-align: middle;\n",
              "    }\n",
              "\n",
              "    .dataframe tbody tr th {\n",
              "        vertical-align: top;\n",
              "    }\n",
              "\n",
              "    .dataframe thead th {\n",
              "        text-align: right;\n",
              "    }\n",
              "</style>\n",
              "<table border=\"1\" class=\"dataframe\">\n",
              "  <thead>\n",
              "    <tr style=\"text-align: right;\">\n",
              "      <th></th>\n",
              "      <th>Date</th>\n",
              "      <th>Precipitation rate (mm/day)(HadREM3-GA705-r001i1p02242)</th>\n",
              "    </tr>\n",
              "  </thead>\n",
              "  <tbody>\n",
              "    <tr>\n",
              "      <th>0</th>\n",
              "      <td>1980-12-01</td>\n",
              "      <td>0.034366</td>\n",
              "    </tr>\n",
              "    <tr>\n",
              "      <th>1</th>\n",
              "      <td>1980-12-02</td>\n",
              "      <td>0.705222</td>\n",
              "    </tr>\n",
              "    <tr>\n",
              "      <th>2</th>\n",
              "      <td>1980-12-03</td>\n",
              "      <td>2.868936</td>\n",
              "    </tr>\n",
              "    <tr>\n",
              "      <th>3</th>\n",
              "      <td>1980-12-04</td>\n",
              "      <td>0.157865</td>\n",
              "    </tr>\n",
              "    <tr>\n",
              "      <th>4</th>\n",
              "      <td>1980-12-05</td>\n",
              "      <td>1.123900</td>\n",
              "    </tr>\n",
              "    <tr>\n",
              "      <th>...</th>\n",
              "      <td>...</td>\n",
              "      <td>...</td>\n",
              "    </tr>\n",
              "    <tr>\n",
              "      <th>25225</th>\n",
              "      <td>2050-12-26</td>\n",
              "      <td>0.002720</td>\n",
              "    </tr>\n",
              "    <tr>\n",
              "      <th>25226</th>\n",
              "      <td>2050-12-27</td>\n",
              "      <td>6.750660</td>\n",
              "    </tr>\n",
              "    <tr>\n",
              "      <th>25227</th>\n",
              "      <td>2050-12-28</td>\n",
              "      <td>3.676629</td>\n",
              "    </tr>\n",
              "    <tr>\n",
              "      <th>25228</th>\n",
              "      <td>2050-12-29</td>\n",
              "      <td>0.092938</td>\n",
              "    </tr>\n",
              "    <tr>\n",
              "      <th>25229</th>\n",
              "      <td>2050-12-30</td>\n",
              "      <td>0.029777</td>\n",
              "    </tr>\n",
              "  </tbody>\n",
              "</table>\n",
              "<p>25230 rows × 2 columns</p>\n",
              "</div>"
            ],
            "text/plain": [
              "             Date  Precipitation rate (mm/day)(HadREM3-GA705-r001i1p02242)\n",
              "0      1980-12-01                                           0.034366      \n",
              "1      1980-12-02                                           0.705222      \n",
              "2      1980-12-03                                           2.868936      \n",
              "3      1980-12-04                                           0.157865      \n",
              "4      1980-12-05                                           1.123900      \n",
              "...           ...                                                ...      \n",
              "25225  2050-12-26                                           0.002720      \n",
              "25226  2050-12-27                                           6.750660      \n",
              "25227  2050-12-28                                           3.676629      \n",
              "25228  2050-12-29                                           0.092938      \n",
              "25229  2050-12-30                                           0.029777      \n",
              "\n",
              "[25230 rows x 2 columns]"
            ]
          },
          "metadata": {
            "tags": []
          },
          "execution_count": 4
        }
      ]
    },
    {
      "cell_type": "code",
      "metadata": {
        "id": "_iokiws2sLSO",
        "colab": {
          "base_uri": "https://localhost:8080/",
          "height": 657
        },
        "outputId": "0c771782-c4fd-4b37-d6a1-7a540e42fbf1"
      },
      "source": [
        "df.head(20)"
      ],
      "execution_count": null,
      "outputs": [
        {
          "output_type": "execute_result",
          "data": {
            "text/html": [
              "<div>\n",
              "<style scoped>\n",
              "    .dataframe tbody tr th:only-of-type {\n",
              "        vertical-align: middle;\n",
              "    }\n",
              "\n",
              "    .dataframe tbody tr th {\n",
              "        vertical-align: top;\n",
              "    }\n",
              "\n",
              "    .dataframe thead th {\n",
              "        text-align: right;\n",
              "    }\n",
              "</style>\n",
              "<table border=\"1\" class=\"dataframe\">\n",
              "  <thead>\n",
              "    <tr style=\"text-align: right;\">\n",
              "      <th></th>\n",
              "      <th>Date</th>\n",
              "      <th>Precipitation rate (mm/day)(HadREM3-GA705-r001i1p02242)</th>\n",
              "    </tr>\n",
              "  </thead>\n",
              "  <tbody>\n",
              "    <tr>\n",
              "      <th>0</th>\n",
              "      <td>1980-12-01</td>\n",
              "      <td>0.034366</td>\n",
              "    </tr>\n",
              "    <tr>\n",
              "      <th>1</th>\n",
              "      <td>1980-12-02</td>\n",
              "      <td>0.705222</td>\n",
              "    </tr>\n",
              "    <tr>\n",
              "      <th>2</th>\n",
              "      <td>1980-12-03</td>\n",
              "      <td>2.868936</td>\n",
              "    </tr>\n",
              "    <tr>\n",
              "      <th>3</th>\n",
              "      <td>1980-12-04</td>\n",
              "      <td>0.157865</td>\n",
              "    </tr>\n",
              "    <tr>\n",
              "      <th>4</th>\n",
              "      <td>1980-12-05</td>\n",
              "      <td>1.123900</td>\n",
              "    </tr>\n",
              "    <tr>\n",
              "      <th>5</th>\n",
              "      <td>1980-12-06</td>\n",
              "      <td>17.641254</td>\n",
              "    </tr>\n",
              "    <tr>\n",
              "      <th>6</th>\n",
              "      <td>1980-12-07</td>\n",
              "      <td>0.000053</td>\n",
              "    </tr>\n",
              "    <tr>\n",
              "      <th>7</th>\n",
              "      <td>1980-12-08</td>\n",
              "      <td>0.133188</td>\n",
              "    </tr>\n",
              "    <tr>\n",
              "      <th>8</th>\n",
              "      <td>1980-12-09</td>\n",
              "      <td>0.843602</td>\n",
              "    </tr>\n",
              "    <tr>\n",
              "      <th>9</th>\n",
              "      <td>1980-12-10</td>\n",
              "      <td>0.152200</td>\n",
              "    </tr>\n",
              "    <tr>\n",
              "      <th>10</th>\n",
              "      <td>1980-12-11</td>\n",
              "      <td>0.001331</td>\n",
              "    </tr>\n",
              "    <tr>\n",
              "      <th>11</th>\n",
              "      <td>1980-12-12</td>\n",
              "      <td>0.013425</td>\n",
              "    </tr>\n",
              "    <tr>\n",
              "      <th>12</th>\n",
              "      <td>1980-12-13</td>\n",
              "      <td>3.303699</td>\n",
              "    </tr>\n",
              "    <tr>\n",
              "      <th>13</th>\n",
              "      <td>1980-12-14</td>\n",
              "      <td>1.924283</td>\n",
              "    </tr>\n",
              "    <tr>\n",
              "      <th>14</th>\n",
              "      <td>1980-12-15</td>\n",
              "      <td>5.496599</td>\n",
              "    </tr>\n",
              "    <tr>\n",
              "      <th>15</th>\n",
              "      <td>1980-12-16</td>\n",
              "      <td>2.905026</td>\n",
              "    </tr>\n",
              "    <tr>\n",
              "      <th>16</th>\n",
              "      <td>1980-12-17</td>\n",
              "      <td>0.799422</td>\n",
              "    </tr>\n",
              "    <tr>\n",
              "      <th>17</th>\n",
              "      <td>1980-12-18</td>\n",
              "      <td>0.286896</td>\n",
              "    </tr>\n",
              "    <tr>\n",
              "      <th>18</th>\n",
              "      <td>1980-12-19</td>\n",
              "      <td>0.189600</td>\n",
              "    </tr>\n",
              "    <tr>\n",
              "      <th>19</th>\n",
              "      <td>1980-12-20</td>\n",
              "      <td>0.002705</td>\n",
              "    </tr>\n",
              "  </tbody>\n",
              "</table>\n",
              "</div>"
            ],
            "text/plain": [
              "          Date  Precipitation rate (mm/day)(HadREM3-GA705-r001i1p02242)\n",
              "0   1980-12-01                                           0.034366      \n",
              "1   1980-12-02                                           0.705222      \n",
              "2   1980-12-03                                           2.868936      \n",
              "3   1980-12-04                                           0.157865      \n",
              "4   1980-12-05                                           1.123900      \n",
              "5   1980-12-06                                          17.641254      \n",
              "6   1980-12-07                                           0.000053      \n",
              "7   1980-12-08                                           0.133188      \n",
              "8   1980-12-09                                           0.843602      \n",
              "9   1980-12-10                                           0.152200      \n",
              "10  1980-12-11                                           0.001331      \n",
              "11  1980-12-12                                           0.013425      \n",
              "12  1980-12-13                                           3.303699      \n",
              "13  1980-12-14                                           1.924283      \n",
              "14  1980-12-15                                           5.496599      \n",
              "15  1980-12-16                                           2.905026      \n",
              "16  1980-12-17                                           0.799422      \n",
              "17  1980-12-18                                           0.286896      \n",
              "18  1980-12-19                                           0.189600      \n",
              "19  1980-12-20                                           0.002705      "
            ]
          },
          "metadata": {
            "tags": []
          },
          "execution_count": 5
        }
      ]
    },
    {
      "cell_type": "code",
      "metadata": {
        "id": "Z5r_oq3yuwGO"
      },
      "source": [
        "df.columns = ['Date', 'Precipitation']\n",
        "\n",
        "# convert the data types\n",
        "df['Date'] = pd.to_datetime(df['Date'], errors='coerce')\n",
        "df['Precipitation'] = pd.to_numeric(df['Precipitation'])"
      ],
      "execution_count": null,
      "outputs": []
    },
    {
      "cell_type": "code",
      "metadata": {
        "id": "2E5fOr4ptxFN"
      },
      "source": [
        "# remove the rows which have a NaT in the date column\n",
        "df_columns = df[pd.notnull(df['Date'])]"
      ],
      "execution_count": null,
      "outputs": []
    },
    {
      "cell_type": "code",
      "metadata": {
        "id": "y6rtUVIguwwL",
        "colab": {
          "base_uri": "https://localhost:8080/",
          "height": 411
        },
        "outputId": "aac06c86-9d43-443e-f998-e4c8506d5659"
      },
      "source": [
        "df_columns"
      ],
      "execution_count": null,
      "outputs": [
        {
          "output_type": "execute_result",
          "data": {
            "text/html": [
              "<div>\n",
              "<style scoped>\n",
              "    .dataframe tbody tr th:only-of-type {\n",
              "        vertical-align: middle;\n",
              "    }\n",
              "\n",
              "    .dataframe tbody tr th {\n",
              "        vertical-align: top;\n",
              "    }\n",
              "\n",
              "    .dataframe thead th {\n",
              "        text-align: right;\n",
              "    }\n",
              "</style>\n",
              "<table border=\"1\" class=\"dataframe\">\n",
              "  <thead>\n",
              "    <tr style=\"text-align: right;\">\n",
              "      <th></th>\n",
              "      <th>Date</th>\n",
              "      <th>Precipitation</th>\n",
              "    </tr>\n",
              "  </thead>\n",
              "  <tbody>\n",
              "    <tr>\n",
              "      <th>0</th>\n",
              "      <td>1980-12-01</td>\n",
              "      <td>0.034366</td>\n",
              "    </tr>\n",
              "    <tr>\n",
              "      <th>1</th>\n",
              "      <td>1980-12-02</td>\n",
              "      <td>0.705222</td>\n",
              "    </tr>\n",
              "    <tr>\n",
              "      <th>2</th>\n",
              "      <td>1980-12-03</td>\n",
              "      <td>2.868936</td>\n",
              "    </tr>\n",
              "    <tr>\n",
              "      <th>3</th>\n",
              "      <td>1980-12-04</td>\n",
              "      <td>0.157865</td>\n",
              "    </tr>\n",
              "    <tr>\n",
              "      <th>4</th>\n",
              "      <td>1980-12-05</td>\n",
              "      <td>1.123900</td>\n",
              "    </tr>\n",
              "    <tr>\n",
              "      <th>...</th>\n",
              "      <td>...</td>\n",
              "      <td>...</td>\n",
              "    </tr>\n",
              "    <tr>\n",
              "      <th>25225</th>\n",
              "      <td>2050-12-26</td>\n",
              "      <td>0.002720</td>\n",
              "    </tr>\n",
              "    <tr>\n",
              "      <th>25226</th>\n",
              "      <td>2050-12-27</td>\n",
              "      <td>6.750660</td>\n",
              "    </tr>\n",
              "    <tr>\n",
              "      <th>25227</th>\n",
              "      <td>2050-12-28</td>\n",
              "      <td>3.676629</td>\n",
              "    </tr>\n",
              "    <tr>\n",
              "      <th>25228</th>\n",
              "      <td>2050-12-29</td>\n",
              "      <td>0.092938</td>\n",
              "    </tr>\n",
              "    <tr>\n",
              "      <th>25229</th>\n",
              "      <td>2050-12-30</td>\n",
              "      <td>0.029777</td>\n",
              "    </tr>\n",
              "  </tbody>\n",
              "</table>\n",
              "<p>25107 rows × 2 columns</p>\n",
              "</div>"
            ],
            "text/plain": [
              "            Date  Precipitation\n",
              "0     1980-12-01       0.034366\n",
              "1     1980-12-02       0.705222\n",
              "2     1980-12-03       2.868936\n",
              "3     1980-12-04       0.157865\n",
              "4     1980-12-05       1.123900\n",
              "...          ...            ...\n",
              "25225 2050-12-26       0.002720\n",
              "25226 2050-12-27       6.750660\n",
              "25227 2050-12-28       3.676629\n",
              "25228 2050-12-29       0.092938\n",
              "25229 2050-12-30       0.029777\n",
              "\n",
              "[25107 rows x 2 columns]"
            ]
          },
          "metadata": {
            "tags": []
          },
          "execution_count": 8
        }
      ]
    },
    {
      "cell_type": "code",
      "metadata": {
        "id": "-Qjji1MTwiIb",
        "colab": {
          "base_uri": "https://localhost:8080/"
        },
        "outputId": "a054c5ea-86c0-4b7a-fa1e-8bb3f5bf9fd1"
      },
      "source": [
        "df_columns.info()"
      ],
      "execution_count": null,
      "outputs": [
        {
          "output_type": "stream",
          "text": [
            "<class 'pandas.core.frame.DataFrame'>\n",
            "Int64Index: 25107 entries, 0 to 25229\n",
            "Data columns (total 2 columns):\n",
            " #   Column         Non-Null Count  Dtype         \n",
            "---  ------         --------------  -----         \n",
            " 0   Date           25107 non-null  datetime64[ns]\n",
            " 1   Precipitation  25107 non-null  float64       \n",
            "dtypes: datetime64[ns](1), float64(1)\n",
            "memory usage: 588.4 KB\n"
          ],
          "name": "stdout"
        }
      ]
    },
    {
      "cell_type": "code",
      "metadata": {
        "id": "SgzcIgrKxKvr"
      },
      "source": [
        "# pickel the dataframe\n",
        "path = '/content/drive/My Drive/3YP/data/met_office/'\n",
        "filename_real = 'precip_2242_upstream3_met_daily'\n",
        "outfile_real = open(path+filename_real, 'wb')\n",
        "pickle.dump(df_columns, outfile_real)\n",
        "outfile_real.close()"
      ],
      "execution_count": null,
      "outputs": []
    },
    {
      "cell_type": "code",
      "metadata": {
        "id": "kLPevi0Y4k8w"
      },
      "source": [
        ""
      ],
      "execution_count": null,
      "outputs": []
    },
    {
      "cell_type": "code",
      "metadata": {
        "id": "VRcm3zbSRxwS"
      },
      "source": [
        ""
      ],
      "execution_count": null,
      "outputs": []
    }
  ]
}