{
  "nbformat": 4,
  "nbformat_minor": 0,
  "metadata": {
    "colab": {
      "name": "Precipitation_Daily_Data_Processing_Ravi.ipynb",
      "provenance": [],
      "collapsed_sections": [],
      "authorship_tag": "ABX9TyN/eo0CzGO/qXV6GM2wsKkv",
      "include_colab_link": true
    },
    "kernelspec": {
      "name": "python3",
      "display_name": "Python 3"
    }
  },
  "cells": [
    {
      "cell_type": "markdown",
      "metadata": {
        "id": "view-in-github",
        "colab_type": "text"
      },
      "source": [
        "<a href=\"https://colab.research.google.com/github/themathedges/3YP-Standalone-Kennington/blob/main/Ravi/Preprocessing_notebooks/Precipitation_Daily_Data_Processing_Ravi.ipynb\" target=\"_parent\"><img src=\"https://colab.research.google.com/assets/colab-badge.svg\" alt=\"Open In Colab\"/></a>"
      ]
    },
    {
      "cell_type": "markdown",
      "metadata": {
        "id": "TJyiCci0O1mh"
      },
      "source": [
        "# Precipitation Data Exploration\n",
        "Author: Ravi Kohli\n",
        "\n",
        "Date: December 14th, 2020\n",
        "\n",
        "College: Christ Church"
      ]
    },
    {
      "cell_type": "markdown",
      "metadata": {
        "id": "XX33NU8uO8PT"
      },
      "source": [
        "Data was collected from Radcliffe Observatory:\n",
        "Oxford Weather and Climate since 1767 by Stephen Burt and Tim Burt, published by Oxford University Press, 2019.\n",
        "\n",
        "This data is available at\n",
        "https://www.geog.ox.ac.uk/research/climate/rms/daily-data.html\n",
        "\n"
      ]
    },
    {
      "cell_type": "markdown",
      "metadata": {
        "id": "Lwazk7rpVBwP"
      },
      "source": [
        "Dataset documentation explanation of the columns: (taken from documentation)\n",
        "- YYYY - Year (four digits). First record 1767\n",
        "- Jan : Monthly total precipitation at the Radcliffe Observatory, Oxford. **Units millimetres and tenths.**\n",
        "- Feb, Mar etc and similarly for each month of the year (will be a column for each month)\n",
        "- Annual : Total annual precipitation at the Radcliffe Observatory, Oxford (sum of 12 monthly values). **Units millimetres and tenths.**\n",
        "- % 1981-2010 average : Annual total as a percentage of the 1981-2010 average, calculated to 1 decimal place.\n",
        "- YYYY - Year (four digits) repeated. First record 1767\n",
        "- Winter - Seasonal total precipitation at the Radcliffe Observatory, Oxford. **Units millimetres and tenths**. Winter is the sum of Dec, Jan, Feb monthly totals, dated to the January year. Units millimetres and tenths. (Winter 1767 is missing as there is no monthly precipitation total for December 1766)\n",
        "- Spring : ditto, for March-April-May. **Units millimetres and tenths**\n",
        "- Summer : ditto, June-July-August. **Units millimetres and tenths**\n",
        "- Autumn : ditto, Sept, Oct, Nov. **Units millimetres and tenths**\n"
      ]
    },
    {
      "cell_type": "markdown",
      "metadata": {
        "id": "n891DELNPNl-"
      },
      "source": [
        "**NOTE:** if running this notebook on your own computer, then just ignore this cell below"
      ]
    },
    {
      "cell_type": "code",
      "metadata": {
        "id": "roDgbrIQOm30",
        "colab": {
          "base_uri": "https://localhost:8080/"
        },
        "outputId": "ac9dd403-bd5c-43e3-b800-ccf88381da19"
      },
      "source": [
        "# Mounting the Google Drive\n",
        "from google.colab import drive\n",
        "drive.mount('/content/drive')"
      ],
      "execution_count": null,
      "outputs": [
        {
          "output_type": "stream",
          "text": [
            "Drive already mounted at /content/drive; to attempt to forcibly remount, call drive.mount(\"/content/drive\", force_remount=True).\n"
          ],
          "name": "stdout"
        }
      ]
    },
    {
      "cell_type": "code",
      "metadata": {
        "id": "0_EHYEeuPTPh"
      },
      "source": [
        "# importing the modules\n",
        "import numpy as np\n",
        "import pandas as pd\n",
        "import matplotlib\n",
        "import matplotlib.pyplot as plt"
      ],
      "execution_count": null,
      "outputs": []
    },
    {
      "cell_type": "code",
      "metadata": {
        "id": "XtHunM07Pb6C",
        "colab": {
          "base_uri": "https://localhost:8080/"
        },
        "outputId": "76b0a6b6-6b08-4e52-923a-0bec3b4b287e"
      },
      "source": [
        "# Retrieving the precipitation data\n",
        "path = '/content/drive/My Drive/3YP/data/'    # when running in a notebook in colab\n",
        "#path = '../data/'                            # when running from an external notebook\n",
        "\n",
        "filename = \"daily-data-to-jan-2020.csv\" # the name of the csv file\n",
        "full_df = pd.read_csv(path+filename, parse_dates=[['MM','DD','YYYY']])               # converting the csv file to a dataframe"
      ],
      "execution_count": null,
      "outputs": [
        {
          "output_type": "stream",
          "text": [
            "/usr/local/lib/python3.6/dist-packages/IPython/core/interactiveshell.py:2718: DtypeWarning: Columns (7,14,18,19,20) have mixed types.Specify dtype option on import or set low_memory=False.\n",
            "  interactivity=interactivity, compiler=compiler, result=result)\n"
          ],
          "name": "stderr"
        }
      ]
    },
    {
      "cell_type": "code",
      "metadata": {
        "colab": {
          "base_uri": "https://localhost:8080/"
        },
        "id": "oE9z9dqUcnWQ",
        "outputId": "cf4bd6b1-6c4a-42a4-db03-19e703723571"
      },
      "source": [
        "full_df.info()"
      ],
      "execution_count": null,
      "outputs": [
        {
          "output_type": "stream",
          "text": [
            "<class 'pandas.core.frame.DataFrame'>\n",
            "RangeIndex: 74906 entries, 0 to 74905\n",
            "Data columns (total 19 columns):\n",
            " #   Column                       Non-Null Count  Dtype         \n",
            "---  ------                       --------------  -----         \n",
            " 0   MM_DD_YYYY                   74906 non-null  datetime64[ns]\n",
            " 1   Tmax °C                      74906 non-null  float64       \n",
            " 2   Tmin °C                      74906 non-null  float64       \n",
            " 3   Daily Tmean °C               74906 non-null  float64       \n",
            " 4   Daily range degC             74906 non-null  float64       \n",
            " 5   Grass min °C                 32531 non-null  object        \n",
            " 6   Air frost 0/1                74906 non-null  int64         \n",
            " 7   Ground frost 0/1             32251 non-null  float64       \n",
            " 8   Max ≥ 25.0°C                 74906 non-null  int64         \n",
            " 9   Max ≥ 30.0°C                 74906 non-null  int64         \n",
            " 10  Min ≥ 15.0 °C                74906 non-null  int64         \n",
            " 11  Max < 0 °C                   74906 non-null  int64         \n",
            " 12  Rainfall mm raw incl traces  70523 non-null  object        \n",
            " 13  Rainfall mm 1 dpl no traces  70523 non-null  float64       \n",
            " 14  Rain day (0.2 mm or more)    70523 non-null  float64       \n",
            " 15  Wet day (1.0 mm or more)     70523 non-null  float64       \n",
            " 16  Sunshine duration h          36190 non-null  object        \n",
            " 17  Nil sunshine                 36190 non-null  object        \n",
            " 18  12 h sunshine                36190 non-null  object        \n",
            "dtypes: datetime64[ns](1), float64(8), int64(5), object(5)\n",
            "memory usage: 10.9+ MB\n"
          ],
          "name": "stdout"
        }
      ]
    },
    {
      "cell_type": "code",
      "metadata": {
        "id": "1l4C6ZZwWKkN"
      },
      "source": [
        "# just extracting the precipitation columns from the dataframe\n",
        "df = full_df[['MM_DD_YYYY', 'Rainfall mm 1 dpl no traces']]"
      ],
      "execution_count": null,
      "outputs": []
    },
    {
      "cell_type": "code",
      "metadata": {
        "colab": {
          "base_uri": "https://localhost:8080/",
          "height": 411
        },
        "id": "nbKjR4hCXO1d",
        "outputId": "6f67bdbc-35c3-4441-c4c7-4ab8b29d63f7"
      },
      "source": [
        "df"
      ],
      "execution_count": null,
      "outputs": [
        {
          "output_type": "execute_result",
          "data": {
            "text/html": [
              "<div>\n",
              "<style scoped>\n",
              "    .dataframe tbody tr th:only-of-type {\n",
              "        vertical-align: middle;\n",
              "    }\n",
              "\n",
              "    .dataframe tbody tr th {\n",
              "        vertical-align: top;\n",
              "    }\n",
              "\n",
              "    .dataframe thead th {\n",
              "        text-align: right;\n",
              "    }\n",
              "</style>\n",
              "<table border=\"1\" class=\"dataframe\">\n",
              "  <thead>\n",
              "    <tr style=\"text-align: right;\">\n",
              "      <th></th>\n",
              "      <th>MM_DD_YYYY</th>\n",
              "      <th>Rainfall mm 1 dpl no traces</th>\n",
              "    </tr>\n",
              "  </thead>\n",
              "  <tbody>\n",
              "    <tr>\n",
              "      <th>0</th>\n",
              "      <td>1815-01-01</td>\n",
              "      <td>NaN</td>\n",
              "    </tr>\n",
              "    <tr>\n",
              "      <th>1</th>\n",
              "      <td>1815-01-02</td>\n",
              "      <td>NaN</td>\n",
              "    </tr>\n",
              "    <tr>\n",
              "      <th>2</th>\n",
              "      <td>1815-01-03</td>\n",
              "      <td>NaN</td>\n",
              "    </tr>\n",
              "    <tr>\n",
              "      <th>3</th>\n",
              "      <td>1815-01-04</td>\n",
              "      <td>NaN</td>\n",
              "    </tr>\n",
              "    <tr>\n",
              "      <th>4</th>\n",
              "      <td>1815-01-05</td>\n",
              "      <td>NaN</td>\n",
              "    </tr>\n",
              "    <tr>\n",
              "      <th>...</th>\n",
              "      <td>...</td>\n",
              "      <td>...</td>\n",
              "    </tr>\n",
              "    <tr>\n",
              "      <th>74901</th>\n",
              "      <td>2020-01-27</td>\n",
              "      <td>2.8</td>\n",
              "    </tr>\n",
              "    <tr>\n",
              "      <th>74902</th>\n",
              "      <td>2020-01-28</td>\n",
              "      <td>0.0</td>\n",
              "    </tr>\n",
              "    <tr>\n",
              "      <th>74903</th>\n",
              "      <td>2020-01-29</td>\n",
              "      <td>0.0</td>\n",
              "    </tr>\n",
              "    <tr>\n",
              "      <th>74904</th>\n",
              "      <td>2020-01-30</td>\n",
              "      <td>0.0</td>\n",
              "    </tr>\n",
              "    <tr>\n",
              "      <th>74905</th>\n",
              "      <td>2020-01-31</td>\n",
              "      <td>1.9</td>\n",
              "    </tr>\n",
              "  </tbody>\n",
              "</table>\n",
              "<p>74906 rows × 2 columns</p>\n",
              "</div>"
            ],
            "text/plain": [
              "      MM_DD_YYYY  Rainfall mm 1 dpl no traces\n",
              "0     1815-01-01                          NaN\n",
              "1     1815-01-02                          NaN\n",
              "2     1815-01-03                          NaN\n",
              "3     1815-01-04                          NaN\n",
              "4     1815-01-05                          NaN\n",
              "...          ...                          ...\n",
              "74901 2020-01-27                          2.8\n",
              "74902 2020-01-28                          0.0\n",
              "74903 2020-01-29                          0.0\n",
              "74904 2020-01-30                          0.0\n",
              "74905 2020-01-31                          1.9\n",
              "\n",
              "[74906 rows x 2 columns]"
            ]
          },
          "metadata": {
            "tags": []
          },
          "execution_count": 19
        }
      ]
    },
    {
      "cell_type": "code",
      "metadata": {
        "id": "Y6vEAXYOnrqJ"
      },
      "source": [
        "# pickle our data so it can be used in another notebook\n",
        "import pickle\n",
        "path = '/content/drive/My Drive/3YP/data/'\n",
        "filename_real = 'daily_precipitation_data_processed'\n",
        "outfile_real = open(path+filename_real, 'wb')\n",
        "pickle.dump(df, outfile_real)\n",
        "outfile_real.close()"
      ],
      "execution_count": null,
      "outputs": []
    },
    {
      "cell_type": "markdown",
      "metadata": {
        "id": "J29zivr4qHzz"
      },
      "source": [
        "# Exploratory Analysis"
      ]
    },
    {
      "cell_type": "code",
      "metadata": {
        "colab": {
          "base_uri": "https://localhost:8080/",
          "height": 280
        },
        "id": "6RNKc66ojkM5",
        "outputId": "cb08f43a-93b1-4f8d-9559-a6f187dac265"
      },
      "source": [
        "plt.plot(df['MM_DD_YYYY'], df['Rainfall mm 1 dpl no traces'])"
      ],
      "execution_count": null,
      "outputs": [
        {
          "output_type": "execute_result",
          "data": {
            "text/plain": [
              "[<matplotlib.lines.Line2D at 0x7f5b63621f98>]"
            ]
          },
          "metadata": {
            "tags": []
          },
          "execution_count": 20
        },
        {
          "output_type": "display_data",
          "data": {
            "image/png": "[encoded data removed]",
            "text/plain": [
              "<Figure size 432x288 with 1 Axes>"
            ]
          },
          "metadata": {
            "tags": [],
            "needs_background": "light"
          }
        }
      ]
    },
    {
      "cell_type": "code",
      "metadata": {
        "id": "_aRdzAtUWOy9"
      },
      "source": [
        "# Annual Graph over time\n",
        "_fig, _ax = plt.subplots(figsize = (10, 10))\n",
        "_ax.plot(df['MM_DD_YYYY'], df['Rainfall mm 1 dpl no traces'], 'r', label = 'Annual Data')\n",
        "#_ax.plot(exploratory_df['YYYY'], exploratory_df['SMA_Annual_20'], color = 'k', label = '20-year Moving Average')   \n",
        "_ax.set(title = 'Graph of Annual Preciptation over Time', xlabel= 'Time (years)', ylabel='Precipitation (mm)')\n",
        "_ax.legend(loc='center left', bbox_to_anchor=(1, 0.5))\n",
        "font = {'family' : 'normal',\n",
        "        'weight' : 'bold',\n",
        "        'size'   : '22'}\n",
        "\n",
        "matplotlib.rc('font', **font)"
      ],
      "execution_count": null,
      "outputs": []
    }
  ]
}