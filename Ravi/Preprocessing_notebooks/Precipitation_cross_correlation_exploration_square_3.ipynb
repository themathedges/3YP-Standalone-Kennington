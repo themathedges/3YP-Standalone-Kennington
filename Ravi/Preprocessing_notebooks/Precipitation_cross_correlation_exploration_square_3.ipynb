{
  "nbformat": 4,
  "nbformat_minor": 0,
  "metadata": {
    "colab": {
      "name": "Precipitation_cross_correlation_exploration_square_3.ipynb",
      "provenance": [],
      "collapsed_sections": [],
      "toc_visible": true,
      "authorship_tag": "ABX9TyOD/LBk7Pjt9vAzRjHGsvL4",
      "include_colab_link": true
    },
    "kernelspec": {
      "name": "python3",
      "display_name": "Python 3"
    }
  },
  "cells": [
    {
      "cell_type": "markdown",
      "metadata": {
        "id": "view-in-github",
        "colab_type": "text"
      },
      "source": [
        "<a href=\"https://colab.research.google.com/github/themathedges/3YP-Standalone-Kennington/blob/main/Ravi/Preprocessing_notebooks/Precipitation_cross_correlation_exploration_square_3.ipynb\" target=\"_parent\"><img src=\"https://colab.research.google.com/assets/colab-badge.svg\" alt=\"Open In Colab\"/></a>"
      ]
    },
    {
      "cell_type": "markdown",
      "metadata": {
        "id": "a9mlRO5_Jtte"
      },
      "source": [
        "# Upstream Precipitation Cross Correlation Exploration for Grid Square 3"
      ]
    },
    {
      "cell_type": "markdown",
      "metadata": {
        "id": "3-ZItFwbJyYe"
      },
      "source": [
        "**Author:** Ravi Kohli\n",
        "\n",
        "**College:** Christ Church\n",
        "\n",
        "**Date:** January 12th, 2021"
      ]
    },
    {
      "cell_type": "markdown",
      "metadata": {
        "id": "RklIsymfJ9ra"
      },
      "source": [
        "**Goal:**\n",
        "- To calculate the temporal cross-correlation between the precipitation data upstream and the daily Sandford generation and find the optimal time lag\n",
        "- This notebook will be for grid-square 3"
      ]
    },
    {
      "cell_type": "code",
      "metadata": {
        "id": "oHSfLPQ8KvnH",
        "colab": {
          "base_uri": "https://localhost:8080/"
        },
        "outputId": "5cb1d217-81bd-41ea-c09e-0266c257b6b5"
      },
      "source": [
        "# Mounting the Google Drive\n",
        "from google.colab import drive\n",
        "drive.mount('/content/drive')"
      ],
      "execution_count": null,
      "outputs": [
        {
          "output_type": "stream",
          "text": [
            "Mounted at /content/drive\n"
          ],
          "name": "stdout"
        }
      ]
    },
    {
      "cell_type": "code",
      "metadata": {
        "id": "LvLgx9QhKupY"
      },
      "source": [
        "# import the modules\n",
        "import numpy as np\n",
        "import pandas as pd\n",
        "from pandas import Timestamp\n",
        "import matplotlib\n",
        "import matplotlib.pyplot as plt\n",
        "import matplotlib.dates as mdates\n",
        "from scipy.stats import pearsonr\n",
        "import pickle\n",
        "from sklearn.linear_model import LinearRegression\n",
        "from sklearn.preprocessing import StandardScaler"
      ],
      "execution_count": null,
      "outputs": []
    },
    {
      "cell_type": "markdown",
      "metadata": {
        "id": "I_iirp3wKJxm"
      },
      "source": [
        "## Import the Data"
      ]
    },
    {
      "cell_type": "markdown",
      "metadata": {
        "id": "XGG4Lu2-KMWP"
      },
      "source": [
        "### Sandford Daily Generation Data"
      ]
    },
    {
      "cell_type": "code",
      "metadata": {
        "id": "RRL0lyDXJpUJ"
      },
      "source": [
        "# unpickle the processed daily generation dataframe\n",
        "path = '/content/drive/My Drive/3YP/data/'\n",
        "filename = 'daily_sandford_generation_data'\n",
        "infile = open(path+filename, 'rb')\n",
        "sandford_daily_df = pickle.load(infile)\n",
        "infile.close()"
      ],
      "execution_count": null,
      "outputs": []
    },
    {
      "cell_type": "code",
      "metadata": {
        "id": "EkBgsi7HK00l",
        "colab": {
          "base_uri": "https://localhost:8080/",
          "height": 411
        },
        "outputId": "bd20f0e7-2450-4319-e459-0cae74445e2b"
      },
      "source": [
        "sandford_daily_df"
      ],
      "execution_count": null,
      "outputs": [
        {
          "output_type": "execute_result",
          "data": {
            "text/html": [
              "<div>\n",
              "<style scoped>\n",
              "    .dataframe tbody tr th:only-of-type {\n",
              "        vertical-align: middle;\n",
              "    }\n",
              "\n",
              "    .dataframe tbody tr th {\n",
              "        vertical-align: top;\n",
              "    }\n",
              "\n",
              "    .dataframe thead th {\n",
              "        text-align: right;\n",
              "    }\n",
              "</style>\n",
              "<table border=\"1\" class=\"dataframe\">\n",
              "  <thead>\n",
              "    <tr style=\"text-align: right;\">\n",
              "      <th></th>\n",
              "      <th>Reading Date</th>\n",
              "      <th>Incremental Reading</th>\n",
              "      <th>Meter Reading</th>\n",
              "    </tr>\n",
              "  </thead>\n",
              "  <tbody>\n",
              "    <tr>\n",
              "      <th>0</th>\n",
              "      <td>2019-10-22</td>\n",
              "      <td>1284.10</td>\n",
              "      <td>1763145.53</td>\n",
              "    </tr>\n",
              "    <tr>\n",
              "      <th>1</th>\n",
              "      <td>2019-10-21</td>\n",
              "      <td>1175.01</td>\n",
              "      <td>1761861.43</td>\n",
              "    </tr>\n",
              "    <tr>\n",
              "      <th>2</th>\n",
              "      <td>2019-10-20</td>\n",
              "      <td>1175.01</td>\n",
              "      <td>NaN</td>\n",
              "    </tr>\n",
              "    <tr>\n",
              "      <th>3</th>\n",
              "      <td>2019-10-19</td>\n",
              "      <td>1175.01</td>\n",
              "      <td>NaN</td>\n",
              "    </tr>\n",
              "    <tr>\n",
              "      <th>4</th>\n",
              "      <td>2019-10-18</td>\n",
              "      <td>2265.09</td>\n",
              "      <td>1758336.41</td>\n",
              "    </tr>\n",
              "    <tr>\n",
              "      <th>...</th>\n",
              "      <td>...</td>\n",
              "      <td>...</td>\n",
              "      <td>...</td>\n",
              "    </tr>\n",
              "    <tr>\n",
              "      <th>364</th>\n",
              "      <td>2018-10-22</td>\n",
              "      <td>0.00</td>\n",
              "      <td>548149.91</td>\n",
              "    </tr>\n",
              "    <tr>\n",
              "      <th>365</th>\n",
              "      <td>2018-10-21</td>\n",
              "      <td>0.00</td>\n",
              "      <td>548149.91</td>\n",
              "    </tr>\n",
              "    <tr>\n",
              "      <th>366</th>\n",
              "      <td>2018-10-20</td>\n",
              "      <td>0.00</td>\n",
              "      <td>548149.91</td>\n",
              "    </tr>\n",
              "    <tr>\n",
              "      <th>367</th>\n",
              "      <td>2018-10-19</td>\n",
              "      <td>0.00</td>\n",
              "      <td>548149.91</td>\n",
              "    </tr>\n",
              "    <tr>\n",
              "      <th>368</th>\n",
              "      <td>2018-10-18</td>\n",
              "      <td>0.00</td>\n",
              "      <td>548149.91</td>\n",
              "    </tr>\n",
              "  </tbody>\n",
              "</table>\n",
              "<p>369 rows × 3 columns</p>\n",
              "</div>"
            ],
            "text/plain": [
              "    Reading Date  Incremental Reading  Meter Reading\n",
              "0     2019-10-22              1284.10     1763145.53\n",
              "1     2019-10-21              1175.01     1761861.43\n",
              "2     2019-10-20              1175.01            NaN\n",
              "3     2019-10-19              1175.01            NaN\n",
              "4     2019-10-18              2265.09     1758336.41\n",
              "..           ...                  ...            ...\n",
              "364   2018-10-22                 0.00      548149.91\n",
              "365   2018-10-21                 0.00      548149.91\n",
              "366   2018-10-20                 0.00      548149.91\n",
              "367   2018-10-19                 0.00      548149.91\n",
              "368   2018-10-18                 0.00      548149.91\n",
              "\n",
              "[369 rows x 3 columns]"
            ]
          },
          "metadata": {
            "tags": []
          },
          "execution_count": 24
        }
      ]
    },
    {
      "cell_type": "markdown",
      "metadata": {
        "id": "HcTxiex6K2Zj"
      },
      "source": [
        "### Upstream Precipitation Data"
      ]
    },
    {
      "cell_type": "code",
      "metadata": {
        "id": "4SC0kYnnK4Iu"
      },
      "source": [
        "# unpickle the processed daily generation dataframe\n",
        "path = '/content/drive/My Drive/3YP/data/met_office/'\n",
        "filename = 'precip_2242_upstream3_met_daily'\n",
        "infile = open(path+filename, 'rb')\n",
        "upstream_precip_daily_df = pickle.load(infile)\n",
        "infile.close()"
      ],
      "execution_count": null,
      "outputs": []
    },
    {
      "cell_type": "code",
      "metadata": {
        "colab": {
          "base_uri": "https://localhost:8080/",
          "height": 411
        },
        "id": "r7vjOaCEghVP",
        "outputId": "a72b607d-1962-48cf-e52e-a1cdda1c9d93"
      },
      "source": [
        "upstream_precip_daily_df"
      ],
      "execution_count": null,
      "outputs": [
        {
          "output_type": "execute_result",
          "data": {
            "text/html": [
              "<div>\n",
              "<style scoped>\n",
              "    .dataframe tbody tr th:only-of-type {\n",
              "        vertical-align: middle;\n",
              "    }\n",
              "\n",
              "    .dataframe tbody tr th {\n",
              "        vertical-align: top;\n",
              "    }\n",
              "\n",
              "    .dataframe thead th {\n",
              "        text-align: right;\n",
              "    }\n",
              "</style>\n",
              "<table border=\"1\" class=\"dataframe\">\n",
              "  <thead>\n",
              "    <tr style=\"text-align: right;\">\n",
              "      <th></th>\n",
              "      <th>Date</th>\n",
              "      <th>Precipitation</th>\n",
              "    </tr>\n",
              "  </thead>\n",
              "  <tbody>\n",
              "    <tr>\n",
              "      <th>0</th>\n",
              "      <td>1980-12-01</td>\n",
              "      <td>0.034366</td>\n",
              "    </tr>\n",
              "    <tr>\n",
              "      <th>1</th>\n",
              "      <td>1980-12-02</td>\n",
              "      <td>0.705222</td>\n",
              "    </tr>\n",
              "    <tr>\n",
              "      <th>2</th>\n",
              "      <td>1980-12-03</td>\n",
              "      <td>2.868936</td>\n",
              "    </tr>\n",
              "    <tr>\n",
              "      <th>3</th>\n",
              "      <td>1980-12-04</td>\n",
              "      <td>0.157865</td>\n",
              "    </tr>\n",
              "    <tr>\n",
              "      <th>4</th>\n",
              "      <td>1980-12-05</td>\n",
              "      <td>1.123900</td>\n",
              "    </tr>\n",
              "    <tr>\n",
              "      <th>...</th>\n",
              "      <td>...</td>\n",
              "      <td>...</td>\n",
              "    </tr>\n",
              "    <tr>\n",
              "      <th>25225</th>\n",
              "      <td>2050-12-26</td>\n",
              "      <td>0.002720</td>\n",
              "    </tr>\n",
              "    <tr>\n",
              "      <th>25226</th>\n",
              "      <td>2050-12-27</td>\n",
              "      <td>6.750660</td>\n",
              "    </tr>\n",
              "    <tr>\n",
              "      <th>25227</th>\n",
              "      <td>2050-12-28</td>\n",
              "      <td>3.676629</td>\n",
              "    </tr>\n",
              "    <tr>\n",
              "      <th>25228</th>\n",
              "      <td>2050-12-29</td>\n",
              "      <td>0.092938</td>\n",
              "    </tr>\n",
              "    <tr>\n",
              "      <th>25229</th>\n",
              "      <td>2050-12-30</td>\n",
              "      <td>0.029777</td>\n",
              "    </tr>\n",
              "  </tbody>\n",
              "</table>\n",
              "<p>25107 rows × 2 columns</p>\n",
              "</div>"
            ],
            "text/plain": [
              "            Date  Precipitation\n",
              "0     1980-12-01       0.034366\n",
              "1     1980-12-02       0.705222\n",
              "2     1980-12-03       2.868936\n",
              "3     1980-12-04       0.157865\n",
              "4     1980-12-05       1.123900\n",
              "...          ...            ...\n",
              "25225 2050-12-26       0.002720\n",
              "25226 2050-12-27       6.750660\n",
              "25227 2050-12-28       3.676629\n",
              "25228 2050-12-29       0.092938\n",
              "25229 2050-12-30       0.029777\n",
              "\n",
              "[25107 rows x 2 columns]"
            ]
          },
          "metadata": {
            "tags": []
          },
          "execution_count": 6
        }
      ]
    },
    {
      "cell_type": "code",
      "metadata": {
        "id": "uf8LGl0xgjpk"
      },
      "source": [
        "# define a mask to extract the rows from upstream precip_daily_df which have the same date as the generation data\n",
        "# format of mask: YYYY-MM-DD\n",
        "upstream_mask_start = pd.to_datetime(min(sandford_daily_df['Reading Date']))\n",
        "upstream_mask_end = pd.to_datetime(max(sandford_daily_df['Reading Date']))"
      ],
      "execution_count": null,
      "outputs": []
    },
    {
      "cell_type": "code",
      "metadata": {
        "id": "hacpCBpXhR2d"
      },
      "source": [
        "upstream_mask = (upstream_precip_daily_df['Date'] >= upstream_mask_start) & (upstream_precip_daily_df['Date'] <= upstream_mask_end)\n",
        "\n",
        "# extract the rows from the dataframe by using the mask\n",
        "upstream_extracted_df = upstream_precip_daily_df.loc[upstream_mask]"
      ],
      "execution_count": null,
      "outputs": []
    },
    {
      "cell_type": "code",
      "metadata": {
        "colab": {
          "base_uri": "https://localhost:8080/",
          "height": 411
        },
        "id": "QdVyQ_jai_q7",
        "outputId": "0a13457b-910e-45d0-add4-5fbc760ac060"
      },
      "source": [
        "upstream_extracted_df"
      ],
      "execution_count": null,
      "outputs": [
        {
          "output_type": "execute_result",
          "data": {
            "text/html": [
              "<div>\n",
              "<style scoped>\n",
              "    .dataframe tbody tr th:only-of-type {\n",
              "        vertical-align: middle;\n",
              "    }\n",
              "\n",
              "    .dataframe tbody tr th {\n",
              "        vertical-align: top;\n",
              "    }\n",
              "\n",
              "    .dataframe thead th {\n",
              "        text-align: right;\n",
              "    }\n",
              "</style>\n",
              "<table border=\"1\" class=\"dataframe\">\n",
              "  <thead>\n",
              "    <tr style=\"text-align: right;\">\n",
              "      <th></th>\n",
              "      <th>Date</th>\n",
              "      <th>Precipitation</th>\n",
              "    </tr>\n",
              "  </thead>\n",
              "  <tbody>\n",
              "    <tr>\n",
              "      <th>13637</th>\n",
              "      <td>2018-10-18</td>\n",
              "      <td>0.247176</td>\n",
              "    </tr>\n",
              "    <tr>\n",
              "      <th>13638</th>\n",
              "      <td>2018-10-19</td>\n",
              "      <td>0.010691</td>\n",
              "    </tr>\n",
              "    <tr>\n",
              "      <th>13639</th>\n",
              "      <td>2018-10-20</td>\n",
              "      <td>2.439899</td>\n",
              "    </tr>\n",
              "    <tr>\n",
              "      <th>13640</th>\n",
              "      <td>2018-10-21</td>\n",
              "      <td>0.448772</td>\n",
              "    </tr>\n",
              "    <tr>\n",
              "      <th>13641</th>\n",
              "      <td>2018-10-22</td>\n",
              "      <td>1.939366</td>\n",
              "    </tr>\n",
              "    <tr>\n",
              "      <th>...</th>\n",
              "      <td>...</td>\n",
              "      <td>...</td>\n",
              "    </tr>\n",
              "    <tr>\n",
              "      <th>13997</th>\n",
              "      <td>2019-10-18</td>\n",
              "      <td>0.322296</td>\n",
              "    </tr>\n",
              "    <tr>\n",
              "      <th>13998</th>\n",
              "      <td>2019-10-19</td>\n",
              "      <td>0.001850</td>\n",
              "    </tr>\n",
              "    <tr>\n",
              "      <th>13999</th>\n",
              "      <td>2019-10-20</td>\n",
              "      <td>0.046937</td>\n",
              "    </tr>\n",
              "    <tr>\n",
              "      <th>14000</th>\n",
              "      <td>2019-10-21</td>\n",
              "      <td>5.507039</td>\n",
              "    </tr>\n",
              "    <tr>\n",
              "      <th>14001</th>\n",
              "      <td>2019-10-22</td>\n",
              "      <td>5.859053</td>\n",
              "    </tr>\n",
              "  </tbody>\n",
              "</table>\n",
              "<p>363 rows × 2 columns</p>\n",
              "</div>"
            ],
            "text/plain": [
              "            Date  Precipitation\n",
              "13637 2018-10-18       0.247176\n",
              "13638 2018-10-19       0.010691\n",
              "13639 2018-10-20       2.439899\n",
              "13640 2018-10-21       0.448772\n",
              "13641 2018-10-22       1.939366\n",
              "...          ...            ...\n",
              "13997 2019-10-18       0.322296\n",
              "13998 2019-10-19       0.001850\n",
              "13999 2019-10-20       0.046937\n",
              "14000 2019-10-21       5.507039\n",
              "14001 2019-10-22       5.859053\n",
              "\n",
              "[363 rows x 2 columns]"
            ]
          },
          "metadata": {
            "tags": []
          },
          "execution_count": 27
        }
      ]
    },
    {
      "cell_type": "markdown",
      "metadata": {
        "id": "A5uhi-FhmKsU"
      },
      "source": [
        "we notice that `upstream_extracted_df` is shorter than `sandford_daily_df`, so we need to remove those dates not in the precipitation data"
      ]
    },
    {
      "cell_type": "code",
      "metadata": {
        "colab": {
          "base_uri": "https://localhost:8080/"
        },
        "id": "s5EcOqxQm0mV",
        "outputId": "837a6b6e-9b71-4c52-c068-6e594ff214f6"
      },
      "source": [
        "len(upstream_extracted_df['Date']), len(sandford_daily_df['Reading Date'])"
      ],
      "execution_count": null,
      "outputs": [
        {
          "output_type": "execute_result",
          "data": {
            "text/plain": [
              "(363, 369)"
            ]
          },
          "metadata": {
            "tags": []
          },
          "execution_count": 28
        }
      ]
    },
    {
      "cell_type": "code",
      "metadata": {
        "colab": {
          "base_uri": "https://localhost:8080/"
        },
        "id": "eWSRnGRnmJl4",
        "outputId": "2c89f386-26ef-4bdd-c6ce-31f1e4706c32"
      },
      "source": [
        "dates_to_remove = set(sandford_daily_df['Reading Date']) - set(upstream_extracted_df['Date'])\n",
        "dates_to_remove"
      ],
      "execution_count": null,
      "outputs": [
        {
          "output_type": "execute_result",
          "data": {
            "text/plain": [
              "{Timestamp('2018-10-31 00:00:00'),\n",
              " Timestamp('2018-12-31 00:00:00'),\n",
              " Timestamp('2019-01-31 00:00:00'),\n",
              " Timestamp('2019-03-31 00:00:00'),\n",
              " Timestamp('2019-05-31 00:00:00'),\n",
              " Timestamp('2019-07-31 00:00:00'),\n",
              " Timestamp('2019-08-31 00:00:00')}"
            ]
          },
          "metadata": {
            "tags": []
          },
          "execution_count": 29
        }
      ]
    },
    {
      "cell_type": "code",
      "metadata": {
        "id": "Grtf2qI2mkjE"
      },
      "source": [
        "# iterating through the list of dates and removing them\n",
        "sandford_daily_reduced = sandford_daily_df\n",
        "for i in dates_to_remove:\n",
        "  sandford_daily_reduced = sandford_daily_reduced[sandford_daily_reduced['Reading Date'] != i]"
      ],
      "execution_count": null,
      "outputs": []
    },
    {
      "cell_type": "code",
      "metadata": {
        "colab": {
          "base_uri": "https://localhost:8080/"
        },
        "id": "NlwTZN9OnErB",
        "outputId": "2aa4b66b-f44e-4577-8992-360640002213"
      },
      "source": [
        "# there is a date in the precipitation data that isn't in the generation data and therefore needs to be removed\n",
        "dates_to_remove_pt2 = set(upstream_extracted_df['Date']) - set(sandford_daily_reduced['Reading Date'])\n",
        "dates_to_remove_pt2"
      ],
      "execution_count": null,
      "outputs": [
        {
          "output_type": "execute_result",
          "data": {
            "text/plain": [
              "{Timestamp('2019-06-01 00:00:00')}"
            ]
          },
          "metadata": {
            "tags": []
          },
          "execution_count": 31
        }
      ]
    },
    {
      "cell_type": "code",
      "metadata": {
        "id": "TOziCuidnF1R"
      },
      "source": [
        "upstream_reduced = upstream_extracted_df[upstream_extracted_df['Date'] != list(dates_to_remove_pt2)[0]]"
      ],
      "execution_count": null,
      "outputs": []
    },
    {
      "cell_type": "markdown",
      "metadata": {
        "id": "7Wq9zmBnntu4"
      },
      "source": [
        "We now have two dataframes of length 362:\n",
        "- `upstream_reduced`\n",
        "- `sandford_daily_reduced`"
      ]
    },
    {
      "cell_type": "code",
      "metadata": {
        "colab": {
          "base_uri": "https://localhost:8080/",
          "height": 411
        },
        "id": "XljgtydMn2A_",
        "outputId": "68975ab4-ae96-46fb-d66f-1ba72b9c0779"
      },
      "source": [
        "upstream_reduced.reset_index(drop=True)"
      ],
      "execution_count": null,
      "outputs": [
        {
          "output_type": "execute_result",
          "data": {
            "text/html": [
              "<div>\n",
              "<style scoped>\n",
              "    .dataframe tbody tr th:only-of-type {\n",
              "        vertical-align: middle;\n",
              "    }\n",
              "\n",
              "    .dataframe tbody tr th {\n",
              "        vertical-align: top;\n",
              "    }\n",
              "\n",
              "    .dataframe thead th {\n",
              "        text-align: right;\n",
              "    }\n",
              "</style>\n",
              "<table border=\"1\" class=\"dataframe\">\n",
              "  <thead>\n",
              "    <tr style=\"text-align: right;\">\n",
              "      <th></th>\n",
              "      <th>Date</th>\n",
              "      <th>Precipitation</th>\n",
              "    </tr>\n",
              "  </thead>\n",
              "  <tbody>\n",
              "    <tr>\n",
              "      <th>0</th>\n",
              "      <td>2018-10-18</td>\n",
              "      <td>0.247176</td>\n",
              "    </tr>\n",
              "    <tr>\n",
              "      <th>1</th>\n",
              "      <td>2018-10-19</td>\n",
              "      <td>0.010691</td>\n",
              "    </tr>\n",
              "    <tr>\n",
              "      <th>2</th>\n",
              "      <td>2018-10-20</td>\n",
              "      <td>2.439899</td>\n",
              "    </tr>\n",
              "    <tr>\n",
              "      <th>3</th>\n",
              "      <td>2018-10-21</td>\n",
              "      <td>0.448772</td>\n",
              "    </tr>\n",
              "    <tr>\n",
              "      <th>4</th>\n",
              "      <td>2018-10-22</td>\n",
              "      <td>1.939366</td>\n",
              "    </tr>\n",
              "    <tr>\n",
              "      <th>...</th>\n",
              "      <td>...</td>\n",
              "      <td>...</td>\n",
              "    </tr>\n",
              "    <tr>\n",
              "      <th>357</th>\n",
              "      <td>2019-10-18</td>\n",
              "      <td>0.322296</td>\n",
              "    </tr>\n",
              "    <tr>\n",
              "      <th>358</th>\n",
              "      <td>2019-10-19</td>\n",
              "      <td>0.001850</td>\n",
              "    </tr>\n",
              "    <tr>\n",
              "      <th>359</th>\n",
              "      <td>2019-10-20</td>\n",
              "      <td>0.046937</td>\n",
              "    </tr>\n",
              "    <tr>\n",
              "      <th>360</th>\n",
              "      <td>2019-10-21</td>\n",
              "      <td>5.507039</td>\n",
              "    </tr>\n",
              "    <tr>\n",
              "      <th>361</th>\n",
              "      <td>2019-10-22</td>\n",
              "      <td>5.859053</td>\n",
              "    </tr>\n",
              "  </tbody>\n",
              "</table>\n",
              "<p>362 rows × 2 columns</p>\n",
              "</div>"
            ],
            "text/plain": [
              "          Date  Precipitation\n",
              "0   2018-10-18       0.247176\n",
              "1   2018-10-19       0.010691\n",
              "2   2018-10-20       2.439899\n",
              "3   2018-10-21       0.448772\n",
              "4   2018-10-22       1.939366\n",
              "..         ...            ...\n",
              "357 2019-10-18       0.322296\n",
              "358 2019-10-19       0.001850\n",
              "359 2019-10-20       0.046937\n",
              "360 2019-10-21       5.507039\n",
              "361 2019-10-22       5.859053\n",
              "\n",
              "[362 rows x 2 columns]"
            ]
          },
          "metadata": {
            "tags": []
          },
          "execution_count": 33
        }
      ]
    },
    {
      "cell_type": "markdown",
      "metadata": {
        "id": "k7ae2J4AK5Kx"
      },
      "source": [
        "## Temporal Cross-Correlation Analysis"
      ]
    },
    {
      "cell_type": "markdown",
      "metadata": {
        "id": "ddRLOTV9MpfF"
      },
      "source": [
        "This code was obtained from: https://towardsdatascience.com/four-ways-to-quantify-synchrony-between-time-series-data-b99136c4a9c9"
      ]
    },
    {
      "cell_type": "code",
      "metadata": {
        "id": "Xptom-EcK4-M"
      },
      "source": [
        "# define this function to find the temporal cross correlation\n",
        "def crosscorr(datax, datay, lag=0, wrap=False):\n",
        "    \"\"\" Lag-N cross correlation. \n",
        "    Shifted data filled with NaNs \n",
        "    \n",
        "    Parameters\n",
        "    ----------\n",
        "    lag : int, default 0\n",
        "    datax, datay : pandas.Series objects of equal length\n",
        "    Returns\n",
        "    ----------\n",
        "    crosscorr : float\n",
        "    \"\"\"\n",
        "    if wrap:\n",
        "        shiftedy = datay.shift(lag)\n",
        "        shiftedy.iloc[:lag] = datay.iloc[-lag:].values\n",
        "        return datax.corr(shiftedy)\n",
        "    else: \n",
        "        return datax.corr(datay.shift(lag))"
      ],
      "execution_count": null,
      "outputs": []
    },
    {
      "cell_type": "markdown",
      "metadata": {
        "id": "Y1ixf9Vclns-"
      },
      "source": [
        "The code below was obtained from: https://stackoverflow.com/questions/33171413/cross-correlation-time-lag-correlation-with-pandas"
      ]
    },
    {
      "cell_type": "code",
      "metadata": {
        "id": "V_QE2uHGlltw"
      },
      "source": [
        "def crosscorr2(datax, datay, lag=0):\n",
        "    \"\"\" Lag-N cross correlation. \n",
        "    Parameters\n",
        "    ----------\n",
        "    lag : int, default 0\n",
        "    datax, datay : pandas.Series objects of equal length\n",
        "\n",
        "    Returns\n",
        "    ----------\n",
        "    crosscorr : float\n",
        "    \"\"\"\n",
        "    return datax.corr(datay.shift(lag))"
      ],
      "execution_count": null,
      "outputs": []
    },
    {
      "cell_type": "code",
      "metadata": {
        "id": "HT5IGmJnMtu2"
      },
      "source": [
        "# defining the datasets\n",
        "d1 = sandford_daily_reduced['Incremental Reading']\n",
        "d2 = upstream_reduced['Precipitation']\n",
        "\n",
        "d1_ser = pd.Series(d1.values)\n",
        "d2_ser = pd.Series(d2.values)"
      ],
      "execution_count": null,
      "outputs": []
    },
    {
      "cell_type": "code",
      "metadata": {
        "colab": {
          "base_uri": "https://localhost:8080/"
        },
        "id": "6RpB9KT4L3R6",
        "outputId": "f86241ba-61cf-4306-fab1-b80ea26e12c6"
      },
      "source": [
        "len(d1_ser)"
      ],
      "execution_count": null,
      "outputs": [
        {
          "output_type": "execute_result",
          "data": {
            "text/plain": [
              "362"
            ]
          },
          "metadata": {
            "tags": []
          },
          "execution_count": 40
        }
      ]
    },
    {
      "cell_type": "code",
      "metadata": {
        "id": "-PfxSMI9l3MB"
      },
      "source": [
        "start_lag = -25                                                                 # define one end of the lag range\n",
        "end_lag = 25 + 1                                                                # define other end of the lag range\n",
        "lag_linspace = [i for i in range(start_lag, end_lag)]                           # define list of dates to plot in graph\n",
        "xcov_daily = [crosscorr2(d1_ser, d2_ser, lag=i) for i in range(start_lag, end_lag)]   # calculate cross-correlations as a function of lag"
      ],
      "execution_count": null,
      "outputs": []
    },
    {
      "cell_type": "code",
      "metadata": {
        "id": "cQQeszN8mAYE"
      },
      "source": [
        "#xcov_daily"
      ],
      "execution_count": null,
      "outputs": []
    },
    {
      "cell_type": "code",
      "metadata": {
        "colab": {
          "base_uri": "https://localhost:8080/",
          "height": 700
        },
        "id": "ZKp8QG0Pl9SI",
        "outputId": "d19f1250-595f-4e36-a427-be46138a4a57"
      },
      "source": [
        "# Let us plot the generation profile\n",
        "corr_fig, corr_ax = plt.subplots(figsize = (10, 10))\n",
        "corr_ax.plot(lag_linspace, xcov_daily, 'b', label = 'Cross-correlation')  \n",
        "corr_ax.axvline(lag_linspace[np.argmax(xcov_daily)], color='r', linestyle='--', label = 'Peak synchrony')           # Putting a line for peak synchrony\n",
        "corr_ax.set(title = 'Temporal Cross-correlation for Upstream Data in Grid Square 3', xlabel= 'Time Lag (days)', ylabel='Cross-correlation')\n",
        "corr_ax.legend(loc='center left', bbox_to_anchor=(1, 0.5))\n",
        "font = {'family' : 'normal',\n",
        "        'weight' : 'bold',\n",
        "        'size'   : 22}\n",
        "\n",
        "matplotlib.rc('font', **font)"
      ],
      "execution_count": null,
      "outputs": [
        {
          "output_type": "stream",
          "text": [
            "findfont: Font family ['normal'] not found. Falling back to DejaVu Sans.\n",
            "findfont: Font family ['normal'] not found. Falling back to DejaVu Sans.\n",
            "findfont: Font family ['normal'] not found. Falling back to DejaVu Sans.\n"
          ],
          "name": "stderr"
        },
        {
          "output_type": "display_data",
          "data": {
            "image/png": "[encoded data removed]",
            "text/plain": [
              "<Figure size 720x720 with 1 Axes>"
            ]
          },
          "metadata": {
            "tags": [],
            "needs_background": "light"
          }
        }
      ]
    },
    {
      "cell_type": "code",
      "metadata": {
        "id": "sytmm9QXlZfW"
      },
      "source": [
        ""
      ],
      "execution_count": null,
      "outputs": []
    }
  ]
}