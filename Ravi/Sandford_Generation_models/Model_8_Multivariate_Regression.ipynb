{
  "nbformat": 4,
  "nbformat_minor": 0,
  "metadata": {
    "colab": {
      "name": "Model_8_Multivariate_Regression.ipynb",
      "provenance": [],
      "collapsed_sections": [
        "uV82PbQFhDZ0",
        "-Xbns-uahHED",
        "0aUkABm2ySup",
        "5_eapo4bTp2v",
        "l90EbKitjIYd",
        "oXqeoNPkAvM0"
      ],
      "authorship_tag": "ABX9TyMpewuRtSRZwpvQbm73ZeX1",
      "include_colab_link": true
    },
    "kernelspec": {
      "name": "python3",
      "display_name": "Python 3"
    }
  },
  "cells": [
    {
      "cell_type": "markdown",
      "metadata": {
        "id": "view-in-github",
        "colab_type": "text"
      },
      "source": [
        "<a href=\"https://colab.research.google.com/github/themathedges/3YP-Standalone-Kennington/blob/main/Ravi/Sandford_Generation_models/Model_8_Multivariate_Regression.ipynb\" target=\"_parent\"><img src=\"https://colab.research.google.com/assets/colab-badge.svg\" alt=\"Open In Colab\"/></a>"
      ]
    },
    {
      "cell_type": "markdown",
      "metadata": {
        "id": "G-Rwo1ZObTcd"
      },
      "source": [
        "# Model 8: Multivariate Regression (Daily)"
      ]
    },
    {
      "cell_type": "markdown",
      "metadata": {
        "id": "Z1sMmM5NbPyV"
      },
      "source": [
        "**Author:** Ravi Kohli\n",
        "\n",
        "**Date:** January 13th, 2021\n",
        "\n",
        "**College:** Christ Church"
      ]
    },
    {
      "cell_type": "markdown",
      "metadata": {
        "id": "vLN4P4QAb8FJ"
      },
      "source": [
        "**Goal:**\n",
        "- To make a very simple multivariate linear regression monthly model to forecast the future generation profile of Sandford Hydro\n",
        "- We will use the variables: precipitation and snowfall"
      ]
    },
    {
      "cell_type": "code",
      "metadata": {
        "colab": {
          "base_uri": "https://localhost:8080/"
        },
        "id": "hK_NM4gRbMei",
        "outputId": "110c65de-80bd-40c9-d2c8-b4ef0007f601"
      },
      "source": [
        "# Mounting the Google Drive\n",
        "from google.colab import drive\n",
        "drive.mount('/content/drive')"
      ],
      "execution_count": null,
      "outputs": [
        {
          "output_type": "stream",
          "text": [
            "Drive already mounted at /content/drive; to attempt to forcibly remount, call drive.mount(\"/content/drive\", force_remount=True).\n"
          ],
          "name": "stdout"
        }
      ]
    },
    {
      "cell_type": "code",
      "metadata": {
        "id": "A7p3DYTEcLh3"
      },
      "source": [
        "# import the modules\n",
        "import numpy as np\n",
        "import pandas as pd\n",
        "from pandas import Timestamp\n",
        "import datetime\n",
        "import matplotlib\n",
        "import matplotlib.pyplot as plt\n",
        "import matplotlib.dates as mdates\n",
        "from scipy.stats import pearsonr\n",
        "import pickle\n",
        "from sklearn.linear_model import LinearRegression\n",
        "from sklearn.preprocessing import StandardScaler"
      ],
      "execution_count": null,
      "outputs": []
    },
    {
      "cell_type": "markdown",
      "metadata": {
        "id": "WQPcrL_scZBm"
      },
      "source": [
        "## Collecting the Data"
      ]
    },
    {
      "cell_type": "markdown",
      "metadata": {
        "id": "uV82PbQFhDZ0"
      },
      "source": [
        "### Defining the Mask"
      ]
    },
    {
      "cell_type": "code",
      "metadata": {
        "id": "rA7kQPFXef5Y"
      },
      "source": [
        "# extract the rows that we want by using a mask\n",
        "# format of mask: YYYY-MM-DD\n",
        "model_8_current_mask_start = pd.to_datetime('2018-12-01')\n",
        "model_8_current_mask_end = pd.to_datetime('2019-10-22')"
      ],
      "execution_count": null,
      "outputs": []
    },
    {
      "cell_type": "markdown",
      "metadata": {
        "id": "AyPbqnm_ccL6"
      },
      "source": [
        "### Daily Current Generation"
      ]
    },
    {
      "cell_type": "code",
      "metadata": {
        "id": "UfXYWnP1d2M2"
      },
      "source": [
        "# unpickle the processed daily generation dataframe\n",
        "path = '/content/drive/My Drive/3YP/data/'\n",
        "filename = 'daily_sandford_generation_data'\n",
        "infile = open(path+filename, 'rb')\n",
        "sandford_daily_df = pickle.load(infile)\n",
        "infile.close()"
      ],
      "execution_count": null,
      "outputs": []
    },
    {
      "cell_type": "code",
      "metadata": {
        "colab": {
          "base_uri": "https://localhost:8080/",
          "height": 411
        },
        "id": "i6BQg67Q5vGj",
        "outputId": "df788c5a-8cab-4860-9bf4-8e8a65d54bab"
      },
      "source": [
        "sandford_daily_df"
      ],
      "execution_count": null,
      "outputs": [
        {
          "output_type": "execute_result",
          "data": {
            "text/html": [
              "<div>\n",
              "<style scoped>\n",
              "    .dataframe tbody tr th:only-of-type {\n",
              "        vertical-align: middle;\n",
              "    }\n",
              "\n",
              "    .dataframe tbody tr th {\n",
              "        vertical-align: top;\n",
              "    }\n",
              "\n",
              "    .dataframe thead th {\n",
              "        text-align: right;\n",
              "    }\n",
              "</style>\n",
              "<table border=\"1\" class=\"dataframe\">\n",
              "  <thead>\n",
              "    <tr style=\"text-align: right;\">\n",
              "      <th></th>\n",
              "      <th>Reading Date</th>\n",
              "      <th>Incremental Reading</th>\n",
              "      <th>Meter Reading</th>\n",
              "    </tr>\n",
              "  </thead>\n",
              "  <tbody>\n",
              "    <tr>\n",
              "      <th>0</th>\n",
              "      <td>2019-10-22</td>\n",
              "      <td>1284.10</td>\n",
              "      <td>1763145.53</td>\n",
              "    </tr>\n",
              "    <tr>\n",
              "      <th>1</th>\n",
              "      <td>2019-10-21</td>\n",
              "      <td>1175.01</td>\n",
              "      <td>1761861.43</td>\n",
              "    </tr>\n",
              "    <tr>\n",
              "      <th>2</th>\n",
              "      <td>2019-10-20</td>\n",
              "      <td>1175.01</td>\n",
              "      <td>NaN</td>\n",
              "    </tr>\n",
              "    <tr>\n",
              "      <th>3</th>\n",
              "      <td>2019-10-19</td>\n",
              "      <td>1175.01</td>\n",
              "      <td>NaN</td>\n",
              "    </tr>\n",
              "    <tr>\n",
              "      <th>4</th>\n",
              "      <td>2019-10-18</td>\n",
              "      <td>2265.09</td>\n",
              "      <td>1758336.41</td>\n",
              "    </tr>\n",
              "    <tr>\n",
              "      <th>...</th>\n",
              "      <td>...</td>\n",
              "      <td>...</td>\n",
              "      <td>...</td>\n",
              "    </tr>\n",
              "    <tr>\n",
              "      <th>364</th>\n",
              "      <td>2018-10-22</td>\n",
              "      <td>0.00</td>\n",
              "      <td>548149.91</td>\n",
              "    </tr>\n",
              "    <tr>\n",
              "      <th>365</th>\n",
              "      <td>2018-10-21</td>\n",
              "      <td>0.00</td>\n",
              "      <td>548149.91</td>\n",
              "    </tr>\n",
              "    <tr>\n",
              "      <th>366</th>\n",
              "      <td>2018-10-20</td>\n",
              "      <td>0.00</td>\n",
              "      <td>548149.91</td>\n",
              "    </tr>\n",
              "    <tr>\n",
              "      <th>367</th>\n",
              "      <td>2018-10-19</td>\n",
              "      <td>0.00</td>\n",
              "      <td>548149.91</td>\n",
              "    </tr>\n",
              "    <tr>\n",
              "      <th>368</th>\n",
              "      <td>2018-10-18</td>\n",
              "      <td>0.00</td>\n",
              "      <td>548149.91</td>\n",
              "    </tr>\n",
              "  </tbody>\n",
              "</table>\n",
              "<p>369 rows × 3 columns</p>\n",
              "</div>"
            ],
            "text/plain": [
              "    Reading Date  Incremental Reading  Meter Reading\n",
              "0     2019-10-22              1284.10     1763145.53\n",
              "1     2019-10-21              1175.01     1761861.43\n",
              "2     2019-10-20              1175.01            NaN\n",
              "3     2019-10-19              1175.01            NaN\n",
              "4     2019-10-18              2265.09     1758336.41\n",
              "..           ...                  ...            ...\n",
              "364   2018-10-22                 0.00      548149.91\n",
              "365   2018-10-21                 0.00      548149.91\n",
              "366   2018-10-20                 0.00      548149.91\n",
              "367   2018-10-19                 0.00      548149.91\n",
              "368   2018-10-18                 0.00      548149.91\n",
              "\n",
              "[369 rows x 3 columns]"
            ]
          },
          "metadata": {
            "tags": []
          },
          "execution_count": 5
        }
      ]
    },
    {
      "cell_type": "code",
      "metadata": {
        "id": "xvsjLXow_oVu"
      },
      "source": [
        "model_8_gen_current_mask = (sandford_daily_df['Reading Date'] >= model_8_current_mask_start) & (sandford_daily_df['Reading Date'] <= model_8_current_mask_end)\n",
        "\n",
        "# extract the rows from the dataframe by using the mask\n",
        "sandford_gen_df = sandford_daily_df.loc[model_8_gen_current_mask]"
      ],
      "execution_count": null,
      "outputs": []
    },
    {
      "cell_type": "code",
      "metadata": {
        "colab": {
          "base_uri": "https://localhost:8080/",
          "height": 411
        },
        "id": "0X8Fr22UAWY4",
        "outputId": "fa1ec39a-4135-4dc8-aa8c-e79d219e1a07"
      },
      "source": [
        "sandford_gen_df"
      ],
      "execution_count": null,
      "outputs": [
        {
          "output_type": "execute_result",
          "data": {
            "text/html": [
              "<div>\n",
              "<style scoped>\n",
              "    .dataframe tbody tr th:only-of-type {\n",
              "        vertical-align: middle;\n",
              "    }\n",
              "\n",
              "    .dataframe tbody tr th {\n",
              "        vertical-align: top;\n",
              "    }\n",
              "\n",
              "    .dataframe thead th {\n",
              "        text-align: right;\n",
              "    }\n",
              "</style>\n",
              "<table border=\"1\" class=\"dataframe\">\n",
              "  <thead>\n",
              "    <tr style=\"text-align: right;\">\n",
              "      <th></th>\n",
              "      <th>Reading Date</th>\n",
              "      <th>Incremental Reading</th>\n",
              "      <th>Meter Reading</th>\n",
              "    </tr>\n",
              "  </thead>\n",
              "  <tbody>\n",
              "    <tr>\n",
              "      <th>0</th>\n",
              "      <td>2019-10-22</td>\n",
              "      <td>1284.100</td>\n",
              "      <td>1763145.53</td>\n",
              "    </tr>\n",
              "    <tr>\n",
              "      <th>1</th>\n",
              "      <td>2019-10-21</td>\n",
              "      <td>1175.010</td>\n",
              "      <td>1761861.43</td>\n",
              "    </tr>\n",
              "    <tr>\n",
              "      <th>2</th>\n",
              "      <td>2019-10-20</td>\n",
              "      <td>1175.010</td>\n",
              "      <td>NaN</td>\n",
              "    </tr>\n",
              "    <tr>\n",
              "      <th>3</th>\n",
              "      <td>2019-10-19</td>\n",
              "      <td>1175.010</td>\n",
              "      <td>NaN</td>\n",
              "    </tr>\n",
              "    <tr>\n",
              "      <th>4</th>\n",
              "      <td>2019-10-18</td>\n",
              "      <td>2265.090</td>\n",
              "      <td>1758336.41</td>\n",
              "    </tr>\n",
              "    <tr>\n",
              "      <th>...</th>\n",
              "      <td>...</td>\n",
              "      <td>...</td>\n",
              "      <td>...</td>\n",
              "    </tr>\n",
              "    <tr>\n",
              "      <th>320</th>\n",
              "      <td>2018-12-05</td>\n",
              "      <td>12.493</td>\n",
              "      <td>551201.08</td>\n",
              "    </tr>\n",
              "    <tr>\n",
              "      <th>321</th>\n",
              "      <td>2018-12-04</td>\n",
              "      <td>0.000</td>\n",
              "      <td>551188.58</td>\n",
              "    </tr>\n",
              "    <tr>\n",
              "      <th>322</th>\n",
              "      <td>2018-12-03</td>\n",
              "      <td>0.000</td>\n",
              "      <td>551188.58</td>\n",
              "    </tr>\n",
              "    <tr>\n",
              "      <th>323</th>\n",
              "      <td>2018-12-02</td>\n",
              "      <td>2.765</td>\n",
              "      <td>551188.58</td>\n",
              "    </tr>\n",
              "    <tr>\n",
              "      <th>324</th>\n",
              "      <td>2018-12-01</td>\n",
              "      <td>1272.220</td>\n",
              "      <td>551185.82</td>\n",
              "    </tr>\n",
              "  </tbody>\n",
              "</table>\n",
              "<p>325 rows × 3 columns</p>\n",
              "</div>"
            ],
            "text/plain": [
              "    Reading Date  Incremental Reading  Meter Reading\n",
              "0     2019-10-22             1284.100     1763145.53\n",
              "1     2019-10-21             1175.010     1761861.43\n",
              "2     2019-10-20             1175.010            NaN\n",
              "3     2019-10-19             1175.010            NaN\n",
              "4     2019-10-18             2265.090     1758336.41\n",
              "..           ...                  ...            ...\n",
              "320   2018-12-05               12.493      551201.08\n",
              "321   2018-12-04                0.000      551188.58\n",
              "322   2018-12-03                0.000      551188.58\n",
              "323   2018-12-02                2.765      551188.58\n",
              "324   2018-12-01             1272.220      551185.82\n",
              "\n",
              "[325 rows x 3 columns]"
            ]
          },
          "metadata": {
            "tags": []
          },
          "execution_count": 7
        }
      ]
    },
    {
      "cell_type": "markdown",
      "metadata": {
        "id": "mKG1V32gCpp_"
      },
      "source": [
        "### Daily Temperature Data"
      ]
    },
    {
      "cell_type": "code",
      "metadata": {
        "id": "a8SoAbPvCsVv"
      },
      "source": [
        "# unpickle the temperature daily dataframe\n",
        "path = '/content/drive/My Drive/3YP/data/'\n",
        "filename = 'radcliffe_daily_temperature_data_processed'\n",
        "infile = open(path+filename, 'rb')\n",
        "temperature_daily_df = pickle.load(infile)\n",
        "infile.close()"
      ],
      "execution_count": null,
      "outputs": []
    },
    {
      "cell_type": "code",
      "metadata": {
        "id": "6px4V_DwCtDq"
      },
      "source": [
        "model_8_temp_current_mask = (temperature_daily_df['Date'] >= model_8_current_mask_start) & (temperature_daily_df['Date'] <= model_8_current_mask_end)\n",
        "\n",
        "# extract the rows from the dataframe by using the mask\n",
        "temp_current_df = temperature_daily_df.loc[model_8_temp_current_mask]"
      ],
      "execution_count": null,
      "outputs": []
    },
    {
      "cell_type": "markdown",
      "metadata": {
        "id": "-Xbns-uahHED"
      },
      "source": [
        "### Daily Precipitation (Grid square 1)"
      ]
    },
    {
      "cell_type": "code",
      "metadata": {
        "id": "7_4xRgQ_cUp4"
      },
      "source": [
        "# unpickle the current precipitation daily dataframe\n",
        "path = '/content/drive/My Drive/3YP/data/'\n",
        "filename = 'radcliffe_daily_precipitation_data_processed'\n",
        "infile = open(path+filename, 'rb')\n",
        "precipitation_daily_df = pickle.load(infile)\n",
        "infile.close()"
      ],
      "execution_count": null,
      "outputs": []
    },
    {
      "cell_type": "code",
      "metadata": {
        "id": "eGc4Ci-Shf-E"
      },
      "source": [
        "model_8_precip_current_mask = (precipitation_daily_df['Date'] >= model_8_current_mask_start) & (precipitation_daily_df['Date'] <= model_8_current_mask_end)\n",
        "\n",
        "# extract the rows from the dataframe by using the mask\n",
        "precipitation_current_df = precipitation_daily_df.loc[model_8_precip_current_mask]"
      ],
      "execution_count": null,
      "outputs": []
    },
    {
      "cell_type": "markdown",
      "metadata": {
        "id": "0aUkABm2ySup"
      },
      "source": [
        "### Upstream Daily Precipitation (Grid square 2)"
      ]
    },
    {
      "cell_type": "code",
      "metadata": {
        "id": "EgO7k-WwyhXS"
      },
      "source": [
        "# unpickle the current upstream precipitation daily dataframe\n",
        "path = '/content/drive/My Drive/3YP/data/met_office/'\n",
        "filename = 'precip_2242_upstream2_met_daily'\n",
        "infile = open(path+filename, 'rb')\n",
        "precipitation_upstream2_daily_df = pickle.load(infile)\n",
        "infile.close()"
      ],
      "execution_count": null,
      "outputs": []
    },
    {
      "cell_type": "code",
      "metadata": {
        "id": "mVyThoUfynhq"
      },
      "source": [
        "# define the lag between precipitation at the upstream location and the generation at Sandford Hydro\n",
        "upstream_2_lag = 15\n",
        "\n",
        "# define this as a datetime.timedelta so that we can subtract it from the starting date of the mask\n",
        "dt_upstream2 = datetime.timedelta(upstream_2_lag)"
      ],
      "execution_count": null,
      "outputs": []
    },
    {
      "cell_type": "code",
      "metadata": {
        "id": "bvyczSsQynMJ"
      },
      "source": [
        "model_8_precip_upstream2_current_mask = ((precipitation_upstream2_daily_df['Date'] >= (model_8_current_mask_start)) &       \n",
        "                              (precipitation_upstream2_daily_df['Date'] <= model_8_current_mask_end + dt_upstream2))\n",
        "\n",
        "# extract the rows from the dataframe by using the mask\n",
        "upstream2_current_df = precipitation_upstream2_daily_df.loc[model_8_precip_upstream2_current_mask]"
      ],
      "execution_count": null,
      "outputs": []
    },
    {
      "cell_type": "code",
      "metadata": {
        "colab": {
          "base_uri": "https://localhost:8080/"
        },
        "id": "0UmHIBI3y78D",
        "outputId": "4807deb6-012c-443d-de59-558b4eefeded"
      },
      "source": [
        "# create the new column with shifted data\n",
        "upstream2_current_df['Shifted_rain'] = upstream2_current_df['Precipitation'].shift(-upstream_2_lag) \n",
        "#upstream2_current_df['Shifted_rain'] = upstream2_current_df['Precipitation']\n",
        "\n",
        "# then drop the rows with the NaNs in it\n",
        "upstream2_current_df.dropna(inplace=True)\n",
        "\n",
        "# reset the index\n",
        "upstream2_current_df.reset_index(inplace=True, drop=True)"
      ],
      "execution_count": null,
      "outputs": [
        {
          "output_type": "stream",
          "text": [
            "/usr/local/lib/python3.6/dist-packages/ipykernel_launcher.py:2: SettingWithCopyWarning: \n",
            "A value is trying to be set on a copy of a slice from a DataFrame.\n",
            "Try using .loc[row_indexer,col_indexer] = value instead\n",
            "\n",
            "See the caveats in the documentation: https://pandas.pydata.org/pandas-docs/stable/user_guide/indexing.html#returning-a-view-versus-a-copy\n",
            "  \n",
            "/usr/local/lib/python3.6/dist-packages/ipykernel_launcher.py:6: SettingWithCopyWarning: \n",
            "A value is trying to be set on a copy of a slice from a DataFrame\n",
            "\n",
            "See the caveats in the documentation: https://pandas.pydata.org/pandas-docs/stable/user_guide/indexing.html#returning-a-view-versus-a-copy\n",
            "  \n"
          ],
          "name": "stderr"
        }
      ]
    },
    {
      "cell_type": "code",
      "metadata": {
        "colab": {
          "base_uri": "https://localhost:8080/",
          "height": 809
        },
        "id": "ZWvmEpPCfPHI",
        "outputId": "1a1d15de-63b7-4dab-b3b2-ef8a2b8849a7"
      },
      "source": [
        "upstream2_current_df.head(25)"
      ],
      "execution_count": null,
      "outputs": [
        {
          "output_type": "execute_result",
          "data": {
            "text/html": [
              "<div>\n",
              "<style scoped>\n",
              "    .dataframe tbody tr th:only-of-type {\n",
              "        vertical-align: middle;\n",
              "    }\n",
              "\n",
              "    .dataframe tbody tr th {\n",
              "        vertical-align: top;\n",
              "    }\n",
              "\n",
              "    .dataframe thead th {\n",
              "        text-align: right;\n",
              "    }\n",
              "</style>\n",
              "<table border=\"1\" class=\"dataframe\">\n",
              "  <thead>\n",
              "    <tr style=\"text-align: right;\">\n",
              "      <th></th>\n",
              "      <th>Date</th>\n",
              "      <th>Precipitation</th>\n",
              "      <th>Shifted_rain</th>\n",
              "    </tr>\n",
              "  </thead>\n",
              "  <tbody>\n",
              "    <tr>\n",
              "      <th>0</th>\n",
              "      <td>2018-12-01</td>\n",
              "      <td>0.005130</td>\n",
              "      <td>0.550614</td>\n",
              "    </tr>\n",
              "    <tr>\n",
              "      <th>1</th>\n",
              "      <td>2018-12-02</td>\n",
              "      <td>6.378123</td>\n",
              "      <td>0.102731</td>\n",
              "    </tr>\n",
              "    <tr>\n",
              "      <th>2</th>\n",
              "      <td>2018-12-03</td>\n",
              "      <td>5.639075</td>\n",
              "      <td>14.503852</td>\n",
              "    </tr>\n",
              "    <tr>\n",
              "      <th>3</th>\n",
              "      <td>2018-12-04</td>\n",
              "      <td>1.404437</td>\n",
              "      <td>2.046431</td>\n",
              "    </tr>\n",
              "    <tr>\n",
              "      <th>4</th>\n",
              "      <td>2018-12-05</td>\n",
              "      <td>0.286305</td>\n",
              "      <td>0.500534</td>\n",
              "    </tr>\n",
              "    <tr>\n",
              "      <th>5</th>\n",
              "      <td>2018-12-06</td>\n",
              "      <td>12.397127</td>\n",
              "      <td>0.101818</td>\n",
              "    </tr>\n",
              "    <tr>\n",
              "      <th>6</th>\n",
              "      <td>2018-12-07</td>\n",
              "      <td>42.307167</td>\n",
              "      <td>0.343483</td>\n",
              "    </tr>\n",
              "    <tr>\n",
              "      <th>7</th>\n",
              "      <td>2018-12-08</td>\n",
              "      <td>0.089192</td>\n",
              "      <td>0.019884</td>\n",
              "    </tr>\n",
              "    <tr>\n",
              "      <th>8</th>\n",
              "      <td>2018-12-09</td>\n",
              "      <td>0.000051</td>\n",
              "      <td>0.006645</td>\n",
              "    </tr>\n",
              "    <tr>\n",
              "      <th>9</th>\n",
              "      <td>2018-12-10</td>\n",
              "      <td>14.991931</td>\n",
              "      <td>0.006444</td>\n",
              "    </tr>\n",
              "    <tr>\n",
              "      <th>10</th>\n",
              "      <td>2018-12-11</td>\n",
              "      <td>7.780459</td>\n",
              "      <td>0.014585</td>\n",
              "    </tr>\n",
              "    <tr>\n",
              "      <th>11</th>\n",
              "      <td>2018-12-12</td>\n",
              "      <td>4.234116</td>\n",
              "      <td>0.225486</td>\n",
              "    </tr>\n",
              "    <tr>\n",
              "      <th>12</th>\n",
              "      <td>2018-12-13</td>\n",
              "      <td>10.674283</td>\n",
              "      <td>2.659261</td>\n",
              "    </tr>\n",
              "    <tr>\n",
              "      <th>13</th>\n",
              "      <td>2018-12-14</td>\n",
              "      <td>16.242731</td>\n",
              "      <td>12.542733</td>\n",
              "    </tr>\n",
              "    <tr>\n",
              "      <th>14</th>\n",
              "      <td>2018-12-15</td>\n",
              "      <td>0.062622</td>\n",
              "      <td>11.258636</td>\n",
              "    </tr>\n",
              "    <tr>\n",
              "      <th>15</th>\n",
              "      <td>2018-12-16</td>\n",
              "      <td>0.550614</td>\n",
              "      <td>0.621399</td>\n",
              "    </tr>\n",
              "    <tr>\n",
              "      <th>16</th>\n",
              "      <td>2018-12-17</td>\n",
              "      <td>0.102731</td>\n",
              "      <td>0.061337</td>\n",
              "    </tr>\n",
              "    <tr>\n",
              "      <th>17</th>\n",
              "      <td>2018-12-18</td>\n",
              "      <td>14.503852</td>\n",
              "      <td>0.004633</td>\n",
              "    </tr>\n",
              "    <tr>\n",
              "      <th>18</th>\n",
              "      <td>2018-12-19</td>\n",
              "      <td>2.046431</td>\n",
              "      <td>0.553799</td>\n",
              "    </tr>\n",
              "    <tr>\n",
              "      <th>19</th>\n",
              "      <td>2018-12-20</td>\n",
              "      <td>0.500534</td>\n",
              "      <td>1.181809</td>\n",
              "    </tr>\n",
              "    <tr>\n",
              "      <th>20</th>\n",
              "      <td>2018-12-21</td>\n",
              "      <td>0.101818</td>\n",
              "      <td>0.207121</td>\n",
              "    </tr>\n",
              "    <tr>\n",
              "      <th>21</th>\n",
              "      <td>2018-12-22</td>\n",
              "      <td>0.343483</td>\n",
              "      <td>0.813713</td>\n",
              "    </tr>\n",
              "    <tr>\n",
              "      <th>22</th>\n",
              "      <td>2018-12-23</td>\n",
              "      <td>0.019884</td>\n",
              "      <td>1.018603</td>\n",
              "    </tr>\n",
              "    <tr>\n",
              "      <th>23</th>\n",
              "      <td>2018-12-24</td>\n",
              "      <td>0.006645</td>\n",
              "      <td>0.081020</td>\n",
              "    </tr>\n",
              "    <tr>\n",
              "      <th>24</th>\n",
              "      <td>2018-12-25</td>\n",
              "      <td>0.006444</td>\n",
              "      <td>0.603875</td>\n",
              "    </tr>\n",
              "  </tbody>\n",
              "</table>\n",
              "</div>"
            ],
            "text/plain": [
              "         Date  Precipitation  Shifted_rain\n",
              "0  2018-12-01       0.005130      0.550614\n",
              "1  2018-12-02       6.378123      0.102731\n",
              "2  2018-12-03       5.639075     14.503852\n",
              "3  2018-12-04       1.404437      2.046431\n",
              "4  2018-12-05       0.286305      0.500534\n",
              "5  2018-12-06      12.397127      0.101818\n",
              "6  2018-12-07      42.307167      0.343483\n",
              "7  2018-12-08       0.089192      0.019884\n",
              "8  2018-12-09       0.000051      0.006645\n",
              "9  2018-12-10      14.991931      0.006444\n",
              "10 2018-12-11       7.780459      0.014585\n",
              "11 2018-12-12       4.234116      0.225486\n",
              "12 2018-12-13      10.674283      2.659261\n",
              "13 2018-12-14      16.242731     12.542733\n",
              "14 2018-12-15       0.062622     11.258636\n",
              "15 2018-12-16       0.550614      0.621399\n",
              "16 2018-12-17       0.102731      0.061337\n",
              "17 2018-12-18      14.503852      0.004633\n",
              "18 2018-12-19       2.046431      0.553799\n",
              "19 2018-12-20       0.500534      1.181809\n",
              "20 2018-12-21       0.101818      0.207121\n",
              "21 2018-12-22       0.343483      0.813713\n",
              "22 2018-12-23       0.019884      1.018603\n",
              "23 2018-12-24       0.006645      0.081020\n",
              "24 2018-12-25       0.006444      0.603875"
            ]
          },
          "metadata": {
            "tags": []
          },
          "execution_count": 16
        }
      ]
    },
    {
      "cell_type": "markdown",
      "metadata": {
        "id": "W49MP9KRyZK7"
      },
      "source": [
        "### Upstream Daily Precipitation (Grid square 3)"
      ]
    },
    {
      "cell_type": "code",
      "metadata": {
        "id": "slAVevXZ2l-d"
      },
      "source": [
        "# unpickle the current upstream precipitation daily dataframe\n",
        "path = '/content/drive/My Drive/3YP/data/met_office/'\n",
        "filename = 'precip_2242_upstream3_met_daily'\n",
        "infile = open(path+filename, 'rb')\n",
        "precipitation_upstream3_daily_df = pickle.load(infile)\n",
        "infile.close()"
      ],
      "execution_count": null,
      "outputs": []
    },
    {
      "cell_type": "code",
      "metadata": {
        "id": "azE11dpG2rzC"
      },
      "source": [
        "# define the lag between precipitation at the upstream location and the generation at Sandford Hydro\n",
        "upstream_3_lag = -20\n",
        "\n",
        "# define this as a datetime.timedelta so that we can subtract it from the starting date of the mask\n",
        "dt_upstream3 = datetime.timedelta(upstream_3_lag)"
      ],
      "execution_count": null,
      "outputs": []
    },
    {
      "cell_type": "code",
      "metadata": {
        "id": "DV7dDwYf2xda"
      },
      "source": [
        "model_8_precip_upstream3_current_mask = ((precipitation_upstream3_daily_df['Date'] >= (model_8_current_mask_start + dt_upstream3)) &       \n",
        "                              (precipitation_upstream3_daily_df['Date'] <= (model_8_current_mask_end)))\n",
        "\n",
        "# extract the rows from the dataframe by using the mask\n",
        "upstream3_current_df = precipitation_upstream3_daily_df.loc[model_8_precip_upstream3_current_mask]"
      ],
      "execution_count": null,
      "outputs": []
    },
    {
      "cell_type": "code",
      "metadata": {
        "id": "cBR9LvS7265z",
        "colab": {
          "base_uri": "https://localhost:8080/"
        },
        "outputId": "2a0ec4fc-13d5-4725-8fb4-1a1f89e23878"
      },
      "source": [
        "# create the new column with shifted data\n",
        "upstream3_current_df['Shifted_rain'] = upstream3_current_df['Precipitation'].shift(-upstream_3_lag) \n",
        "#upstream3_current_df['Shifted_rain'] = upstream3_current_df['Precipitation'].shift(-upstream_3_lag) \n",
        "\n",
        "# then drop the rows with the NaNs in it\n",
        "upstream3_current_df.dropna(inplace = True)\n",
        "\n",
        "# reset the index\n",
        "upstream3_current_df.reset_index(inplace=True, drop=True)"
      ],
      "execution_count": null,
      "outputs": [
        {
          "output_type": "stream",
          "text": [
            "/usr/local/lib/python3.6/dist-packages/ipykernel_launcher.py:2: SettingWithCopyWarning: \n",
            "A value is trying to be set on a copy of a slice from a DataFrame.\n",
            "Try using .loc[row_indexer,col_indexer] = value instead\n",
            "\n",
            "See the caveats in the documentation: https://pandas.pydata.org/pandas-docs/stable/user_guide/indexing.html#returning-a-view-versus-a-copy\n",
            "  \n",
            "/usr/local/lib/python3.6/dist-packages/ipykernel_launcher.py:6: SettingWithCopyWarning: \n",
            "A value is trying to be set on a copy of a slice from a DataFrame\n",
            "\n",
            "See the caveats in the documentation: https://pandas.pydata.org/pandas-docs/stable/user_guide/indexing.html#returning-a-view-versus-a-copy\n",
            "  \n"
          ],
          "name": "stderr"
        }
      ]
    },
    {
      "cell_type": "code",
      "metadata": {
        "colab": {
          "base_uri": "https://localhost:8080/",
          "height": 809
        },
        "id": "yOr61Bfsit8S",
        "outputId": "e0524c4d-133c-4210-e426-2ac214acfe01"
      },
      "source": [
        "upstream3_current_df.head(25)"
      ],
      "execution_count": null,
      "outputs": [
        {
          "output_type": "execute_result",
          "data": {
            "text/html": [
              "<div>\n",
              "<style scoped>\n",
              "    .dataframe tbody tr th:only-of-type {\n",
              "        vertical-align: middle;\n",
              "    }\n",
              "\n",
              "    .dataframe tbody tr th {\n",
              "        vertical-align: top;\n",
              "    }\n",
              "\n",
              "    .dataframe thead th {\n",
              "        text-align: right;\n",
              "    }\n",
              "</style>\n",
              "<table border=\"1\" class=\"dataframe\">\n",
              "  <thead>\n",
              "    <tr style=\"text-align: right;\">\n",
              "      <th></th>\n",
              "      <th>Date</th>\n",
              "      <th>Precipitation</th>\n",
              "      <th>Shifted_rain</th>\n",
              "    </tr>\n",
              "  </thead>\n",
              "  <tbody>\n",
              "    <tr>\n",
              "      <th>0</th>\n",
              "      <td>2018-12-01</td>\n",
              "      <td>0.005130</td>\n",
              "      <td>0.051777</td>\n",
              "    </tr>\n",
              "    <tr>\n",
              "      <th>1</th>\n",
              "      <td>2018-12-02</td>\n",
              "      <td>6.378123</td>\n",
              "      <td>11.928691</td>\n",
              "    </tr>\n",
              "    <tr>\n",
              "      <th>2</th>\n",
              "      <td>2018-12-03</td>\n",
              "      <td>5.639075</td>\n",
              "      <td>0.000438</td>\n",
              "    </tr>\n",
              "    <tr>\n",
              "      <th>3</th>\n",
              "      <td>2018-12-04</td>\n",
              "      <td>1.404437</td>\n",
              "      <td>0.601514</td>\n",
              "    </tr>\n",
              "    <tr>\n",
              "      <th>4</th>\n",
              "      <td>2018-12-05</td>\n",
              "      <td>0.286305</td>\n",
              "      <td>5.490760</td>\n",
              "    </tr>\n",
              "    <tr>\n",
              "      <th>5</th>\n",
              "      <td>2018-12-06</td>\n",
              "      <td>12.397127</td>\n",
              "      <td>4.843755</td>\n",
              "    </tr>\n",
              "    <tr>\n",
              "      <th>6</th>\n",
              "      <td>2018-12-07</td>\n",
              "      <td>42.307167</td>\n",
              "      <td>0.002106</td>\n",
              "    </tr>\n",
              "    <tr>\n",
              "      <th>7</th>\n",
              "      <td>2018-12-08</td>\n",
              "      <td>0.089192</td>\n",
              "      <td>5.114188</td>\n",
              "    </tr>\n",
              "    <tr>\n",
              "      <th>8</th>\n",
              "      <td>2018-12-09</td>\n",
              "      <td>0.000051</td>\n",
              "      <td>0.429344</td>\n",
              "    </tr>\n",
              "    <tr>\n",
              "      <th>9</th>\n",
              "      <td>2018-12-10</td>\n",
              "      <td>14.991931</td>\n",
              "      <td>0.599768</td>\n",
              "    </tr>\n",
              "    <tr>\n",
              "      <th>10</th>\n",
              "      <td>2018-12-11</td>\n",
              "      <td>7.780459</td>\n",
              "      <td>1.640199</td>\n",
              "    </tr>\n",
              "    <tr>\n",
              "      <th>11</th>\n",
              "      <td>2018-12-12</td>\n",
              "      <td>4.234116</td>\n",
              "      <td>0.202788</td>\n",
              "    </tr>\n",
              "    <tr>\n",
              "      <th>12</th>\n",
              "      <td>2018-12-13</td>\n",
              "      <td>10.674283</td>\n",
              "      <td>0.413946</td>\n",
              "    </tr>\n",
              "    <tr>\n",
              "      <th>13</th>\n",
              "      <td>2018-12-14</td>\n",
              "      <td>16.242731</td>\n",
              "      <td>6.542991</td>\n",
              "    </tr>\n",
              "    <tr>\n",
              "      <th>14</th>\n",
              "      <td>2018-12-15</td>\n",
              "      <td>0.062622</td>\n",
              "      <td>0.075080</td>\n",
              "    </tr>\n",
              "    <tr>\n",
              "      <th>15</th>\n",
              "      <td>2018-12-16</td>\n",
              "      <td>0.550614</td>\n",
              "      <td>0.736916</td>\n",
              "    </tr>\n",
              "    <tr>\n",
              "      <th>16</th>\n",
              "      <td>2018-12-17</td>\n",
              "      <td>0.102731</td>\n",
              "      <td>0.007799</td>\n",
              "    </tr>\n",
              "    <tr>\n",
              "      <th>17</th>\n",
              "      <td>2018-12-18</td>\n",
              "      <td>14.503852</td>\n",
              "      <td>8.116531</td>\n",
              "    </tr>\n",
              "    <tr>\n",
              "      <th>18</th>\n",
              "      <td>2018-12-19</td>\n",
              "      <td>2.046431</td>\n",
              "      <td>1.717733</td>\n",
              "    </tr>\n",
              "    <tr>\n",
              "      <th>19</th>\n",
              "      <td>2018-12-20</td>\n",
              "      <td>0.500534</td>\n",
              "      <td>1.417873</td>\n",
              "    </tr>\n",
              "    <tr>\n",
              "      <th>20</th>\n",
              "      <td>2018-12-21</td>\n",
              "      <td>0.101818</td>\n",
              "      <td>0.005130</td>\n",
              "    </tr>\n",
              "    <tr>\n",
              "      <th>21</th>\n",
              "      <td>2018-12-22</td>\n",
              "      <td>0.343483</td>\n",
              "      <td>6.378123</td>\n",
              "    </tr>\n",
              "    <tr>\n",
              "      <th>22</th>\n",
              "      <td>2018-12-23</td>\n",
              "      <td>0.019884</td>\n",
              "      <td>5.639075</td>\n",
              "    </tr>\n",
              "    <tr>\n",
              "      <th>23</th>\n",
              "      <td>2018-12-24</td>\n",
              "      <td>0.006645</td>\n",
              "      <td>1.404437</td>\n",
              "    </tr>\n",
              "    <tr>\n",
              "      <th>24</th>\n",
              "      <td>2018-12-25</td>\n",
              "      <td>0.006444</td>\n",
              "      <td>0.286305</td>\n",
              "    </tr>\n",
              "  </tbody>\n",
              "</table>\n",
              "</div>"
            ],
            "text/plain": [
              "         Date  Precipitation  Shifted_rain\n",
              "0  2018-12-01       0.005130      0.051777\n",
              "1  2018-12-02       6.378123     11.928691\n",
              "2  2018-12-03       5.639075      0.000438\n",
              "3  2018-12-04       1.404437      0.601514\n",
              "4  2018-12-05       0.286305      5.490760\n",
              "5  2018-12-06      12.397127      4.843755\n",
              "6  2018-12-07      42.307167      0.002106\n",
              "7  2018-12-08       0.089192      5.114188\n",
              "8  2018-12-09       0.000051      0.429344\n",
              "9  2018-12-10      14.991931      0.599768\n",
              "10 2018-12-11       7.780459      1.640199\n",
              "11 2018-12-12       4.234116      0.202788\n",
              "12 2018-12-13      10.674283      0.413946\n",
              "13 2018-12-14      16.242731      6.542991\n",
              "14 2018-12-15       0.062622      0.075080\n",
              "15 2018-12-16       0.550614      0.736916\n",
              "16 2018-12-17       0.102731      0.007799\n",
              "17 2018-12-18      14.503852      8.116531\n",
              "18 2018-12-19       2.046431      1.717733\n",
              "19 2018-12-20       0.500534      1.417873\n",
              "20 2018-12-21       0.101818      0.005130\n",
              "21 2018-12-22       0.343483      6.378123\n",
              "22 2018-12-23       0.019884      5.639075\n",
              "23 2018-12-24       0.006645      1.404437\n",
              "24 2018-12-25       0.006444      0.286305"
            ]
          },
          "metadata": {
            "tags": []
          },
          "execution_count": 21
        }
      ]
    },
    {
      "cell_type": "markdown",
      "metadata": {
        "id": "5_eapo4bTp2v"
      },
      "source": [
        "### Daily Snowfall data: current"
      ]
    },
    {
      "cell_type": "code",
      "metadata": {
        "id": "gDDAh4xbTpEa"
      },
      "source": [
        "# unpickle the snowfall daily dataframe\n",
        "path = '/content/drive/My Drive/3YP/data/met_office/'\n",
        "filename = 'snowfall_2242_met_daily'\n",
        "infile = open(path+filename, 'rb')\n",
        "snowfall_daily_df = pickle.load(infile)\n",
        "infile.close()"
      ],
      "execution_count": null,
      "outputs": []
    },
    {
      "cell_type": "code",
      "metadata": {
        "colab": {
          "base_uri": "https://localhost:8080/",
          "height": 411
        },
        "id": "5KOKt4fidk-2",
        "outputId": "d8088d94-7cb9-4e60-b614-11c627935907"
      },
      "source": [
        "snowfall_daily_df"
      ],
      "execution_count": null,
      "outputs": [
        {
          "output_type": "execute_result",
          "data": {
            "text/html": [
              "<div>\n",
              "<style scoped>\n",
              "    .dataframe tbody tr th:only-of-type {\n",
              "        vertical-align: middle;\n",
              "    }\n",
              "\n",
              "    .dataframe tbody tr th {\n",
              "        vertical-align: top;\n",
              "    }\n",
              "\n",
              "    .dataframe thead th {\n",
              "        text-align: right;\n",
              "    }\n",
              "</style>\n",
              "<table border=\"1\" class=\"dataframe\">\n",
              "  <thead>\n",
              "    <tr style=\"text-align: right;\">\n",
              "      <th></th>\n",
              "      <th>Date</th>\n",
              "      <th>Snowfall</th>\n",
              "    </tr>\n",
              "  </thead>\n",
              "  <tbody>\n",
              "    <tr>\n",
              "      <th>0</th>\n",
              "      <td>1980-12-01</td>\n",
              "      <td>0.047270</td>\n",
              "    </tr>\n",
              "    <tr>\n",
              "      <th>1</th>\n",
              "      <td>1980-12-02</td>\n",
              "      <td>0.050254</td>\n",
              "    </tr>\n",
              "    <tr>\n",
              "      <th>2</th>\n",
              "      <td>1980-12-03</td>\n",
              "      <td>1.431502</td>\n",
              "    </tr>\n",
              "    <tr>\n",
              "      <th>3</th>\n",
              "      <td>1980-12-04</td>\n",
              "      <td>0.241387</td>\n",
              "    </tr>\n",
              "    <tr>\n",
              "      <th>4</th>\n",
              "      <td>1980-12-05</td>\n",
              "      <td>0.460901</td>\n",
              "    </tr>\n",
              "    <tr>\n",
              "      <th>...</th>\n",
              "      <td>...</td>\n",
              "      <td>...</td>\n",
              "    </tr>\n",
              "    <tr>\n",
              "      <th>25225</th>\n",
              "      <td>2050-12-26</td>\n",
              "      <td>0.000000</td>\n",
              "    </tr>\n",
              "    <tr>\n",
              "      <th>25226</th>\n",
              "      <td>2050-12-27</td>\n",
              "      <td>0.000000</td>\n",
              "    </tr>\n",
              "    <tr>\n",
              "      <th>25227</th>\n",
              "      <td>2050-12-28</td>\n",
              "      <td>0.000000</td>\n",
              "    </tr>\n",
              "    <tr>\n",
              "      <th>25228</th>\n",
              "      <td>2050-12-29</td>\n",
              "      <td>0.000000</td>\n",
              "    </tr>\n",
              "    <tr>\n",
              "      <th>25229</th>\n",
              "      <td>2050-12-30</td>\n",
              "      <td>0.000000</td>\n",
              "    </tr>\n",
              "  </tbody>\n",
              "</table>\n",
              "<p>25107 rows × 2 columns</p>\n",
              "</div>"
            ],
            "text/plain": [
              "            Date  Snowfall\n",
              "0     1980-12-01  0.047270\n",
              "1     1980-12-02  0.050254\n",
              "2     1980-12-03  1.431502\n",
              "3     1980-12-04  0.241387\n",
              "4     1980-12-05  0.460901\n",
              "...          ...       ...\n",
              "25225 2050-12-26  0.000000\n",
              "25226 2050-12-27  0.000000\n",
              "25227 2050-12-28  0.000000\n",
              "25228 2050-12-29  0.000000\n",
              "25229 2050-12-30  0.000000\n",
              "\n",
              "[25107 rows x 2 columns]"
            ]
          },
          "metadata": {
            "tags": []
          },
          "execution_count": 23
        }
      ]
    },
    {
      "cell_type": "code",
      "metadata": {
        "id": "55P43Ax0Vh0z"
      },
      "source": [
        "model_8_snow_current_mask = (snowfall_daily_df['Date'] >= model_8_current_mask_start) & (snowfall_daily_df['Date'] <= model_8_current_mask_end)\n",
        "\n",
        "# extract the rows from the dataframe by using the mask\n",
        "snowfall_current = snowfall_daily_df.loc[model_8_snow_current_mask]"
      ],
      "execution_count": null,
      "outputs": []
    },
    {
      "cell_type": "code",
      "metadata": {
        "colab": {
          "base_uri": "https://localhost:8080/"
        },
        "id": "zDoju7n-dmWF",
        "outputId": "e8d4d71a-ec5b-4a3a-b336-e16a5c16156f"
      },
      "source": [
        "snowfall_current.info()"
      ],
      "execution_count": null,
      "outputs": [
        {
          "output_type": "stream",
          "text": [
            "<class 'pandas.core.frame.DataFrame'>\n",
            "Int64Index: 320 entries, 13680 to 14001\n",
            "Data columns (total 2 columns):\n",
            " #   Column    Non-Null Count  Dtype         \n",
            "---  ------    --------------  -----         \n",
            " 0   Date      320 non-null    datetime64[ns]\n",
            " 1   Snowfall  320 non-null    float64       \n",
            "dtypes: datetime64[ns](1), float64(1)\n",
            "memory usage: 7.5 KB\n"
          ],
          "name": "stdout"
        }
      ]
    },
    {
      "cell_type": "markdown",
      "metadata": {
        "id": "l90EbKitjIYd"
      },
      "source": [
        "### Future Precipitation data (grid square 1)"
      ]
    },
    {
      "cell_type": "code",
      "metadata": {
        "id": "mb_GHgM2z5xa"
      },
      "source": [
        "# unpickle the future precipitation dataframe\n",
        "path = '/content/drive/My Drive/3YP/data/met_office/'\n",
        "filename = 'precip_2242_met_daily' \n",
        "infile = open(path+filename, 'rb')\n",
        "precipitation_future_df = pickle.load(infile)\n",
        "infile.close()"
      ],
      "execution_count": null,
      "outputs": []
    },
    {
      "cell_type": "code",
      "metadata": {
        "id": "jyiXsYbf0IkV"
      },
      "source": [
        "# extract the rows that we want by using a mask\n",
        "# format of mask: YYYY-MM-DD\n",
        "model_8_future_mask_start = pd.to_datetime('2050-01-01')\n",
        "model_8_future_mask_end = pd.to_datetime('2050-12-31')"
      ],
      "execution_count": null,
      "outputs": []
    },
    {
      "cell_type": "code",
      "metadata": {
        "id": "JNo4LawF02IB"
      },
      "source": [
        "model_8_precip_future_mask = (precipitation_future_df['Date'] >= model_8_future_mask_start) & (precipitation_future_df['Date'] <= model_8_future_mask_end)\n",
        "\n",
        "# extract the rows from the dataframe by using the mask\n",
        "precipitation_future = precipitation_future_df.loc[model_8_precip_future_mask]"
      ],
      "execution_count": null,
      "outputs": []
    },
    {
      "cell_type": "code",
      "metadata": {
        "colab": {
          "base_uri": "https://localhost:8080/",
          "height": 411
        },
        "id": "zLayHqaBDt9K",
        "outputId": "e6238692-6a10-4ff2-9f3a-c6483c1498de"
      },
      "source": [
        "precipitation_future"
      ],
      "execution_count": null,
      "outputs": [
        {
          "output_type": "execute_result",
          "data": {
            "text/html": [
              "<div>\n",
              "<style scoped>\n",
              "    .dataframe tbody tr th:only-of-type {\n",
              "        vertical-align: middle;\n",
              "    }\n",
              "\n",
              "    .dataframe tbody tr th {\n",
              "        vertical-align: top;\n",
              "    }\n",
              "\n",
              "    .dataframe thead th {\n",
              "        text-align: right;\n",
              "    }\n",
              "</style>\n",
              "<table border=\"1\" class=\"dataframe\">\n",
              "  <thead>\n",
              "    <tr style=\"text-align: right;\">\n",
              "      <th></th>\n",
              "      <th>Date</th>\n",
              "      <th>Precipitation Rate</th>\n",
              "    </tr>\n",
              "  </thead>\n",
              "  <tbody>\n",
              "    <tr>\n",
              "      <th>24870</th>\n",
              "      <td>2050-01-01</td>\n",
              "      <td>10.622042</td>\n",
              "    </tr>\n",
              "    <tr>\n",
              "      <th>24871</th>\n",
              "      <td>2050-01-02</td>\n",
              "      <td>26.987028</td>\n",
              "    </tr>\n",
              "    <tr>\n",
              "      <th>24872</th>\n",
              "      <td>2050-01-03</td>\n",
              "      <td>11.353615</td>\n",
              "    </tr>\n",
              "    <tr>\n",
              "      <th>24873</th>\n",
              "      <td>2050-01-04</td>\n",
              "      <td>0.251311</td>\n",
              "    </tr>\n",
              "    <tr>\n",
              "      <th>24874</th>\n",
              "      <td>2050-01-05</td>\n",
              "      <td>1.852849</td>\n",
              "    </tr>\n",
              "    <tr>\n",
              "      <th>...</th>\n",
              "      <td>...</td>\n",
              "      <td>...</td>\n",
              "    </tr>\n",
              "    <tr>\n",
              "      <th>25225</th>\n",
              "      <td>2050-12-26</td>\n",
              "      <td>0.000615</td>\n",
              "    </tr>\n",
              "    <tr>\n",
              "      <th>25226</th>\n",
              "      <td>2050-12-27</td>\n",
              "      <td>5.991373</td>\n",
              "    </tr>\n",
              "    <tr>\n",
              "      <th>25227</th>\n",
              "      <td>2050-12-28</td>\n",
              "      <td>4.328137</td>\n",
              "    </tr>\n",
              "    <tr>\n",
              "      <th>25228</th>\n",
              "      <td>2050-12-29</td>\n",
              "      <td>0.100387</td>\n",
              "    </tr>\n",
              "    <tr>\n",
              "      <th>25229</th>\n",
              "      <td>2050-12-30</td>\n",
              "      <td>0.076974</td>\n",
              "    </tr>\n",
              "  </tbody>\n",
              "</table>\n",
              "<p>358 rows × 2 columns</p>\n",
              "</div>"
            ],
            "text/plain": [
              "            Date  Precipitation Rate\n",
              "24870 2050-01-01           10.622042\n",
              "24871 2050-01-02           26.987028\n",
              "24872 2050-01-03           11.353615\n",
              "24873 2050-01-04            0.251311\n",
              "24874 2050-01-05            1.852849\n",
              "...          ...                 ...\n",
              "25225 2050-12-26            0.000615\n",
              "25226 2050-12-27            5.991373\n",
              "25227 2050-12-28            4.328137\n",
              "25228 2050-12-29            0.100387\n",
              "25229 2050-12-30            0.076974\n",
              "\n",
              "[358 rows x 2 columns]"
            ]
          },
          "metadata": {
            "tags": []
          },
          "execution_count": 29
        }
      ]
    },
    {
      "cell_type": "markdown",
      "metadata": {
        "id": "xzhlKyHoArxk"
      },
      "source": [
        "### Future precipitation data (grid square 2)"
      ]
    },
    {
      "cell_type": "code",
      "metadata": {
        "id": "u5btrnA5A4ZH"
      },
      "source": [
        "# unpickle the future precipitation dataframe\n",
        "path = '/content/drive/My Drive/3YP/data/met_office/'\n",
        "filename = 'precip_2242_upstream2_met_daily' \n",
        "infile = open(path+filename, 'rb')\n",
        "upstream2_future_df = pickle.load(infile)\n",
        "infile.close()"
      ],
      "execution_count": null,
      "outputs": []
    },
    {
      "cell_type": "code",
      "metadata": {
        "id": "qPSgHDzDA-F3"
      },
      "source": [
        "model_8_upstream2_future_mask = (upstream2_future_df['Date'] >= (model_8_future_mask_start)) & (upstream2_future_df['Date'] <= (model_8_future_mask_end + dt_upstream2))\n",
        "\n",
        "# extract the rows from the dataframe by using the mask\n",
        "upstream2_future_extracted = upstream2_future_df.loc[model_8_upstream2_future_mask]"
      ],
      "execution_count": null,
      "outputs": []
    },
    {
      "cell_type": "code",
      "metadata": {
        "colab": {
          "base_uri": "https://localhost:8080/"
        },
        "id": "tv7TfVzvBdoA",
        "outputId": "5608b289-6b5c-4e5a-ad50-12778b40ed83"
      },
      "source": [
        "# create the new column with shifted data\n",
        "upstream2_future_extracted['Shifted_rain'] = upstream2_future_extracted['Precipitation'].shift(-upstream_2_lag) \n",
        "#upstream2_future_extracted['Shifted_rain'] = upstream2_future_extracted['Rainfall mm 1 dpl no traces'].shift(upstream_2_lag) \n",
        "\n",
        "# then drop the rows with the NaNs in it\n",
        "upstream2_future_extracted.dropna(inplace = True)\n",
        "\n",
        "# then reset the index\n",
        "upstream2_future_extracted.reset_index(inplace = True, drop = True)"
      ],
      "execution_count": null,
      "outputs": [
        {
          "output_type": "stream",
          "text": [
            "/usr/local/lib/python3.6/dist-packages/ipykernel_launcher.py:2: SettingWithCopyWarning: \n",
            "A value is trying to be set on a copy of a slice from a DataFrame.\n",
            "Try using .loc[row_indexer,col_indexer] = value instead\n",
            "\n",
            "See the caveats in the documentation: https://pandas.pydata.org/pandas-docs/stable/user_guide/indexing.html#returning-a-view-versus-a-copy\n",
            "  \n",
            "/usr/local/lib/python3.6/dist-packages/ipykernel_launcher.py:6: SettingWithCopyWarning: \n",
            "A value is trying to be set on a copy of a slice from a DataFrame\n",
            "\n",
            "See the caveats in the documentation: https://pandas.pydata.org/pandas-docs/stable/user_guide/indexing.html#returning-a-view-versus-a-copy\n",
            "  \n"
          ],
          "name": "stderr"
        }
      ]
    },
    {
      "cell_type": "code",
      "metadata": {
        "colab": {
          "base_uri": "https://localhost:8080/",
          "height": 411
        },
        "id": "k8NMyiLdeemv",
        "outputId": "e28922f7-f744-400d-b834-7eb6dba47605"
      },
      "source": [
        "upstream2_future_extracted"
      ],
      "execution_count": null,
      "outputs": [
        {
          "output_type": "execute_result",
          "data": {
            "text/html": [
              "<div>\n",
              "<style scoped>\n",
              "    .dataframe tbody tr th:only-of-type {\n",
              "        vertical-align: middle;\n",
              "    }\n",
              "\n",
              "    .dataframe tbody tr th {\n",
              "        vertical-align: top;\n",
              "    }\n",
              "\n",
              "    .dataframe thead th {\n",
              "        text-align: right;\n",
              "    }\n",
              "</style>\n",
              "<table border=\"1\" class=\"dataframe\">\n",
              "  <thead>\n",
              "    <tr style=\"text-align: right;\">\n",
              "      <th></th>\n",
              "      <th>Date</th>\n",
              "      <th>Precipitation</th>\n",
              "      <th>Shifted_rain</th>\n",
              "    </tr>\n",
              "  </thead>\n",
              "  <tbody>\n",
              "    <tr>\n",
              "      <th>0</th>\n",
              "      <td>2050-01-01</td>\n",
              "      <td>13.178119</td>\n",
              "      <td>0.787618</td>\n",
              "    </tr>\n",
              "    <tr>\n",
              "      <th>1</th>\n",
              "      <td>2050-01-02</td>\n",
              "      <td>24.076092</td>\n",
              "      <td>0.185518</td>\n",
              "    </tr>\n",
              "    <tr>\n",
              "      <th>2</th>\n",
              "      <td>2050-01-03</td>\n",
              "      <td>11.207090</td>\n",
              "      <td>0.004882</td>\n",
              "    </tr>\n",
              "    <tr>\n",
              "      <th>3</th>\n",
              "      <td>2050-01-04</td>\n",
              "      <td>0.225252</td>\n",
              "      <td>0.043175</td>\n",
              "    </tr>\n",
              "    <tr>\n",
              "      <th>4</th>\n",
              "      <td>2050-01-05</td>\n",
              "      <td>2.229849</td>\n",
              "      <td>0.107144</td>\n",
              "    </tr>\n",
              "    <tr>\n",
              "      <th>...</th>\n",
              "      <td>...</td>\n",
              "      <td>...</td>\n",
              "      <td>...</td>\n",
              "    </tr>\n",
              "    <tr>\n",
              "      <th>338</th>\n",
              "      <td>2050-12-11</td>\n",
              "      <td>3.257737</td>\n",
              "      <td>0.002720</td>\n",
              "    </tr>\n",
              "    <tr>\n",
              "      <th>339</th>\n",
              "      <td>2050-12-12</td>\n",
              "      <td>0.924931</td>\n",
              "      <td>6.750660</td>\n",
              "    </tr>\n",
              "    <tr>\n",
              "      <th>340</th>\n",
              "      <td>2050-12-13</td>\n",
              "      <td>0.268443</td>\n",
              "      <td>3.676629</td>\n",
              "    </tr>\n",
              "    <tr>\n",
              "      <th>341</th>\n",
              "      <td>2050-12-14</td>\n",
              "      <td>0.710847</td>\n",
              "      <td>0.092938</td>\n",
              "    </tr>\n",
              "    <tr>\n",
              "      <th>342</th>\n",
              "      <td>2050-12-15</td>\n",
              "      <td>0.663774</td>\n",
              "      <td>0.029777</td>\n",
              "    </tr>\n",
              "  </tbody>\n",
              "</table>\n",
              "<p>343 rows × 3 columns</p>\n",
              "</div>"
            ],
            "text/plain": [
              "          Date  Precipitation  Shifted_rain\n",
              "0   2050-01-01      13.178119      0.787618\n",
              "1   2050-01-02      24.076092      0.185518\n",
              "2   2050-01-03      11.207090      0.004882\n",
              "3   2050-01-04       0.225252      0.043175\n",
              "4   2050-01-05       2.229849      0.107144\n",
              "..         ...            ...           ...\n",
              "338 2050-12-11       3.257737      0.002720\n",
              "339 2050-12-12       0.924931      6.750660\n",
              "340 2050-12-13       0.268443      3.676629\n",
              "341 2050-12-14       0.710847      0.092938\n",
              "342 2050-12-15       0.663774      0.029777\n",
              "\n",
              "[343 rows x 3 columns]"
            ]
          },
          "metadata": {
            "tags": []
          },
          "execution_count": 33
        }
      ]
    },
    {
      "cell_type": "markdown",
      "metadata": {
        "id": "2w5WxhQXC4TU"
      },
      "source": [
        "### Future Temperature Data"
      ]
    },
    {
      "cell_type": "code",
      "metadata": {
        "id": "jREup305C6ek"
      },
      "source": [
        "# unpickle the future temperature dataframe\n",
        "path = '/content/drive/My Drive/3YP/data/met_office/'\n",
        "filename = 'temp_2242_met_daily'\n",
        "infile = open(path+filename, 'rb')\n",
        "temperature_future_df = pickle.load(infile)\n",
        "infile.close()"
      ],
      "execution_count": null,
      "outputs": []
    },
    {
      "cell_type": "code",
      "metadata": {
        "id": "vJDfQYmjC6XS",
        "colab": {
          "base_uri": "https://localhost:8080/",
          "height": 411
        },
        "outputId": "88657957-f836-497b-ac5d-d91285e10a1d"
      },
      "source": [
        "temperature_future_df"
      ],
      "execution_count": null,
      "outputs": [
        {
          "output_type": "execute_result",
          "data": {
            "text/html": [
              "<div>\n",
              "<style scoped>\n",
              "    .dataframe tbody tr th:only-of-type {\n",
              "        vertical-align: middle;\n",
              "    }\n",
              "\n",
              "    .dataframe tbody tr th {\n",
              "        vertical-align: top;\n",
              "    }\n",
              "\n",
              "    .dataframe thead th {\n",
              "        text-align: right;\n",
              "    }\n",
              "</style>\n",
              "<table border=\"1\" class=\"dataframe\">\n",
              "  <thead>\n",
              "    <tr style=\"text-align: right;\">\n",
              "      <th></th>\n",
              "      <th>Date</th>\n",
              "      <th>Temperature</th>\n",
              "    </tr>\n",
              "  </thead>\n",
              "  <tbody>\n",
              "    <tr>\n",
              "      <th>0</th>\n",
              "      <td>1980-12-01</td>\n",
              "      <td>-0.965012</td>\n",
              "    </tr>\n",
              "    <tr>\n",
              "      <th>1</th>\n",
              "      <td>1980-12-02</td>\n",
              "      <td>-0.719904</td>\n",
              "    </tr>\n",
              "    <tr>\n",
              "      <th>2</th>\n",
              "      <td>1980-12-03</td>\n",
              "      <td>0.271304</td>\n",
              "    </tr>\n",
              "    <tr>\n",
              "      <th>3</th>\n",
              "      <td>1980-12-04</td>\n",
              "      <td>-5.000383</td>\n",
              "    </tr>\n",
              "    <tr>\n",
              "      <th>4</th>\n",
              "      <td>1980-12-05</td>\n",
              "      <td>-3.902606</td>\n",
              "    </tr>\n",
              "    <tr>\n",
              "      <th>...</th>\n",
              "      <td>...</td>\n",
              "      <td>...</td>\n",
              "    </tr>\n",
              "    <tr>\n",
              "      <th>25225</th>\n",
              "      <td>2050-12-26</td>\n",
              "      <td>8.359898</td>\n",
              "    </tr>\n",
              "    <tr>\n",
              "      <th>25226</th>\n",
              "      <td>2050-12-27</td>\n",
              "      <td>8.109031</td>\n",
              "    </tr>\n",
              "    <tr>\n",
              "      <th>25227</th>\n",
              "      <td>2050-12-28</td>\n",
              "      <td>7.250457</td>\n",
              "    </tr>\n",
              "    <tr>\n",
              "      <th>25228</th>\n",
              "      <td>2050-12-29</td>\n",
              "      <td>7.026456</td>\n",
              "    </tr>\n",
              "    <tr>\n",
              "      <th>25229</th>\n",
              "      <td>2050-12-30</td>\n",
              "      <td>8.258388</td>\n",
              "    </tr>\n",
              "  </tbody>\n",
              "</table>\n",
              "<p>25107 rows × 2 columns</p>\n",
              "</div>"
            ],
            "text/plain": [
              "            Date  Temperature\n",
              "0     1980-12-01    -0.965012\n",
              "1     1980-12-02    -0.719904\n",
              "2     1980-12-03     0.271304\n",
              "3     1980-12-04    -5.000383\n",
              "4     1980-12-05    -3.902606\n",
              "...          ...          ...\n",
              "25225 2050-12-26     8.359898\n",
              "25226 2050-12-27     8.109031\n",
              "25227 2050-12-28     7.250457\n",
              "25228 2050-12-29     7.026456\n",
              "25229 2050-12-30     8.258388\n",
              "\n",
              "[25107 rows x 2 columns]"
            ]
          },
          "metadata": {
            "tags": []
          },
          "execution_count": 35
        }
      ]
    },
    {
      "cell_type": "code",
      "metadata": {
        "id": "VBgKQoFLC-fE"
      },
      "source": [
        "model_8_temp_future_mask = (temperature_future_df['Date'] >= model_8_future_mask_start) & (temperature_future_df['Date'] <= model_8_future_mask_end)\n",
        "\n",
        "# extract the rows from the dataframe by using the mask\n",
        "temperature_future = temperature_future_df.loc[model_8_temp_future_mask]"
      ],
      "execution_count": null,
      "outputs": []
    },
    {
      "cell_type": "markdown",
      "metadata": {
        "id": "oXqeoNPkAvM0"
      },
      "source": [
        "### Future precipitation data (grid square 3)"
      ]
    },
    {
      "cell_type": "code",
      "metadata": {
        "id": "X2gRs689B1if"
      },
      "source": [
        "# unpickle the future precipitation dataframe\n",
        "path = '/content/drive/My Drive/3YP/data/met_office/'\n",
        "filename = 'precip_2242_upstream3_met_daily' \n",
        "infile = open(path+filename, 'rb')\n",
        "upstream3_future_df = pickle.load(infile)\n",
        "infile.close()"
      ],
      "execution_count": null,
      "outputs": []
    },
    {
      "cell_type": "code",
      "metadata": {
        "id": "Q9jHcim2B3la"
      },
      "source": [
        "model_8_upstream3_future_mask = (upstream3_future_df['Date'] >= (model_8_future_mask_start + dt_upstream3)) & (upstream3_future_df['Date'] <= model_8_future_mask_end)\n",
        "\n",
        "# extract the rows from the dataframe by using the mask\n",
        "upstream3_future_extracted = upstream3_future_df.loc[model_8_upstream3_future_mask]"
      ],
      "execution_count": null,
      "outputs": []
    },
    {
      "cell_type": "code",
      "metadata": {
        "id": "DKdUS8lmCC4p",
        "colab": {
          "base_uri": "https://localhost:8080/"
        },
        "outputId": "6d1c1946-9d26-45c7-e904-5bd1ba9a07b6"
      },
      "source": [
        "# create the new column with shifted data\n",
        "upstream3_future_extracted['Shifted_rain'] = upstream3_future_extracted['Precipitation'].shift(-upstream_3_lag - 1) \n",
        "\n",
        "# then drop the rows with the NaNs in it\n",
        "upstream3_future_extracted.dropna(inplace = True)\n",
        "\n",
        "# then reset the index\n",
        "upstream3_future_extracted.reset_index(inplace = True, drop = True)"
      ],
      "execution_count": null,
      "outputs": [
        {
          "output_type": "stream",
          "text": [
            "/usr/local/lib/python3.6/dist-packages/ipykernel_launcher.py:2: SettingWithCopyWarning: \n",
            "A value is trying to be set on a copy of a slice from a DataFrame.\n",
            "Try using .loc[row_indexer,col_indexer] = value instead\n",
            "\n",
            "See the caveats in the documentation: https://pandas.pydata.org/pandas-docs/stable/user_guide/indexing.html#returning-a-view-versus-a-copy\n",
            "  \n",
            "/usr/local/lib/python3.6/dist-packages/ipykernel_launcher.py:5: SettingWithCopyWarning: \n",
            "A value is trying to be set on a copy of a slice from a DataFrame\n",
            "\n",
            "See the caveats in the documentation: https://pandas.pydata.org/pandas-docs/stable/user_guide/indexing.html#returning-a-view-versus-a-copy\n",
            "  \"\"\"\n"
          ],
          "name": "stderr"
        }
      ]
    },
    {
      "cell_type": "code",
      "metadata": {
        "colab": {
          "base_uri": "https://localhost:8080/",
          "height": 411
        },
        "id": "WF5ssA8-m1y2",
        "outputId": "99c46bbb-2bef-42e5-f536-d97447a53870"
      },
      "source": [
        "upstream3_future_extracted"
      ],
      "execution_count": null,
      "outputs": [
        {
          "output_type": "execute_result",
          "data": {
            "text/html": [
              "<div>\n",
              "<style scoped>\n",
              "    .dataframe tbody tr th:only-of-type {\n",
              "        vertical-align: middle;\n",
              "    }\n",
              "\n",
              "    .dataframe tbody tr th {\n",
              "        vertical-align: top;\n",
              "    }\n",
              "\n",
              "    .dataframe thead th {\n",
              "        text-align: right;\n",
              "    }\n",
              "</style>\n",
              "<table border=\"1\" class=\"dataframe\">\n",
              "  <thead>\n",
              "    <tr style=\"text-align: right;\">\n",
              "      <th></th>\n",
              "      <th>Date</th>\n",
              "      <th>Precipitation</th>\n",
              "      <th>Shifted_rain</th>\n",
              "    </tr>\n",
              "  </thead>\n",
              "  <tbody>\n",
              "    <tr>\n",
              "      <th>0</th>\n",
              "      <td>2050-01-01</td>\n",
              "      <td>13.178119</td>\n",
              "      <td>1.161428</td>\n",
              "    </tr>\n",
              "    <tr>\n",
              "      <th>1</th>\n",
              "      <td>2050-01-02</td>\n",
              "      <td>24.076092</td>\n",
              "      <td>0.026203</td>\n",
              "    </tr>\n",
              "    <tr>\n",
              "      <th>2</th>\n",
              "      <td>2050-01-03</td>\n",
              "      <td>11.207090</td>\n",
              "      <td>0.025171</td>\n",
              "    </tr>\n",
              "    <tr>\n",
              "      <th>3</th>\n",
              "      <td>2050-01-04</td>\n",
              "      <td>0.225252</td>\n",
              "      <td>6.493893</td>\n",
              "    </tr>\n",
              "    <tr>\n",
              "      <th>4</th>\n",
              "      <td>2050-01-05</td>\n",
              "      <td>2.229849</td>\n",
              "      <td>0.082891</td>\n",
              "    </tr>\n",
              "    <tr>\n",
              "      <th>...</th>\n",
              "      <td>...</td>\n",
              "      <td>...</td>\n",
              "      <td>...</td>\n",
              "    </tr>\n",
              "    <tr>\n",
              "      <th>353</th>\n",
              "      <td>2050-12-26</td>\n",
              "      <td>0.002720</td>\n",
              "      <td>0.101310</td>\n",
              "    </tr>\n",
              "    <tr>\n",
              "      <th>354</th>\n",
              "      <td>2050-12-27</td>\n",
              "      <td>6.750660</td>\n",
              "      <td>1.417610</td>\n",
              "    </tr>\n",
              "    <tr>\n",
              "      <th>355</th>\n",
              "      <td>2050-12-28</td>\n",
              "      <td>3.676629</td>\n",
              "      <td>2.695016</td>\n",
              "    </tr>\n",
              "    <tr>\n",
              "      <th>356</th>\n",
              "      <td>2050-12-29</td>\n",
              "      <td>0.092938</td>\n",
              "      <td>3.010752</td>\n",
              "    </tr>\n",
              "    <tr>\n",
              "      <th>357</th>\n",
              "      <td>2050-12-30</td>\n",
              "      <td>0.029777</td>\n",
              "      <td>3.257737</td>\n",
              "    </tr>\n",
              "  </tbody>\n",
              "</table>\n",
              "<p>358 rows × 3 columns</p>\n",
              "</div>"
            ],
            "text/plain": [
              "          Date  Precipitation  Shifted_rain\n",
              "0   2050-01-01      13.178119      1.161428\n",
              "1   2050-01-02      24.076092      0.026203\n",
              "2   2050-01-03      11.207090      0.025171\n",
              "3   2050-01-04       0.225252      6.493893\n",
              "4   2050-01-05       2.229849      0.082891\n",
              "..         ...            ...           ...\n",
              "353 2050-12-26       0.002720      0.101310\n",
              "354 2050-12-27       6.750660      1.417610\n",
              "355 2050-12-28       3.676629      2.695016\n",
              "356 2050-12-29       0.092938      3.010752\n",
              "357 2050-12-30       0.029777      3.257737\n",
              "\n",
              "[358 rows x 3 columns]"
            ]
          },
          "metadata": {
            "tags": []
          },
          "execution_count": 40
        }
      ]
    },
    {
      "cell_type": "markdown",
      "metadata": {
        "id": "s6hVJYLNY66T"
      },
      "source": [
        "### Future Snowfall data"
      ]
    },
    {
      "cell_type": "code",
      "metadata": {
        "id": "GPzyrIJCY6rM"
      },
      "source": [
        "model_8_snow_future_mask = (snowfall_daily_df['Date'] >= model_8_future_mask_start) & (snowfall_daily_df['Date'] <= model_8_future_mask_end)\n",
        "\n",
        "# extract the rows from the dataframe by using the mask\n",
        "snow_future = snowfall_daily_df.loc[model_8_snow_future_mask]"
      ],
      "execution_count": null,
      "outputs": []
    },
    {
      "cell_type": "markdown",
      "metadata": {
        "id": "VdFJBRbkcs-L"
      },
      "source": [
        "## Multivariate Regression Analysis"
      ]
    },
    {
      "cell_type": "code",
      "metadata": {
        "id": "yWqsPJ4KcwHK"
      },
      "source": [
        "model_8 = LinearRegression()"
      ],
      "execution_count": null,
      "outputs": []
    },
    {
      "cell_type": "code",
      "metadata": {
        "colab": {
          "base_uri": "https://localhost:8080/"
        },
        "id": "61OQ_zvNjZni",
        "outputId": "3ae4712e-287b-4f07-ac56-45f86cb036f8"
      },
      "source": [
        "upstream3_current_df.info()"
      ],
      "execution_count": null,
      "outputs": [
        {
          "output_type": "stream",
          "text": [
            "<class 'pandas.core.frame.DataFrame'>\n",
            "RangeIndex: 320 entries, 0 to 319\n",
            "Data columns (total 3 columns):\n",
            " #   Column         Non-Null Count  Dtype         \n",
            "---  ------         --------------  -----         \n",
            " 0   Date           320 non-null    datetime64[ns]\n",
            " 1   Precipitation  320 non-null    float64       \n",
            " 2   Shifted_rain   320 non-null    float64       \n",
            "dtypes: datetime64[ns](1), float64(2)\n",
            "memory usage: 7.6 KB\n"
          ],
          "name": "stdout"
        }
      ]
    },
    {
      "cell_type": "code",
      "metadata": {
        "id": "vY0jZ1yMfIyu"
      },
      "source": [
        "# note the indexing as we need to exclude november and start the data as december\n",
        "model_8_train_df = pd.DataFrame([precipitation_current_df['Date']]).T\n",
        "model_8_train_df['Mean_temp'] = temp_current_df['Daily Tmean °C']\n",
        "model_8_train_df['Total_precip'] = precipitation_current_df['Rainfall mm 1 dpl no traces']"
      ],
      "execution_count": null,
      "outputs": []
    },
    {
      "cell_type": "code",
      "metadata": {
        "colab": {
          "base_uri": "https://localhost:8080/"
        },
        "id": "zK4Q07BDCIoj",
        "outputId": "9eba8d38-dba2-404c-9c89-6c14e2262ad6"
      },
      "source": [
        "# define a set of dates that need to be removed from the rest of the training data sets\n",
        "dates_to_remove = set(model_8_train_df['Date']) - (set(snowfall_current['Date']))\n",
        "dates_to_remove"
      ],
      "execution_count": null,
      "outputs": [
        {
          "output_type": "execute_result",
          "data": {
            "text/plain": [
              "{Timestamp('2018-12-31 00:00:00'),\n",
              " Timestamp('2019-01-31 00:00:00'),\n",
              " Timestamp('2019-03-31 00:00:00'),\n",
              " Timestamp('2019-05-31 00:00:00'),\n",
              " Timestamp('2019-07-31 00:00:00'),\n",
              " Timestamp('2019-08-31 00:00:00')}"
            ]
          },
          "metadata": {
            "tags": []
          },
          "execution_count": 45
        }
      ]
    },
    {
      "cell_type": "code",
      "metadata": {
        "colab": {
          "base_uri": "https://localhost:8080/"
        },
        "id": "k5yltCPyBIWj",
        "outputId": "a33e7f7b-cedb-4de7-ca20-554c0fe137bb"
      },
      "source": [
        "# remove the row with the extra date from the snowfall data\n",
        "snowfall_current_removed = snowfall_current[snowfall_current['Date'] != '2019-06-01 00:00:00']\n",
        "\n",
        "# remove the row with the extra date from the training data\n",
        "model_8_train = model_8_train_df[model_8_train_df['Date'] != '2019-06-01 00:00:00']\n",
        "model_8_train['Total_daily_generation'] = sandford_gen_df['Incremental Reading'].values[::-1]"
      ],
      "execution_count": null,
      "outputs": [
        {
          "output_type": "stream",
          "text": [
            "/usr/local/lib/python3.6/dist-packages/ipykernel_launcher.py:6: SettingWithCopyWarning: \n",
            "A value is trying to be set on a copy of a slice from a DataFrame.\n",
            "Try using .loc[row_indexer,col_indexer] = value instead\n",
            "\n",
            "See the caveats in the documentation: https://pandas.pydata.org/pandas-docs/stable/user_guide/indexing.html#returning-a-view-versus-a-copy\n",
            "  \n"
          ],
          "name": "stderr"
        }
      ]
    },
    {
      "cell_type": "code",
      "metadata": {
        "id": "ITVQLJI0jhQY"
      },
      "source": [
        "# now we want to exclude the row whose date isn't in the generation data\n",
        "for i in dates_to_remove:\n",
        "  model_8_train = model_8_train[model_8_train['Date'] != i]"
      ],
      "execution_count": null,
      "outputs": []
    },
    {
      "cell_type": "code",
      "metadata": {
        "colab": {
          "base_uri": "https://localhost:8080/",
          "height": 411
        },
        "id": "4nTzmvpjnAnV",
        "outputId": "6ec0d336-a0b2-4cb1-f3fd-f7b0c240c6a9"
      },
      "source": [
        "# reset the indices to try and align them\n",
        "snowfall_current_removed.reset_index(drop = True)\n",
        "model_8_train.reset_index(drop = True)"
      ],
      "execution_count": null,
      "outputs": [
        {
          "output_type": "execute_result",
          "data": {
            "text/html": [
              "<div>\n",
              "<style scoped>\n",
              "    .dataframe tbody tr th:only-of-type {\n",
              "        vertical-align: middle;\n",
              "    }\n",
              "\n",
              "    .dataframe tbody tr th {\n",
              "        vertical-align: top;\n",
              "    }\n",
              "\n",
              "    .dataframe thead th {\n",
              "        text-align: right;\n",
              "    }\n",
              "</style>\n",
              "<table border=\"1\" class=\"dataframe\">\n",
              "  <thead>\n",
              "    <tr style=\"text-align: right;\">\n",
              "      <th></th>\n",
              "      <th>Date</th>\n",
              "      <th>Mean_temp</th>\n",
              "      <th>Total_precip</th>\n",
              "      <th>Total_daily_generation</th>\n",
              "    </tr>\n",
              "  </thead>\n",
              "  <tbody>\n",
              "    <tr>\n",
              "      <th>0</th>\n",
              "      <td>2018-12-01</td>\n",
              "      <td>9.9</td>\n",
              "      <td>3.1</td>\n",
              "      <td>1272.220</td>\n",
              "    </tr>\n",
              "    <tr>\n",
              "      <th>1</th>\n",
              "      <td>2018-12-02</td>\n",
              "      <td>11.6</td>\n",
              "      <td>1.0</td>\n",
              "      <td>2.765</td>\n",
              "    </tr>\n",
              "    <tr>\n",
              "      <th>2</th>\n",
              "      <td>2018-12-03</td>\n",
              "      <td>11.8</td>\n",
              "      <td>2.7</td>\n",
              "      <td>0.000</td>\n",
              "    </tr>\n",
              "    <tr>\n",
              "      <th>3</th>\n",
              "      <td>2018-12-04</td>\n",
              "      <td>5.3</td>\n",
              "      <td>8.5</td>\n",
              "      <td>0.000</td>\n",
              "    </tr>\n",
              "    <tr>\n",
              "      <th>4</th>\n",
              "      <td>2018-12-05</td>\n",
              "      <td>7.6</td>\n",
              "      <td>0.0</td>\n",
              "      <td>12.493</td>\n",
              "    </tr>\n",
              "    <tr>\n",
              "      <th>...</th>\n",
              "      <td>...</td>\n",
              "      <td>...</td>\n",
              "      <td>...</td>\n",
              "      <td>...</td>\n",
              "    </tr>\n",
              "    <tr>\n",
              "      <th>314</th>\n",
              "      <td>2019-10-18</td>\n",
              "      <td>11.3</td>\n",
              "      <td>0.2</td>\n",
              "      <td>2265.090</td>\n",
              "    </tr>\n",
              "    <tr>\n",
              "      <th>315</th>\n",
              "      <td>2019-10-19</td>\n",
              "      <td>11.1</td>\n",
              "      <td>0.0</td>\n",
              "      <td>1175.010</td>\n",
              "    </tr>\n",
              "    <tr>\n",
              "      <th>316</th>\n",
              "      <td>2019-10-20</td>\n",
              "      <td>8.1</td>\n",
              "      <td>0.0</td>\n",
              "      <td>1175.010</td>\n",
              "    </tr>\n",
              "    <tr>\n",
              "      <th>317</th>\n",
              "      <td>2019-10-21</td>\n",
              "      <td>10.8</td>\n",
              "      <td>0.0</td>\n",
              "      <td>1175.010</td>\n",
              "    </tr>\n",
              "    <tr>\n",
              "      <th>318</th>\n",
              "      <td>2019-10-22</td>\n",
              "      <td>10.3</td>\n",
              "      <td>0.0</td>\n",
              "      <td>1284.100</td>\n",
              "    </tr>\n",
              "  </tbody>\n",
              "</table>\n",
              "<p>319 rows × 4 columns</p>\n",
              "</div>"
            ],
            "text/plain": [
              "          Date  Mean_temp  Total_precip  Total_daily_generation\n",
              "0   2018-12-01        9.9           3.1                1272.220\n",
              "1   2018-12-02       11.6           1.0                   2.765\n",
              "2   2018-12-03       11.8           2.7                   0.000\n",
              "3   2018-12-04        5.3           8.5                   0.000\n",
              "4   2018-12-05        7.6           0.0                  12.493\n",
              "..         ...        ...           ...                     ...\n",
              "314 2019-10-18       11.3           0.2                2265.090\n",
              "315 2019-10-19       11.1           0.0                1175.010\n",
              "316 2019-10-20        8.1           0.0                1175.010\n",
              "317 2019-10-21       10.8           0.0                1175.010\n",
              "318 2019-10-22       10.3           0.0                1284.100\n",
              "\n",
              "[319 rows x 4 columns]"
            ]
          },
          "metadata": {
            "tags": []
          },
          "execution_count": 48
        }
      ]
    },
    {
      "cell_type": "code",
      "metadata": {
        "id": "522tVjlxlOKJ"
      },
      "source": [
        "# the .to_numpy() argument is used to bypass the problems due to index misalignment\n",
        "model_8_train['Snowfall'] = snowfall_current_removed['Snowfall'].to_numpy()\n",
        "model_8_train['Upstream2_precip'] = upstream2_current_df['Shifted_rain'].to_numpy()"
      ],
      "execution_count": null,
      "outputs": []
    },
    {
      "cell_type": "code",
      "metadata": {
        "colab": {
          "base_uri": "https://localhost:8080/"
        },
        "id": "O07pY5khj_es",
        "outputId": "6bc0b3aa-04f8-4367-dd7c-09f81cc1728b"
      },
      "source": [
        "# find out which date Upstream3_current_df has that model_8_train doesn't have\n",
        "upstream3_extra_date = set(upstream3_current_df['Date']) - set(model_8_train['Date'])\n",
        "list(upstream3_extra_date)[0]"
      ],
      "execution_count": null,
      "outputs": [
        {
          "output_type": "execute_result",
          "data": {
            "text/plain": [
              "Timestamp('2019-06-01 00:00:00')"
            ]
          },
          "metadata": {
            "tags": []
          },
          "execution_count": 50
        }
      ]
    },
    {
      "cell_type": "code",
      "metadata": {
        "id": "k0-SpeF_kTW-"
      },
      "source": [
        "# remove this extra date from upstream3_current_df\n",
        "upstream3_extracted_df = upstream3_current_df[upstream3_current_df['Date'] != list(upstream3_extra_date)[0]]"
      ],
      "execution_count": null,
      "outputs": []
    },
    {
      "cell_type": "code",
      "metadata": {
        "id": "p-8U8YabkGdn"
      },
      "source": [
        "# now we can add the upstream3 precipitation column to model_8_train\n",
        "model_8_train['Upstream3_precip'] = upstream3_extracted_df['Shifted_rain'].to_numpy()"
      ],
      "execution_count": null,
      "outputs": []
    },
    {
      "cell_type": "code",
      "metadata": {
        "colab": {
          "base_uri": "https://localhost:8080/"
        },
        "id": "4XD0oHlHkmyv",
        "outputId": "ece583e7-8be9-4e53-dd04-1c15e79b7c76"
      },
      "source": [
        "model_8_train.info()"
      ],
      "execution_count": null,
      "outputs": [
        {
          "output_type": "stream",
          "text": [
            "<class 'pandas.core.frame.DataFrame'>\n",
            "Int64Index: 319 entries, 74479 to 74804\n",
            "Data columns (total 7 columns):\n",
            " #   Column                  Non-Null Count  Dtype         \n",
            "---  ------                  --------------  -----         \n",
            " 0   Date                    319 non-null    datetime64[ns]\n",
            " 1   Mean_temp               319 non-null    float64       \n",
            " 2   Total_precip            319 non-null    float64       \n",
            " 3   Total_daily_generation  319 non-null    float64       \n",
            " 4   Snowfall                319 non-null    float64       \n",
            " 5   Upstream2_precip        319 non-null    float64       \n",
            " 6   Upstream3_precip        319 non-null    float64       \n",
            "dtypes: datetime64[ns](1), float64(6)\n",
            "memory usage: 19.9 KB\n"
          ],
          "name": "stdout"
        }
      ]
    },
    {
      "cell_type": "code",
      "metadata": {
        "colab": {
          "base_uri": "https://localhost:8080/",
          "height": 411
        },
        "id": "T6ATqZTdp5RW",
        "outputId": "763da8ab-c85d-4ef2-ca8a-4cb723610c3a"
      },
      "source": [
        "model_8_train"
      ],
      "execution_count": null,
      "outputs": [
        {
          "output_type": "execute_result",
          "data": {
            "text/html": [
              "<div>\n",
              "<style scoped>\n",
              "    .dataframe tbody tr th:only-of-type {\n",
              "        vertical-align: middle;\n",
              "    }\n",
              "\n",
              "    .dataframe tbody tr th {\n",
              "        vertical-align: top;\n",
              "    }\n",
              "\n",
              "    .dataframe thead th {\n",
              "        text-align: right;\n",
              "    }\n",
              "</style>\n",
              "<table border=\"1\" class=\"dataframe\">\n",
              "  <thead>\n",
              "    <tr style=\"text-align: right;\">\n",
              "      <th></th>\n",
              "      <th>Date</th>\n",
              "      <th>Mean_temp</th>\n",
              "      <th>Total_precip</th>\n",
              "      <th>Total_daily_generation</th>\n",
              "      <th>Snowfall</th>\n",
              "      <th>Upstream2_precip</th>\n",
              "      <th>Upstream3_precip</th>\n",
              "    </tr>\n",
              "  </thead>\n",
              "  <tbody>\n",
              "    <tr>\n",
              "      <th>74479</th>\n",
              "      <td>2018-12-01</td>\n",
              "      <td>9.9</td>\n",
              "      <td>3.1</td>\n",
              "      <td>1272.220</td>\n",
              "      <td>0.000000</td>\n",
              "      <td>5.506137e-01</td>\n",
              "      <td>0.051777</td>\n",
              "    </tr>\n",
              "    <tr>\n",
              "      <th>74480</th>\n",
              "      <td>2018-12-02</td>\n",
              "      <td>11.6</td>\n",
              "      <td>1.0</td>\n",
              "      <td>2.765</td>\n",
              "      <td>0.000099</td>\n",
              "      <td>1.027313e-01</td>\n",
              "      <td>11.928691</td>\n",
              "    </tr>\n",
              "    <tr>\n",
              "      <th>74481</th>\n",
              "      <td>2018-12-03</td>\n",
              "      <td>11.8</td>\n",
              "      <td>2.7</td>\n",
              "      <td>0.000</td>\n",
              "      <td>0.000000</td>\n",
              "      <td>1.450385e+01</td>\n",
              "      <td>0.000438</td>\n",
              "    </tr>\n",
              "    <tr>\n",
              "      <th>74482</th>\n",
              "      <td>2018-12-04</td>\n",
              "      <td>5.3</td>\n",
              "      <td>8.5</td>\n",
              "      <td>0.000</td>\n",
              "      <td>0.000000</td>\n",
              "      <td>2.046431e+00</td>\n",
              "      <td>0.601514</td>\n",
              "    </tr>\n",
              "    <tr>\n",
              "      <th>74483</th>\n",
              "      <td>2018-12-05</td>\n",
              "      <td>7.6</td>\n",
              "      <td>0.0</td>\n",
              "      <td>12.493</td>\n",
              "      <td>0.079186</td>\n",
              "      <td>5.005344e-01</td>\n",
              "      <td>5.490760</td>\n",
              "    </tr>\n",
              "    <tr>\n",
              "      <th>...</th>\n",
              "      <td>...</td>\n",
              "      <td>...</td>\n",
              "      <td>...</td>\n",
              "      <td>...</td>\n",
              "      <td>...</td>\n",
              "      <td>...</td>\n",
              "      <td>...</td>\n",
              "    </tr>\n",
              "    <tr>\n",
              "      <th>74800</th>\n",
              "      <td>2019-10-18</td>\n",
              "      <td>11.3</td>\n",
              "      <td>0.2</td>\n",
              "      <td>2265.090</td>\n",
              "      <td>0.000000</td>\n",
              "      <td>9.969548e-01</td>\n",
              "      <td>0.024800</td>\n",
              "    </tr>\n",
              "    <tr>\n",
              "      <th>74801</th>\n",
              "      <td>2019-10-19</td>\n",
              "      <td>11.1</td>\n",
              "      <td>0.0</td>\n",
              "      <td>1175.010</td>\n",
              "      <td>0.000000</td>\n",
              "      <td>4.250000e-07</td>\n",
              "      <td>0.739192</td>\n",
              "    </tr>\n",
              "    <tr>\n",
              "      <th>74802</th>\n",
              "      <td>2019-10-20</td>\n",
              "      <td>8.1</td>\n",
              "      <td>0.0</td>\n",
              "      <td>1175.010</td>\n",
              "      <td>0.000000</td>\n",
              "      <td>2.628385e-01</td>\n",
              "      <td>0.048965</td>\n",
              "    </tr>\n",
              "    <tr>\n",
              "      <th>74803</th>\n",
              "      <td>2019-10-21</td>\n",
              "      <td>10.8</td>\n",
              "      <td>0.0</td>\n",
              "      <td>1175.010</td>\n",
              "      <td>0.000000</td>\n",
              "      <td>2.480675e+00</td>\n",
              "      <td>0.276037</td>\n",
              "    </tr>\n",
              "    <tr>\n",
              "      <th>74804</th>\n",
              "      <td>2019-10-22</td>\n",
              "      <td>10.3</td>\n",
              "      <td>0.0</td>\n",
              "      <td>1284.100</td>\n",
              "      <td>0.000000</td>\n",
              "      <td>9.813209e-02</td>\n",
              "      <td>1.064509</td>\n",
              "    </tr>\n",
              "  </tbody>\n",
              "</table>\n",
              "<p>319 rows × 7 columns</p>\n",
              "</div>"
            ],
            "text/plain": [
              "            Date  Mean_temp  ...  Upstream2_precip  Upstream3_precip\n",
              "74479 2018-12-01        9.9  ...      5.506137e-01          0.051777\n",
              "74480 2018-12-02       11.6  ...      1.027313e-01         11.928691\n",
              "74481 2018-12-03       11.8  ...      1.450385e+01          0.000438\n",
              "74482 2018-12-04        5.3  ...      2.046431e+00          0.601514\n",
              "74483 2018-12-05        7.6  ...      5.005344e-01          5.490760\n",
              "...          ...        ...  ...               ...               ...\n",
              "74800 2019-10-18       11.3  ...      9.969548e-01          0.024800\n",
              "74801 2019-10-19       11.1  ...      4.250000e-07          0.739192\n",
              "74802 2019-10-20        8.1  ...      2.628385e-01          0.048965\n",
              "74803 2019-10-21       10.8  ...      2.480675e+00          0.276037\n",
              "74804 2019-10-22       10.3  ...      9.813209e-02          1.064509\n",
              "\n",
              "[319 rows x 7 columns]"
            ]
          },
          "metadata": {
            "tags": []
          },
          "execution_count": 54
        }
      ]
    },
    {
      "cell_type": "code",
      "metadata": {
        "id": "czMR89LagsY1"
      },
      "source": [
        "# get the training features and target vector\n",
        "x_train = model_8_train[['Mean_temp', 'Total_precip', 'Snowfall', 'Upstream2_precip', 'Upstream3_precip']]\n",
        "y_train = model_8_train['Total_daily_generation']"
      ],
      "execution_count": null,
      "outputs": []
    },
    {
      "cell_type": "code",
      "metadata": {
        "colab": {
          "base_uri": "https://localhost:8080/"
        },
        "id": "t04Dc5modfXw",
        "outputId": "d9666ed2-a22b-4631-e403-ae3910edb408"
      },
      "source": [
        "x_train.info()"
      ],
      "execution_count": null,
      "outputs": [
        {
          "output_type": "stream",
          "text": [
            "<class 'pandas.core.frame.DataFrame'>\n",
            "Int64Index: 319 entries, 74479 to 74804\n",
            "Data columns (total 5 columns):\n",
            " #   Column            Non-Null Count  Dtype  \n",
            "---  ------            --------------  -----  \n",
            " 0   Mean_temp         319 non-null    float64\n",
            " 1   Total_precip      319 non-null    float64\n",
            " 2   Snowfall          319 non-null    float64\n",
            " 3   Upstream2_precip  319 non-null    float64\n",
            " 4   Upstream3_precip  319 non-null    float64\n",
            "dtypes: float64(5)\n",
            "memory usage: 15.0 KB\n"
          ],
          "name": "stdout"
        }
      ]
    },
    {
      "cell_type": "code",
      "metadata": {
        "colab": {
          "base_uri": "https://localhost:8080/",
          "height": 411
        },
        "id": "-NnBwJyXr8tB",
        "outputId": "be0e092b-06e5-426f-93e7-a670cc3ead4c"
      },
      "source": [
        "temperature_future"
      ],
      "execution_count": null,
      "outputs": [
        {
          "output_type": "execute_result",
          "data": {
            "text/html": [
              "<div>\n",
              "<style scoped>\n",
              "    .dataframe tbody tr th:only-of-type {\n",
              "        vertical-align: middle;\n",
              "    }\n",
              "\n",
              "    .dataframe tbody tr th {\n",
              "        vertical-align: top;\n",
              "    }\n",
              "\n",
              "    .dataframe thead th {\n",
              "        text-align: right;\n",
              "    }\n",
              "</style>\n",
              "<table border=\"1\" class=\"dataframe\">\n",
              "  <thead>\n",
              "    <tr style=\"text-align: right;\">\n",
              "      <th></th>\n",
              "      <th>Date</th>\n",
              "      <th>Temperature</th>\n",
              "    </tr>\n",
              "  </thead>\n",
              "  <tbody>\n",
              "    <tr>\n",
              "      <th>24870</th>\n",
              "      <td>2050-01-01</td>\n",
              "      <td>12.811341</td>\n",
              "    </tr>\n",
              "    <tr>\n",
              "      <th>24871</th>\n",
              "      <td>2050-01-02</td>\n",
              "      <td>11.466982</td>\n",
              "    </tr>\n",
              "    <tr>\n",
              "      <th>24872</th>\n",
              "      <td>2050-01-03</td>\n",
              "      <td>11.742976</td>\n",
              "    </tr>\n",
              "    <tr>\n",
              "      <th>24873</th>\n",
              "      <td>2050-01-04</td>\n",
              "      <td>5.330974</td>\n",
              "    </tr>\n",
              "    <tr>\n",
              "      <th>24874</th>\n",
              "      <td>2050-01-05</td>\n",
              "      <td>2.696981</td>\n",
              "    </tr>\n",
              "    <tr>\n",
              "      <th>...</th>\n",
              "      <td>...</td>\n",
              "      <td>...</td>\n",
              "    </tr>\n",
              "    <tr>\n",
              "      <th>25225</th>\n",
              "      <td>2050-12-26</td>\n",
              "      <td>8.359898</td>\n",
              "    </tr>\n",
              "    <tr>\n",
              "      <th>25226</th>\n",
              "      <td>2050-12-27</td>\n",
              "      <td>8.109031</td>\n",
              "    </tr>\n",
              "    <tr>\n",
              "      <th>25227</th>\n",
              "      <td>2050-12-28</td>\n",
              "      <td>7.250457</td>\n",
              "    </tr>\n",
              "    <tr>\n",
              "      <th>25228</th>\n",
              "      <td>2050-12-29</td>\n",
              "      <td>7.026456</td>\n",
              "    </tr>\n",
              "    <tr>\n",
              "      <th>25229</th>\n",
              "      <td>2050-12-30</td>\n",
              "      <td>8.258388</td>\n",
              "    </tr>\n",
              "  </tbody>\n",
              "</table>\n",
              "<p>358 rows × 2 columns</p>\n",
              "</div>"
            ],
            "text/plain": [
              "            Date  Temperature\n",
              "24870 2050-01-01    12.811341\n",
              "24871 2050-01-02    11.466982\n",
              "24872 2050-01-03    11.742976\n",
              "24873 2050-01-04     5.330974\n",
              "24874 2050-01-05     2.696981\n",
              "...          ...          ...\n",
              "25225 2050-12-26     8.359898\n",
              "25226 2050-12-27     8.109031\n",
              "25227 2050-12-28     7.250457\n",
              "25228 2050-12-29     7.026456\n",
              "25229 2050-12-30     8.258388\n",
              "\n",
              "[358 rows x 2 columns]"
            ]
          },
          "metadata": {
            "tags": []
          },
          "execution_count": 57
        }
      ]
    },
    {
      "cell_type": "code",
      "metadata": {
        "id": "wcPYrVjSTJZR"
      },
      "source": [
        "# form the testing data dataframe\n",
        "model_8_test_df = temperature_future[['Date', 'Temperature']]\n",
        "model_8_test_df['Future_precip'] = precipitation_future['Precipitation Rate']\n",
        "model_8_test_df.columns = ['Date', 'Future_temp', 'Future_precip']\n",
        "model_8_test_df['Future_snowfall'] = snow_future['Snowfall'].fillna(0)"
      ],
      "execution_count": null,
      "outputs": []
    },
    {
      "cell_type": "code",
      "metadata": {
        "colab": {
          "base_uri": "https://localhost:8080/"
        },
        "id": "QP9wc_esnx-P",
        "outputId": "df3e1d7e-79b2-4fca-f791-9205180c5275"
      },
      "source": [
        "# there is a list of dates that need to be removed because the future data for upstream 2 ends at 12-31-2050 and has no 2051 data\n",
        "test_dates_remove = set(model_8_test_df['Date']) - set(upstream2_future_extracted['Date']) \n",
        "test_dates_remove"
      ],
      "execution_count": null,
      "outputs": [
        {
          "output_type": "execute_result",
          "data": {
            "text/plain": [
              "{Timestamp('2050-12-16 00:00:00'),\n",
              " Timestamp('2050-12-17 00:00:00'),\n",
              " Timestamp('2050-12-18 00:00:00'),\n",
              " Timestamp('2050-12-19 00:00:00'),\n",
              " Timestamp('2050-12-20 00:00:00'),\n",
              " Timestamp('2050-12-21 00:00:00'),\n",
              " Timestamp('2050-12-22 00:00:00'),\n",
              " Timestamp('2050-12-23 00:00:00'),\n",
              " Timestamp('2050-12-24 00:00:00'),\n",
              " Timestamp('2050-12-25 00:00:00'),\n",
              " Timestamp('2050-12-26 00:00:00'),\n",
              " Timestamp('2050-12-27 00:00:00'),\n",
              " Timestamp('2050-12-28 00:00:00'),\n",
              " Timestamp('2050-12-29 00:00:00'),\n",
              " Timestamp('2050-12-30 00:00:00')}"
            ]
          },
          "metadata": {
            "tags": []
          },
          "execution_count": 59
        }
      ]
    },
    {
      "cell_type": "code",
      "metadata": {
        "id": "HBS4NK4pocLB"
      },
      "source": [
        "model_8_test = model_8_test_df                      # defining a dummy df for use in the iteration beloe\n",
        "upstream3_reduced = upstream3_future_extracted      # defining a dummy df for use in the iteration beloe\n",
        "\n",
        "\n",
        "# now we want to exclude the row whose date isn't in the upstream2 future data\n",
        "for i in test_dates_remove:\n",
        "  model_8_test = model_8_test[model_8_test['Date'] != i]\n",
        "  upstream3_reduced = upstream3_reduced[upstream3_reduced['Date'] != i]"
      ],
      "execution_count": null,
      "outputs": []
    },
    {
      "cell_type": "code",
      "metadata": {
        "id": "Ga4GudlGbxtc",
        "colab": {
          "base_uri": "https://localhost:8080/"
        },
        "outputId": "452ef7fe-db58-4a2f-f7ee-c18e32f25d63"
      },
      "source": [
        "model_8_test = model_8_test.reset_index(drop = True)\n",
        "model_8_test.info()"
      ],
      "execution_count": null,
      "outputs": [
        {
          "output_type": "stream",
          "text": [
            "<class 'pandas.core.frame.DataFrame'>\n",
            "RangeIndex: 343 entries, 0 to 342\n",
            "Data columns (total 4 columns):\n",
            " #   Column           Non-Null Count  Dtype         \n",
            "---  ------           --------------  -----         \n",
            " 0   Date             343 non-null    datetime64[ns]\n",
            " 1   Future_temp      343 non-null    float64       \n",
            " 2   Future_precip    343 non-null    float64       \n",
            " 3   Future_snowfall  343 non-null    float64       \n",
            "dtypes: datetime64[ns](1), float64(3)\n",
            "memory usage: 10.8 KB\n"
          ],
          "name": "stdout"
        }
      ]
    },
    {
      "cell_type": "code",
      "metadata": {
        "id": "q-hu3k6Jo05D"
      },
      "source": [
        "model_8_test['future_Upstream2_precip'] = upstream2_future_extracted['Shifted_rain'].to_numpy()\n",
        "model_8_test['future_Upstream3_precip'] = upstream3_reduced['Shifted_rain'].to_numpy()"
      ],
      "execution_count": null,
      "outputs": []
    },
    {
      "cell_type": "code",
      "metadata": {
        "colab": {
          "base_uri": "https://localhost:8080/",
          "height": 411
        },
        "id": "KQjlEskGpMnW",
        "outputId": "c060dc82-ceb6-4be1-8ce3-35c4764a6375"
      },
      "source": [
        "model_8_test"
      ],
      "execution_count": null,
      "outputs": [
        {
          "output_type": "execute_result",
          "data": {
            "text/html": [
              "<div>\n",
              "<style scoped>\n",
              "    .dataframe tbody tr th:only-of-type {\n",
              "        vertical-align: middle;\n",
              "    }\n",
              "\n",
              "    .dataframe tbody tr th {\n",
              "        vertical-align: top;\n",
              "    }\n",
              "\n",
              "    .dataframe thead th {\n",
              "        text-align: right;\n",
              "    }\n",
              "</style>\n",
              "<table border=\"1\" class=\"dataframe\">\n",
              "  <thead>\n",
              "    <tr style=\"text-align: right;\">\n",
              "      <th></th>\n",
              "      <th>Date</th>\n",
              "      <th>Future_temp</th>\n",
              "      <th>Future_precip</th>\n",
              "      <th>Future_snowfall</th>\n",
              "      <th>future_Upstream2_precip</th>\n",
              "      <th>future_Upstream3_precip</th>\n",
              "    </tr>\n",
              "  </thead>\n",
              "  <tbody>\n",
              "    <tr>\n",
              "      <th>0</th>\n",
              "      <td>2050-01-01</td>\n",
              "      <td>12.811341</td>\n",
              "      <td>10.622042</td>\n",
              "      <td>0.00000</td>\n",
              "      <td>0.787618</td>\n",
              "      <td>1.161428</td>\n",
              "    </tr>\n",
              "    <tr>\n",
              "      <th>1</th>\n",
              "      <td>2050-01-02</td>\n",
              "      <td>11.466982</td>\n",
              "      <td>26.987028</td>\n",
              "      <td>0.00000</td>\n",
              "      <td>0.185518</td>\n",
              "      <td>0.026203</td>\n",
              "    </tr>\n",
              "    <tr>\n",
              "      <th>2</th>\n",
              "      <td>2050-01-03</td>\n",
              "      <td>11.742976</td>\n",
              "      <td>11.353615</td>\n",
              "      <td>0.00000</td>\n",
              "      <td>0.004882</td>\n",
              "      <td>0.025171</td>\n",
              "    </tr>\n",
              "    <tr>\n",
              "      <th>3</th>\n",
              "      <td>2050-01-04</td>\n",
              "      <td>5.330974</td>\n",
              "      <td>0.251311</td>\n",
              "      <td>0.00013</td>\n",
              "      <td>0.043175</td>\n",
              "      <td>6.493893</td>\n",
              "    </tr>\n",
              "    <tr>\n",
              "      <th>4</th>\n",
              "      <td>2050-01-05</td>\n",
              "      <td>2.696981</td>\n",
              "      <td>1.852849</td>\n",
              "      <td>0.00000</td>\n",
              "      <td>0.107144</td>\n",
              "      <td>0.082891</td>\n",
              "    </tr>\n",
              "    <tr>\n",
              "      <th>...</th>\n",
              "      <td>...</td>\n",
              "      <td>...</td>\n",
              "      <td>...</td>\n",
              "      <td>...</td>\n",
              "      <td>...</td>\n",
              "      <td>...</td>\n",
              "    </tr>\n",
              "    <tr>\n",
              "      <th>338</th>\n",
              "      <td>2050-12-11</td>\n",
              "      <td>5.755041</td>\n",
              "      <td>3.111850</td>\n",
              "      <td>0.00000</td>\n",
              "      <td>0.002720</td>\n",
              "      <td>18.357517</td>\n",
              "    </tr>\n",
              "    <tr>\n",
              "      <th>339</th>\n",
              "      <td>2050-12-12</td>\n",
              "      <td>4.982379</td>\n",
              "      <td>0.712024</td>\n",
              "      <td>0.00000</td>\n",
              "      <td>6.750660</td>\n",
              "      <td>7.239441</td>\n",
              "    </tr>\n",
              "    <tr>\n",
              "      <th>340</th>\n",
              "      <td>2050-12-13</td>\n",
              "      <td>4.512136</td>\n",
              "      <td>0.279715</td>\n",
              "      <td>0.00000</td>\n",
              "      <td>3.676629</td>\n",
              "      <td>0.431601</td>\n",
              "    </tr>\n",
              "    <tr>\n",
              "      <th>341</th>\n",
              "      <td>2050-12-14</td>\n",
              "      <td>2.907415</td>\n",
              "      <td>0.522372</td>\n",
              "      <td>0.00000</td>\n",
              "      <td>0.092938</td>\n",
              "      <td>7.823548</td>\n",
              "    </tr>\n",
              "    <tr>\n",
              "      <th>342</th>\n",
              "      <td>2050-12-15</td>\n",
              "      <td>3.281956</td>\n",
              "      <td>0.732730</td>\n",
              "      <td>0.00000</td>\n",
              "      <td>0.029777</td>\n",
              "      <td>29.471530</td>\n",
              "    </tr>\n",
              "  </tbody>\n",
              "</table>\n",
              "<p>343 rows × 6 columns</p>\n",
              "</div>"
            ],
            "text/plain": [
              "          Date  Future_temp  ...  future_Upstream2_precip  future_Upstream3_precip\n",
              "0   2050-01-01    12.811341  ...                 0.787618                 1.161428\n",
              "1   2050-01-02    11.466982  ...                 0.185518                 0.026203\n",
              "2   2050-01-03    11.742976  ...                 0.004882                 0.025171\n",
              "3   2050-01-04     5.330974  ...                 0.043175                 6.493893\n",
              "4   2050-01-05     2.696981  ...                 0.107144                 0.082891\n",
              "..         ...          ...  ...                      ...                      ...\n",
              "338 2050-12-11     5.755041  ...                 0.002720                18.357517\n",
              "339 2050-12-12     4.982379  ...                 6.750660                 7.239441\n",
              "340 2050-12-13     4.512136  ...                 3.676629                 0.431601\n",
              "341 2050-12-14     2.907415  ...                 0.092938                 7.823548\n",
              "342 2050-12-15     3.281956  ...                 0.029777                29.471530\n",
              "\n",
              "[343 rows x 6 columns]"
            ]
          },
          "metadata": {
            "tags": []
          },
          "execution_count": 63
        }
      ]
    },
    {
      "cell_type": "code",
      "metadata": {
        "id": "nRdbgd4kgEjA",
        "colab": {
          "base_uri": "https://localhost:8080/"
        },
        "outputId": "0f8648fe-d71b-40a7-f5dc-42a21315d7fd"
      },
      "source": [
        "model_8.fit(x_train, y_train)\n",
        "print(model_8.intercept_, model_8.coef_)"
      ],
      "execution_count": null,
      "outputs": [
        {
          "output_type": "stream",
          "text": [
            "8448.14758192684 [-395.53912494  -29.09924319 -177.72407473    0.63497436   20.0624869 ]\n"
          ],
          "name": "stdout"
        }
      ]
    },
    {
      "cell_type": "code",
      "metadata": {
        "id": "xlSMcN_egFwg"
      },
      "source": [
        "# make predictions on the future\n",
        "y_pred = model_8.predict(model_8_test[['Future_temp', 'Future_precip', 'Future_snowfall', 'future_Upstream2_precip', 'future_Upstream3_precip']])"
      ],
      "execution_count": null,
      "outputs": []
    },
    {
      "cell_type": "code",
      "metadata": {
        "id": "mKdpjvCslbu5",
        "colab": {
          "base_uri": "https://localhost:8080/"
        },
        "outputId": "f1bfb158-60ed-471a-9c6a-54253afd2c4a"
      },
      "source": [
        "y_pred_corrected = [max(i, 0) for i in y_pred]\n",
        "model_8_test['Predicted generation'] = y_pred_corrected\n",
        "model_8_test['Generation rolling average'] = model_8_test['Predicted generation'].rolling(10).mean()\n",
        "print(sum(y_pred_corrected))"
      ],
      "execution_count": null,
      "outputs": [
        {
          "output_type": "stream",
          "text": [
            "1130238.6237810384\n"
          ],
          "name": "stdout"
        }
      ]
    },
    {
      "cell_type": "code",
      "metadata": {
        "id": "qdPA0jwI6XpJ",
        "colab": {
          "base_uri": "https://localhost:8080/"
        },
        "outputId": "595da0f0-3a21-4ab8-c391-0f3a63794d80"
      },
      "source": [
        "(1130238.6237810384 - 1211960)/1211960 * 100"
      ],
      "execution_count": null,
      "outputs": [
        {
          "output_type": "execute_result",
          "data": {
            "text/plain": [
              "-6.742910345140232"
            ]
          },
          "metadata": {
            "tags": []
          },
          "execution_count": 67
        }
      ]
    },
    {
      "cell_type": "code",
      "metadata": {
        "colab": {
          "base_uri": "https://localhost:8080/",
          "height": 683
        },
        "id": "adX9aIb1XRZZ",
        "outputId": "ca9f9172-2c01-4d62-a3f4-7b2ef781cac3"
      },
      "source": [
        "# Let us plot the generation profile\n",
        "gen_fig, gen_ax = plt.subplots(figsize = (10, 10))\n",
        "gen_ax.plot(sandford_daily_df['Reading Date'], sandford_daily_df['Incremental Reading'], 'r', label = 'Generation')\n",
        "gen_ax.plot(model_8_test['Date'], model_8_test['Predicted generation'], 'r', label = 'Generation')  \n",
        "gen_ax.plot(model_8_test['Date'], model_8_test['Generation rolling average'], 'b', label = '10-day rolling average')  \n",
        "gen_ax.set(title = 'Model 8: Estimated Sandford Hydro generation Profile for 2050', xlabel= 'Date', ylabel='Generation (kWh)')\n",
        "gen_ax.set(title = 'Annual Generation (kWh) from Sanford Hydro', xlabel= 'Date', ylabel='Generation (kWh)')\n",
        "gen_ax.legend(loc='center left', bbox_to_anchor=(1, 0.5))\n",
        "font = {'family' : 'normal',\n",
        "        'weight' : 'bold',\n",
        "        'size'   : 22}\n",
        "\n",
        "matplotlib.rc('font', **font)"
      ],
      "execution_count": null,
      "outputs": [
        {
          "output_type": "stream",
          "text": [
            "findfont: Font family ['normal'] not found. Falling back to DejaVu Sans.\n",
            "findfont: Font family ['normal'] not found. Falling back to DejaVu Sans.\n"
          ],
          "name": "stderr"
        },
        {
          "output_type": "display_data",
          "data": {
            "image/png": "[encoded data removed]",
            "text/plain": [
              "<Figure size 720x720 with 1 Axes>"
            ]
          },
          "metadata": {
            "tags": [],
            "needs_background": "light"
          }
        }
      ]
    },
    {
      "cell_type": "code",
      "metadata": {
        "colab": {
          "base_uri": "https://localhost:8080/",
          "height": 158
        },
        "id": "Uqkcrk9zNGrD",
        "outputId": "711c5e66-47aa-4907-ed23-65a5e10da44a"
      },
      "source": [
        "df.sort_values(by=['Date'], inplace=True, ascending=False)\n"
      ],
      "execution_count": null,
      "outputs": [
        {
          "output_type": "error",
          "ename": "NameError",
          "evalue": "ignored",
          "traceback": [
            "\u001b[0;31m---------------------------------------------------------------------------\u001b[0m",
            "\u001b[0;31mNameError\u001b[0m                                 Traceback (most recent call last)",
            "\u001b[0;32m<ipython-input-69-5daac40b4243>\u001b[0m in \u001b[0;36m<module>\u001b[0;34m()\u001b[0m\n\u001b[0;32m----> 1\u001b[0;31m \u001b[0mdf\u001b[0m\u001b[0;34m.\u001b[0m\u001b[0msort_values\u001b[0m\u001b[0;34m(\u001b[0m\u001b[0mby\u001b[0m\u001b[0;34m=\u001b[0m\u001b[0;34m[\u001b[0m\u001b[0;34m'Date'\u001b[0m\u001b[0;34m]\u001b[0m\u001b[0;34m,\u001b[0m \u001b[0minplace\u001b[0m\u001b[0;34m=\u001b[0m\u001b[0;32mTrue\u001b[0m\u001b[0;34m,\u001b[0m \u001b[0mascending\u001b[0m\u001b[0;34m=\u001b[0m\u001b[0;32mFalse\u001b[0m\u001b[0;34m)\u001b[0m\u001b[0;34m\u001b[0m\u001b[0;34m\u001b[0m\u001b[0m\n\u001b[0m",
            "\u001b[0;31mNameError\u001b[0m: name 'df' is not defined"
          ]
        }
      ]
    },
    {
      "cell_type": "code",
      "metadata": {
        "id": "pYdRmhTxNyeL"
      },
      "source": [
        "# create a list of dates with the year 2050\n",
        "gen_dates_list_2050 = []    # initialise the list\n",
        "\n",
        "for i in sandford_daily_df['Reading Date'].values:\n",
        "  i_dt = pd.to_datetime(i)\n",
        "  i_month = i_dt.month\n",
        "  i_date = i_dt.day\n",
        "\n",
        "  # combine to form datetime date\n",
        "  new_date = datetime.datetime(2050, i_month, i_date)\n",
        "  gen_dates_list_2050.append(new_date)\n",
        "  #pd.to_datetime(sandford_daily_df['Reading Date'].values[0]).month"
      ],
      "execution_count": null,
      "outputs": []
    },
    {
      "cell_type": "code",
      "metadata": {
        "id": "409S-5nvPvSg"
      },
      "source": [
        ""
      ],
      "execution_count": null,
      "outputs": []
    },
    {
      "cell_type": "code",
      "metadata": {
        "id": "dA1J_25kP1w5"
      },
      "source": [
        "sandford_daily_df"
      ],
      "execution_count": null,
      "outputs": []
    },
    {
      "cell_type": "code",
      "metadata": {
        "id": "KRZrSMQCBC4B"
      },
      "source": [
        "# make a ceiling to limit the generation\n",
        "def generation_ceiling(generation_list, maximum_gen):\n",
        "  gen_list = [i for i in generation_list if i <= maximum_gen]\n",
        "  return gen_list"
      ],
      "execution_count": null,
      "outputs": []
    },
    {
      "cell_type": "code",
      "metadata": {
        "id": "Sno0ECodBq_y"
      },
      "source": [
        "# obtain the generation data after it has been passed through a celing\n",
        "gen_ceiling = generation_ceiling(y_pred_corrected, maximum_gen=10000)\n",
        "print(\"The generation after passing through a ceiling is\", sum(gen_ceiling))"
      ],
      "execution_count": null,
      "outputs": []
    },
    {
      "cell_type": "code",
      "metadata": {
        "id": "OJ_Ls9_avKii"
      },
      "source": [
        ""
      ],
      "execution_count": null,
      "outputs": []
    },
    {
      "cell_type": "code",
      "metadata": {
        "colab": {
          "base_uri": "https://localhost:8080/"
        },
        "id": "Udd_IvwJeM2F",
        "outputId": "fb047209-f8a8-49f9-98f7-2c3a6ebb018d"
      },
      "source": [
        "(1130238.6237810384 - 1600000)/1600000 * 100"
      ],
      "execution_count": null,
      "outputs": [
        {
          "output_type": "execute_result",
          "data": {
            "text/plain": [
              "-29.3600860136851"
            ]
          },
          "metadata": {
            "tags": []
          },
          "execution_count": 78
        }
      ]
    },
    {
      "cell_type": "code",
      "metadata": {
        "id": "g1cGIilKeTY6"
      },
      "source": [
        ""
      ],
      "execution_count": null,
      "outputs": []
    }
  ]
}