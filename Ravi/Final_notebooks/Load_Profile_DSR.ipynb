{
  "nbformat": 4,
  "nbformat_minor": 0,
  "metadata": {
    "colab": {
      "name": "Load_Profile_DSR.ipynb",
      "provenance": [],
      "authorship_tag": "ABX9TyOZWbZtIyTp7kNpdtM6esn0",
      "include_colab_link": true
    },
    "kernelspec": {
      "name": "python3",
      "display_name": "Python 3"
    }
  },
  "cells": [
    {
      "cell_type": "markdown",
      "metadata": {
        "id": "view-in-github",
        "colab_type": "text"
      },
      "source": [
        "<a href=\"https://colab.research.google.com/github/themathedges/3YP-Standalone-Kennington/blob/main/Ravi/Final_notebooks/Load_Profile_DSR.ipynb\" target=\"_parent\"><img src=\"https://colab.research.google.com/assets/colab-badge.svg\" alt=\"Open In Colab\"/></a>"
      ]
    },
    {
      "cell_type": "markdown",
      "metadata": {
        "id": "dSfhgKdeCrVf"
      },
      "source": [
        "# Load Profile Demand Side Response"
      ]
    },
    {
      "cell_type": "markdown",
      "metadata": {
        "id": "WEb7ju1UCuyr"
      },
      "source": [
        "**Goal:**\n",
        "- To take the load profile data and make the required adjustments to simulate demand side response"
      ]
    },
    {
      "cell_type": "markdown",
      "metadata": {
        "id": "k7YdLX7EEnvF"
      },
      "source": [
        "0. Import the modules"
      ]
    },
    {
      "cell_type": "code",
      "metadata": {
        "id": "8CjwgywqDcpk"
      },
      "source": [
        "import numpy as np\n",
        "import pandas as pd\n",
        "import datetime\n",
        "from datetime import datetime, timedelta\n",
        "import matplotlib.pyplot as plt"
      ],
      "execution_count": null,
      "outputs": []
    },
    {
      "cell_type": "code",
      "metadata": {
        "colab": {
          "base_uri": "https://localhost:8080/"
        },
        "id": "WJrpb-fjijMW",
        "outputId": "ed151d9c-f3dd-4b0a-9f49-0eb63db95dde"
      },
      "source": [
        "# Mounting the Google Drive\n",
        "from google.colab import drive\n",
        "drive.mount('/content/drive')"
      ],
      "execution_count": null,
      "outputs": [
        {
          "output_type": "stream",
          "text": [
            "Drive already mounted at /content/drive; to attempt to forcibly remount, call drive.mount(\"/content/drive\", force_remount=True).\n"
          ],
          "name": "stdout"
        }
      ]
    },
    {
      "cell_type": "markdown",
      "metadata": {
        "id": "ynjWgHULC_dZ"
      },
      "source": [
        "1. Import the data"
      ]
    },
    {
      "cell_type": "code",
      "metadata": {
        "id": "0pb8C6oXCnnL"
      },
      "source": [
        "# import data\n",
        "# load_profile = pd.read_csv(\"../data/load_example.csv\", usecols=[1]).values\n",
        "load_profile = pd.read_csv(\"https://bitbucket.org/scotwheeler/oxemf_3yp/raw/5d950da31a156418c8abfa1dd86668688715e98e/data/load_example.csv\", usecols=[1]).values"
      ],
      "execution_count": null,
      "outputs": []
    },
    {
      "cell_type": "code",
      "metadata": {
        "colab": {
          "base_uri": "https://localhost:8080/"
        },
        "id": "hdpnsMexDZZB",
        "outputId": "0de67289-fbe4-429f-ed02-363710c0aaff"
      },
      "source": [
        "np.shape(load_profile)"
      ],
      "execution_count": null,
      "outputs": [
        {
          "output_type": "execute_result",
          "data": {
            "text/plain": [
              "(17520, 1)"
            ]
          },
          "metadata": {
            "tags": []
          },
          "execution_count": 4
        }
      ]
    },
    {
      "cell_type": "code",
      "metadata": {
        "id": "7Fb7kGu7GFku"
      },
      "source": [
        "# to process the data, it really ought to be a in a DataFrame with a date column attached to it\n",
        "# we need to create a list of dates and times to span the whole year in 30 minute periods\n",
        "year = '2018'\n",
        "dti = pd.date_range(year + '-01-01', periods=17520, freq=\"0.5H\")\n",
        "\n",
        "# note that this list of times starts at Jan 1st 00:00:00. If we want to start at 00:30:00, then do the following:\n",
        "# 1. Change the periods to 17521\n",
        "# 2. dti = dti[1:] to remove the 00:00:00 entry"
      ],
      "execution_count": null,
      "outputs": []
    },
    {
      "cell_type": "code",
      "metadata": {
        "id": "zP9vbvsjJvE4"
      },
      "source": [
        "# put all this data into a dataframe\n",
        "load_profile_df = pd.DataFrame(dti, columns=['Date_Time'])\n",
        "load_profile_df['Demand (kWh)'] = load_profile\n",
        "load_profile_df['Date'] = [d.date() for d in load_profile_df['Date_Time']]      # separating it into separate date and time columns to make it easier to form a mask later on\n",
        "load_profile_df['Time'] = [d.time() for d in load_profile_df['Date_Time']]"
      ],
      "execution_count": null,
      "outputs": []
    },
    {
      "cell_type": "code",
      "metadata": {
        "colab": {
          "base_uri": "https://localhost:8080/"
        },
        "id": "9HU9AotiKW1F",
        "outputId": "adcd4cb9-b90e-4a8e-92e9-9925641893f0"
      },
      "source": [
        "load_profile_df.info()"
      ],
      "execution_count": null,
      "outputs": [
        {
          "output_type": "stream",
          "text": [
            "<class 'pandas.core.frame.DataFrame'>\n",
            "RangeIndex: 17520 entries, 0 to 17519\n",
            "Data columns (total 4 columns):\n",
            " #   Column        Non-Null Count  Dtype         \n",
            "---  ------        --------------  -----         \n",
            " 0   Date_Time     17520 non-null  datetime64[ns]\n",
            " 1   Demand (kWh)  17520 non-null  float64       \n",
            " 2   Date          17520 non-null  object        \n",
            " 3   Time          17520 non-null  object        \n",
            "dtypes: datetime64[ns](1), float64(1), object(2)\n",
            "memory usage: 547.6+ KB\n"
          ],
          "name": "stdout"
        }
      ]
    },
    {
      "cell_type": "markdown",
      "metadata": {
        "id": "hjXsDr6fDBr-"
      },
      "source": [
        "2. Split into Seasonal DataFrames"
      ]
    },
    {
      "cell_type": "code",
      "metadata": {
        "id": "5-GxaMsmDFQm"
      },
      "source": [
        "# Define the start and end dates for each of the seasons and then define the masks\n",
        "# format of mask: YYYY-MM-DD\n",
        "\n",
        "# winter\n",
        "winter_pt_1_start = pd.to_datetime(year + '-01-01')\n",
        "winter_pt_1_end = pd.to_datetime(year + '-02-28')\n",
        "winter_pt_2_start = pd.to_datetime(year + '-12-01')\n",
        "winter_pt_2_end = pd.to_datetime(year + '-12-31')\n",
        "\n",
        "winter_pt1_mask = (load_profile_df['Date_Time'] >= winter_pt_1_start) & (load_profile_df['Date_Time'] <= winter_pt_1_end)\n",
        "winter_pt2_mask = (load_profile_df['Date_Time'] >= winter_pt_2_start) & (load_profile_df['Date_Time'] <= winter_pt_2_end)\n",
        "\n",
        "# spring\n",
        "spring_start = pd.to_datetime(year + '-03-01')\n",
        "spring_end = pd.to_datetime(year + '-05-31')\n",
        "\n",
        "spring_mask = (load_profile_df['Date_Time'] >= spring_start) & (load_profile_df['Date_Time'] <= spring_end)\n",
        "\n",
        "# summer\n",
        "summer_start = pd.to_datetime(year + '-06-01')\n",
        "summer_end = pd.to_datetime(year + '-08-31')\n",
        "\n",
        "summer_mask = (load_profile_df['Date_Time'] >= summer_start) & (load_profile_df['Date_Time'] <= summer_end)\n",
        "\n",
        "# autumn\n",
        "autumn_start = pd.to_datetime(year + '-09-01')\n",
        "autumn_end = pd.to_datetime(year + '-11-30')\n",
        "\n",
        "autumn_mask = (load_profile_df['Date_Time'] >= autumn_start) & (load_profile_df['Date_Time'] <= autumn_end)"
      ],
      "execution_count": null,
      "outputs": []
    },
    {
      "cell_type": "code",
      "metadata": {
        "id": "Xzc1DfctMiDk"
      },
      "source": [
        "# extract each of the dataframes\n",
        "\n",
        "# winter_pt_1 \n",
        "winter1_df = load_profile_df.loc[winter_pt1_mask]\n",
        "\n",
        "# winter_pt_2 \n",
        "winter2_df = load_profile_df.loc[winter_pt2_mask]\n",
        "\n",
        "winter_combined_df = pd.concat([winter1_df, winter2_df])    # combine the two DataFrames from winter\n",
        "winter_combined_df.reset_index(inplace = True, drop = True)\n",
        "\n",
        "# spring\n",
        "spring_df = load_profile_df.loc[spring_mask]\n",
        "\n",
        "# summer\n",
        "summer_df = load_profile_df.loc[summer_mask]\n",
        "\n",
        "# autumn\n",
        "autumn_df = load_profile_df.loc[autumn_mask]"
      ],
      "execution_count": null,
      "outputs": []
    },
    {
      "cell_type": "code",
      "metadata": {
        "colab": {
          "base_uri": "https://localhost:8080/"
        },
        "id": "8RzlWv6zNv8e",
        "outputId": "4e4b896c-1e0a-43b8-f3e8-d43f0ee9cc0b"
      },
      "source": [
        "len(winter1_df), len(winter2_df), len(spring_df), len(summer_df), len(autumn_df)"
      ],
      "execution_count": null,
      "outputs": [
        {
          "output_type": "execute_result",
          "data": {
            "text/plain": [
              "(2785, 1441, 4369, 4369, 4321)"
            ]
          },
          "metadata": {
            "tags": []
          },
          "execution_count": 10
        }
      ]
    },
    {
      "cell_type": "markdown",
      "metadata": {
        "id": "UF-AsHqWrFml"
      },
      "source": [
        "3.  Define the functions to edit the demand profile"
      ]
    },
    {
      "cell_type": "markdown",
      "metadata": {
        "id": "kh7UhNdbiMn7"
      },
      "source": [
        "3.1 Import the data to edit the demand profile"
      ]
    },
    {
      "cell_type": "code",
      "metadata": {
        "id": "aWMNCVY9iQCB"
      },
      "source": [
        "dsr_edit_data = pd.read_csv('/content/drive/MyDrive/3YP/data/demand_response_final/3yp_dsr_data_test.csv')\n",
        "dsr_edit_data['autumn_bottom_25_low'] = pd.to_numeric(dsr_edit_data['autumn_bottom_25_low'], errors='coerce')\n",
        "dsr_edit_data = dsr_edit_data.fillna(0)[:-1]"
      ],
      "execution_count": null,
      "outputs": []
    },
    {
      "cell_type": "code",
      "metadata": {
        "colab": {
          "base_uri": "https://localhost:8080/"
        },
        "id": "mU3yHxW6izuB",
        "outputId": "6391cb38-c43d-4a2f-9592-9cf823cf1a52"
      },
      "source": [
        "dsr_edit_data.info()"
      ],
      "execution_count": null,
      "outputs": [
        {
          "output_type": "stream",
          "text": [
            "<class 'pandas.core.frame.DataFrame'>\n",
            "RangeIndex: 48 entries, 0 to 47\n",
            "Data columns (total 33 columns):\n",
            " #   Column                        Non-Null Count  Dtype  \n",
            "---  ------                        --------------  -----  \n",
            " 0   30 Minute Time Period         48 non-null     float64\n",
            " 1   winter_top_25_low             48 non-null     float64\n",
            " 2   winter_top_25_medium_low      48 non-null     float64\n",
            " 3   winter_top_25_medium_high     48 non-null     float64\n",
            " 4   winter_top_25_high            48 non-null     float64\n",
            " 5   winter_bottom_25_low          48 non-null     float64\n",
            " 6   winter_bottom_25_medium_low   48 non-null     float64\n",
            " 7   winter_bottom_25_medium_high  48 non-null     float64\n",
            " 8   winter_bottom_25_high         48 non-null     float64\n",
            " 9   spring_top_25_low             48 non-null     float64\n",
            " 10  spring_top_25_medium_low      48 non-null     float64\n",
            " 11  spring_top_25_medium_high     48 non-null     float64\n",
            " 12  spring_top_25_high            48 non-null     float64\n",
            " 13  spring_bottom_25_low          48 non-null     float64\n",
            " 14  spring_bottom_25_medium_low   48 non-null     float64\n",
            " 15  spring_bottom_25_medium_high  48 non-null     float64\n",
            " 16  spring_bottom_25_high         48 non-null     float64\n",
            " 17  summer_top_25_low             48 non-null     float64\n",
            " 18  summer_top_25_medium_low      48 non-null     float64\n",
            " 19  summer_top_25_medium_high     48 non-null     float64\n",
            " 20  summer_top_25_high            48 non-null     float64\n",
            " 21  summer_bottom_25_low          48 non-null     float64\n",
            " 22  summer_bottom_25_medium_low   48 non-null     float64\n",
            " 23  summer_bottom_25_medium_high  48 non-null     float64\n",
            " 24  summer_bottom_25_high         48 non-null     float64\n",
            " 25  autumn_top_25_low             48 non-null     float64\n",
            " 26  autumn_top_25_medium_low      48 non-null     float64\n",
            " 27  autumn_top_25_medium_high     48 non-null     float64\n",
            " 28  autumn_top_25_high            48 non-null     float64\n",
            " 29  autumn_bottom_25_low          48 non-null     float64\n",
            " 30  autumn_bottom_25_medium_low   48 non-null     float64\n",
            " 31  autumn_bottom_25_medium_high  48 non-null     float64\n",
            " 32  autumn_bottom_25_high         48 non-null     float64\n",
            "dtypes: float64(33)\n",
            "memory usage: 12.5 KB\n"
          ],
          "name": "stdout"
        }
      ]
    },
    {
      "cell_type": "markdown",
      "metadata": {
        "id": "y1ejmiiwrlJ1"
      },
      "source": [
        "Define a function that takes the demand side response data and combines the columns to form one column for each season, engagement level"
      ]
    },
    {
      "cell_type": "code",
      "metadata": {
        "id": "rCajEFM6rkXr"
      },
      "source": [
        "def dsr_season_combine(dsr_data):\n",
        "\n",
        "  # factors\n",
        "  top_factor = 0\n",
        "  bottom_factor = 0\n",
        "\n",
        "  # We will do this individually just in case any seasons want to use any different interpolation values\n",
        "  # spring\n",
        "  dsr_data['spring_top_25'] = dsr_data['spring_top_25_low'] + dsr_data['spring_top_25_high'] + top_factor*(dsr_data['spring_top_25_medium_low'] + dsr_data['spring_top_25_medium_low'])\n",
        "  dsr_data['spring_bottom_25'] = dsr_data['spring_bottom_25_low'] + dsr_data['spring_bottom_25_high'] + bottom_factor*(dsr_data['spring_bottom_25_medium_low'] + dsr_data['spring_bottom_25_medium_low'])\n",
        "\n",
        "  # summer\n",
        "  dsr_data['summer_top_25'] = dsr_data['summer_top_25_low'] + dsr_data['summer_top_25_high'] + top_factor*(dsr_data['summer_top_25_medium_low'] + dsr_data['summer_top_25_medium_low'])\n",
        "  dsr_data['summer_bottom_25'] = dsr_data['summer_bottom_25_low'] + dsr_data['summer_bottom_25_high'] + bottom_factor*(dsr_data['summer_bottom_25_medium_low'] + dsr_data['summer_bottom_25_medium_low'])\n",
        "\n",
        "  # autumn\n",
        "  dsr_data['autumn_top_25'] = dsr_data['autumn_top_25_low'] + dsr_data['autumn_top_25_high'] + top_factor*(dsr_data['autumn_top_25_medium_low'] + dsr_data['autumn_top_25_medium_low'])\n",
        "  dsr_data['autumn_bottom_25'] = dsr_data['autumn_bottom_25_low'] + dsr_data['autumn_bottom_25_high'] + bottom_factor*(dsr_data['autumn_bottom_25_medium_low'] + dsr_data['autumn_bottom_25_medium_low'])\n",
        " \n",
        "  # winter\n",
        "  dsr_data['winter_top_25'] = dsr_data['winter_top_25_low'] + dsr_data['winter_top_25_high'] + top_factor*(dsr_data['winter_top_25_medium_low'] + dsr_data['winter_top_25_medium_low'])\n",
        "  dsr_data['winter_bottom_25'] = dsr_data['winter_bottom_25_low'] + dsr_data['winter_bottom_25_high'] + bottom_factor*(dsr_data['winter_bottom_25_medium_low'] + dsr_data['winter_bottom_25_medium_low'])\n",
        " \n",
        "  # converting the units from kW to kWh\n",
        "  dsr_data['spring_top_25'] = dsr_data['spring_top_25'] * 0.5                   \n",
        "  dsr_data['spring_bottom_25'] = dsr_data['spring_bottom_25'] * 0.5             \n",
        "  dsr_data['summer_top_25'] = dsr_data['summer_top_25'] * 0.5\n",
        "  dsr_data['summer_bottom_25'] = dsr_data['summer_bottom_25'] * 0.5\n",
        "  dsr_data['autumn_top_25'] = dsr_data['autumn_top_25'] * 0.5\n",
        "  dsr_data['autumn_bottom_25'] = dsr_data['autumn_bottom_25'] * 0.5\n",
        "  dsr_data['winter_top_25'] = dsr_data['winter_top_25'] * 0.5\n",
        "  dsr_data['winter_bottom_25'] = dsr_data['winter_bottom_25'] * 0.5\n",
        "\n",
        "  return dsr_data"
      ],
      "execution_count": null,
      "outputs": []
    },
    {
      "cell_type": "code",
      "metadata": {
        "id": "SjtO4v6Psifz"
      },
      "source": [
        "dsr_edit_data = dsr_season_combine(dsr_edit_data)"
      ],
      "execution_count": null,
      "outputs": []
    },
    {
      "cell_type": "markdown",
      "metadata": {
        "id": "hdVFMbIzmb4o"
      },
      "source": [
        "Define a function that edits the data and takes the inputs:\n",
        "- Season\n",
        "- Level of Performer"
      ]
    },
    {
      "cell_type": "code",
      "metadata": {
        "colab": {
          "base_uri": "https://localhost:8080/",
          "height": 70
        },
        "id": "bd-kYT2Lms5R",
        "outputId": "de6ac526-b6d0-44e6-ef02-2fcc19dea957"
      },
      "source": [
        "''' \n",
        "inputs: \n",
        "- load_df                                                                       : (DataFrame)\n",
        "- dsr_response_df     - contains the response data (kW)                         : (DataFrame)\n",
        "\n",
        "- season              - what season is this dataframe                           : (string)\n",
        "- engagement_level    - are they a 'top' OR 'bottom' performer                  : (string)\n",
        "\n",
        "output:\n",
        "- a new DataFrame\n",
        "'''"
      ],
      "execution_count": null,
      "outputs": [
        {
          "output_type": "execute_result",
          "data": {
            "application/vnd.google.colaboratory.intrinsic+json": {
              "type": "string"
            },
            "text/plain": [
              "\" \\ninputs: \\n- load_df                                                                       : (DataFrame)\\n- dsr_response_df     - contains the response data (kW)                         : (DataFrame)\\n\\n- season              - what season is this dataframe                           : (string)\\n- engagement_level    - are they a 'top' OR 'bottom' performer                  : (string)\\n\\noutput:\\n- a new DataFrame\\n\""
            ]
          },
          "metadata": {
            "tags": []
          },
          "execution_count": 15
        }
      ]
    },
    {
      "cell_type": "code",
      "metadata": {
        "id": "AbaCuwIAnD2g"
      },
      "source": [
        "def dsr_seaon_data_editor(load_df, dsr_edit_df, season, engagement_level):\n",
        "  \n",
        "  # 0. Make a copy of the load_df\n",
        "  new_df = load_df\n",
        "  new_df['ideal_demand_kWh'] = new_df['Demand (kWh)']\n",
        "  \n",
        "  # 1. Form the string of columns to extract\n",
        "  # string is of the form [SEASON]_[ENGAGEMENT]_25\n",
        "  core_column_string = str(season)+'_'+str(engagement_level)+'_25'\n",
        "\n",
        "  # 2. Extract those column values\n",
        "  dsr_response_values = dsr_edit_df[core_column_string].values\n",
        "\n",
        "  # 3. Combine them with the current dataframe\n",
        "  for i in range(len(load_df['Time'].unique())):\n",
        "    #print(load_df['Time'].unique()[i]) #print(dsr_response_values[i])\n",
        "    new_df.loc[new_df['Time'] == load_df['Time'].unique()[i], 'ideal_demand_kWh'] = dsr_response_values[i] + new_df.loc[new_df['Time'] == load_df['Time'].unique()[i], 'ideal_demand_kWh']\n",
        "\n",
        "  # 5. Return the new dataframe\n",
        "  return new_df"
      ],
      "execution_count": null,
      "outputs": []
    },
    {
      "cell_type": "code",
      "metadata": {
        "id": "dQrvcDqYzdAE"
      },
      "source": [
        "shortened_summer_df = summer_df[:48]"
      ],
      "execution_count": null,
      "outputs": []
    },
    {
      "cell_type": "code",
      "metadata": {
        "colab": {
          "base_uri": "https://localhost:8080/"
        },
        "id": "l2btibbU9QqE",
        "outputId": "60fc2314-529c-48da-8a8b-557d7388fabb"
      },
      "source": [
        "shortened_summer_df['Ideal_demand_kWh'] = shortened_summer_df['Demand (kWh)'] + dsr_edit_data['summer_top_25'].values\n",
        "shortened_summer_df['Ideal_demand_kWh_bottom'] = shortened_summer_df['Demand (kWh)'] + dsr_edit_data['summer_bottom_25'].values"
      ],
      "execution_count": null,
      "outputs": [
        {
          "output_type": "stream",
          "text": [
            "/usr/local/lib/python3.6/dist-packages/ipykernel_launcher.py:1: SettingWithCopyWarning: \n",
            "A value is trying to be set on a copy of a slice from a DataFrame.\n",
            "Try using .loc[row_indexer,col_indexer] = value instead\n",
            "\n",
            "See the caveats in the documentation: https://pandas.pydata.org/pandas-docs/stable/user_guide/indexing.html#returning-a-view-versus-a-copy\n",
            "  \"\"\"Entry point for launching an IPython kernel.\n",
            "/usr/local/lib/python3.6/dist-packages/ipykernel_launcher.py:2: SettingWithCopyWarning: \n",
            "A value is trying to be set on a copy of a slice from a DataFrame.\n",
            "Try using .loc[row_indexer,col_indexer] = value instead\n",
            "\n",
            "See the caveats in the documentation: https://pandas.pydata.org/pandas-docs/stable/user_guide/indexing.html#returning-a-view-versus-a-copy\n",
            "  \n"
          ],
          "name": "stderr"
        }
      ]
    },
    {
      "cell_type": "code",
      "metadata": {
        "colab": {
          "base_uri": "https://localhost:8080/",
          "height": 732
        },
        "id": "CebpA4W8xSH4",
        "outputId": "0c85b2c6-2b41-4d2e-eced-a333be2669a6"
      },
      "source": [
        "plt.figure(figsize=(20,10))\n",
        "plt.plot(shortened_summer_df['Date_Time'], shortened_summer_df['Demand (kWh)'][0:48], label='Original Demand', linewidth=4)\n",
        "plt.plot(shortened_summer_df['Date_Time'], shortened_summer_df['Ideal_demand_kWh'][0:48], label='Ideal Demand of top 25% performer', linewidth=4)\n",
        "plt.plot(shortened_summer_df['Date_Time'], shortened_summer_df['Ideal_demand_kWh_bottom'][0:48], color = 'c', label='Ideal Demand of bottom 25% performer', linewidth=4)\n",
        "plt.vlines(shortened_summer_df['Date_Time'].values[14], 0.05, max(shortened_summer_df['Demand (kWh)']), colors = 'k', linestyles='--')\n",
        "plt.vlines(shortened_summer_df['Date_Time'].values[32], 0.05, max(shortened_summer_df['Demand (kWh)']), colors = 'k', linestyles='--')\n",
        "plt.vlines(shortened_summer_df['Date_Time'].values[45], 0.05, max(shortened_summer_df['Demand (kWh)']), colors = 'k', linestyles='--')\n",
        "plt.title('Demand Response to Dynamic Time of Use Tariff in Summer', fontsize=22)\n",
        "plt.xlabel('Time', fontsize=18)\n",
        "plt.ylabel('Demand (kWh)', fontsize=18)\n",
        "plt.legend(loc = 0, fontsize='x-large')\n",
        "plt.xticks(rotation = 70, fontsize=16)\n",
        "plt.yticks(fontsize=16)"
      ],
      "execution_count": null,
      "outputs": [
        {
          "output_type": "execute_result",
          "data": {
            "text/plain": [
              "(array([0.  , 0.05, 0.1 , 0.15, 0.2 , 0.25, 0.3 , 0.35]),\n",
              " <a list of 8 Text major ticklabel objects>)"
            ]
          },
          "metadata": {
            "tags": []
          },
          "execution_count": 19
        },
        {
          "output_type": "display_data",
          "data": {
            "image/png": "[encoded data removed]",
            "text/plain": [
              "<Figure size 1440x720 with 1 Axes>"
            ]
          },
          "metadata": {
            "tags": [],
            "needs_background": "light"
          }
        }
      ]
    },
    {
      "cell_type": "code",
      "metadata": {
        "colab": {
          "base_uri": "https://localhost:8080/"
        },
        "id": "vlvGqb3A--lu",
        "outputId": "e8c9e7f5-7ba7-4e3a-bada-6d8f0f59f959"
      },
      "source": [
        "print(sum(shortened_summer_df['Demand (kWh)'][0:48]), sum(shortened_summer_df['Ideal_demand_kWh'][0:48]))"
      ],
      "execution_count": null,
      "outputs": [
        {
          "output_type": "stream",
          "text": [
            "9.15525549791455 8.995255497914552\n"
          ],
          "name": "stdout"
        }
      ]
    },
    {
      "cell_type": "code",
      "metadata": {
        "colab": {
          "base_uri": "https://localhost:8080/"
        },
        "id": "HypmKvrxwhao",
        "outputId": "2c73af0f-7154-4947-9fd8-46f8a60507dd"
      },
      "source": [
        "new_summer_df = dsr_seaon_data_editor(spring_df, dsr_edit_data, season='summer', engagement_level='top')"
      ],
      "execution_count": null,
      "outputs": [
        {
          "output_type": "stream",
          "text": [
            "/usr/local/lib/python3.6/dist-packages/ipykernel_launcher.py:5: SettingWithCopyWarning: \n",
            "A value is trying to be set on a copy of a slice from a DataFrame.\n",
            "Try using .loc[row_indexer,col_indexer] = value instead\n",
            "\n",
            "See the caveats in the documentation: https://pandas.pydata.org/pandas-docs/stable/user_guide/indexing.html#returning-a-view-versus-a-copy\n",
            "  \"\"\"\n",
            "/usr/local/lib/python3.6/dist-packages/pandas/core/indexing.py:1743: SettingWithCopyWarning: \n",
            "A value is trying to be set on a copy of a slice from a DataFrame.\n",
            "Try using .loc[row_indexer,col_indexer] = value instead\n",
            "\n",
            "See the caveats in the documentation: https://pandas.pydata.org/pandas-docs/stable/user_guide/indexing.html#returning-a-view-versus-a-copy\n",
            "  isetter(ilocs[0], value)\n"
          ],
          "name": "stderr"
        }
      ]
    },
    {
      "cell_type": "code",
      "metadata": {
        "colab": {
          "base_uri": "https://localhost:8080/",
          "height": 282
        },
        "id": "VKC_yBw9ypqA",
        "outputId": "053a5097-64bb-4761-a5c8-2e56cd7e5253"
      },
      "source": [
        "plt.plot(new_summer_df['Demand (kWh)'][0:48])\n",
        "plt.plot(new_summer_df['ideal_demand_kWh'][0:48])"
      ],
      "execution_count": null,
      "outputs": [
        {
          "output_type": "execute_result",
          "data": {
            "text/plain": [
              "[<matplotlib.lines.Line2D at 0x7f3b56240e48>]"
            ]
          },
          "metadata": {
            "tags": []
          },
          "execution_count": 22
        },
        {
          "output_type": "display_data",
          "data": {
            "image/png": "[encoded data removed]",
            "text/plain": [
              "<Figure size 432x288 with 1 Axes>"
            ]
          },
          "metadata": {
            "tags": [],
            "needs_background": "light"
          }
        }
      ]
    },
    {
      "cell_type": "markdown",
      "metadata": {
        "id": "z2jAkV6APKSD"
      },
      "source": [
        "We need to define a set of functions that:\n",
        "1. Subtract energy usage from the high price times\n",
        "2. Add usage to the low price times"
      ]
    },
    {
      "cell_type": "markdown",
      "metadata": {
        "id": "T0AEF8uCQCKB"
      },
      "source": [
        "We will first make the functions for the top 25% of performers"
      ]
    },
    {
      "cell_type": "code",
      "metadata": {
        "id": "BVjPkbm-DKJ1",
        "colab": {
          "base_uri": "https://localhost:8080/",
          "height": 88
        },
        "outputId": "b00527f5-fac1-4830-d46b-180c7434af5e"
      },
      "source": [
        "''' \n",
        "inputs: \n",
        "- df                                                                            : (DataFrame)\n",
        "\n",
        "- high_start_time     - start time of high price period                         : (datetime)\n",
        "- high_end_time       - end time of high price period                           : (datetime)\n",
        "- high_price_subtract - how much to subtract from high price period             : (float)\n",
        "\n",
        "- low_start_time      - start time of low price period                          : (datetime)\n",
        "- low_end_time        - end time of low price period                            : (datetime)\n",
        "- low_price_add       - how much energy (kWh) to add to low price period        : (float)\n",
        "\n",
        "output:\n",
        "- a new DataFrame\n",
        "'''"
      ],
      "execution_count": null,
      "outputs": [
        {
          "output_type": "execute_result",
          "data": {
            "application/vnd.google.colaboratory.intrinsic+json": {
              "type": "string"
            },
            "text/plain": [
              "' \\ninputs: \\n- df                                                                            : (DataFrame)\\n\\n- high_start_time     - start time of high price period                         : (datetime)\\n- high_end_time       - end time of high price period                           : (datetime)\\n- high_price_subtract - how much to subtract from high price period             : (float)\\n\\n- low_start_time      - start time of low price period                          : (datetime)\\n- low_end_time        - end time of low price period                            : (datetime)\\n- low_price_add       - how much energy (kWh) to add to low price period        : (float)\\n\\noutput:\\n- a new DataFrame\\n'"
            ]
          },
          "metadata": {
            "tags": []
          },
          "execution_count": 23
        }
      ]
    },
    {
      "cell_type": "code",
      "metadata": {
        "id": "5DUbZ504njhc"
      },
      "source": [
        "def seasonal_low_high(df, high_start_time, high_end_time, high_price_subtract, low_start_time, low_end_time, low_price_add):\n",
        "\n",
        "  # define the high price mask\n",
        "  high_mask = (df['Time'] >= high_start_time) & (df['Time'] <= high_end_time)\n",
        "\n",
        "  # define the low price mask\n",
        "  low_mask = (df['Time'] >= low_start_time) & (df['Time'] <= low_end_time)\n",
        "\n",
        "  # subtract the energy from the high price period\n",
        "  df['high'] = (df['Demand (kWh)'].loc[high_mask] * 0) - high_price_subtract\n",
        "  df['high'].fillna(0, inplace = True)\n",
        "\n",
        "  # add the energy to the low price period\n",
        "  df['low'] = (df['Demand (kWh)'].loc[low_mask] * 0) + low_price_add\n",
        "  df['low'].fillna(0, inplace = True)\n",
        "\n",
        "  # calculate the new column\n",
        "  df['Ideal Demand (kWh)'] = df['Demand (kWh)'] + df['high'] + df['low']\n",
        "\n",
        "  return df"
      ],
      "execution_count": null,
      "outputs": []
    },
    {
      "cell_type": "markdown",
      "metadata": {
        "id": "bUMW-mHyDF-_"
      },
      "source": [
        "4. Define the Variables for 25% and 75% households for all the seasons\n"
      ]
    },
    {
      "cell_type": "markdown",
      "metadata": {
        "id": "rkjQTQnTyQaJ"
      },
      "source": [
        "# Extra for now"
      ]
    },
    {
      "cell_type": "markdown",
      "metadata": {
        "id": "4eVl2RHy0nyr"
      },
      "source": [
        "4.1 Spring"
      ]
    },
    {
      "cell_type": "code",
      "metadata": {
        "id": "DLPtu4BP0nQI"
      },
      "source": [
        "# TOP 25%\n",
        "\n",
        "# define the high price time\n",
        "high_price_start_time_high_25_spring = datetime(year = int(year), month = 6, day = 5, hour=5, minute=30).time()\n",
        "high_price_end_time_high_25_spring = datetime(year = int(year), month = 6, day = 5, hour=9, minute=30).time()\n",
        "\n",
        "high_price_subtract_high_25_spring = 2  # define how much we are removing during the high price \n",
        "\n",
        "# define the low price time\n",
        "low_price_start_time_high_25_spring = datetime(year = int(year), month = 6, day = 5, hour=1, minute=30).time()\n",
        "low_price_end_time_high_25_spring = datetime(year = int(year), month = 6, day = 5, hour=5, minute=29).time()\n",
        "\n",
        "low_price_add_high_25_spring = 0.4  # define how much we are adding during the low price "
      ],
      "execution_count": null,
      "outputs": []
    },
    {
      "cell_type": "code",
      "metadata": {
        "id": "JRcn71mp0q0R"
      },
      "source": [
        "# BOTTOM 25%\n",
        "\n",
        "# define the high price time\n",
        "high_price_start_time_low_25_spring = datetime(year = int(year), month = 6, day = 5, hour=5, minute=30).time()\n",
        "high_price_end_time_low_25_spring = datetime(year = int(year), month = 6, day = 5, hour=9, minute=30).time()\n",
        "\n",
        "high_price_subtract_low_25_spring = ___  # define how much we are removing during the high price \n",
        "\n",
        "# define the low price time\n",
        "low_price_start_time_low_25_spring = datetime(year = int(year), month = 6, day = 5, hour=1, minute=30).time()\n",
        "low_price_end_time_low_25_spring = datetime(year = int(year), month = 6, day = 5, hour=5, minute=29).time()\n",
        "\n",
        "low_price_add_low_25_spring = ___  # define how much we are adding during the low price "
      ],
      "execution_count": null,
      "outputs": []
    },
    {
      "cell_type": "markdown",
      "metadata": {
        "id": "ZEbgMwW60C6E"
      },
      "source": [
        "4.2 Summer"
      ]
    },
    {
      "cell_type": "code",
      "metadata": {
        "id": "vHH2E0L1SRVm"
      },
      "source": [
        "# TOP 25%\n",
        "\n",
        "# define the high price time\n",
        "high_price_start_time_top_25_summer = datetime(year = int(year), month = 6, day = 5, hour=12, minute=30).time()\n",
        "high_price_end_time_top_25_summer = datetime(year = int(year), month = 6, day = 5, hour=20, minute=30).time()\n",
        "\n",
        "high_price_subtract_top_25_summer = 0.05  # define how much we are removing during the high price \n",
        "\n",
        "# define the low price time\n",
        "low_price_start_time_top_25_summer = datetime(year = int(year), month = 6, day = 5, hour=1, minute=30).time()\n",
        "low_price_end_time_top_25_summer = datetime(year = int(year), month = 6, day = 5, hour=5, minute=29).time()\n",
        "\n",
        "low_price_add_top_25_summer = 0.05  # define how much we are adding during the low price "
      ],
      "execution_count": null,
      "outputs": []
    },
    {
      "cell_type": "code",
      "metadata": {
        "id": "dy6pnGi_o14e",
        "colab": {
          "base_uri": "https://localhost:8080/"
        },
        "outputId": "21c0f298-51c5-443f-b39e-fce8293f2a73"
      },
      "source": [
        "summer_top_25_df = seasonal_low_high(summer_df, high_price_start_time_top_25_summer, high_price_end_time_top_25_summer, high_price_subtract_top_25_summer, \n",
        "                                     low_price_start_time_top_25_summer, low_price_end_time_top_25_summer, low_price_add_top_25_summer)"
      ],
      "execution_count": null,
      "outputs": [
        {
          "output_type": "stream",
          "text": [
            "/usr/local/lib/python3.6/dist-packages/ipykernel_launcher.py:10: SettingWithCopyWarning: \n",
            "A value is trying to be set on a copy of a slice from a DataFrame.\n",
            "Try using .loc[row_indexer,col_indexer] = value instead\n",
            "\n",
            "See the caveats in the documentation: https://pandas.pydata.org/pandas-docs/stable/user_guide/indexing.html#returning-a-view-versus-a-copy\n",
            "  # Remove the CWD from sys.path while we load stuff.\n",
            "/usr/local/lib/python3.6/dist-packages/pandas/core/series.py:4536: SettingWithCopyWarning: \n",
            "A value is trying to be set on a copy of a slice from a DataFrame\n",
            "\n",
            "See the caveats in the documentation: https://pandas.pydata.org/pandas-docs/stable/user_guide/indexing.html#returning-a-view-versus-a-copy\n",
            "  downcast=downcast,\n",
            "/usr/local/lib/python3.6/dist-packages/ipykernel_launcher.py:14: SettingWithCopyWarning: \n",
            "A value is trying to be set on a copy of a slice from a DataFrame.\n",
            "Try using .loc[row_indexer,col_indexer] = value instead\n",
            "\n",
            "See the caveats in the documentation: https://pandas.pydata.org/pandas-docs/stable/user_guide/indexing.html#returning-a-view-versus-a-copy\n",
            "  \n",
            "/usr/local/lib/python3.6/dist-packages/ipykernel_launcher.py:18: SettingWithCopyWarning: \n",
            "A value is trying to be set on a copy of a slice from a DataFrame.\n",
            "Try using .loc[row_indexer,col_indexer] = value instead\n",
            "\n",
            "See the caveats in the documentation: https://pandas.pydata.org/pandas-docs/stable/user_guide/indexing.html#returning-a-view-versus-a-copy\n"
          ],
          "name": "stderr"
        }
      ]
    },
    {
      "cell_type": "code",
      "metadata": {
        "id": "azBb1MLksGNj",
        "colab": {
          "base_uri": "https://localhost:8080/",
          "height": 350
        },
        "outputId": "b20c8258-a397-4fc5-ec14-013373c49fd5"
      },
      "source": [
        "n_start = 1\n",
        "n_end = 48\n",
        "\n",
        "plt.plot(summer_top_25_df['Date_Time'][n_start:n_end], summer_top_25_df['Demand (kWh)'][n_start:n_end])\n",
        "plt.plot(summer_top_25_df['Date_Time'][n_start:n_end], summer_top_25_df['Ideal Demand (kWh)'][n_start:n_end])\n",
        "plt.xticks(rotation = 60)"
      ],
      "execution_count": null,
      "outputs": [
        {
          "output_type": "execute_result",
          "data": {
            "text/plain": [
              "(array([736846.   , 736846.125, 736846.25 , 736846.375, 736846.5  ,\n",
              "        736846.625, 736846.75 , 736846.875, 736847.   ]),\n",
              " <a list of 9 Text major ticklabel objects>)"
            ]
          },
          "metadata": {
            "tags": []
          },
          "execution_count": 29
        },
        {
          "output_type": "display_data",
          "data": {
            "image/png": "[encoded data removed]",
            "text/plain": [
              "<Figure size 432x288 with 1 Axes>"
            ]
          },
          "metadata": {
            "tags": [],
            "needs_background": "light"
          }
        }
      ]
    },
    {
      "cell_type": "code",
      "metadata": {
        "id": "fJfRNw4r0M0p"
      },
      "source": [
        "# BOTTOM 25%\n",
        "\n",
        "# define the high price time\n",
        "high_price_start_time_low_25_summer = datetime(year = int(year), month = 6, day = 5, hour=5, minute=30).time()\n",
        "high_price_end_time_low_25_summer = datetime(year = int(year), month = 6, day = 5, hour=9, minute=30).time()\n",
        "\n",
        "high_price_subtract_low_25_summer = ___  # define how much we are removing during the high price \n",
        "\n",
        "# define the low price time\n",
        "low_price_start_time_low_25_summer = datetime(year = int(year), month = 6, day = 5, hour=1, minute=30).time()\n",
        "low_price_end_time_low_25_summer = datetime(year = int(year), month = 6, day = 5, hour=5, minute=29).time()\n",
        "\n",
        "low_price_add_low_25_summer = ___  # define how much we are adding during the low price "
      ],
      "execution_count": null,
      "outputs": []
    },
    {
      "cell_type": "markdown",
      "metadata": {
        "id": "mTTwzm8c0S-r"
      },
      "source": [
        "4.3 Autumn"
      ]
    },
    {
      "cell_type": "code",
      "metadata": {
        "id": "Q8Hln3sx0VCY"
      },
      "source": [
        "# TOP 25%\n",
        "\n",
        "# define the high price time\n",
        "high_price_start_time_top_25_autumn = datetime(year = int(year), month = 6, day = 5, hour=5, minute=30).time()\n",
        "high_price_end_time_top_25_autumn = datetime(year = int(year), month = 6, day = 5, hour=9, minute=30).time()\n",
        "\n",
        "high_price_subtract_top_25_autumn = ___  # define how much we are removing during the high price \n",
        "\n",
        "# define the low price time\n",
        "low_price_start_time_top_25_autumn = datetime(year = int(year), month = 6, day = 5, hour=1, minute=30).time()\n",
        "low_price_end_time_top_25_autumn = datetime(year = int(year), month = 6, day = 5, hour=5, minute=29).time()\n",
        "\n",
        "low_price_add_top_25_autumn = ___  # define how much we are adding during the low price "
      ],
      "execution_count": null,
      "outputs": []
    },
    {
      "cell_type": "code",
      "metadata": {
        "id": "FeIqJryB0V-S",
        "colab": {
          "base_uri": "https://localhost:8080/",
          "height": 132
        },
        "outputId": "5adead34-d512-4f0b-aea7-e9c949450c45"
      },
      "source": [
        "# BOTTOM 25%\n",
        "\n",
        "# define the high price time\n",
        "high_price_start_time_low_25_autumn = datetime(year = int(year), month = 6, day = 5, hour=5, minute=30).time()\n",
        "high_price_end_time_low_25_autumn= datetime(year = int(year), month = 6, day = 5, hour=9, minute=30).time()\n",
        "\n",
        "high_price_subtract_low_25_autumn = ___  # define how much we are removing during the high price \n",
        "\n",
        "# define the low price time\n",
        "low_price_start_time_low_25_autumn = datetime(year = int(year), month = 6, day = 5, hour=1, minute=30).time()\n",
        "low_price_end_time_low_25_autumn = datetime(year = int(year), month = 6, day = 5, hour=5, minute=29).time()\n",
        "\n",
        "low_price_add_low_25_autumn = ___  # define how much we are adding during the low price "
      ],
      "execution_count": null,
      "outputs": [
        {
          "output_type": "error",
          "ename": "SyntaxError",
          "evalue": "ignored",
          "traceback": [
            "\u001b[0;36m  File \u001b[0;32m\"<ipython-input-32-9cd1ee8f6374>\"\u001b[0;36m, line \u001b[0;32m5\u001b[0m\n\u001b[0;31m    high_price_end_time_low_25 _autumn= datetime(year = int(year), month = 6, day = 5, hour=9, minute=30).time()\u001b[0m\n\u001b[0m                                     ^\u001b[0m\n\u001b[0;31mSyntaxError\u001b[0m\u001b[0;31m:\u001b[0m invalid syntax\n"
          ]
        }
      ]
    },
    {
      "cell_type": "markdown",
      "metadata": {
        "id": "o1Lqtesz0amv"
      },
      "source": [
        "4.4 Winter"
      ]
    },
    {
      "cell_type": "markdown",
      "metadata": {
        "id": "cDnZb2P-DK3V"
      },
      "source": [
        "5. Concatenate all the dataframes together to form an annual demand profile"
      ]
    },
    {
      "cell_type": "code",
      "metadata": {
        "id": "kCPqcMTds3oA"
      },
      "source": [
        ""
      ],
      "execution_count": null,
      "outputs": []
    }
  ]
}