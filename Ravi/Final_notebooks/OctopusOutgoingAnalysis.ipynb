{
  "nbformat": 4,
  "nbformat_minor": 0,
  "metadata": {
    "colab": {
      "name": "OctopusOutgoingAnalysis.ipynb",
      "provenance": [],
      "toc_visible": true,
      "authorship_tag": "ABX9TyNt7cupIzIGvquPpuzaZdEr",
      "include_colab_link": true
    },
    "kernelspec": {
      "name": "python3",
      "display_name": "Python 3"
    }
  },
  "cells": [
    {
      "cell_type": "markdown",
      "metadata": {
        "id": "view-in-github",
        "colab_type": "text"
      },
      "source": [
        "<a href=\"https://colab.research.google.com/github/themathedges/3YP-Standalone-Kennington/blob/main/Ravi/Final_notebooks/OctopusOutgoingAnalysis.ipynb\" target=\"_parent\"><img src=\"https://colab.research.google.com/assets/colab-badge.svg\" alt=\"Open In Colab\"/></a>"
      ]
    },
    {
      "cell_type": "markdown",
      "metadata": {
        "id": "465lrna2US15"
      },
      "source": [
        "# Octopus Outgoing Price Analysis"
      ]
    },
    {
      "cell_type": "markdown",
      "metadata": {
        "id": "IpfaKJmVUXrK"
      },
      "source": [
        "**Author:** Ravi Kohli\n",
        "\n",
        "**Date:** 19/02/2021"
      ]
    },
    {
      "cell_type": "markdown",
      "metadata": {
        "id": "ZUTLdRwHUktz"
      },
      "source": [
        "**Goal:** The goal of this notebook is to:\n",
        "- Analyse the pricing data from the Octopus Outgoing tariff such that we can set a minimum price level for our tariffs"
      ]
    },
    {
      "cell_type": "code",
      "metadata": {
        "colab": {
          "base_uri": "https://localhost:8080/"
        },
        "id": "7i2b_FDmUXfg",
        "outputId": "14dd331c-6c69-4c2a-9f8f-786d177808d6"
      },
      "source": [
        "# Mounting the Google Drive\n",
        "from google.colab import drive\n",
        "drive.mount('/content/drive')"
      ],
      "execution_count": null,
      "outputs": [
        {
          "output_type": "stream",
          "text": [
            "Mounted at /content/drive\n"
          ],
          "name": "stdout"
        }
      ]
    },
    {
      "cell_type": "code",
      "metadata": {
        "id": "6nAlvti6TnmS"
      },
      "source": [
        "# import the modules\n",
        "import numpy as np\n",
        "import pandas as pd\n",
        "import matplotlib\n",
        "import matplotlib.pyplot as plt\n",
        "import matplotlib.dates as mdates"
      ],
      "execution_count": null,
      "outputs": []
    },
    {
      "cell_type": "code",
      "metadata": {
        "id": "3307jFDWUy7I"
      },
      "source": [
        "# import the price data\n",
        "path = '/content/drive/MyDrive/3YP/data/'\n",
        "filename = 'outgoing_rates.xlsx - South Eastern.csv'\n",
        "price_df = pd.read_csv(path + filename)\n",
        "#price_df['local_time_datetime'] = pd.to_datetime(price_df['local_time'], errors='coerce')\n",
        "price_df['local_time'] = price_df['local_time'].apply(lambda x: pd.Timestamp(x))"
      ],
      "execution_count": null,
      "outputs": []
    },
    {
      "cell_type": "code",
      "metadata": {
        "id": "yuQQUPkWVvj1"
      },
      "source": [
        "# define the timings for the different times\n",
        "morning_end = pd.Timestamp(year = 2018, month = 1, day = 1, hour = 7)\n",
        "evening_start =  pd.Timestamp(year = 2018, month = 1, day = 1, hour = 16)\n",
        "evening_end =  pd.Timestamp(year = 2018, month = 1, day = 1, hour = 22, minute=30)"
      ],
      "execution_count": null,
      "outputs": []
    },
    {
      "cell_type": "code",
      "metadata": {
        "id": "kPPpiu9SU88S"
      },
      "source": [
        "# define the masks\n",
        "evening_mask = [True if ((price_df['local_time'][i].time() < evening_end.time() ) & (price_df['local_time'][i].time() >= evening_start.time())) else False for i in range(len(price_df)) ]\n",
        "afternoon_mask = [True if ((price_df['local_time'][i].time() < evening_start.time() ) & (price_df['local_time'][i].time() >= morning_end.time())) else False for i in range(len(price_df)) ]\n",
        "morning_mask = [True if ((price_df['local_time'][i].time() < morning_end.time() ) | (price_df['local_time'][i].time() >= evening_end.time())) else False for i in range(len(price_df)) ]"
      ],
      "execution_count": null,
      "outputs": []
    },
    {
      "cell_type": "code",
      "metadata": {
        "id": "6b7kVjrDVYoL"
      },
      "source": [
        "# extract those dfs\n",
        "evening_df = price_df.loc[evening_mask]\n",
        "morning_df = price_df.loc[morning_mask]\n",
        "afternoon_df = price_df.loc[afternoon_mask]"
      ],
      "execution_count": null,
      "outputs": []
    },
    {
      "cell_type": "code",
      "metadata": {
        "colab": {
          "base_uri": "https://localhost:8080/",
          "height": 317
        },
        "id": "naexysY-X857",
        "outputId": "8cecd8b4-3c86-4e18-aa93-834e89a0215a"
      },
      "source": [
        "print(\"         Morning Data Frame\")\n",
        "morning_df.describe()"
      ],
      "execution_count": null,
      "outputs": [
        {
          "output_type": "stream",
          "text": [
            "         Morning Data Frame\n"
          ],
          "name": "stdout"
        },
        {
          "output_type": "execute_result",
          "data": {
            "text/html": [
              "<div>\n",
              "<style scoped>\n",
              "    .dataframe tbody tr th:only-of-type {\n",
              "        vertical-align: middle;\n",
              "    }\n",
              "\n",
              "    .dataframe tbody tr th {\n",
              "        vertical-align: top;\n",
              "    }\n",
              "\n",
              "    .dataframe thead th {\n",
              "        text-align: right;\n",
              "    }\n",
              "</style>\n",
              "<table border=\"1\" class=\"dataframe\">\n",
              "  <thead>\n",
              "    <tr style=\"text-align: right;\">\n",
              "      <th></th>\n",
              "      <th>Outgoing Agile Rate (p/kWh)</th>\n",
              "    </tr>\n",
              "  </thead>\n",
              "  <tbody>\n",
              "    <tr>\n",
              "      <th>count</th>\n",
              "      <td>8496.000000</td>\n",
              "    </tr>\n",
              "    <tr>\n",
              "      <th>mean</th>\n",
              "      <td>5.608525</td>\n",
              "    </tr>\n",
              "    <tr>\n",
              "      <th>std</th>\n",
              "      <td>0.917556</td>\n",
              "    </tr>\n",
              "    <tr>\n",
              "      <th>min</th>\n",
              "      <td>0.050000</td>\n",
              "    </tr>\n",
              "    <tr>\n",
              "      <th>25%</th>\n",
              "      <td>5.050000</td>\n",
              "    </tr>\n",
              "    <tr>\n",
              "      <th>50%</th>\n",
              "      <td>5.520000</td>\n",
              "    </tr>\n",
              "    <tr>\n",
              "      <th>75%</th>\n",
              "      <td>6.170000</td>\n",
              "    </tr>\n",
              "    <tr>\n",
              "      <th>max</th>\n",
              "      <td>12.740000</td>\n",
              "    </tr>\n",
              "  </tbody>\n",
              "</table>\n",
              "</div>"
            ],
            "text/plain": [
              "       Outgoing Agile Rate (p/kWh)\n",
              "count                  8496.000000\n",
              "mean                      5.608525\n",
              "std                       0.917556\n",
              "min                       0.050000\n",
              "25%                       5.050000\n",
              "50%                       5.520000\n",
              "75%                       6.170000\n",
              "max                      12.740000"
            ]
          },
          "metadata": {
            "tags": []
          },
          "execution_count": 7
        }
      ]
    },
    {
      "cell_type": "code",
      "metadata": {
        "colab": {
          "base_uri": "https://localhost:8080/",
          "height": 317
        },
        "id": "Studrcp-YUgm",
        "outputId": "683b8c43-c151-4f38-e1b3-2775f3abf6d1"
      },
      "source": [
        "print(\"         Afternoon Data Frame\")\n",
        "afternoon_df.describe()"
      ],
      "execution_count": null,
      "outputs": [
        {
          "output_type": "stream",
          "text": [
            "         Afternoon Data Frame\n"
          ],
          "name": "stdout"
        },
        {
          "output_type": "execute_result",
          "data": {
            "text/html": [
              "<div>\n",
              "<style scoped>\n",
              "    .dataframe tbody tr th:only-of-type {\n",
              "        vertical-align: middle;\n",
              "    }\n",
              "\n",
              "    .dataframe tbody tr th {\n",
              "        vertical-align: top;\n",
              "    }\n",
              "\n",
              "    .dataframe thead th {\n",
              "        text-align: right;\n",
              "    }\n",
              "</style>\n",
              "<table border=\"1\" class=\"dataframe\">\n",
              "  <thead>\n",
              "    <tr style=\"text-align: right;\">\n",
              "      <th></th>\n",
              "      <th>Outgoing Agile Rate (p/kWh)</th>\n",
              "    </tr>\n",
              "  </thead>\n",
              "  <tbody>\n",
              "    <tr>\n",
              "      <th>count</th>\n",
              "      <td>9000.000000</td>\n",
              "    </tr>\n",
              "    <tr>\n",
              "      <th>mean</th>\n",
              "      <td>6.325920</td>\n",
              "    </tr>\n",
              "    <tr>\n",
              "      <th>std</th>\n",
              "      <td>1.216465</td>\n",
              "    </tr>\n",
              "    <tr>\n",
              "      <th>min</th>\n",
              "      <td>2.970000</td>\n",
              "    </tr>\n",
              "    <tr>\n",
              "      <th>25%</th>\n",
              "      <td>5.430000</td>\n",
              "    </tr>\n",
              "    <tr>\n",
              "      <th>50%</th>\n",
              "      <td>6.280000</td>\n",
              "    </tr>\n",
              "    <tr>\n",
              "      <th>75%</th>\n",
              "      <td>7.020000</td>\n",
              "    </tr>\n",
              "    <tr>\n",
              "      <th>max</th>\n",
              "      <td>17.910000</td>\n",
              "    </tr>\n",
              "  </tbody>\n",
              "</table>\n",
              "</div>"
            ],
            "text/plain": [
              "       Outgoing Agile Rate (p/kWh)\n",
              "count                  9000.000000\n",
              "mean                      6.325920\n",
              "std                       1.216465\n",
              "min                       2.970000\n",
              "25%                       5.430000\n",
              "50%                       6.280000\n",
              "75%                       7.020000\n",
              "max                      17.910000"
            ]
          },
          "metadata": {
            "tags": []
          },
          "execution_count": 8
        }
      ]
    },
    {
      "cell_type": "code",
      "metadata": {
        "colab": {
          "base_uri": "https://localhost:8080/",
          "height": 317
        },
        "id": "OFAa2Y5YXb4W",
        "outputId": "4f9963d6-d794-4282-bba0-2b2b66b5438e"
      },
      "source": [
        "print(\"         Evening Data Frame\")\n",
        "evening_df.describe()"
      ],
      "execution_count": null,
      "outputs": [
        {
          "output_type": "stream",
          "text": [
            "         Evening Data Frame\n"
          ],
          "name": "stdout"
        },
        {
          "output_type": "execute_result",
          "data": {
            "text/html": [
              "<div>\n",
              "<style scoped>\n",
              "    .dataframe tbody tr th:only-of-type {\n",
              "        vertical-align: middle;\n",
              "    }\n",
              "\n",
              "    .dataframe tbody tr th {\n",
              "        vertical-align: top;\n",
              "    }\n",
              "\n",
              "    .dataframe thead th {\n",
              "        text-align: right;\n",
              "    }\n",
              "</style>\n",
              "<table border=\"1\" class=\"dataframe\">\n",
              "  <thead>\n",
              "    <tr style=\"text-align: right;\">\n",
              "      <th></th>\n",
              "      <th>Outgoing Agile Rate (p/kWh)</th>\n",
              "    </tr>\n",
              "  </thead>\n",
              "  <tbody>\n",
              "    <tr>\n",
              "      <th>count</th>\n",
              "      <td>6500.000000</td>\n",
              "    </tr>\n",
              "    <tr>\n",
              "      <th>mean</th>\n",
              "      <td>10.582731</td>\n",
              "    </tr>\n",
              "    <tr>\n",
              "      <th>std</th>\n",
              "      <td>4.348780</td>\n",
              "    </tr>\n",
              "    <tr>\n",
              "      <th>min</th>\n",
              "      <td>4.200000</td>\n",
              "    </tr>\n",
              "    <tr>\n",
              "      <th>25%</th>\n",
              "      <td>6.650000</td>\n",
              "    </tr>\n",
              "    <tr>\n",
              "      <th>50%</th>\n",
              "      <td>8.640000</td>\n",
              "    </tr>\n",
              "    <tr>\n",
              "      <th>75%</th>\n",
              "      <td>14.630000</td>\n",
              "    </tr>\n",
              "    <tr>\n",
              "      <th>max</th>\n",
              "      <td>36.810000</td>\n",
              "    </tr>\n",
              "  </tbody>\n",
              "</table>\n",
              "</div>"
            ],
            "text/plain": [
              "       Outgoing Agile Rate (p/kWh)\n",
              "count                  6500.000000\n",
              "mean                     10.582731\n",
              "std                       4.348780\n",
              "min                       4.200000\n",
              "25%                       6.650000\n",
              "50%                       8.640000\n",
              "75%                      14.630000\n",
              "max                      36.810000"
            ]
          },
          "metadata": {
            "tags": []
          },
          "execution_count": 9
        }
      ]
    },
    {
      "cell_type": "code",
      "metadata": {
        "colab": {
          "base_uri": "https://localhost:8080/",
          "height": 317
        },
        "id": "aHDnZdkPYeri",
        "outputId": "0f15ae57-aa7a-4821-a225-7eefa26c7a48"
      },
      "source": [
        "print(\"         Whole Year Data Frame\")\n",
        "price_df.describe()"
      ],
      "execution_count": null,
      "outputs": [
        {
          "output_type": "stream",
          "text": [
            "         Whole Year Data Frame\n"
          ],
          "name": "stdout"
        },
        {
          "output_type": "execute_result",
          "data": {
            "text/html": [
              "<div>\n",
              "<style scoped>\n",
              "    .dataframe tbody tr th:only-of-type {\n",
              "        vertical-align: middle;\n",
              "    }\n",
              "\n",
              "    .dataframe tbody tr th {\n",
              "        vertical-align: top;\n",
              "    }\n",
              "\n",
              "    .dataframe thead th {\n",
              "        text-align: right;\n",
              "    }\n",
              "</style>\n",
              "<table border=\"1\" class=\"dataframe\">\n",
              "  <thead>\n",
              "    <tr style=\"text-align: right;\">\n",
              "      <th></th>\n",
              "      <th>Outgoing Agile Rate (p/kWh)</th>\n",
              "    </tr>\n",
              "  </thead>\n",
              "  <tbody>\n",
              "    <tr>\n",
              "      <th>count</th>\n",
              "      <td>23996.000000</td>\n",
              "    </tr>\n",
              "    <tr>\n",
              "      <th>mean</th>\n",
              "      <td>7.224998</td>\n",
              "    </tr>\n",
              "    <tr>\n",
              "      <th>std</th>\n",
              "      <td>3.202776</td>\n",
              "    </tr>\n",
              "    <tr>\n",
              "      <th>min</th>\n",
              "      <td>0.050000</td>\n",
              "    </tr>\n",
              "    <tr>\n",
              "      <th>25%</th>\n",
              "      <td>5.370000</td>\n",
              "    </tr>\n",
              "    <tr>\n",
              "      <th>50%</th>\n",
              "      <td>6.190000</td>\n",
              "    </tr>\n",
              "    <tr>\n",
              "      <th>75%</th>\n",
              "      <td>7.310000</td>\n",
              "    </tr>\n",
              "    <tr>\n",
              "      <th>max</th>\n",
              "      <td>36.810000</td>\n",
              "    </tr>\n",
              "  </tbody>\n",
              "</table>\n",
              "</div>"
            ],
            "text/plain": [
              "       Outgoing Agile Rate (p/kWh)\n",
              "count                 23996.000000\n",
              "mean                      7.224998\n",
              "std                       3.202776\n",
              "min                       0.050000\n",
              "25%                       5.370000\n",
              "50%                       6.190000\n",
              "75%                       7.310000\n",
              "max                      36.810000"
            ]
          },
          "metadata": {
            "tags": []
          },
          "execution_count": 10
        }
      ]
    },
    {
      "cell_type": "markdown",
      "metadata": {
        "id": "w9u2tVnNcykv"
      },
      "source": [
        "Exporting the data to csv so it can be uploaded to GitHub"
      ]
    },
    {
      "cell_type": "code",
      "metadata": {
        "id": "a8uqgFO-cF7S"
      },
      "source": [
        "price_df.columns = ['Date_Time', 'Outgoing Agile Rate (p/kWh)']"
      ],
      "execution_count": null,
      "outputs": []
    },
    {
      "cell_type": "code",
      "metadata": {
        "id": "AJeOSWn_dPHM"
      },
      "source": [
        "price_df.to_csv('/content/drive/MyDrive/3YP/data/demand_response_final/octopus_outgoing_2018_SE.csv', index = False, header = True)"
      ],
      "execution_count": null,
      "outputs": []
    },
    {
      "cell_type": "code",
      "metadata": {
        "id": "O-83uECmdXTM"
      },
      "source": [
        ""
      ],
      "execution_count": null,
      "outputs": []
    }
  ]
}