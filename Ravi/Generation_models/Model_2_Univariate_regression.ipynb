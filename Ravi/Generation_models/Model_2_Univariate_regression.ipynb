{
  "nbformat": 4,
  "nbformat_minor": 0,
  "metadata": {
    "colab": {
      "name": "Model_2_Univariate_regression.ipynb",
      "provenance": [],
      "collapsed_sections": [],
      "toc_visible": true,
      "authorship_tag": "ABX9TyOfEn5IZxSHFcbX0rJlUsCD",
      "include_colab_link": true
    },
    "kernelspec": {
      "name": "python3",
      "display_name": "Python 3"
    }
  },
  "cells": [
    {
      "cell_type": "markdown",
      "metadata": {
        "id": "view-in-github",
        "colab_type": "text"
      },
      "source": [
        "<a href=\"https://colab.research.google.com/github/themathedges/3YP-Standalone-Kennington/blob/main/Ravi/Generation_models/Model_2_Univariate_regression.ipynb\" target=\"_parent\"><img src=\"https://colab.research.google.com/assets/colab-badge.svg\" alt=\"Open In Colab\"/></a>"
      ]
    },
    {
      "cell_type": "markdown",
      "metadata": {
        "id": "rXBy0wFsQtS9"
      },
      "source": [
        "# Forecasting Model 2: Univariate Regression"
      ]
    },
    {
      "cell_type": "markdown",
      "metadata": {
        "id": "Zcf4KHgQQ0fL"
      },
      "source": [
        "**Author:** Ravi Kohli\n",
        "\n",
        "**Date:** December 20th, 2020\n",
        "\n",
        "**College:** Christ Church"
      ]
    },
    {
      "cell_type": "markdown",
      "metadata": {
        "id": "-ELnKK_uQ_9E"
      },
      "source": [
        "**Goal:**\n",
        "- To conduct a univariate regression model to forecast future generation"
      ]
    },
    {
      "cell_type": "code",
      "metadata": {
        "colab": {
          "base_uri": "https://localhost:8080/"
        },
        "id": "b5Q_ZWw9Fx6G",
        "outputId": "d70537b4-e5e4-4630-be7d-86f13527ccda"
      },
      "source": [
        "# Mounting the Google Drive\n",
        "from google.colab import drive\n",
        "drive.mount('/content/drive')"
      ],
      "execution_count": null,
      "outputs": [
        {
          "output_type": "stream",
          "text": [
            "Mounted at /content/drive\n"
          ],
          "name": "stdout"
        }
      ]
    },
    {
      "cell_type": "code",
      "metadata": {
        "id": "UhMgGIYkFzTT"
      },
      "source": [
        "# import the modules\n",
        "import numpy as np\n",
        "import pandas as pd\n",
        "import matplotlib\n",
        "import matplotlib.pyplot as plt\n",
        "import matplotlib.dates as mdates\n",
        "from scipy.stats import pearsonr\n",
        "import pickle"
      ],
      "execution_count": null,
      "outputs": []
    },
    {
      "cell_type": "code",
      "metadata": {
        "id": "S3ciBfl_i0Y1"
      },
      "source": [
        "# unpickle the precipitation monthly/ annual dataframe\n",
        "path = '/content/drive/My Drive/3YP/data/'\n",
        "filename = 'precipitation_data_processed'\n",
        "infile = open(path+filename, 'rb')\n",
        "precipitation_monthly_df = pickle.load(infile)\n",
        "infile.close()"
      ],
      "execution_count": null,
      "outputs": []
    },
    {
      "cell_type": "code",
      "metadata": {
        "id": "4xTgSzDQi9ra"
      },
      "source": [
        "precip_overlay_part1 = precipitation_monthly_df.iloc[250][12:13]          # getting the December 2018 data\n",
        "precip_overlay_part2 = precipitation_monthly_df.iloc[251][1:11]           # getting the 2019 data\n",
        "model_2_precip = pd.concat([precip_overlay_part1, precip_overlay_part2])  # combining the precipitation data to form montly data"
      ],
      "execution_count": null,
      "outputs": []
    },
    {
      "cell_type": "code",
      "metadata": {
        "colab": {
          "base_uri": "https://localhost:8080/"
        },
        "id": "dKA_T-gBOTKo",
        "outputId": "91f117a7-a92a-4095-8a86-a0f4c1a35756"
      },
      "source": [
        "model_2_precip"
      ],
      "execution_count": null,
      "outputs": [
        {
          "output_type": "execute_result",
          "data": {
            "text/plain": [
              "Dec     76.1\n",
              "Jan     58.6\n",
              "Feb     24.1\n",
              "Mar     83.4\n",
              "Apr     52.8\n",
              "May     86.2\n",
              "June     2.5\n",
              "July    23.2\n",
              "Aug     43.2\n",
              "Sept    30.3\n",
              "Oct     50.1\n",
              "dtype: object"
            ]
          },
          "metadata": {
            "tags": []
          },
          "execution_count": 7
        }
      ]
    },
    {
      "cell_type": "code",
      "metadata": {
        "id": "jtsDLCrtAR71"
      },
      "source": [
        "# the generations (kWh) array\n",
        "monthly_sandford_generation = np.array([181051, 190126, 204585, 207951, 154112, 49882, 75884, 11172, 22088, 18483, 96626]) # data is in kWh"
      ],
      "execution_count": null,
      "outputs": []
    },
    {
      "cell_type": "code",
      "metadata": {
        "id": "jwZkdkSAISAJ"
      },
      "source": [
        "# now we conduct a linear regression analysis\n",
        "from sklearn.linear_model import LinearRegression\n",
        "\n",
        "# get the feature vector x and the target vector y\n",
        "uni_var_x = np.array(model_2_precip.values).reshape((-1, 1))\n",
        "uni_var_y = np.array(monthly_sandford_generation)"
      ],
      "execution_count": null,
      "outputs": []
    },
    {
      "cell_type": "code",
      "metadata": {
        "colab": {
          "base_uri": "https://localhost:8080/"
        },
        "id": "OTx0wZs0JcMH",
        "outputId": "bb6bb739-d011-488b-a5a6-007b97568b8d"
      },
      "source": [
        "univar_model_2 = LinearRegression()\n",
        "univar_model_2.fit(uni_var_x, uni_var_y)"
      ],
      "execution_count": null,
      "outputs": [
        {
          "output_type": "execute_result",
          "data": {
            "text/plain": [
              "LinearRegression(copy_X=True, fit_intercept=True, n_jobs=None, normalize=False)"
            ]
          },
          "metadata": {
            "tags": []
          },
          "execution_count": 10
        }
      ]
    },
    {
      "cell_type": "code",
      "metadata": {
        "colab": {
          "base_uri": "https://localhost:8080/"
        },
        "id": "fktXtuBoJdlX",
        "outputId": "aad8022c-74cb-4011-8d42-7c413c0fed5a"
      },
      "source": [
        "model2_r_sq = univar_model_2.score(uni_var_x, uni_var_y)\n",
        "print('coefficient of determination:', model2_r_sq)"
      ],
      "execution_count": null,
      "outputs": [
        {
          "output_type": "stream",
          "text": [
            "coefficient of determination: 0.14036956205816553\n"
          ],
          "name": "stdout"
        }
      ]
    },
    {
      "cell_type": "code",
      "metadata": {
        "colab": {
          "base_uri": "https://localhost:8080/"
        },
        "id": "8xJ_xwAHdjv5",
        "outputId": "f0130e5e-c21c-4376-9687-75963a1eb91f"
      },
      "source": [
        "print(univar_model_2.intercept_, univar_model_2.coef_)"
      ],
      "execution_count": null,
      "outputs": [
        {
          "output_type": "stream",
          "text": [
            "56948.163955594035 [1103.73269838]\n"
          ],
          "name": "stdout"
        }
      ]
    },
    {
      "cell_type": "code",
      "metadata": {
        "colab": {
          "base_uri": "https://localhost:8080/"
        },
        "id": "ja6Z6UFkd3bP",
        "outputId": "5dc19a31-0a3d-4103-fe5a-3fa8b6a20f4e"
      },
      "source": [
        "# use the monthly precipitation data\n",
        "x_uni_var_model_2_target = np.array([88.276, 67.976, 27.956, 83.4, 52.8, 86.2, 2, 18.56, 34.56, 30.3, 50.1]).reshape((-1, 1))\n",
        "model_2_predict = univar_model_2.predict(x_uni_var_model_2_target)\n",
        "print(model_2_predict, sum(model_2_predict))"
      ],
      "execution_count": null,
      "outputs": [
        {
          "output_type": "stream",
          "text": [
            "[154381.27163743 131975.4978604   87804.11527139 148999.47100015\n",
            " 115225.25042985 152089.9225556   59155.62935235  77433.44283745\n",
            "  95093.16601147  90391.26471639 112245.17214423] 1224794.2038167163\n"
          ],
          "name": "stdout"
        }
      ]
    },
    {
      "cell_type": "code",
      "metadata": {
        "colab": {
          "base_uri": "https://localhost:8080/",
          "height": 280
        },
        "id": "uOALX1ELecWV",
        "outputId": "e47c8374-614b-4a66-8d53-0b967338f26b"
      },
      "source": [
        "plt.plot(model_2_predict)"
      ],
      "execution_count": null,
      "outputs": [
        {
          "output_type": "execute_result",
          "data": {
            "text/plain": [
              "[<matplotlib.lines.Line2D at 0x7fca9550f438>]"
            ]
          },
          "metadata": {
            "tags": []
          },
          "execution_count": 14
        },
        {
          "output_type": "display_data",
          "data": {
            "image/png": "[encoded data removed]",
            "text/plain": [
              "<Figure size 432x288 with 1 Axes>"
            ]
          },
          "metadata": {
            "tags": [],
            "needs_background": "light"
          }
        }
      ]
    },
    {
      "cell_type": "code",
      "metadata": {
        "colab": {
          "base_uri": "https://localhost:8080/"
        },
        "id": "UF-LFlFUTla5",
        "outputId": "7061a68d-a2fc-42fb-b719-d78cde6208ae"
      },
      "source": [
        "((model_2_predict - monthly_sandford_generation) / monthly_sandford_generation) * 100"
      ],
      "execution_count": null,
      "outputs": [
        {
          "output_type": "execute_result",
          "data": {
            "text/plain": [
              "array([-14.73050597, -30.5852446 , -57.08184116, -28.34875956,\n",
              "       -25.23278497, 204.89940771, -22.04466112, 593.10278229,\n",
              "       330.51958535, 389.05082896,  16.16456455])"
            ]
          },
          "metadata": {
            "tags": []
          },
          "execution_count": 15
        }
      ]
    },
    {
      "cell_type": "code",
      "metadata": {
        "colab": {
          "base_uri": "https://localhost:8080/"
        },
        "id": "WfDvC2V5ejBg",
        "outputId": "af990732-38ec-4df6-ed48-713f4707da5c"
      },
      "source": [
        "sum(monthly_sandford_generation)"
      ],
      "execution_count": null,
      "outputs": [
        {
          "output_type": "execute_result",
          "data": {
            "text/plain": [
              "1211960"
            ]
          },
          "metadata": {
            "tags": []
          },
          "execution_count": 16
        }
      ]
    },
    {
      "cell_type": "code",
      "metadata": {
        "id": "DtrcBaxwF53f"
      },
      "source": [
        ""
      ],
      "execution_count": null,
      "outputs": []
    }
  ]
}