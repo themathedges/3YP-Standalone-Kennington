{
  "nbformat": 4,
  "nbformat_minor": 0,
  "metadata": {
    "colab": {
      "name": "Model_3_Multivariate_Regression.ipynb",
      "provenance": [],
      "authorship_tag": "ABX9TyMJAdZhD3TnY77dIwu7OBpu",
      "include_colab_link": true
    },
    "kernelspec": {
      "name": "python3",
      "display_name": "Python 3"
    }
  },
  "cells": [
    {
      "cell_type": "markdown",
      "metadata": {
        "id": "view-in-github",
        "colab_type": "text"
      },
      "source": [
        "<a href=\"https://colab.research.google.com/github/themathedges/3YP-Standalone-Kennington/blob/main/Ravi/Sanford_Generation_models/Model_3_Multivariate_Regression.ipynb\" target=\"_parent\"><img src=\"https://colab.research.google.com/assets/colab-badge.svg\" alt=\"Open In Colab\"/></a>"
      ]
    },
    {
      "cell_type": "markdown",
      "metadata": {
        "id": "G-Rwo1ZObTcd"
      },
      "source": [
        "# Model 3: Multivariate Regression"
      ]
    },
    {
      "cell_type": "markdown",
      "metadata": {
        "id": "Z1sMmM5NbPyV"
      },
      "source": [
        "**Author:** Ravi Kohli\n",
        "\n",
        "**Date:** December 21st, 2020\n",
        "\n",
        "**College:** Christ Church"
      ]
    },
    {
      "cell_type": "markdown",
      "metadata": {
        "id": "vLN4P4QAb8FJ"
      },
      "source": [
        "**Goal:**\n",
        "- To make a very simple multivariate linear regression monthly model to forecast the future generation profile of Sandford Hydro"
      ]
    },
    {
      "cell_type": "code",
      "metadata": {
        "colab": {
          "base_uri": "https://localhost:8080/"
        },
        "id": "hK_NM4gRbMei",
        "outputId": "b25ea724-fcf4-4354-b2e3-e5ea1237d5a8"
      },
      "source": [
        "# Mounting the Google Drive\n",
        "from google.colab import drive\n",
        "drive.mount('/content/drive')"
      ],
      "execution_count": null,
      "outputs": [
        {
          "output_type": "stream",
          "text": [
            "Drive already mounted at /content/drive; to attempt to forcibly remount, call drive.mount(\"/content/drive\", force_remount=True).\n"
          ],
          "name": "stdout"
        }
      ]
    },
    {
      "cell_type": "code",
      "metadata": {
        "id": "A7p3DYTEcLh3"
      },
      "source": [
        "# import the modules\n",
        "import numpy as np\n",
        "import pandas as pd\n",
        "import matplotlib\n",
        "import matplotlib.pyplot as plt\n",
        "import matplotlib.dates as mdates\n",
        "from scipy.stats import pearsonr\n",
        "import pickle\n",
        "from sklearn.linear_model import LinearRegression"
      ],
      "execution_count": null,
      "outputs": []
    },
    {
      "cell_type": "markdown",
      "metadata": {
        "id": "WQPcrL_scZBm"
      },
      "source": [
        "## Collecting the Data"
      ]
    },
    {
      "cell_type": "markdown",
      "metadata": {
        "id": "AyPbqnm_ccL6"
      },
      "source": [
        "### Total Monthly Precipitation"
      ]
    },
    {
      "cell_type": "code",
      "metadata": {
        "id": "7_4xRgQ_cUp4"
      },
      "source": [
        "# unpickle the precipitation monthly/ annual dataframe\n",
        "path = '/content/drive/My Drive/3YP/data/'\n",
        "filename = 'precipitation_data_processed'\n",
        "infile = open(path+filename, 'rb')\n",
        "precipitation_monthly_df = pickle.load(infile)\n",
        "infile.close()"
      ],
      "execution_count": null,
      "outputs": []
    },
    {
      "cell_type": "code",
      "metadata": {
        "id": "U8_b9XsWcfrn"
      },
      "source": [
        "precip_overlay_part1 = precipitation_monthly_df.iloc[250][12:13]          # getting the December 2018 data\n",
        "precip_overlay_part2 = precipitation_monthly_df.iloc[251][1:11]           # getting the 2019 data\n",
        "model_3_precip = pd.concat([precip_overlay_part1, precip_overlay_part2])  # combining the precipitation data to form montly data"
      ],
      "execution_count": null,
      "outputs": []
    },
    {
      "cell_type": "code",
      "metadata": {
        "id": "Ka1nUvCpc0q0"
      },
      "source": [
        "# monthly precipitation data future forecast data\n",
        "precip_target = np.array([88.276, 67.976, 27.956, 83.4, 52.8, 86.2, 2, 18.56, 34.56, 30.3, 50.1])"
      ],
      "execution_count": null,
      "outputs": []
    },
    {
      "cell_type": "markdown",
      "metadata": {
        "id": "1fLpA1kZc6PK"
      },
      "source": [
        "### Average Monthly Temperature"
      ]
    },
    {
      "cell_type": "code",
      "metadata": {
        "id": "r_HB2GiUdL6v"
      },
      "source": [
        "# unpickle the temperature daily dataframe\n",
        "path = '/content/drive/My Drive/3YP/data/'\n",
        "filename = 'radcliffe_daily_temperature_data_processed'\n",
        "infile = open(path+filename, 'rb')\n",
        "temperature_daily_df = pickle.load(infile)\n",
        "infile.close()"
      ],
      "execution_count": null,
      "outputs": []
    },
    {
      "cell_type": "code",
      "metadata": {
        "id": "ZsH1ii9gdc-J"
      },
      "source": [
        "# resample the daily dataframe to form a monthly average dataframe\n",
        "temperature_monthly_df = temperature_daily_df.resample('M', on='Date').mean()"
      ],
      "execution_count": null,
      "outputs": []
    },
    {
      "cell_type": "code",
      "metadata": {
        "id": "Q1jFOcFSd5EE"
      },
      "source": [
        "# form a mask to extract the relevant rows from the data\n",
        "# format of mask: YYYY-MM-DD\n",
        "model_3_temp_mask_start = pd.to_datetime('2018-12-01')\n",
        "model_3_temp_mask_end = pd.to_datetime('2019-10-31')\n",
        "\n",
        "model_3_temp_mask = (temperature_monthly_df.index >= model_3_temp_mask_start) & (temperature_monthly_df.index <= model_3_temp_mask_end)\n",
        "\n",
        "# extract the rows from the dataframe by using the mask\n",
        "model_3_temp_extract = temperature_monthly_df.loc[model_3_temp_mask]"
      ],
      "execution_count": null,
      "outputs": []
    },
    {
      "cell_type": "code",
      "metadata": {
        "id": "jPvU6k4whwDK"
      },
      "source": [
        "# the array that stores the future temperature data\n",
        "temp_future = np.array([9.75126, 6.419, 9.40114, 8.88065, 9.66667, 12.6581, 17.3167, 20.7897, 20.2316, 17.2, 12.6348])    # data is in degrees celsius"
      ],
      "execution_count": null,
      "outputs": []
    },
    {
      "cell_type": "markdown",
      "metadata": {
        "id": "Su9wW6_tcl8E"
      },
      "source": [
        "### Total Monthly Generation"
      ]
    },
    {
      "cell_type": "code",
      "metadata": {
        "id": "OiYIT9B7cogr"
      },
      "source": [
        "# the generations (kWh) array\n",
        "monthly_sandford_generation = np.array([181051, 190126, 204585, 207951, 154112, 49882, 75884, 11172, 22088, 18483, 96626]) # data is in kWh"
      ],
      "execution_count": null,
      "outputs": []
    },
    {
      "cell_type": "markdown",
      "metadata": {
        "id": "VdFJBRbkcs-L"
      },
      "source": [
        "## Multivariate Regression Analysis"
      ]
    },
    {
      "cell_type": "code",
      "metadata": {
        "id": "yWqsPJ4KcwHK"
      },
      "source": [
        "model_3 = LinearRegression()"
      ],
      "execution_count": null,
      "outputs": []
    },
    {
      "cell_type": "code",
      "metadata": {
        "id": "vY0jZ1yMfIyu"
      },
      "source": [
        "model_3_df = pd.DataFrame([model_3_temp_extract.index, model_3_temp_extract['Daily Tmean °C'], model_3_precip.values, monthly_sandford_generation, precip_target, temp_future]).T\n",
        "model_3_df.columns = ['Date', 'Mean_temp', 'Total_precip', 'Total_monthly_generation', 'Future_precip', 'Future_temp']"
      ],
      "execution_count": null,
      "outputs": []
    },
    {
      "cell_type": "code",
      "metadata": {
        "colab": {
          "base_uri": "https://localhost:8080/",
          "height": 383
        },
        "id": "Vf0o7rCyjJhW",
        "outputId": "7adbba0f-4f60-4689-841c-5d5b2bb31304"
      },
      "source": [
        "model_3_df"
      ],
      "execution_count": null,
      "outputs": [
        {
          "output_type": "execute_result",
          "data": {
            "text/html": [
              "<div>\n",
              "<style scoped>\n",
              "    .dataframe tbody tr th:only-of-type {\n",
              "        vertical-align: middle;\n",
              "    }\n",
              "\n",
              "    .dataframe tbody tr th {\n",
              "        vertical-align: top;\n",
              "    }\n",
              "\n",
              "    .dataframe thead th {\n",
              "        text-align: right;\n",
              "    }\n",
              "</style>\n",
              "<table border=\"1\" class=\"dataframe\">\n",
              "  <thead>\n",
              "    <tr style=\"text-align: right;\">\n",
              "      <th></th>\n",
              "      <th>Date</th>\n",
              "      <th>Mean_temp</th>\n",
              "      <th>Total_precip</th>\n",
              "      <th>Total_monthly_generation</th>\n",
              "      <th>Future_precip</th>\n",
              "      <th>Future_temp</th>\n",
              "    </tr>\n",
              "  </thead>\n",
              "  <tbody>\n",
              "    <tr>\n",
              "      <th>0</th>\n",
              "      <td>2018-12-31</td>\n",
              "      <td>7.43226</td>\n",
              "      <td>76.1</td>\n",
              "      <td>181051</td>\n",
              "      <td>88.276</td>\n",
              "      <td>9.75126</td>\n",
              "    </tr>\n",
              "    <tr>\n",
              "      <th>1</th>\n",
              "      <td>2019-01-31</td>\n",
              "      <td>4.1</td>\n",
              "      <td>58.6</td>\n",
              "      <td>190126</td>\n",
              "      <td>67.976</td>\n",
              "      <td>6.419</td>\n",
              "    </tr>\n",
              "    <tr>\n",
              "      <th>2</th>\n",
              "      <td>2019-02-28</td>\n",
              "      <td>7.08214</td>\n",
              "      <td>24.1</td>\n",
              "      <td>204585</td>\n",
              "      <td>27.956</td>\n",
              "      <td>9.40114</td>\n",
              "    </tr>\n",
              "    <tr>\n",
              "      <th>3</th>\n",
              "      <td>2019-03-31</td>\n",
              "      <td>8.88065</td>\n",
              "      <td>83.4</td>\n",
              "      <td>207951</td>\n",
              "      <td>83.4</td>\n",
              "      <td>8.88065</td>\n",
              "    </tr>\n",
              "    <tr>\n",
              "      <th>4</th>\n",
              "      <td>2019-04-30</td>\n",
              "      <td>9.66667</td>\n",
              "      <td>52.8</td>\n",
              "      <td>154112</td>\n",
              "      <td>52.8</td>\n",
              "      <td>9.66667</td>\n",
              "    </tr>\n",
              "    <tr>\n",
              "      <th>5</th>\n",
              "      <td>2019-05-31</td>\n",
              "      <td>12.6581</td>\n",
              "      <td>86.2</td>\n",
              "      <td>49882</td>\n",
              "      <td>86.2</td>\n",
              "      <td>12.6581</td>\n",
              "    </tr>\n",
              "    <tr>\n",
              "      <th>6</th>\n",
              "      <td>2019-06-30</td>\n",
              "      <td>15.6367</td>\n",
              "      <td>2.5</td>\n",
              "      <td>75884</td>\n",
              "      <td>2</td>\n",
              "      <td>17.3167</td>\n",
              "    </tr>\n",
              "    <tr>\n",
              "      <th>7</th>\n",
              "      <td>2019-07-31</td>\n",
              "      <td>19.1097</td>\n",
              "      <td>23.2</td>\n",
              "      <td>11172</td>\n",
              "      <td>18.56</td>\n",
              "      <td>20.7897</td>\n",
              "    </tr>\n",
              "    <tr>\n",
              "      <th>8</th>\n",
              "      <td>2019-08-31</td>\n",
              "      <td>18.5516</td>\n",
              "      <td>43.2</td>\n",
              "      <td>22088</td>\n",
              "      <td>34.56</td>\n",
              "      <td>20.2316</td>\n",
              "    </tr>\n",
              "    <tr>\n",
              "      <th>9</th>\n",
              "      <td>2019-09-30</td>\n",
              "      <td>15.52</td>\n",
              "      <td>30.3</td>\n",
              "      <td>18483</td>\n",
              "      <td>30.3</td>\n",
              "      <td>17.2</td>\n",
              "    </tr>\n",
              "    <tr>\n",
              "      <th>10</th>\n",
              "      <td>2019-10-31</td>\n",
              "      <td>10.9548</td>\n",
              "      <td>50.1</td>\n",
              "      <td>96626</td>\n",
              "      <td>50.1</td>\n",
              "      <td>12.6348</td>\n",
              "    </tr>\n",
              "  </tbody>\n",
              "</table>\n",
              "</div>"
            ],
            "text/plain": [
              "         Date Mean_temp  ... Future_precip Future_temp\n",
              "0  2018-12-31   7.43226  ...        88.276     9.75126\n",
              "1  2019-01-31       4.1  ...        67.976       6.419\n",
              "2  2019-02-28   7.08214  ...        27.956     9.40114\n",
              "3  2019-03-31   8.88065  ...          83.4     8.88065\n",
              "4  2019-04-30   9.66667  ...          52.8     9.66667\n",
              "5  2019-05-31   12.6581  ...          86.2     12.6581\n",
              "6  2019-06-30   15.6367  ...             2     17.3167\n",
              "7  2019-07-31   19.1097  ...         18.56     20.7897\n",
              "8  2019-08-31   18.5516  ...         34.56     20.2316\n",
              "9  2019-09-30     15.52  ...          30.3        17.2\n",
              "10 2019-10-31   10.9548  ...          50.1     12.6348\n",
              "\n",
              "[11 rows x 6 columns]"
            ]
          },
          "metadata": {
            "tags": []
          },
          "execution_count": 38
        }
      ]
    },
    {
      "cell_type": "code",
      "metadata": {
        "id": "czMR89LagsY1"
      },
      "source": [
        "x_train = model_3_df[['Mean_temp', 'Total_precip']]\n",
        "y_train = model_3_df['Total_monthly_generation']"
      ],
      "execution_count": null,
      "outputs": []
    },
    {
      "cell_type": "code",
      "metadata": {
        "colab": {
          "base_uri": "https://localhost:8080/"
        },
        "id": "nRdbgd4kgEjA",
        "outputId": "c8b25b9f-c22a-4f13-ab86-1d8fdf84db90"
      },
      "source": [
        "model_3.fit(x_train, y_train)\n",
        "print(model_3.intercept_, model_3.coef_)"
      ],
      "execution_count": null,
      "outputs": [
        {
          "output_type": "stream",
          "text": [
            "302030.3743351451 [-15347.02854018   -229.0541033 ]\n"
          ],
          "name": "stdout"
        }
      ]
    },
    {
      "cell_type": "code",
      "metadata": {
        "id": "xlSMcN_egFwg"
      },
      "source": [
        "# make predictions on the future\n",
        "y_pred = model_3.predict(model_3_df[['Future_temp', 'Future_precip']])"
      ],
      "execution_count": null,
      "outputs": []
    },
    {
      "cell_type": "code",
      "metadata": {
        "colab": {
          "base_uri": "https://localhost:8080/"
        },
        "id": "fGpWTQcjla9V",
        "outputId": "c376a711-1d49-42d4-a49d-af0611bf81d3"
      },
      "source": [
        "# print out those monthly predictions\n",
        "y_pred"
      ],
      "execution_count": null,
      "outputs": [
        {
          "output_type": "execute_result",
          "data": {
            "text/plain": [
              "array([132157.52878926, 187947.61640961, 151347.37393296, 146635.67311433,\n",
              "       141581.65730223,  88021.68866597,  35812.37700675, -21280.989064  ,\n",
              "       -16380.67808856,  31121.14411393,  96648.12756018])"
            ]
          },
          "metadata": {
            "tags": []
          },
          "execution_count": 42
        }
      ]
    },
    {
      "cell_type": "code",
      "metadata": {
        "colab": {
          "base_uri": "https://localhost:8080/"
        },
        "id": "mKdpjvCslbu5",
        "outputId": "0de07895-edba-455d-c516-dadb5e9db333"
      },
      "source": [
        "y_pred_corrected = [max(i, 0) for i in y_pred]\n",
        "print(sum(y_pred_corrected))"
      ],
      "execution_count": null,
      "outputs": [
        {
          "output_type": "stream",
          "text": [
            "1011273.1868952075\n"
          ],
          "name": "stdout"
        }
      ]
    },
    {
      "cell_type": "code",
      "metadata": {
        "colab": {
          "base_uri": "https://localhost:8080/"
        },
        "id": "sKUZ9p_8lpeI",
        "outputId": "697ec85b-a693-4e3f-8db0-ff74a4b82ed3"
      },
      "source": [
        "((y_pred_corrected - monthly_sandford_generation) / monthly_sandford_generation ) * 100"
      ],
      "execution_count": null,
      "outputs": [
        {
          "output_type": "execute_result",
          "data": {
            "text/plain": [
              "array([-2.70053583e+01, -1.14575786e+00, -2.60222529e+01, -2.94854686e+01,\n",
              "       -8.13067295e+00,  7.64598225e+01, -5.28064190e+01, -1.00000000e+02,\n",
              "       -1.00000000e+02,  6.83771255e+01,  2.29002134e-02])"
            ]
          },
          "metadata": {
            "tags": []
          },
          "execution_count": 49
        }
      ]
    },
    {
      "cell_type": "code",
      "metadata": {
        "colab": {
          "base_uri": "https://localhost:8080/"
        },
        "id": "uShExoa642mr",
        "outputId": "ffe61102-37b6-44f8-d9da-d18542e60109"
      },
      "source": [
        "sum(monthly_sandford_generation)"
      ],
      "execution_count": null,
      "outputs": [
        {
          "output_type": "execute_result",
          "data": {
            "text/plain": [
              "1211960"
            ]
          },
          "metadata": {
            "tags": []
          },
          "execution_count": 50
        }
      ]
    },
    {
      "cell_type": "code",
      "metadata": {
        "id": "qdPA0jwI6XpJ"
      },
      "source": [
        ""
      ],
      "execution_count": null,
      "outputs": []
    }
  ]
}