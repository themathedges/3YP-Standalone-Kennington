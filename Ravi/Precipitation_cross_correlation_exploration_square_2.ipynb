{
  "nbformat": 4,
  "nbformat_minor": 0,
  "metadata": {
    "colab": {
      "name": "Precipitation_cross_correlation_exploration_square_2.ipynb",
      "provenance": [],
      "toc_visible": true,
      "authorship_tag": "ABX9TyOPVVROpBiyklWIpnhpHIB1",
      "include_colab_link": true
    },
    "kernelspec": {
      "name": "python3",
      "display_name": "Python 3"
    }
  },
  "cells": [
    {
      "cell_type": "markdown",
      "metadata": {
        "id": "view-in-github",
        "colab_type": "text"
      },
      "source": [
        "<a href=\"https://colab.research.google.com/github/themathedges/3YP-Standalone-Kennington/blob/main/Ravi/Precipitation_cross_correlation_exploration_square_2.ipynb\" target=\"_parent\"><img src=\"https://colab.research.google.com/assets/colab-badge.svg\" alt=\"Open In Colab\"/></a>"
      ]
    },
    {
      "cell_type": "markdown",
      "metadata": {
        "id": "a9mlRO5_Jtte"
      },
      "source": [
        "# Upstream Precipitation Cross Correlation Exploration"
      ]
    },
    {
      "cell_type": "markdown",
      "metadata": {
        "id": "3-ZItFwbJyYe"
      },
      "source": [
        "**Author:** Ravi Kohli\n",
        "\n",
        "**College:** Christ Church\n",
        "\n",
        "**Date:** January 8th, 2021"
      ]
    },
    {
      "cell_type": "markdown",
      "metadata": {
        "id": "RklIsymfJ9ra"
      },
      "source": [
        "**Goal:**\n",
        "- To calculate the temporal cross-correlation between the precipitation data upstream and the daily Sandford generation and find the optimal time lag\n",
        "- This notebook will be for grid-square 2"
      ]
    },
    {
      "cell_type": "code",
      "metadata": {
        "id": "oHSfLPQ8KvnH",
        "colab": {
          "base_uri": "https://localhost:8080/"
        },
        "outputId": "3272e62b-2839-4a20-b3dd-d9887ee1abdd"
      },
      "source": [
        "# Mounting the Google Drive\n",
        "from google.colab import drive\n",
        "drive.mount('/content/drive')"
      ],
      "execution_count": null,
      "outputs": [
        {
          "output_type": "stream",
          "text": [
            "Mounted at /content/drive\n"
          ],
          "name": "stdout"
        }
      ]
    },
    {
      "cell_type": "code",
      "metadata": {
        "id": "LvLgx9QhKupY"
      },
      "source": [
        "# import the modules\n",
        "import numpy as np\n",
        "import pandas as pd\n",
        "from pandas import Timestamp\n",
        "import matplotlib\n",
        "import matplotlib.pyplot as plt\n",
        "import matplotlib.dates as mdates\n",
        "from scipy.stats import pearsonr\n",
        "import pickle\n",
        "from sklearn.linear_model import LinearRegression\n",
        "from sklearn.preprocessing import StandardScaler"
      ],
      "execution_count": null,
      "outputs": []
    },
    {
      "cell_type": "markdown",
      "metadata": {
        "id": "I_iirp3wKJxm"
      },
      "source": [
        "## Import the Data"
      ]
    },
    {
      "cell_type": "markdown",
      "metadata": {
        "id": "XGG4Lu2-KMWP"
      },
      "source": [
        "### Sandford Daily Generation Data"
      ]
    },
    {
      "cell_type": "code",
      "metadata": {
        "id": "RRL0lyDXJpUJ"
      },
      "source": [
        "# unpickle the processed daily generation dataframe\n",
        "path = '/content/drive/My Drive/3YP/data/'\n",
        "filename = 'daily_sandford_generation_data'\n",
        "infile = open(path+filename, 'rb')\n",
        "sandford_daily_df = pickle.load(infile)\n",
        "infile.close()"
      ],
      "execution_count": null,
      "outputs": []
    },
    {
      "cell_type": "code",
      "metadata": {
        "id": "EkBgsi7HK00l",
        "colab": {
          "base_uri": "https://localhost:8080/",
          "height": 962
        },
        "outputId": "0343a836-64f0-423e-837e-31bb45a22fa5"
      },
      "source": [
        "sandford_daily_df.tail(30)"
      ],
      "execution_count": null,
      "outputs": [
        {
          "output_type": "execute_result",
          "data": {
            "text/html": [
              "<div>\n",
              "<style scoped>\n",
              "    .dataframe tbody tr th:only-of-type {\n",
              "        vertical-align: middle;\n",
              "    }\n",
              "\n",
              "    .dataframe tbody tr th {\n",
              "        vertical-align: top;\n",
              "    }\n",
              "\n",
              "    .dataframe thead th {\n",
              "        text-align: right;\n",
              "    }\n",
              "</style>\n",
              "<table border=\"1\" class=\"dataframe\">\n",
              "  <thead>\n",
              "    <tr style=\"text-align: right;\">\n",
              "      <th></th>\n",
              "      <th>Reading Date</th>\n",
              "      <th>Incremental Reading</th>\n",
              "      <th>Meter Reading</th>\n",
              "    </tr>\n",
              "  </thead>\n",
              "  <tbody>\n",
              "    <tr>\n",
              "      <th>339</th>\n",
              "      <td>2018-11-16</td>\n",
              "      <td>0.000</td>\n",
              "      <td>548473.50</td>\n",
              "    </tr>\n",
              "    <tr>\n",
              "      <th>340</th>\n",
              "      <td>2018-11-15</td>\n",
              "      <td>87.654</td>\n",
              "      <td>548473.50</td>\n",
              "    </tr>\n",
              "    <tr>\n",
              "      <th>341</th>\n",
              "      <td>2018-11-14</td>\n",
              "      <td>169.011</td>\n",
              "      <td>548385.84</td>\n",
              "    </tr>\n",
              "    <tr>\n",
              "      <th>342</th>\n",
              "      <td>2018-11-13</td>\n",
              "      <td>27.085</td>\n",
              "      <td>548216.83</td>\n",
              "    </tr>\n",
              "    <tr>\n",
              "      <th>343</th>\n",
              "      <td>2018-11-12</td>\n",
              "      <td>0.000</td>\n",
              "      <td>548189.75</td>\n",
              "    </tr>\n",
              "    <tr>\n",
              "      <th>344</th>\n",
              "      <td>2018-11-11</td>\n",
              "      <td>0.000</td>\n",
              "      <td>548189.75</td>\n",
              "    </tr>\n",
              "    <tr>\n",
              "      <th>345</th>\n",
              "      <td>2018-11-10</td>\n",
              "      <td>8.090</td>\n",
              "      <td>548189.75</td>\n",
              "    </tr>\n",
              "    <tr>\n",
              "      <th>346</th>\n",
              "      <td>2018-11-09</td>\n",
              "      <td>31.744</td>\n",
              "      <td>548181.66</td>\n",
              "    </tr>\n",
              "    <tr>\n",
              "      <th>347</th>\n",
              "      <td>2018-11-08</td>\n",
              "      <td>0.000</td>\n",
              "      <td>548149.91</td>\n",
              "    </tr>\n",
              "    <tr>\n",
              "      <th>348</th>\n",
              "      <td>2018-11-07</td>\n",
              "      <td>0.000</td>\n",
              "      <td>548149.91</td>\n",
              "    </tr>\n",
              "    <tr>\n",
              "      <th>349</th>\n",
              "      <td>2018-11-06</td>\n",
              "      <td>0.000</td>\n",
              "      <td>548149.91</td>\n",
              "    </tr>\n",
              "    <tr>\n",
              "      <th>350</th>\n",
              "      <td>2018-11-05</td>\n",
              "      <td>0.000</td>\n",
              "      <td>548149.91</td>\n",
              "    </tr>\n",
              "    <tr>\n",
              "      <th>351</th>\n",
              "      <td>2018-11-04</td>\n",
              "      <td>0.000</td>\n",
              "      <td>548149.91</td>\n",
              "    </tr>\n",
              "    <tr>\n",
              "      <th>352</th>\n",
              "      <td>2018-11-03</td>\n",
              "      <td>0.000</td>\n",
              "      <td>548149.91</td>\n",
              "    </tr>\n",
              "    <tr>\n",
              "      <th>353</th>\n",
              "      <td>2018-11-02</td>\n",
              "      <td>0.000</td>\n",
              "      <td>548149.91</td>\n",
              "    </tr>\n",
              "    <tr>\n",
              "      <th>354</th>\n",
              "      <td>2018-11-01</td>\n",
              "      <td>0.000</td>\n",
              "      <td>548149.91</td>\n",
              "    </tr>\n",
              "    <tr>\n",
              "      <th>355</th>\n",
              "      <td>2018-10-31</td>\n",
              "      <td>0.000</td>\n",
              "      <td>548149.91</td>\n",
              "    </tr>\n",
              "    <tr>\n",
              "      <th>356</th>\n",
              "      <td>2018-10-30</td>\n",
              "      <td>0.000</td>\n",
              "      <td>548149.91</td>\n",
              "    </tr>\n",
              "    <tr>\n",
              "      <th>357</th>\n",
              "      <td>2018-10-29</td>\n",
              "      <td>0.000</td>\n",
              "      <td>548149.91</td>\n",
              "    </tr>\n",
              "    <tr>\n",
              "      <th>358</th>\n",
              "      <td>2018-10-28</td>\n",
              "      <td>0.000</td>\n",
              "      <td>548149.91</td>\n",
              "    </tr>\n",
              "    <tr>\n",
              "      <th>359</th>\n",
              "      <td>2018-10-27</td>\n",
              "      <td>0.000</td>\n",
              "      <td>548149.91</td>\n",
              "    </tr>\n",
              "    <tr>\n",
              "      <th>360</th>\n",
              "      <td>2018-10-26</td>\n",
              "      <td>0.000</td>\n",
              "      <td>548149.91</td>\n",
              "    </tr>\n",
              "    <tr>\n",
              "      <th>361</th>\n",
              "      <td>2018-10-25</td>\n",
              "      <td>0.000</td>\n",
              "      <td>548149.91</td>\n",
              "    </tr>\n",
              "    <tr>\n",
              "      <th>362</th>\n",
              "      <td>2018-10-24</td>\n",
              "      <td>0.000</td>\n",
              "      <td>548149.91</td>\n",
              "    </tr>\n",
              "    <tr>\n",
              "      <th>363</th>\n",
              "      <td>2018-10-23</td>\n",
              "      <td>0.000</td>\n",
              "      <td>548149.91</td>\n",
              "    </tr>\n",
              "    <tr>\n",
              "      <th>364</th>\n",
              "      <td>2018-10-22</td>\n",
              "      <td>0.000</td>\n",
              "      <td>548149.91</td>\n",
              "    </tr>\n",
              "    <tr>\n",
              "      <th>365</th>\n",
              "      <td>2018-10-21</td>\n",
              "      <td>0.000</td>\n",
              "      <td>548149.91</td>\n",
              "    </tr>\n",
              "    <tr>\n",
              "      <th>366</th>\n",
              "      <td>2018-10-20</td>\n",
              "      <td>0.000</td>\n",
              "      <td>548149.91</td>\n",
              "    </tr>\n",
              "    <tr>\n",
              "      <th>367</th>\n",
              "      <td>2018-10-19</td>\n",
              "      <td>0.000</td>\n",
              "      <td>548149.91</td>\n",
              "    </tr>\n",
              "    <tr>\n",
              "      <th>368</th>\n",
              "      <td>2018-10-18</td>\n",
              "      <td>0.000</td>\n",
              "      <td>548149.91</td>\n",
              "    </tr>\n",
              "  </tbody>\n",
              "</table>\n",
              "</div>"
            ],
            "text/plain": [
              "    Reading Date  Incremental Reading  Meter Reading\n",
              "339   2018-11-16                0.000      548473.50\n",
              "340   2018-11-15               87.654      548473.50\n",
              "341   2018-11-14              169.011      548385.84\n",
              "342   2018-11-13               27.085      548216.83\n",
              "343   2018-11-12                0.000      548189.75\n",
              "344   2018-11-11                0.000      548189.75\n",
              "345   2018-11-10                8.090      548189.75\n",
              "346   2018-11-09               31.744      548181.66\n",
              "347   2018-11-08                0.000      548149.91\n",
              "348   2018-11-07                0.000      548149.91\n",
              "349   2018-11-06                0.000      548149.91\n",
              "350   2018-11-05                0.000      548149.91\n",
              "351   2018-11-04                0.000      548149.91\n",
              "352   2018-11-03                0.000      548149.91\n",
              "353   2018-11-02                0.000      548149.91\n",
              "354   2018-11-01                0.000      548149.91\n",
              "355   2018-10-31                0.000      548149.91\n",
              "356   2018-10-30                0.000      548149.91\n",
              "357   2018-10-29                0.000      548149.91\n",
              "358   2018-10-28                0.000      548149.91\n",
              "359   2018-10-27                0.000      548149.91\n",
              "360   2018-10-26                0.000      548149.91\n",
              "361   2018-10-25                0.000      548149.91\n",
              "362   2018-10-24                0.000      548149.91\n",
              "363   2018-10-23                0.000      548149.91\n",
              "364   2018-10-22                0.000      548149.91\n",
              "365   2018-10-21                0.000      548149.91\n",
              "366   2018-10-20                0.000      548149.91\n",
              "367   2018-10-19                0.000      548149.91\n",
              "368   2018-10-18                0.000      548149.91"
            ]
          },
          "metadata": {
            "tags": []
          },
          "execution_count": 18
        }
      ]
    },
    {
      "cell_type": "code",
      "metadata": {
        "colab": {
          "base_uri": "https://localhost:8080/",
          "height": 411
        },
        "id": "pBZpJ4EO0dle",
        "outputId": "fe7d1f94-3a25-4236-fcc8-f2f98c203943"
      },
      "source": [
        "sandford_daily_df[sandford_daily_df['Incremental Reading'] <= 0]"
      ],
      "execution_count": null,
      "outputs": [
        {
          "output_type": "execute_result",
          "data": {
            "text/html": [
              "<div>\n",
              "<style scoped>\n",
              "    .dataframe tbody tr th:only-of-type {\n",
              "        vertical-align: middle;\n",
              "    }\n",
              "\n",
              "    .dataframe tbody tr th {\n",
              "        vertical-align: top;\n",
              "    }\n",
              "\n",
              "    .dataframe thead th {\n",
              "        text-align: right;\n",
              "    }\n",
              "</style>\n",
              "<table border=\"1\" class=\"dataframe\">\n",
              "  <thead>\n",
              "    <tr style=\"text-align: right;\">\n",
              "      <th></th>\n",
              "      <th>Reading Date</th>\n",
              "      <th>Incremental Reading</th>\n",
              "      <th>Meter Reading</th>\n",
              "    </tr>\n",
              "  </thead>\n",
              "  <tbody>\n",
              "    <tr>\n",
              "      <th>32</th>\n",
              "      <td>2019-09-20</td>\n",
              "      <td>0.0</td>\n",
              "      <td>1648133.02</td>\n",
              "    </tr>\n",
              "    <tr>\n",
              "      <th>33</th>\n",
              "      <td>2019-09-19</td>\n",
              "      <td>0.0</td>\n",
              "      <td>1648133.02</td>\n",
              "    </tr>\n",
              "    <tr>\n",
              "      <th>34</th>\n",
              "      <td>2019-09-18</td>\n",
              "      <td>0.0</td>\n",
              "      <td>1648133.02</td>\n",
              "    </tr>\n",
              "    <tr>\n",
              "      <th>35</th>\n",
              "      <td>2019-09-17</td>\n",
              "      <td>0.0</td>\n",
              "      <td>1648133.02</td>\n",
              "    </tr>\n",
              "    <tr>\n",
              "      <th>36</th>\n",
              "      <td>2019-09-16</td>\n",
              "      <td>0.0</td>\n",
              "      <td>1648133.02</td>\n",
              "    </tr>\n",
              "    <tr>\n",
              "      <th>...</th>\n",
              "      <td>...</td>\n",
              "      <td>...</td>\n",
              "      <td>...</td>\n",
              "    </tr>\n",
              "    <tr>\n",
              "      <th>364</th>\n",
              "      <td>2018-10-22</td>\n",
              "      <td>0.0</td>\n",
              "      <td>548149.91</td>\n",
              "    </tr>\n",
              "    <tr>\n",
              "      <th>365</th>\n",
              "      <td>2018-10-21</td>\n",
              "      <td>0.0</td>\n",
              "      <td>548149.91</td>\n",
              "    </tr>\n",
              "    <tr>\n",
              "      <th>366</th>\n",
              "      <td>2018-10-20</td>\n",
              "      <td>0.0</td>\n",
              "      <td>548149.91</td>\n",
              "    </tr>\n",
              "    <tr>\n",
              "      <th>367</th>\n",
              "      <td>2018-10-19</td>\n",
              "      <td>0.0</td>\n",
              "      <td>548149.91</td>\n",
              "    </tr>\n",
              "    <tr>\n",
              "      <th>368</th>\n",
              "      <td>2018-10-18</td>\n",
              "      <td>0.0</td>\n",
              "      <td>548149.91</td>\n",
              "    </tr>\n",
              "  </tbody>\n",
              "</table>\n",
              "<p>80 rows × 3 columns</p>\n",
              "</div>"
            ],
            "text/plain": [
              "    Reading Date  Incremental Reading  Meter Reading\n",
              "32    2019-09-20                  0.0     1648133.02\n",
              "33    2019-09-19                  0.0     1648133.02\n",
              "34    2019-09-18                  0.0     1648133.02\n",
              "35    2019-09-17                  0.0     1648133.02\n",
              "36    2019-09-16                  0.0     1648133.02\n",
              "..           ...                  ...            ...\n",
              "364   2018-10-22                  0.0      548149.91\n",
              "365   2018-10-21                  0.0      548149.91\n",
              "366   2018-10-20                  0.0      548149.91\n",
              "367   2018-10-19                  0.0      548149.91\n",
              "368   2018-10-18                  0.0      548149.91\n",
              "\n",
              "[80 rows x 3 columns]"
            ]
          },
          "metadata": {
            "tags": []
          },
          "execution_count": 16
        }
      ]
    },
    {
      "cell_type": "markdown",
      "metadata": {
        "id": "HcTxiex6K2Zj"
      },
      "source": [
        "### Upstream Precipitation Data"
      ]
    },
    {
      "cell_type": "code",
      "metadata": {
        "id": "4SC0kYnnK4Iu"
      },
      "source": [
        "# unpickle the processed daily precipitation dataframe\n",
        "path = '/content/drive/My Drive/3YP/data/met_office/'\n",
        "filename = 'precip_2242_upstream2_met_daily'\n",
        "infile = open(path+filename, 'rb')\n",
        "upstream_precip_daily_df = pickle.load(infile)\n",
        "infile.close()"
      ],
      "execution_count": null,
      "outputs": []
    },
    {
      "cell_type": "code",
      "metadata": {
        "id": "p_X6p4CS4nBm"
      },
      "source": [
        "# unpickle the processed daily precipitation dataframe\n",
        "path = '/content/drive/My Drive/3YP/data/'\n",
        "filename = 'radcliffe_daily_precipitation_data_processed'\n",
        "infile = open(path+filename, 'rb')\n",
        "upstream_precip_daily_df = pickle.load(infile)\n",
        "infile.close()"
      ],
      "execution_count": null,
      "outputs": []
    },
    {
      "cell_type": "code",
      "metadata": {
        "colab": {
          "base_uri": "https://localhost:8080/",
          "height": 411
        },
        "id": "r7vjOaCEghVP",
        "outputId": "39d027f3-787d-4963-f0d6-0782462ace35"
      },
      "source": [
        "upstream_precip_daily_df"
      ],
      "execution_count": null,
      "outputs": [
        {
          "output_type": "execute_result",
          "data": {
            "text/html": [
              "<div>\n",
              "<style scoped>\n",
              "    .dataframe tbody tr th:only-of-type {\n",
              "        vertical-align: middle;\n",
              "    }\n",
              "\n",
              "    .dataframe tbody tr th {\n",
              "        vertical-align: top;\n",
              "    }\n",
              "\n",
              "    .dataframe thead th {\n",
              "        text-align: right;\n",
              "    }\n",
              "</style>\n",
              "<table border=\"1\" class=\"dataframe\">\n",
              "  <thead>\n",
              "    <tr style=\"text-align: right;\">\n",
              "      <th></th>\n",
              "      <th>Date</th>\n",
              "      <th>Rainfall mm 1 dpl no traces</th>\n",
              "      <th>Rain day (0.2 mm or more)</th>\n",
              "      <th>Wet day (1.0 mm or more)</th>\n",
              "    </tr>\n",
              "  </thead>\n",
              "  <tbody>\n",
              "    <tr>\n",
              "      <th>0</th>\n",
              "      <td>1815-01-01</td>\n",
              "      <td>NaN</td>\n",
              "      <td>NaN</td>\n",
              "      <td>NaN</td>\n",
              "    </tr>\n",
              "    <tr>\n",
              "      <th>1</th>\n",
              "      <td>1815-01-02</td>\n",
              "      <td>NaN</td>\n",
              "      <td>NaN</td>\n",
              "      <td>NaN</td>\n",
              "    </tr>\n",
              "    <tr>\n",
              "      <th>2</th>\n",
              "      <td>1815-01-03</td>\n",
              "      <td>NaN</td>\n",
              "      <td>NaN</td>\n",
              "      <td>NaN</td>\n",
              "    </tr>\n",
              "    <tr>\n",
              "      <th>3</th>\n",
              "      <td>1815-01-04</td>\n",
              "      <td>NaN</td>\n",
              "      <td>NaN</td>\n",
              "      <td>NaN</td>\n",
              "    </tr>\n",
              "    <tr>\n",
              "      <th>4</th>\n",
              "      <td>1815-01-05</td>\n",
              "      <td>NaN</td>\n",
              "      <td>NaN</td>\n",
              "      <td>NaN</td>\n",
              "    </tr>\n",
              "    <tr>\n",
              "      <th>...</th>\n",
              "      <td>...</td>\n",
              "      <td>...</td>\n",
              "      <td>...</td>\n",
              "      <td>...</td>\n",
              "    </tr>\n",
              "    <tr>\n",
              "      <th>74901</th>\n",
              "      <td>2020-01-27</td>\n",
              "      <td>2.8</td>\n",
              "      <td>1.0</td>\n",
              "      <td>1.0</td>\n",
              "    </tr>\n",
              "    <tr>\n",
              "      <th>74902</th>\n",
              "      <td>2020-01-28</td>\n",
              "      <td>0.0</td>\n",
              "      <td>0.0</td>\n",
              "      <td>0.0</td>\n",
              "    </tr>\n",
              "    <tr>\n",
              "      <th>74903</th>\n",
              "      <td>2020-01-29</td>\n",
              "      <td>0.0</td>\n",
              "      <td>0.0</td>\n",
              "      <td>0.0</td>\n",
              "    </tr>\n",
              "    <tr>\n",
              "      <th>74904</th>\n",
              "      <td>2020-01-30</td>\n",
              "      <td>0.0</td>\n",
              "      <td>0.0</td>\n",
              "      <td>0.0</td>\n",
              "    </tr>\n",
              "    <tr>\n",
              "      <th>74905</th>\n",
              "      <td>2020-01-31</td>\n",
              "      <td>1.9</td>\n",
              "      <td>1.0</td>\n",
              "      <td>1.0</td>\n",
              "    </tr>\n",
              "  </tbody>\n",
              "</table>\n",
              "<p>74906 rows × 4 columns</p>\n",
              "</div>"
            ],
            "text/plain": [
              "            Date  ...  Wet day (1.0 mm or more)\n",
              "0     1815-01-01  ...                       NaN\n",
              "1     1815-01-02  ...                       NaN\n",
              "2     1815-01-03  ...                       NaN\n",
              "3     1815-01-04  ...                       NaN\n",
              "4     1815-01-05  ...                       NaN\n",
              "...          ...  ...                       ...\n",
              "74901 2020-01-27  ...                       1.0\n",
              "74902 2020-01-28  ...                       0.0\n",
              "74903 2020-01-29  ...                       0.0\n",
              "74904 2020-01-30  ...                       0.0\n",
              "74905 2020-01-31  ...                       1.0\n",
              "\n",
              "[74906 rows x 4 columns]"
            ]
          },
          "metadata": {
            "tags": []
          },
          "execution_count": 7
        }
      ]
    },
    {
      "cell_type": "code",
      "metadata": {
        "id": "uf8LGl0xgjpk"
      },
      "source": [
        "# define a mask to extract the rows from upstream precip_daily_df which have the same date as the generation data\n",
        "# format of mask: YYYY-MM-DD\n",
        "upstream_mask_start = pd.to_datetime(min(sandford_daily_df['Reading Date']))\n",
        "upstream_mask_end = pd.to_datetime(max(sandford_daily_df['Reading Date']))"
      ],
      "execution_count": null,
      "outputs": []
    },
    {
      "cell_type": "code",
      "metadata": {
        "id": "hacpCBpXhR2d"
      },
      "source": [
        "upstream_mask = (upstream_precip_daily_df['Date'] >= upstream_mask_start) & (upstream_precip_daily_df['Date'] <= upstream_mask_end)\n",
        "\n",
        "# extract the rows from the dataframe by using the mask\n",
        "upstream_extracted_df = upstream_precip_daily_df.loc[upstream_mask]"
      ],
      "execution_count": null,
      "outputs": []
    },
    {
      "cell_type": "code",
      "metadata": {
        "colab": {
          "base_uri": "https://localhost:8080/",
          "height": 411
        },
        "id": "QdVyQ_jai_q7",
        "outputId": "390ea4be-b3c6-4958-85c2-655f2394abbb"
      },
      "source": [
        "upstream_extracted_df"
      ],
      "execution_count": null,
      "outputs": [
        {
          "output_type": "execute_result",
          "data": {
            "text/html": [
              "<div>\n",
              "<style scoped>\n",
              "    .dataframe tbody tr th:only-of-type {\n",
              "        vertical-align: middle;\n",
              "    }\n",
              "\n",
              "    .dataframe tbody tr th {\n",
              "        vertical-align: top;\n",
              "    }\n",
              "\n",
              "    .dataframe thead th {\n",
              "        text-align: right;\n",
              "    }\n",
              "</style>\n",
              "<table border=\"1\" class=\"dataframe\">\n",
              "  <thead>\n",
              "    <tr style=\"text-align: right;\">\n",
              "      <th></th>\n",
              "      <th>Date</th>\n",
              "      <th>Rainfall mm 1 dpl no traces</th>\n",
              "      <th>Rain day (0.2 mm or more)</th>\n",
              "      <th>Wet day (1.0 mm or more)</th>\n",
              "    </tr>\n",
              "  </thead>\n",
              "  <tbody>\n",
              "    <tr>\n",
              "      <th>74435</th>\n",
              "      <td>2018-10-18</td>\n",
              "      <td>0.0</td>\n",
              "      <td>0.0</td>\n",
              "      <td>0.0</td>\n",
              "    </tr>\n",
              "    <tr>\n",
              "      <th>74436</th>\n",
              "      <td>2018-10-19</td>\n",
              "      <td>0.0</td>\n",
              "      <td>0.0</td>\n",
              "      <td>0.0</td>\n",
              "    </tr>\n",
              "    <tr>\n",
              "      <th>74437</th>\n",
              "      <td>2018-10-20</td>\n",
              "      <td>0.0</td>\n",
              "      <td>0.0</td>\n",
              "      <td>0.0</td>\n",
              "    </tr>\n",
              "    <tr>\n",
              "      <th>74438</th>\n",
              "      <td>2018-10-21</td>\n",
              "      <td>0.0</td>\n",
              "      <td>0.0</td>\n",
              "      <td>0.0</td>\n",
              "    </tr>\n",
              "    <tr>\n",
              "      <th>74439</th>\n",
              "      <td>2018-10-22</td>\n",
              "      <td>0.0</td>\n",
              "      <td>0.0</td>\n",
              "      <td>0.0</td>\n",
              "    </tr>\n",
              "    <tr>\n",
              "      <th>...</th>\n",
              "      <td>...</td>\n",
              "      <td>...</td>\n",
              "      <td>...</td>\n",
              "      <td>...</td>\n",
              "    </tr>\n",
              "    <tr>\n",
              "      <th>74800</th>\n",
              "      <td>2019-10-18</td>\n",
              "      <td>0.2</td>\n",
              "      <td>1.0</td>\n",
              "      <td>0.0</td>\n",
              "    </tr>\n",
              "    <tr>\n",
              "      <th>74801</th>\n",
              "      <td>2019-10-19</td>\n",
              "      <td>0.0</td>\n",
              "      <td>0.0</td>\n",
              "      <td>0.0</td>\n",
              "    </tr>\n",
              "    <tr>\n",
              "      <th>74802</th>\n",
              "      <td>2019-10-20</td>\n",
              "      <td>0.0</td>\n",
              "      <td>0.0</td>\n",
              "      <td>0.0</td>\n",
              "    </tr>\n",
              "    <tr>\n",
              "      <th>74803</th>\n",
              "      <td>2019-10-21</td>\n",
              "      <td>0.0</td>\n",
              "      <td>0.0</td>\n",
              "      <td>0.0</td>\n",
              "    </tr>\n",
              "    <tr>\n",
              "      <th>74804</th>\n",
              "      <td>2019-10-22</td>\n",
              "      <td>0.0</td>\n",
              "      <td>0.0</td>\n",
              "      <td>0.0</td>\n",
              "    </tr>\n",
              "  </tbody>\n",
              "</table>\n",
              "<p>370 rows × 4 columns</p>\n",
              "</div>"
            ],
            "text/plain": [
              "            Date  ...  Wet day (1.0 mm or more)\n",
              "74435 2018-10-18  ...                       0.0\n",
              "74436 2018-10-19  ...                       0.0\n",
              "74437 2018-10-20  ...                       0.0\n",
              "74438 2018-10-21  ...                       0.0\n",
              "74439 2018-10-22  ...                       0.0\n",
              "...          ...  ...                       ...\n",
              "74800 2019-10-18  ...                       0.0\n",
              "74801 2019-10-19  ...                       0.0\n",
              "74802 2019-10-20  ...                       0.0\n",
              "74803 2019-10-21  ...                       0.0\n",
              "74804 2019-10-22  ...                       0.0\n",
              "\n",
              "[370 rows x 4 columns]"
            ]
          },
          "metadata": {
            "tags": []
          },
          "execution_count": 10
        }
      ]
    },
    {
      "cell_type": "markdown",
      "metadata": {
        "id": "A5uhi-FhmKsU"
      },
      "source": [
        "we notice that `upstream_extracted_df` is shorter than `sandford_daily_df`, so we need to remove those dates not in the precipitation data"
      ]
    },
    {
      "cell_type": "code",
      "metadata": {
        "colab": {
          "base_uri": "https://localhost:8080/"
        },
        "id": "s5EcOqxQm0mV",
        "outputId": "e0785ab0-0c10-497a-b351-be4b6d63d38c"
      },
      "source": [
        "len(upstream_extracted_df['Date']), len(sandford_daily_df['Reading Date'])"
      ],
      "execution_count": null,
      "outputs": [
        {
          "output_type": "execute_result",
          "data": {
            "text/plain": [
              "(370, 369)"
            ]
          },
          "metadata": {
            "tags": []
          },
          "execution_count": 11
        }
      ]
    },
    {
      "cell_type": "code",
      "metadata": {
        "colab": {
          "base_uri": "https://localhost:8080/"
        },
        "id": "eWSRnGRnmJl4",
        "outputId": "76f87f55-d44b-44bd-b06b-3663de4a042f"
      },
      "source": [
        "dates_to_remove = (set(sandford_daily_df['Reading Date']) - set(upstream_extracted_df['Date']))\n",
        "dates_to_remove"
      ],
      "execution_count": null,
      "outputs": [
        {
          "output_type": "execute_result",
          "data": {
            "text/plain": [
              "set()"
            ]
          },
          "metadata": {
            "tags": []
          },
          "execution_count": 12
        }
      ]
    },
    {
      "cell_type": "code",
      "metadata": {
        "id": "Grtf2qI2mkjE"
      },
      "source": [
        "# iterating through the list of dates and removing them\n",
        "sandford_daily_reduced = sandford_daily_df\n",
        "for i in dates_to_remove:\n",
        "  sandford_daily_reduced = sandford_daily_reduced[sandford_daily_reduced['Reading Date'] != i]"
      ],
      "execution_count": null,
      "outputs": []
    },
    {
      "cell_type": "code",
      "metadata": {
        "colab": {
          "base_uri": "https://localhost:8080/"
        },
        "id": "NlwTZN9OnErB",
        "outputId": "dc43b166-b8c2-4d31-86be-63e85748af4d"
      },
      "source": [
        "# there is a date in the precipitation data that isn't in the generation data and therefore needs to be removed\n",
        "dates_to_remove_pt2 = set(upstream_extracted_df['Date']) - set(sandford_daily_reduced['Reading Date'])\n",
        "dates_to_remove_pt2"
      ],
      "execution_count": null,
      "outputs": [
        {
          "output_type": "execute_result",
          "data": {
            "text/plain": [
              "{Timestamp('2019-06-01 00:00:00')}"
            ]
          },
          "metadata": {
            "tags": []
          },
          "execution_count": 14
        }
      ]
    },
    {
      "cell_type": "code",
      "metadata": {
        "id": "TOziCuidnF1R"
      },
      "source": [
        "upstream_reduced = upstream_extracted_df[upstream_extracted_df['Date'] != list(dates_to_remove_pt2)[0]]"
      ],
      "execution_count": null,
      "outputs": []
    },
    {
      "cell_type": "markdown",
      "metadata": {
        "id": "7Wq9zmBnntu4"
      },
      "source": [
        "We now have two dataframes of length 362:\n",
        "- `upstream_reduced`\n",
        "- `sandford_daily_reduced`"
      ]
    },
    {
      "cell_type": "code",
      "metadata": {
        "colab": {
          "base_uri": "https://localhost:8080/",
          "height": 411
        },
        "id": "XljgtydMn2A_",
        "outputId": "233d04d4-3bb7-4643-e284-2edeb74fe9e9"
      },
      "source": [
        "upstream_reduced.reset_index(drop=True)"
      ],
      "execution_count": null,
      "outputs": [
        {
          "output_type": "execute_result",
          "data": {
            "text/html": [
              "<div>\n",
              "<style scoped>\n",
              "    .dataframe tbody tr th:only-of-type {\n",
              "        vertical-align: middle;\n",
              "    }\n",
              "\n",
              "    .dataframe tbody tr th {\n",
              "        vertical-align: top;\n",
              "    }\n",
              "\n",
              "    .dataframe thead th {\n",
              "        text-align: right;\n",
              "    }\n",
              "</style>\n",
              "<table border=\"1\" class=\"dataframe\">\n",
              "  <thead>\n",
              "    <tr style=\"text-align: right;\">\n",
              "      <th></th>\n",
              "      <th>Date</th>\n",
              "      <th>Rainfall mm 1 dpl no traces</th>\n",
              "      <th>Rain day (0.2 mm or more)</th>\n",
              "      <th>Wet day (1.0 mm or more)</th>\n",
              "    </tr>\n",
              "  </thead>\n",
              "  <tbody>\n",
              "    <tr>\n",
              "      <th>0</th>\n",
              "      <td>2018-10-18</td>\n",
              "      <td>0.0</td>\n",
              "      <td>0.0</td>\n",
              "      <td>0.0</td>\n",
              "    </tr>\n",
              "    <tr>\n",
              "      <th>1</th>\n",
              "      <td>2018-10-19</td>\n",
              "      <td>0.0</td>\n",
              "      <td>0.0</td>\n",
              "      <td>0.0</td>\n",
              "    </tr>\n",
              "    <tr>\n",
              "      <th>2</th>\n",
              "      <td>2018-10-20</td>\n",
              "      <td>0.0</td>\n",
              "      <td>0.0</td>\n",
              "      <td>0.0</td>\n",
              "    </tr>\n",
              "    <tr>\n",
              "      <th>3</th>\n",
              "      <td>2018-10-21</td>\n",
              "      <td>0.0</td>\n",
              "      <td>0.0</td>\n",
              "      <td>0.0</td>\n",
              "    </tr>\n",
              "    <tr>\n",
              "      <th>4</th>\n",
              "      <td>2018-10-22</td>\n",
              "      <td>0.0</td>\n",
              "      <td>0.0</td>\n",
              "      <td>0.0</td>\n",
              "    </tr>\n",
              "    <tr>\n",
              "      <th>...</th>\n",
              "      <td>...</td>\n",
              "      <td>...</td>\n",
              "      <td>...</td>\n",
              "      <td>...</td>\n",
              "    </tr>\n",
              "    <tr>\n",
              "      <th>364</th>\n",
              "      <td>2019-10-18</td>\n",
              "      <td>0.2</td>\n",
              "      <td>1.0</td>\n",
              "      <td>0.0</td>\n",
              "    </tr>\n",
              "    <tr>\n",
              "      <th>365</th>\n",
              "      <td>2019-10-19</td>\n",
              "      <td>0.0</td>\n",
              "      <td>0.0</td>\n",
              "      <td>0.0</td>\n",
              "    </tr>\n",
              "    <tr>\n",
              "      <th>366</th>\n",
              "      <td>2019-10-20</td>\n",
              "      <td>0.0</td>\n",
              "      <td>0.0</td>\n",
              "      <td>0.0</td>\n",
              "    </tr>\n",
              "    <tr>\n",
              "      <th>367</th>\n",
              "      <td>2019-10-21</td>\n",
              "      <td>0.0</td>\n",
              "      <td>0.0</td>\n",
              "      <td>0.0</td>\n",
              "    </tr>\n",
              "    <tr>\n",
              "      <th>368</th>\n",
              "      <td>2019-10-22</td>\n",
              "      <td>0.0</td>\n",
              "      <td>0.0</td>\n",
              "      <td>0.0</td>\n",
              "    </tr>\n",
              "  </tbody>\n",
              "</table>\n",
              "<p>369 rows × 4 columns</p>\n",
              "</div>"
            ],
            "text/plain": [
              "          Date  ...  Wet day (1.0 mm or more)\n",
              "0   2018-10-18  ...                       0.0\n",
              "1   2018-10-19  ...                       0.0\n",
              "2   2018-10-20  ...                       0.0\n",
              "3   2018-10-21  ...                       0.0\n",
              "4   2018-10-22  ...                       0.0\n",
              "..         ...  ...                       ...\n",
              "364 2019-10-18  ...                       0.0\n",
              "365 2019-10-19  ...                       0.0\n",
              "366 2019-10-20  ...                       0.0\n",
              "367 2019-10-21  ...                       0.0\n",
              "368 2019-10-22  ...                       0.0\n",
              "\n",
              "[369 rows x 4 columns]"
            ]
          },
          "metadata": {
            "tags": []
          },
          "execution_count": 16
        }
      ]
    },
    {
      "cell_type": "markdown",
      "metadata": {
        "id": "k7ae2J4AK5Kx"
      },
      "source": [
        "## Temporal Cross-Correlation Analysis"
      ]
    },
    {
      "cell_type": "markdown",
      "metadata": {
        "id": "ddRLOTV9MpfF"
      },
      "source": [
        "This code was obtained from: https://towardsdatascience.com/four-ways-to-quantify-synchrony-between-time-series-data-b99136c4a9c9"
      ]
    },
    {
      "cell_type": "code",
      "metadata": {
        "id": "Xptom-EcK4-M"
      },
      "source": [
        "# define this function to find the temporal cross correlation\n",
        "def crosscorr(datax, datay, lag=0, wrap=False):\n",
        "    \"\"\" Lag-N cross correlation. \n",
        "    Shifted data filled with NaNs \n",
        "    \n",
        "    Parameters\n",
        "    ----------\n",
        "    lag : int, default 0\n",
        "    datax, datay : pandas.Series objects of equal length\n",
        "    Returns\n",
        "    ----------\n",
        "    crosscorr : float\n",
        "    \"\"\"\n",
        "    if wrap:\n",
        "        shiftedy = datay.shift(lag)\n",
        "        shiftedy.iloc[:lag] = datay.iloc[-lag:].values\n",
        "        return datax.corr(shiftedy)\n",
        "    else: \n",
        "        return datax.corr(datay.shift(lag))"
      ],
      "execution_count": null,
      "outputs": []
    },
    {
      "cell_type": "markdown",
      "metadata": {
        "id": "Y1ixf9Vclns-"
      },
      "source": [
        "The code below was obtained from: https://stackoverflow.com/questions/33171413/cross-correlation-time-lag-correlation-with-pandas"
      ]
    },
    {
      "cell_type": "code",
      "metadata": {
        "id": "V_QE2uHGlltw"
      },
      "source": [
        "def crosscorr2(datax, datay, lag=0):\n",
        "    \"\"\" Lag-N cross correlation. \n",
        "    Parameters\n",
        "    ----------\n",
        "    lag : int, default 0\n",
        "    datax, datay : pandas.Series objects of equal length\n",
        "\n",
        "    Returns\n",
        "    ----------\n",
        "    crosscorr : float\n",
        "    \"\"\"\n",
        "    return datax.corr(datay.shift(lag))"
      ],
      "execution_count": null,
      "outputs": []
    },
    {
      "cell_type": "code",
      "metadata": {
        "id": "HT5IGmJnMtu2"
      },
      "source": [
        "# defining the datasets\n",
        "d1 = sandford_daily_reduced['Incremental Reading']\n",
        "d2 = upstream_reduced['Rainfall mm 1 dpl no traces']\n",
        "#d2 = upstream_reduced['Precipitation']\n",
        "\n",
        "d1_ser = pd.Series(d1.values)\n",
        "d2_ser = pd.Series(d2.values)"
      ],
      "execution_count": null,
      "outputs": []
    },
    {
      "cell_type": "code",
      "metadata": {
        "id": "-PfxSMI9l3MB"
      },
      "source": [
        "start_lag = -25                                                                 # define one end of the lag range\n",
        "end_lag = 25 + 1                                                                # define other end of the lag range\n",
        "lag_linspace = [i for i in range(start_lag, end_lag)]                           # define list of dates to plot in graph\n",
        "xcov_daily = [crosscorr2(d1_ser, d2_ser, lag=i) for i in range(start_lag, end_lag)]   # calculate cross-correlations as a function of lag"
      ],
      "execution_count": null,
      "outputs": []
    },
    {
      "cell_type": "code",
      "metadata": {
        "id": "cQQeszN8mAYE"
      },
      "source": [
        "#xcov_daily"
      ],
      "execution_count": null,
      "outputs": []
    },
    {
      "cell_type": "code",
      "metadata": {
        "colab": {
          "base_uri": "https://localhost:8080/",
          "height": 650
        },
        "id": "ZKp8QG0Pl9SI",
        "outputId": "41ceb70e-1520-42c3-8f89-90448d46996b"
      },
      "source": [
        "# Let us plot the cross-correlation profile\n",
        "corr_fig, corr_ax = plt.subplots(figsize = (10, 10))\n",
        "corr_ax.plot(lag_linspace, xcov_daily, 'b', label = 'Cross-correlation')  \n",
        "corr_ax.axvline(lag_linspace[np.argmax(xcov_daily)], color='r', linestyle='--', label = 'Peak synchrony')           # Putting a line for peak synchrony\n",
        "corr_ax.set(title = 'Temporal Cross-correlation for Upstream Data in Grid Square 2', xlabel= 'Time Lag (days)', ylabel='Cross-correlation')\n",
        "corr_ax.legend(loc='center left', bbox_to_anchor=(1, 0.5))\n",
        "font = {'family' : 'normal',\n",
        "        'weight' : 'bold',\n",
        "        'size'   : 22}\n",
        "\n",
        "matplotlib.rc('font', **font)"
      ],
      "execution_count": null,
      "outputs": [
        {
          "output_type": "display_data",
          "data": {
            "image/png": "[encoded data removed]",
            "text/plain": [
              "<Figure size 720x720 with 1 Axes>"
            ]
          },
          "metadata": {
            "tags": [],
            "needs_background": "light"
          }
        }
      ]
    },
    {
      "cell_type": "code",
      "metadata": {
        "id": "_vNo4HOgh3ao"
      },
      "source": [
        "seconds = 5\n",
        "fps = 30"
      ],
      "execution_count": null,
      "outputs": []
    },
    {
      "cell_type": "code",
      "metadata": {
        "colab": {
          "base_uri": "https://localhost:8080/",
          "height": 349
        },
        "id": "ceLDnbKkh7RQ",
        "outputId": "41ad34d0-fa1a-4bef-d7d5-af483e7c2c7c"
      },
      "source": [
        "rs = [crosscorr(d1_ser, d2_ser, lag) for lag in range(-int(seconds * fps), int(seconds*fps+1))]\n",
        "offset = np.ceil(len(rs)/2) - np.argmax(rs)\n",
        "f,ax=plt.subplots(figsize=(14,3))\n",
        "ax.plot(rs)\n",
        "ax.axvline(np.ceil(len(rs)/2),color='k', linestyle = '--', label='Center')\n",
        "ax.axvline(np.argmax(rs), color='r', linestyle='--', label = 'Peak synchrony')\n",
        "ax.set(title = f'Offset = {offset} frames\\nS1 leads <> S2 leads', ylim=[.1,.31],xlim=[0,301], xlabel='Offset',ylabel='Pearson r')\n",
        "#ax.set_xticks([0, 50, 100, 151, 201, 251, 301])\n",
        "#ax.set_xticklabels([-150, -100, -50, 0, 50, 100, 150]);\n",
        "plt.legend()"
      ],
      "execution_count": null,
      "outputs": [
        {
          "output_type": "execute_result",
          "data": {
            "text/plain": [
              "<matplotlib.legend.Legend at 0x7fc704c320f0>"
            ]
          },
          "metadata": {
            "tags": []
          },
          "execution_count": 24
        },
        {
          "output_type": "stream",
          "text": [
            "findfont: Font family ['normal'] not found. Falling back to DejaVu Sans.\n",
            "findfont: Font family ['normal'] not found. Falling back to DejaVu Sans.\n",
            "findfont: Font family ['normal'] not found. Falling back to DejaVu Sans.\n"
          ],
          "name": "stderr"
        },
        {
          "output_type": "display_data",
          "data": {
            "image/png": "[encoded data removed]",
            "text/plain": [
              "<Figure size 1008x216 with 1 Axes>"
            ]
          },
          "metadata": {
            "tags": [],
            "needs_background": "light"
          }
        }
      ]
    },
    {
      "cell_type": "code",
      "metadata": {
        "id": "sytmm9QXlZfW"
      },
      "source": [
        ""
      ],
      "execution_count": null,
      "outputs": []
    }
  ]
}