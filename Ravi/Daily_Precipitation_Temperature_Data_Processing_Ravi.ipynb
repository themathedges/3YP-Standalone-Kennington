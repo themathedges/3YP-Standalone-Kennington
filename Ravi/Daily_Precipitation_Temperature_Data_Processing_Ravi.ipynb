{
  "nbformat": 4,
  "nbformat_minor": 0,
  "metadata": {
    "colab": {
      "name": "Daily_Precipitation_Temperature_Data_Processing_Ravi.ipynb",
      "provenance": [],
      "collapsed_sections": [],
      "authorship_tag": "ABX9TyP+dcqTamCi3l3+fZC07wIM",
      "include_colab_link": true
    },
    "kernelspec": {
      "name": "python3",
      "display_name": "Python 3"
    }
  },
  "cells": [
    {
      "cell_type": "markdown",
      "metadata": {
        "id": "view-in-github",
        "colab_type": "text"
      },
      "source": [
        "<a href=\"https://colab.research.google.com/github/themathedges/3YP-Standalone-Kennington/blob/main/Ravi/Daily_Precipitation_Temperature_Data_Processing_Ravi.ipynb\" target=\"_parent\"><img src=\"https://colab.research.google.com/assets/colab-badge.svg\" alt=\"Open In Colab\"/></a>"
      ]
    },
    {
      "cell_type": "markdown",
      "metadata": {
        "id": "TJyiCci0O1mh"
      },
      "source": [
        "# Daily Precipitation Data Processing\n",
        "Author: Ravi Kohli\n",
        "\n",
        "Date: November 20th, 2020\n",
        "\n",
        "College: Christ Church"
      ]
    },
    {
      "cell_type": "markdown",
      "metadata": {
        "id": "1RYzQV8GAH7f"
      },
      "source": [
        "**Goal:** The purpose of this notebook is to process the daily dataset from the Radcliffe Observatory for use in analysis notebooks"
      ]
    },
    {
      "cell_type": "markdown",
      "metadata": {
        "id": "XX33NU8uO8PT"
      },
      "source": [
        "Data was collected from Radcliffe Observatory:\n",
        "Oxford Weather and Climate since 1767 by Stephen Burt and Tim Burt, published by Oxford University Press, 2019.\n",
        "\n",
        "This data is available at\n",
        "https://www.geog.ox.ac.uk/research/climate/rms/daily-data.html\n",
        "\n"
      ]
    },
    {
      "cell_type": "markdown",
      "metadata": {
        "id": "A6Pzniat_kIG"
      },
      "source": [
        "### Documentation of dataset"
      ]
    },
    {
      "cell_type": "markdown",
      "metadata": {
        "id": "Lwazk7rpVBwP"
      },
      "source": [
        "Dataset documentation explanation of the **relevant** columns: (taken from documentation)\n",
        "- YYYY - Year (four digits). First record 1 Jan 1815\n",
        "- MM - Month (two digits). First record 1 Jan 1815\n",
        "- DD - Date (two digits). First record 1 Jan 1815\n",
        "- Tmax $^o$C - Daily maximum temperature. **Units degrees Celsius and tenths**. First record 1 Jan 1815\n",
        "- Tmin $^o$C - Daily minimum temperature. **Units degrees Celsius and tenths**. First record 1 Jan 1815\n",
        "- Daily Tmean $^o$C - Daily mean temperature, derived from the average of the day's maximum and minimum temperatures. **Units degrees Celsius and tenths**. First record 1 Jan 1815\n",
        "- Daily range degC - Daily range in temperature, derived from maximum minus minimum temperature. **Units degrees Celsius and tenths**. First record 1 Jan 1815\t\n",
        "- Grass min $^o$C  - Daily grass minimum temperature. **Units degrees Celsius and tenths**. First record 1 Dec 1930 (earlier records exist, awaiting digitisation)\n",
        "- Air frost 0/1 - Binary flag for air frost, 1 when the day's minimum temperature is below 0 degrees Celsius (note, excludes 0.0 degrees Celsius), else 0. \n",
        "- Ground frost 0/1 - Binary flag for ground frost, 1 when the day's grass minimum temperature is below 0 degrees Celsius (note, excludes 0.0 degrees Celsius), else 0. First record 1 Dec 1930 (earlier records exist, awaiting digitisation)\n",
        "- Max >= 25.0¯C - Binary flag for 'hot day', 1 when the day's maximum temperature is at or above 25.0 degrees Celsius, else 0. \n",
        "- Max >= 30.0¯C - Binary flag for 'heatwave day', 1 when the day's maximum temperature is at or above 30.0 degrees Celsius, else 0. \n",
        "- Min >= 15.0 ¯C - Binary flag for 'warm night', 1 when the day's minimum temperature is at or above 15.0 degrees Celsius, else 0. \n",
        "- Max < 0 ¯C - Binary flag for 'ice day', 1 when the day's maximum temperature is below 0 degrees Celsius, (note, excludes 0.0 degrees Celsius), else 0. \n",
        "- Rainfall mm raw including traces - daily precipitation total, **mm and tenths**, including 'trace' entries where entered. Includes melted snowfall, at least from 1853. Note that for the majority of the record, traces were not digitised and their absence from the record in this column should not be taken to assume they did not occur. For statistical operations it is preferable to use the following column which excludes traces, as text entries can result in errors in statistical operations performed on the data. \n",
        "- Rainfall mm 1 dpl no traces - daily precipitation total, **mm and tenths**: any 'trace' entries set to zero. Includes melted snowfall, at least from 1853. For statistical operations it is advisable to use this column (i.e. excluding traces), as text entries can result in errors in statistical operations performed on the data. First record 1 Jan 1827\t\n",
        "- Rain day (0.2 mm or more) - Binary flag for 'rain day', 1 when the day's rainfall is 0.2 mm or more, else 0. First record 1 Jan 1827. There remains some doubt as to whether rainfall was measured every day prior to 1853, and some 'daily' values prior to this may be multi-day accumulations (and thus the number of rain days will be lower than actual)\t\n",
        "- Wet day (1.0 mm or more) - Binary flag for 'wet day', 1 when the day's rainfall is 1.0 mm or more, else 0. First record 1 Jan 1827. There remains some doubt as to whether rainfall was measured every day prior to 1853, and some 'daily' values prior to this may be multi-day accumulations (and thus the number of wet days will be lower than actual)\n",
        "- Sunshine duration (h) - Daily sunshine duration. **Units hours and tenths**. First record 1 Jan 1921 (earlier records exist, awaiting digitisation)\n",
        "- Nil sunshine - Binary flag for 'sunless day', 1 when the day's sunshine duration is zero, else 0. First record 1 Jan 1921 (earlier records exist, awaiting digitisation)\n",
        "- 12 h sunshine - Binary flag for 'sunny day', 1 when the day's sunshine duration is 12.0 hours or more, else 0. First record 1 Jan 1921 (earlier records exist, awaiting digitisation)\n"
      ]
    },
    {
      "cell_type": "markdown",
      "metadata": {
        "id": "SB7Jdumv_qlO"
      },
      "source": [
        "## Code"
      ]
    },
    {
      "cell_type": "markdown",
      "metadata": {
        "id": "n891DELNPNl-"
      },
      "source": [
        "**NOTE:** if running this notebook on your own computer, then just ignore this cell below"
      ]
    },
    {
      "cell_type": "code",
      "metadata": {
        "id": "roDgbrIQOm30",
        "colab": {
          "base_uri": "https://localhost:8080/"
        },
        "outputId": "5b579189-6eb0-4ae5-9cb2-e2691565fa9b"
      },
      "source": [
        "# Mounting the Google Drive\n",
        "from google.colab import drive\n",
        "drive.mount('/content/drive')"
      ],
      "execution_count": null,
      "outputs": [
        {
          "output_type": "stream",
          "text": [
            "Drive already mounted at /content/drive; to attempt to forcibly remount, call drive.mount(\"/content/drive\", force_remount=True).\n"
          ],
          "name": "stdout"
        }
      ]
    },
    {
      "cell_type": "code",
      "metadata": {
        "id": "0_EHYEeuPTPh"
      },
      "source": [
        "# importing the modules\n",
        "import numpy as np\n",
        "import pandas as pd\n",
        "import matplotlib\n",
        "import matplotlib.pyplot as plt"
      ],
      "execution_count": null,
      "outputs": []
    },
    {
      "cell_type": "code",
      "metadata": {
        "id": "XtHunM07Pb6C",
        "colab": {
          "base_uri": "https://localhost:8080/"
        },
        "outputId": "3372293e-b81e-4e73-d164-927be3390347"
      },
      "source": [
        "# Retrieving the precipitation data\n",
        "path = '/content/drive/My Drive/3YP/data/'    # when running in a notebook in colab\n",
        "#path = '../data/'                            # when running from an external notebook\n",
        "\n",
        "filename = \"daily-data-to-jan-2020.csv\"       # the name of the csv file\n",
        "df = pd.read_csv(path+filename)               # converting the csv file to a dataframe"
      ],
      "execution_count": null,
      "outputs": [
        {
          "output_type": "stream",
          "text": [
            "/usr/local/lib/python3.6/dist-packages/IPython/core/interactiveshell.py:2718: DtypeWarning: Columns (7,14,18,19,20) have mixed types.Specify dtype option on import or set low_memory=False.\n",
            "  interactivity=interactivity, compiler=compiler, result=result)\n"
          ],
          "name": "stderr"
        }
      ]
    },
    {
      "cell_type": "code",
      "metadata": {
        "id": "MCGPCvIuQPtJ",
        "colab": {
          "base_uri": "https://localhost:8080/"
        },
        "outputId": "fb5186c9-4126-4095-9970-ab691ede047c"
      },
      "source": [
        "df.info()"
      ],
      "execution_count": null,
      "outputs": [
        {
          "output_type": "stream",
          "text": [
            "<class 'pandas.core.frame.DataFrame'>\n",
            "RangeIndex: 74906 entries, 0 to 74905\n",
            "Data columns (total 21 columns):\n",
            " #   Column                       Non-Null Count  Dtype  \n",
            "---  ------                       --------------  -----  \n",
            " 0   YYYY                         74906 non-null  int64  \n",
            " 1   MM                           74906 non-null  int64  \n",
            " 2   DD                           74906 non-null  int64  \n",
            " 3   Tmax °C                      74906 non-null  float64\n",
            " 4   Tmin °C                      74906 non-null  float64\n",
            " 5   Daily Tmean °C               74906 non-null  float64\n",
            " 6   Daily range degC             74906 non-null  float64\n",
            " 7   Grass min °C                 32531 non-null  object \n",
            " 8   Air frost 0/1                74906 non-null  int64  \n",
            " 9   Ground frost 0/1             32251 non-null  float64\n",
            " 10  Max ≥ 25.0°C                 74906 non-null  int64  \n",
            " 11  Max ≥ 30.0°C                 74906 non-null  int64  \n",
            " 12  Min ≥ 15.0 °C                74906 non-null  int64  \n",
            " 13  Max < 0 °C                   74906 non-null  int64  \n",
            " 14  Rainfall mm raw incl traces  70523 non-null  object \n",
            " 15  Rainfall mm 1 dpl no traces  70523 non-null  float64\n",
            " 16  Rain day (0.2 mm or more)    70523 non-null  float64\n",
            " 17  Wet day (1.0 mm or more)     70523 non-null  float64\n",
            " 18  Sunshine duration h          36190 non-null  object \n",
            " 19  Nil sunshine                 36190 non-null  object \n",
            " 20  12 h sunshine                36190 non-null  object \n",
            "dtypes: float64(8), int64(8), object(5)\n",
            "memory usage: 12.0+ MB\n"
          ],
          "name": "stdout"
        }
      ]
    },
    {
      "cell_type": "code",
      "metadata": {
        "colab": {
          "base_uri": "https://localhost:8080/",
          "height": 507
        },
        "id": "44GrI6EBAiBb",
        "outputId": "d4dda30f-97be-40a5-f478-e912b2dbe050"
      },
      "source": [
        "df"
      ],
      "execution_count": null,
      "outputs": [
        {
          "output_type": "execute_result",
          "data": {
            "text/html": [
              "<div>\n",
              "<style scoped>\n",
              "    .dataframe tbody tr th:only-of-type {\n",
              "        vertical-align: middle;\n",
              "    }\n",
              "\n",
              "    .dataframe tbody tr th {\n",
              "        vertical-align: top;\n",
              "    }\n",
              "\n",
              "    .dataframe thead th {\n",
              "        text-align: right;\n",
              "    }\n",
              "</style>\n",
              "<table border=\"1\" class=\"dataframe\">\n",
              "  <thead>\n",
              "    <tr style=\"text-align: right;\">\n",
              "      <th></th>\n",
              "      <th>YYYY</th>\n",
              "      <th>MM</th>\n",
              "      <th>DD</th>\n",
              "      <th>Tmax °C</th>\n",
              "      <th>Tmin °C</th>\n",
              "      <th>Daily Tmean °C</th>\n",
              "      <th>Daily range degC</th>\n",
              "      <th>Grass min °C</th>\n",
              "      <th>Air frost 0/1</th>\n",
              "      <th>Ground frost 0/1</th>\n",
              "      <th>Max ≥ 25.0°C</th>\n",
              "      <th>Max ≥ 30.0°C</th>\n",
              "      <th>Min ≥ 15.0 °C</th>\n",
              "      <th>Max &lt; 0 °C</th>\n",
              "      <th>Rainfall mm raw incl traces</th>\n",
              "      <th>Rainfall mm 1 dpl no traces</th>\n",
              "      <th>Rain day (0.2 mm or more)</th>\n",
              "      <th>Wet day (1.0 mm or more)</th>\n",
              "      <th>Sunshine duration h</th>\n",
              "      <th>Nil sunshine</th>\n",
              "      <th>12 h sunshine</th>\n",
              "    </tr>\n",
              "  </thead>\n",
              "  <tbody>\n",
              "    <tr>\n",
              "      <th>0</th>\n",
              "      <td>1815</td>\n",
              "      <td>1</td>\n",
              "      <td>1</td>\n",
              "      <td>6.6</td>\n",
              "      <td>-1.5</td>\n",
              "      <td>2.6</td>\n",
              "      <td>8.1</td>\n",
              "      <td>NaN</td>\n",
              "      <td>1</td>\n",
              "      <td>NaN</td>\n",
              "      <td>0</td>\n",
              "      <td>0</td>\n",
              "      <td>0</td>\n",
              "      <td>0</td>\n",
              "      <td>NaN</td>\n",
              "      <td>NaN</td>\n",
              "      <td>NaN</td>\n",
              "      <td>NaN</td>\n",
              "      <td>NaN</td>\n",
              "      <td>NaN</td>\n",
              "      <td>NaN</td>\n",
              "    </tr>\n",
              "    <tr>\n",
              "      <th>1</th>\n",
              "      <td>1815</td>\n",
              "      <td>1</td>\n",
              "      <td>2</td>\n",
              "      <td>4.9</td>\n",
              "      <td>-3.2</td>\n",
              "      <td>0.9</td>\n",
              "      <td>8.1</td>\n",
              "      <td>NaN</td>\n",
              "      <td>1</td>\n",
              "      <td>NaN</td>\n",
              "      <td>0</td>\n",
              "      <td>0</td>\n",
              "      <td>0</td>\n",
              "      <td>0</td>\n",
              "      <td>NaN</td>\n",
              "      <td>NaN</td>\n",
              "      <td>NaN</td>\n",
              "      <td>NaN</td>\n",
              "      <td>NaN</td>\n",
              "      <td>NaN</td>\n",
              "      <td>NaN</td>\n",
              "    </tr>\n",
              "    <tr>\n",
              "      <th>2</th>\n",
              "      <td>1815</td>\n",
              "      <td>1</td>\n",
              "      <td>3</td>\n",
              "      <td>2.6</td>\n",
              "      <td>-5.6</td>\n",
              "      <td>-1.5</td>\n",
              "      <td>8.2</td>\n",
              "      <td>NaN</td>\n",
              "      <td>1</td>\n",
              "      <td>NaN</td>\n",
              "      <td>0</td>\n",
              "      <td>0</td>\n",
              "      <td>0</td>\n",
              "      <td>0</td>\n",
              "      <td>NaN</td>\n",
              "      <td>NaN</td>\n",
              "      <td>NaN</td>\n",
              "      <td>NaN</td>\n",
              "      <td>NaN</td>\n",
              "      <td>NaN</td>\n",
              "      <td>NaN</td>\n",
              "    </tr>\n",
              "    <tr>\n",
              "      <th>3</th>\n",
              "      <td>1815</td>\n",
              "      <td>1</td>\n",
              "      <td>4</td>\n",
              "      <td>2.1</td>\n",
              "      <td>-6.1</td>\n",
              "      <td>-2.0</td>\n",
              "      <td>8.2</td>\n",
              "      <td>NaN</td>\n",
              "      <td>1</td>\n",
              "      <td>NaN</td>\n",
              "      <td>0</td>\n",
              "      <td>0</td>\n",
              "      <td>0</td>\n",
              "      <td>0</td>\n",
              "      <td>NaN</td>\n",
              "      <td>NaN</td>\n",
              "      <td>NaN</td>\n",
              "      <td>NaN</td>\n",
              "      <td>NaN</td>\n",
              "      <td>NaN</td>\n",
              "      <td>NaN</td>\n",
              "    </tr>\n",
              "    <tr>\n",
              "      <th>4</th>\n",
              "      <td>1815</td>\n",
              "      <td>1</td>\n",
              "      <td>5</td>\n",
              "      <td>1.0</td>\n",
              "      <td>-7.2</td>\n",
              "      <td>-3.1</td>\n",
              "      <td>8.2</td>\n",
              "      <td>NaN</td>\n",
              "      <td>1</td>\n",
              "      <td>NaN</td>\n",
              "      <td>0</td>\n",
              "      <td>0</td>\n",
              "      <td>0</td>\n",
              "      <td>0</td>\n",
              "      <td>NaN</td>\n",
              "      <td>NaN</td>\n",
              "      <td>NaN</td>\n",
              "      <td>NaN</td>\n",
              "      <td>NaN</td>\n",
              "      <td>NaN</td>\n",
              "      <td>NaN</td>\n",
              "    </tr>\n",
              "    <tr>\n",
              "      <th>...</th>\n",
              "      <td>...</td>\n",
              "      <td>...</td>\n",
              "      <td>...</td>\n",
              "      <td>...</td>\n",
              "      <td>...</td>\n",
              "      <td>...</td>\n",
              "      <td>...</td>\n",
              "      <td>...</td>\n",
              "      <td>...</td>\n",
              "      <td>...</td>\n",
              "      <td>...</td>\n",
              "      <td>...</td>\n",
              "      <td>...</td>\n",
              "      <td>...</td>\n",
              "      <td>...</td>\n",
              "      <td>...</td>\n",
              "      <td>...</td>\n",
              "      <td>...</td>\n",
              "      <td>...</td>\n",
              "      <td>...</td>\n",
              "      <td>...</td>\n",
              "    </tr>\n",
              "    <tr>\n",
              "      <th>74901</th>\n",
              "      <td>2020</td>\n",
              "      <td>1</td>\n",
              "      <td>27</td>\n",
              "      <td>8.5</td>\n",
              "      <td>5.5</td>\n",
              "      <td>7.0</td>\n",
              "      <td>3.0</td>\n",
              "      <td>3.6</td>\n",
              "      <td>0</td>\n",
              "      <td>0.0</td>\n",
              "      <td>0</td>\n",
              "      <td>0</td>\n",
              "      <td>0</td>\n",
              "      <td>0</td>\n",
              "      <td>2.8</td>\n",
              "      <td>2.8</td>\n",
              "      <td>1.0</td>\n",
              "      <td>1.0</td>\n",
              "      <td>0.8</td>\n",
              "      <td>0</td>\n",
              "      <td>0</td>\n",
              "    </tr>\n",
              "    <tr>\n",
              "      <th>74902</th>\n",
              "      <td>2020</td>\n",
              "      <td>1</td>\n",
              "      <td>28</td>\n",
              "      <td>7.4</td>\n",
              "      <td>1.6</td>\n",
              "      <td>4.5</td>\n",
              "      <td>5.8</td>\n",
              "      <td>-0.3</td>\n",
              "      <td>0</td>\n",
              "      <td>1.0</td>\n",
              "      <td>0</td>\n",
              "      <td>0</td>\n",
              "      <td>0</td>\n",
              "      <td>0</td>\n",
              "      <td>0</td>\n",
              "      <td>0.0</td>\n",
              "      <td>0.0</td>\n",
              "      <td>0.0</td>\n",
              "      <td>6</td>\n",
              "      <td>0</td>\n",
              "      <td>0</td>\n",
              "    </tr>\n",
              "    <tr>\n",
              "      <th>74903</th>\n",
              "      <td>2020</td>\n",
              "      <td>1</td>\n",
              "      <td>29</td>\n",
              "      <td>9.8</td>\n",
              "      <td>2.3</td>\n",
              "      <td>6.1</td>\n",
              "      <td>7.5</td>\n",
              "      <td>0.1</td>\n",
              "      <td>0</td>\n",
              "      <td>0.0</td>\n",
              "      <td>0</td>\n",
              "      <td>0</td>\n",
              "      <td>0</td>\n",
              "      <td>0</td>\n",
              "      <td>0</td>\n",
              "      <td>0.0</td>\n",
              "      <td>0.0</td>\n",
              "      <td>0.0</td>\n",
              "      <td>5.5</td>\n",
              "      <td>0</td>\n",
              "      <td>0</td>\n",
              "    </tr>\n",
              "    <tr>\n",
              "      <th>74904</th>\n",
              "      <td>2020</td>\n",
              "      <td>1</td>\n",
              "      <td>30</td>\n",
              "      <td>12.3</td>\n",
              "      <td>4.0</td>\n",
              "      <td>8.2</td>\n",
              "      <td>8.3</td>\n",
              "      <td>2.4</td>\n",
              "      <td>0</td>\n",
              "      <td>0.0</td>\n",
              "      <td>0</td>\n",
              "      <td>0</td>\n",
              "      <td>0</td>\n",
              "      <td>0</td>\n",
              "      <td>0</td>\n",
              "      <td>0.0</td>\n",
              "      <td>0.0</td>\n",
              "      <td>0.0</td>\n",
              "      <td>0</td>\n",
              "      <td>1</td>\n",
              "      <td>0</td>\n",
              "    </tr>\n",
              "    <tr>\n",
              "      <th>74905</th>\n",
              "      <td>2020</td>\n",
              "      <td>1</td>\n",
              "      <td>31</td>\n",
              "      <td>12.8</td>\n",
              "      <td>7.9</td>\n",
              "      <td>10.4</td>\n",
              "      <td>4.9</td>\n",
              "      <td>7.8</td>\n",
              "      <td>0</td>\n",
              "      <td>0.0</td>\n",
              "      <td>0</td>\n",
              "      <td>0</td>\n",
              "      <td>0</td>\n",
              "      <td>0</td>\n",
              "      <td>1.9</td>\n",
              "      <td>1.9</td>\n",
              "      <td>1.0</td>\n",
              "      <td>1.0</td>\n",
              "      <td>0.3</td>\n",
              "      <td>0</td>\n",
              "      <td>0</td>\n",
              "    </tr>\n",
              "  </tbody>\n",
              "</table>\n",
              "<p>74906 rows × 21 columns</p>\n",
              "</div>"
            ],
            "text/plain": [
              "       YYYY  MM  DD  ...  Sunshine duration h  Nil sunshine  12 h sunshine\n",
              "0      1815   1   1  ...                  NaN           NaN            NaN\n",
              "1      1815   1   2  ...                  NaN           NaN            NaN\n",
              "2      1815   1   3  ...                  NaN           NaN            NaN\n",
              "3      1815   1   4  ...                  NaN           NaN            NaN\n",
              "4      1815   1   5  ...                  NaN           NaN            NaN\n",
              "...     ...  ..  ..  ...                  ...           ...            ...\n",
              "74901  2020   1  27  ...                  0.8             0              0\n",
              "74902  2020   1  28  ...                    6             0              0\n",
              "74903  2020   1  29  ...                  5.5             0              0\n",
              "74904  2020   1  30  ...                    0             1              0\n",
              "74905  2020   1  31  ...                  0.3             0              0\n",
              "\n",
              "[74906 rows x 21 columns]"
            ]
          },
          "metadata": {
            "tags": []
          },
          "execution_count": 5
        }
      ]
    },
    {
      "cell_type": "markdown",
      "metadata": {
        "id": "F5GokwckUPGc"
      },
      "source": [
        "List of observations and pre-processing steps to make the data usable:\n",
        "- Year, Month, and Day columns need to be combined to form a date column with a datatype datetime\n",
        "- Data is all in strings : we can convert the data to ints and float as required\n",
        "\n",
        "*Row references are given with respect to original indexing"
      ]
    },
    {
      "cell_type": "markdown",
      "metadata": {
        "id": "Hxu8at5_p089"
      },
      "source": [
        "## Data Preprocessing"
      ]
    },
    {
      "cell_type": "code",
      "metadata": {
        "id": "uOm-ZtJlBbkx"
      },
      "source": [
        "df['Date'] = pd.to_datetime(pd.DataFrame({'year': df['YYYY'], 'month': df['MM'], 'day': df['DD']}))   # creating a date column"
      ],
      "execution_count": null,
      "outputs": []
    },
    {
      "cell_type": "code",
      "metadata": {
        "colab": {
          "base_uri": "https://localhost:8080/",
          "height": 419
        },
        "id": "cqfPo2qSC1vq",
        "outputId": "52ccfd01-2c1e-405d-a278-d81ef132658b"
      },
      "source": [
        "# creating a dataframe with just the data for the daily precipitation\n",
        "radcliffe_precipitation_daily_df = df[['Date', 'Rainfall mm 1 dpl no traces', 'Rain day (0.2 mm or more)', 'Wet day (1.0 mm or more)']]\n",
        "radcliffe_precipitation_daily_df"
      ],
      "execution_count": null,
      "outputs": [
        {
          "output_type": "execute_result",
          "data": {
            "text/html": [
              "<div>\n",
              "<style scoped>\n",
              "    .dataframe tbody tr th:only-of-type {\n",
              "        vertical-align: middle;\n",
              "    }\n",
              "\n",
              "    .dataframe tbody tr th {\n",
              "        vertical-align: top;\n",
              "    }\n",
              "\n",
              "    .dataframe thead th {\n",
              "        text-align: right;\n",
              "    }\n",
              "</style>\n",
              "<table border=\"1\" class=\"dataframe\">\n",
              "  <thead>\n",
              "    <tr style=\"text-align: right;\">\n",
              "      <th></th>\n",
              "      <th>Date</th>\n",
              "      <th>Rainfall mm 1 dpl no traces</th>\n",
              "      <th>Rain day (0.2 mm or more)</th>\n",
              "      <th>Wet day (1.0 mm or more)</th>\n",
              "    </tr>\n",
              "  </thead>\n",
              "  <tbody>\n",
              "    <tr>\n",
              "      <th>0</th>\n",
              "      <td>1815-01-01</td>\n",
              "      <td>NaN</td>\n",
              "      <td>NaN</td>\n",
              "      <td>NaN</td>\n",
              "    </tr>\n",
              "    <tr>\n",
              "      <th>1</th>\n",
              "      <td>1815-01-02</td>\n",
              "      <td>NaN</td>\n",
              "      <td>NaN</td>\n",
              "      <td>NaN</td>\n",
              "    </tr>\n",
              "    <tr>\n",
              "      <th>2</th>\n",
              "      <td>1815-01-03</td>\n",
              "      <td>NaN</td>\n",
              "      <td>NaN</td>\n",
              "      <td>NaN</td>\n",
              "    </tr>\n",
              "    <tr>\n",
              "      <th>3</th>\n",
              "      <td>1815-01-04</td>\n",
              "      <td>NaN</td>\n",
              "      <td>NaN</td>\n",
              "      <td>NaN</td>\n",
              "    </tr>\n",
              "    <tr>\n",
              "      <th>4</th>\n",
              "      <td>1815-01-05</td>\n",
              "      <td>NaN</td>\n",
              "      <td>NaN</td>\n",
              "      <td>NaN</td>\n",
              "    </tr>\n",
              "    <tr>\n",
              "      <th>...</th>\n",
              "      <td>...</td>\n",
              "      <td>...</td>\n",
              "      <td>...</td>\n",
              "      <td>...</td>\n",
              "    </tr>\n",
              "    <tr>\n",
              "      <th>74901</th>\n",
              "      <td>2020-01-27</td>\n",
              "      <td>2.8</td>\n",
              "      <td>1.0</td>\n",
              "      <td>1.0</td>\n",
              "    </tr>\n",
              "    <tr>\n",
              "      <th>74902</th>\n",
              "      <td>2020-01-28</td>\n",
              "      <td>0.0</td>\n",
              "      <td>0.0</td>\n",
              "      <td>0.0</td>\n",
              "    </tr>\n",
              "    <tr>\n",
              "      <th>74903</th>\n",
              "      <td>2020-01-29</td>\n",
              "      <td>0.0</td>\n",
              "      <td>0.0</td>\n",
              "      <td>0.0</td>\n",
              "    </tr>\n",
              "    <tr>\n",
              "      <th>74904</th>\n",
              "      <td>2020-01-30</td>\n",
              "      <td>0.0</td>\n",
              "      <td>0.0</td>\n",
              "      <td>0.0</td>\n",
              "    </tr>\n",
              "    <tr>\n",
              "      <th>74905</th>\n",
              "      <td>2020-01-31</td>\n",
              "      <td>1.9</td>\n",
              "      <td>1.0</td>\n",
              "      <td>1.0</td>\n",
              "    </tr>\n",
              "  </tbody>\n",
              "</table>\n",
              "<p>74906 rows × 4 columns</p>\n",
              "</div>"
            ],
            "text/plain": [
              "            Date  ...  Wet day (1.0 mm or more)\n",
              "0     1815-01-01  ...                       NaN\n",
              "1     1815-01-02  ...                       NaN\n",
              "2     1815-01-03  ...                       NaN\n",
              "3     1815-01-04  ...                       NaN\n",
              "4     1815-01-05  ...                       NaN\n",
              "...          ...  ...                       ...\n",
              "74901 2020-01-27  ...                       1.0\n",
              "74902 2020-01-28  ...                       0.0\n",
              "74903 2020-01-29  ...                       0.0\n",
              "74904 2020-01-30  ...                       0.0\n",
              "74905 2020-01-31  ...                       1.0\n",
              "\n",
              "[74906 rows x 4 columns]"
            ]
          },
          "metadata": {
            "tags": []
          },
          "execution_count": 7
        }
      ]
    },
    {
      "cell_type": "code",
      "metadata": {
        "colab": {
          "base_uri": "https://localhost:8080/"
        },
        "id": "j1oSsaC8B0tR",
        "outputId": "6659023e-d313-4d8b-e057-9841cb7a697b"
      },
      "source": [
        "radcliffe_precipitation_daily_df[radcliffe_precipitation_daily_df.columns[1: ]] = radcliffe_precipitation_daily_df[radcliffe_precipitation_daily_df.columns[1: ]].apply(pd.to_numeric)    # chaging the data to floats "
      ],
      "execution_count": null,
      "outputs": [
        {
          "output_type": "stream",
          "text": [
            "/usr/local/lib/python3.6/dist-packages/pandas/core/frame.py:3069: SettingWithCopyWarning: \n",
            "A value is trying to be set on a copy of a slice from a DataFrame.\n",
            "Try using .loc[row_indexer,col_indexer] = value instead\n",
            "\n",
            "See the caveats in the documentation: https://pandas.pydata.org/pandas-docs/stable/user_guide/indexing.html#returning-a-view-versus-a-copy\n",
            "  self[k1] = value[k2]\n"
          ],
          "name": "stderr"
        }
      ]
    },
    {
      "cell_type": "code",
      "metadata": {
        "colab": {
          "base_uri": "https://localhost:8080/",
          "height": 419
        },
        "id": "Wi68GcTXGkZf",
        "outputId": "d5d652ec-55c8-4114-bc53-f798e1231b21"
      },
      "source": [
        "# creating a dataframe with just the data for the daily temperature\n",
        "radcliffe_temperature_daily_df = df[['Date', 'Tmax °C', 'Tmin °C', 'Daily Tmean °C', 'Daily range degC']]\n",
        "radcliffe_temperature_daily_df"
      ],
      "execution_count": null,
      "outputs": [
        {
          "output_type": "execute_result",
          "data": {
            "text/html": [
              "<div>\n",
              "<style scoped>\n",
              "    .dataframe tbody tr th:only-of-type {\n",
              "        vertical-align: middle;\n",
              "    }\n",
              "\n",
              "    .dataframe tbody tr th {\n",
              "        vertical-align: top;\n",
              "    }\n",
              "\n",
              "    .dataframe thead th {\n",
              "        text-align: right;\n",
              "    }\n",
              "</style>\n",
              "<table border=\"1\" class=\"dataframe\">\n",
              "  <thead>\n",
              "    <tr style=\"text-align: right;\">\n",
              "      <th></th>\n",
              "      <th>Date</th>\n",
              "      <th>Tmax °C</th>\n",
              "      <th>Tmin °C</th>\n",
              "      <th>Daily Tmean °C</th>\n",
              "      <th>Daily range degC</th>\n",
              "    </tr>\n",
              "  </thead>\n",
              "  <tbody>\n",
              "    <tr>\n",
              "      <th>0</th>\n",
              "      <td>1815-01-01</td>\n",
              "      <td>6.6</td>\n",
              "      <td>-1.5</td>\n",
              "      <td>2.6</td>\n",
              "      <td>8.1</td>\n",
              "    </tr>\n",
              "    <tr>\n",
              "      <th>1</th>\n",
              "      <td>1815-01-02</td>\n",
              "      <td>4.9</td>\n",
              "      <td>-3.2</td>\n",
              "      <td>0.9</td>\n",
              "      <td>8.1</td>\n",
              "    </tr>\n",
              "    <tr>\n",
              "      <th>2</th>\n",
              "      <td>1815-01-03</td>\n",
              "      <td>2.6</td>\n",
              "      <td>-5.6</td>\n",
              "      <td>-1.5</td>\n",
              "      <td>8.2</td>\n",
              "    </tr>\n",
              "    <tr>\n",
              "      <th>3</th>\n",
              "      <td>1815-01-04</td>\n",
              "      <td>2.1</td>\n",
              "      <td>-6.1</td>\n",
              "      <td>-2.0</td>\n",
              "      <td>8.2</td>\n",
              "    </tr>\n",
              "    <tr>\n",
              "      <th>4</th>\n",
              "      <td>1815-01-05</td>\n",
              "      <td>1.0</td>\n",
              "      <td>-7.2</td>\n",
              "      <td>-3.1</td>\n",
              "      <td>8.2</td>\n",
              "    </tr>\n",
              "    <tr>\n",
              "      <th>...</th>\n",
              "      <td>...</td>\n",
              "      <td>...</td>\n",
              "      <td>...</td>\n",
              "      <td>...</td>\n",
              "      <td>...</td>\n",
              "    </tr>\n",
              "    <tr>\n",
              "      <th>74901</th>\n",
              "      <td>2020-01-27</td>\n",
              "      <td>8.5</td>\n",
              "      <td>5.5</td>\n",
              "      <td>7.0</td>\n",
              "      <td>3.0</td>\n",
              "    </tr>\n",
              "    <tr>\n",
              "      <th>74902</th>\n",
              "      <td>2020-01-28</td>\n",
              "      <td>7.4</td>\n",
              "      <td>1.6</td>\n",
              "      <td>4.5</td>\n",
              "      <td>5.8</td>\n",
              "    </tr>\n",
              "    <tr>\n",
              "      <th>74903</th>\n",
              "      <td>2020-01-29</td>\n",
              "      <td>9.8</td>\n",
              "      <td>2.3</td>\n",
              "      <td>6.1</td>\n",
              "      <td>7.5</td>\n",
              "    </tr>\n",
              "    <tr>\n",
              "      <th>74904</th>\n",
              "      <td>2020-01-30</td>\n",
              "      <td>12.3</td>\n",
              "      <td>4.0</td>\n",
              "      <td>8.2</td>\n",
              "      <td>8.3</td>\n",
              "    </tr>\n",
              "    <tr>\n",
              "      <th>74905</th>\n",
              "      <td>2020-01-31</td>\n",
              "      <td>12.8</td>\n",
              "      <td>7.9</td>\n",
              "      <td>10.4</td>\n",
              "      <td>4.9</td>\n",
              "    </tr>\n",
              "  </tbody>\n",
              "</table>\n",
              "<p>74906 rows × 5 columns</p>\n",
              "</div>"
            ],
            "text/plain": [
              "            Date  Tmax °C  Tmin °C  Daily Tmean °C  Daily range degC\n",
              "0     1815-01-01      6.6     -1.5             2.6               8.1\n",
              "1     1815-01-02      4.9     -3.2             0.9               8.1\n",
              "2     1815-01-03      2.6     -5.6            -1.5               8.2\n",
              "3     1815-01-04      2.1     -6.1            -2.0               8.2\n",
              "4     1815-01-05      1.0     -7.2            -3.1               8.2\n",
              "...          ...      ...      ...             ...               ...\n",
              "74901 2020-01-27      8.5      5.5             7.0               3.0\n",
              "74902 2020-01-28      7.4      1.6             4.5               5.8\n",
              "74903 2020-01-29      9.8      2.3             6.1               7.5\n",
              "74904 2020-01-30     12.3      4.0             8.2               8.3\n",
              "74905 2020-01-31     12.8      7.9            10.4               4.9\n",
              "\n",
              "[74906 rows x 5 columns]"
            ]
          },
          "metadata": {
            "tags": []
          },
          "execution_count": 9
        }
      ]
    },
    {
      "cell_type": "code",
      "metadata": {
        "colab": {
          "base_uri": "https://localhost:8080/"
        },
        "id": "vwpuA4ROICL7",
        "outputId": "2a9d6e11-7abf-4fd6-ac46-abb362004ac4"
      },
      "source": [
        "radcliffe_temperature_daily_df[radcliffe_temperature_daily_df.columns[1: ]] = radcliffe_temperature_daily_df[radcliffe_temperature_daily_df.columns[1: ]].apply(pd.to_numeric)    # chaging the data to floats "
      ],
      "execution_count": null,
      "outputs": [
        {
          "output_type": "stream",
          "text": [
            "/usr/local/lib/python3.6/dist-packages/pandas/core/frame.py:3069: SettingWithCopyWarning: \n",
            "A value is trying to be set on a copy of a slice from a DataFrame.\n",
            "Try using .loc[row_indexer,col_indexer] = value instead\n",
            "\n",
            "See the caveats in the documentation: https://pandas.pydata.org/pandas-docs/stable/user_guide/indexing.html#returning-a-view-versus-a-copy\n",
            "  self[k1] = value[k2]\n"
          ],
          "name": "stderr"
        }
      ]
    },
    {
      "cell_type": "code",
      "metadata": {
        "id": "wDFyTJaCzo3a"
      },
      "source": [
        "# pickle our dataframes so they can be used in other notebooks\n",
        "import pickle\n",
        "path = '/content/drive/My Drive/3YP/data/'\n",
        "filename_real = 'radcliffe_daily_precipitation_data_processed'\n",
        "outfile_real = open(path+filename_real, 'wb')\n",
        "pickle.dump(radcliffe_precipitation_daily_df, outfile_real)\n",
        "outfile_real.close()"
      ],
      "execution_count": null,
      "outputs": []
    },
    {
      "cell_type": "code",
      "metadata": {
        "id": "cVfzMzYBHhqj"
      },
      "source": [
        "path2 = '/content/drive/My Drive/3YP/data/'\n",
        "filename_real2 = 'radcliffe_daily_temperature_data_processed'\n",
        "outfile_real2 = open(path2 + filename_real2, 'wb')\n",
        "pickle.dump(radcliffe_temperature_daily_df, outfile_real2)\n",
        "outfile_real2.close()"
      ],
      "execution_count": null,
      "outputs": []
    },
    {
      "cell_type": "code",
      "metadata": {
        "id": "Y4PHtlALIN0Y"
      },
      "source": [
        ""
      ],
      "execution_count": null,
      "outputs": []
    }
  ]
}