{
  "nbformat": 4,
  "nbformat_minor": 0,
  "metadata": {
    "colab": {
      "name": "SandfordHydro_Daily_Generation_Preprocessing_Ravi.ipynb",
      "provenance": [],
      "collapsed_sections": [],
      "authorship_tag": "ABX9TyME1UntQNoK/uyRlTb6cRx5",
      "include_colab_link": true
    },
    "kernelspec": {
      "name": "python3",
      "display_name": "Python 3"
    }
  },
  "cells": [
    {
      "cell_type": "markdown",
      "metadata": {
        "id": "view-in-github",
        "colab_type": "text"
      },
      "source": [
        "<a href=\"https://colab.research.google.com/github/themathedges/3YP-Standalone-Kennington/blob/main/Ravi/SandfordHydro_Daily_Generation_Preprocessing_Ravi.ipynb\" target=\"_parent\"><img src=\"https://colab.research.google.com/assets/colab-badge.svg\" alt=\"Open In Colab\"/></a>"
      ]
    },
    {
      "cell_type": "markdown",
      "metadata": {
        "id": "3RExWHrXymeD"
      },
      "source": [
        "# Sandford Hydro Daily Generation Data Processing "
      ]
    },
    {
      "cell_type": "markdown",
      "metadata": {
        "id": "52tyEuSfyvQs"
      },
      "source": [
        "Author: Ravi Kohli\n",
        "\n",
        "Date: November 17th, 2020\n",
        "\n",
        "College: Christ Church"
      ]
    },
    {
      "cell_type": "markdown",
      "metadata": {
        "id": "Y0cXysMCy2GC"
      },
      "source": [
        "**Purpose:** This notebook will:\n",
        "- process the daily Sandford Generation data such that it can be used to do analysis in another notebook"
      ]
    },
    {
      "cell_type": "markdown",
      "metadata": {
        "id": "oUeX341T1SuI"
      },
      "source": [
        "The dataset has three main columns:\n",
        "- Reading date\n",
        "- Incremental Reading: the generation on that specific day\n",
        "- Meter Reading: a running total"
      ]
    },
    {
      "cell_type": "markdown",
      "metadata": {
        "id": "n891DELNPNl-"
      },
      "source": [
        "**NOTE:** if running this notebook on your own computer, then just ignore this cell below"
      ]
    },
    {
      "cell_type": "code",
      "metadata": {
        "colab": {
          "base_uri": "https://localhost:8080/"
        },
        "id": "0FDpzAGKyhzu",
        "outputId": "e1b8a525-3a9c-4eb3-9f0d-24f156f81688"
      },
      "source": [
        "# Mounting the Google Drive\n",
        "from google.colab import drive\n",
        "drive.mount('/content/drive')"
      ],
      "execution_count": 1,
      "outputs": [
        {
          "output_type": "stream",
          "text": [
            "Drive already mounted at /content/drive; to attempt to forcibly remount, call drive.mount(\"/content/drive\", force_remount=True).\n"
          ],
          "name": "stdout"
        }
      ]
    },
    {
      "cell_type": "code",
      "metadata": {
        "id": "aub_FoEczSd4"
      },
      "source": [
        "# importing the modules\n",
        "import numpy as np\n",
        "import pandas as pd\n",
        "import matplotlib\n",
        "import matplotlib.pyplot as plt\n",
        "import pickle\n",
        "import datetime\n",
        "import matplotlib.dates as mdates\n",
        "from matplotlib.dates import DateFormatter"
      ],
      "execution_count": 2,
      "outputs": []
    },
    {
      "cell_type": "markdown",
      "metadata": {
        "id": "jU-NoLuS2dFB"
      },
      "source": [
        "Now we need to retrieve the following datasets:\n",
        "- Oxford precipitation data\n",
        "- Sandford generation data"
      ]
    },
    {
      "cell_type": "code",
      "metadata": {
        "id": "Vz-Zp7vtzZ5-"
      },
      "source": [
        "# Retrieving the precipitation data\n",
        "sandford_path = '/content/drive/My Drive/3YP/data/'     # when running in a notebook in colab\n",
        "#path = '../data/'                                      # when running from an external notebook\n",
        "\n",
        "filename = \"Sandford_generation_daily.csv\"              # the name of the csv file\n",
        "sandford_df = pd.read_csv(sandford_path+filename)       # converting the csv file to a dataframe"
      ],
      "execution_count": 3,
      "outputs": []
    },
    {
      "cell_type": "code",
      "metadata": {
        "id": "PWqZ7XK_8jiB",
        "colab": {
          "base_uri": "https://localhost:8080/",
          "height": 1000
        },
        "outputId": "2607e653-194e-43fa-e2ad-d267d477ac1f"
      },
      "source": [
        "sandford_df.head(40)                                    # just to look at the data"
      ],
      "execution_count": 4,
      "outputs": [
        {
          "output_type": "execute_result",
          "data": {
            "text/html": [
              "<div>\n",
              "<style scoped>\n",
              "    .dataframe tbody tr th:only-of-type {\n",
              "        vertical-align: middle;\n",
              "    }\n",
              "\n",
              "    .dataframe tbody tr th {\n",
              "        vertical-align: top;\n",
              "    }\n",
              "\n",
              "    .dataframe thead th {\n",
              "        text-align: right;\n",
              "    }\n",
              "</style>\n",
              "<table border=\"1\" class=\"dataframe\">\n",
              "  <thead>\n",
              "    <tr style=\"text-align: right;\">\n",
              "      <th></th>\n",
              "      <th>Reading Date</th>\n",
              "      <th>Incremental Reading</th>\n",
              "      <th>Meter Reading</th>\n",
              "    </tr>\n",
              "  </thead>\n",
              "  <tbody>\n",
              "    <tr>\n",
              "      <th>0</th>\n",
              "      <td>22/10/2019 00:00</td>\n",
              "      <td>1,284.10</td>\n",
              "      <td>1,763,145.53</td>\n",
              "    </tr>\n",
              "    <tr>\n",
              "      <th>1</th>\n",
              "      <td>21/10/2019 00:00</td>\n",
              "      <td>1,175.01</td>\n",
              "      <td>1,761,861.43</td>\n",
              "    </tr>\n",
              "    <tr>\n",
              "      <th>2</th>\n",
              "      <td>20/10/2019 00:00</td>\n",
              "      <td>1,175.01</td>\n",
              "      <td>NaN</td>\n",
              "    </tr>\n",
              "    <tr>\n",
              "      <th>3</th>\n",
              "      <td>19/10/2019 00:00</td>\n",
              "      <td>1,175.01</td>\n",
              "      <td>NaN</td>\n",
              "    </tr>\n",
              "    <tr>\n",
              "      <th>4</th>\n",
              "      <td>18/10/2019 00:00</td>\n",
              "      <td>2,265.09</td>\n",
              "      <td>1,758,336.41</td>\n",
              "    </tr>\n",
              "    <tr>\n",
              "      <th>5</th>\n",
              "      <td>17/10/2019 00:00</td>\n",
              "      <td>3,438.12</td>\n",
              "      <td>1,756,071.32</td>\n",
              "    </tr>\n",
              "    <tr>\n",
              "      <th>6</th>\n",
              "      <td>16/10/2019 00:00</td>\n",
              "      <td>3,438.11</td>\n",
              "      <td>NaN</td>\n",
              "    </tr>\n",
              "    <tr>\n",
              "      <th>7</th>\n",
              "      <td>15/10/2019 00:00</td>\n",
              "      <td>3,438.11</td>\n",
              "      <td>NaN</td>\n",
              "    </tr>\n",
              "    <tr>\n",
              "      <th>8</th>\n",
              "      <td>14/10/2019 00:00</td>\n",
              "      <td>5,758.16</td>\n",
              "      <td>1,745,756.98</td>\n",
              "    </tr>\n",
              "    <tr>\n",
              "      <th>9</th>\n",
              "      <td>13/10/2019 00:00</td>\n",
              "      <td>5,758.16</td>\n",
              "      <td>NaN</td>\n",
              "    </tr>\n",
              "    <tr>\n",
              "      <th>10</th>\n",
              "      <td>12/10/2019 00:00</td>\n",
              "      <td>5,758.16</td>\n",
              "      <td>NaN</td>\n",
              "    </tr>\n",
              "    <tr>\n",
              "      <th>11</th>\n",
              "      <td>11/10/2019 00:00</td>\n",
              "      <td>6,141.29</td>\n",
              "      <td>1,728,482.51</td>\n",
              "    </tr>\n",
              "    <tr>\n",
              "      <th>12</th>\n",
              "      <td>10/10/2019 00:00</td>\n",
              "      <td>6,141.29</td>\n",
              "      <td>NaN</td>\n",
              "    </tr>\n",
              "    <tr>\n",
              "      <th>13</th>\n",
              "      <td>09/10/2019 00:00</td>\n",
              "      <td>6,780.62</td>\n",
              "      <td>1,716,199.94</td>\n",
              "    </tr>\n",
              "    <tr>\n",
              "      <th>14</th>\n",
              "      <td>08/10/2019 00:00</td>\n",
              "      <td>6,724.52</td>\n",
              "      <td>1,709,419.32</td>\n",
              "    </tr>\n",
              "    <tr>\n",
              "      <th>15</th>\n",
              "      <td>07/10/2019 00:00</td>\n",
              "      <td>4,811.61</td>\n",
              "      <td>1,702,694.80</td>\n",
              "    </tr>\n",
              "    <tr>\n",
              "      <th>16</th>\n",
              "      <td>06/10/2019 00:00</td>\n",
              "      <td>4,811.60</td>\n",
              "      <td>NaN</td>\n",
              "    </tr>\n",
              "    <tr>\n",
              "      <th>17</th>\n",
              "      <td>05/10/2019 00:00</td>\n",
              "      <td>4,811.60</td>\n",
              "      <td>NaN</td>\n",
              "    </tr>\n",
              "    <tr>\n",
              "      <th>18</th>\n",
              "      <td>04/10/2019 00:00</td>\n",
              "      <td>7,407.20</td>\n",
              "      <td>1,688,259.99</td>\n",
              "    </tr>\n",
              "    <tr>\n",
              "      <th>19</th>\n",
              "      <td>03/10/2019 00:00</td>\n",
              "      <td>7,499.47</td>\n",
              "      <td>1,680,852.79</td>\n",
              "    </tr>\n",
              "    <tr>\n",
              "      <th>20</th>\n",
              "      <td>02/10/2019 00:00</td>\n",
              "      <td>6,834.18</td>\n",
              "      <td>1,673,353.32</td>\n",
              "    </tr>\n",
              "    <tr>\n",
              "      <th>21</th>\n",
              "      <td>01/10/2019 00:00</td>\n",
              "      <td>4,799.56</td>\n",
              "      <td>1,666,519.14</td>\n",
              "    </tr>\n",
              "    <tr>\n",
              "      <th>22</th>\n",
              "      <td>30/09/2019 00:00</td>\n",
              "      <td>1,358.66</td>\n",
              "      <td>1,661,719.58</td>\n",
              "    </tr>\n",
              "    <tr>\n",
              "      <th>23</th>\n",
              "      <td>29/09/2019 00:00</td>\n",
              "      <td>1,358.66</td>\n",
              "      <td>NaN</td>\n",
              "    </tr>\n",
              "    <tr>\n",
              "      <th>24</th>\n",
              "      <td>28/09/2019 00:00</td>\n",
              "      <td>1,358.66</td>\n",
              "      <td>NaN</td>\n",
              "    </tr>\n",
              "    <tr>\n",
              "      <th>25</th>\n",
              "      <td>27/09/2019 00:00</td>\n",
              "      <td>1,358.66</td>\n",
              "      <td>NaN</td>\n",
              "    </tr>\n",
              "    <tr>\n",
              "      <th>26</th>\n",
              "      <td>26/09/2019 00:00</td>\n",
              "      <td>1,358.66</td>\n",
              "      <td>NaN</td>\n",
              "    </tr>\n",
              "    <tr>\n",
              "      <th>27</th>\n",
              "      <td>25/09/2019 00:00</td>\n",
              "      <td>1,358.66</td>\n",
              "      <td>NaN</td>\n",
              "    </tr>\n",
              "    <tr>\n",
              "      <th>28</th>\n",
              "      <td>24/09/2019 00:00</td>\n",
              "      <td>1,358.66</td>\n",
              "      <td>NaN</td>\n",
              "    </tr>\n",
              "    <tr>\n",
              "      <th>29</th>\n",
              "      <td>23/09/2019 00:00</td>\n",
              "      <td>1,358.66</td>\n",
              "      <td>NaN</td>\n",
              "    </tr>\n",
              "    <tr>\n",
              "      <th>30</th>\n",
              "      <td>22/09/2019 00:00</td>\n",
              "      <td>1,358.66</td>\n",
              "      <td>NaN</td>\n",
              "    </tr>\n",
              "    <tr>\n",
              "      <th>31</th>\n",
              "      <td>21/09/2019 00:00</td>\n",
              "      <td>1,358.66</td>\n",
              "      <td>NaN</td>\n",
              "    </tr>\n",
              "    <tr>\n",
              "      <th>32</th>\n",
              "      <td>20/09/2019 00:00</td>\n",
              "      <td>0</td>\n",
              "      <td>1,648,133.02</td>\n",
              "    </tr>\n",
              "    <tr>\n",
              "      <th>33</th>\n",
              "      <td>19/09/2019 00:00</td>\n",
              "      <td>0</td>\n",
              "      <td>1,648,133.02</td>\n",
              "    </tr>\n",
              "    <tr>\n",
              "      <th>34</th>\n",
              "      <td>18/09/2019 00:00</td>\n",
              "      <td>0</td>\n",
              "      <td>1,648,133.02</td>\n",
              "    </tr>\n",
              "    <tr>\n",
              "      <th>35</th>\n",
              "      <td>17/09/2019 00:00</td>\n",
              "      <td>0</td>\n",
              "      <td>1,648,133.02</td>\n",
              "    </tr>\n",
              "    <tr>\n",
              "      <th>36</th>\n",
              "      <td>16/09/2019 00:00</td>\n",
              "      <td>0</td>\n",
              "      <td>1,648,133.02</td>\n",
              "    </tr>\n",
              "    <tr>\n",
              "      <th>37</th>\n",
              "      <td>15/09/2019 00:00</td>\n",
              "      <td>0</td>\n",
              "      <td>1,648,133.02</td>\n",
              "    </tr>\n",
              "    <tr>\n",
              "      <th>38</th>\n",
              "      <td>14/09/2019 00:00</td>\n",
              "      <td>0</td>\n",
              "      <td>1,648,133.02</td>\n",
              "    </tr>\n",
              "    <tr>\n",
              "      <th>39</th>\n",
              "      <td>13/09/2019 00:00</td>\n",
              "      <td>0</td>\n",
              "      <td>1,648,133.02</td>\n",
              "    </tr>\n",
              "  </tbody>\n",
              "</table>\n",
              "</div>"
            ],
            "text/plain": [
              "        Reading Date Incremental Reading Meter Reading\n",
              "0   22/10/2019 00:00            1,284.10  1,763,145.53\n",
              "1   21/10/2019 00:00            1,175.01  1,761,861.43\n",
              "2   20/10/2019 00:00            1,175.01           NaN\n",
              "3   19/10/2019 00:00            1,175.01           NaN\n",
              "4   18/10/2019 00:00            2,265.09  1,758,336.41\n",
              "5   17/10/2019 00:00            3,438.12  1,756,071.32\n",
              "6   16/10/2019 00:00            3,438.11           NaN\n",
              "7   15/10/2019 00:00            3,438.11           NaN\n",
              "8   14/10/2019 00:00            5,758.16  1,745,756.98\n",
              "9   13/10/2019 00:00            5,758.16           NaN\n",
              "10  12/10/2019 00:00            5,758.16           NaN\n",
              "11  11/10/2019 00:00            6,141.29  1,728,482.51\n",
              "12  10/10/2019 00:00            6,141.29           NaN\n",
              "13  09/10/2019 00:00            6,780.62  1,716,199.94\n",
              "14  08/10/2019 00:00            6,724.52  1,709,419.32\n",
              "15  07/10/2019 00:00            4,811.61  1,702,694.80\n",
              "16  06/10/2019 00:00            4,811.60           NaN\n",
              "17  05/10/2019 00:00            4,811.60           NaN\n",
              "18  04/10/2019 00:00            7,407.20  1,688,259.99\n",
              "19  03/10/2019 00:00            7,499.47  1,680,852.79\n",
              "20  02/10/2019 00:00            6,834.18  1,673,353.32\n",
              "21  01/10/2019 00:00            4,799.56  1,666,519.14\n",
              "22  30/09/2019 00:00            1,358.66  1,661,719.58\n",
              "23  29/09/2019 00:00            1,358.66           NaN\n",
              "24  28/09/2019 00:00            1,358.66           NaN\n",
              "25  27/09/2019 00:00            1,358.66           NaN\n",
              "26  26/09/2019 00:00            1,358.66           NaN\n",
              "27  25/09/2019 00:00            1,358.66           NaN\n",
              "28  24/09/2019 00:00            1,358.66           NaN\n",
              "29  23/09/2019 00:00            1,358.66           NaN\n",
              "30  22/09/2019 00:00            1,358.66           NaN\n",
              "31  21/09/2019 00:00            1,358.66           NaN\n",
              "32  20/09/2019 00:00                   0  1,648,133.02\n",
              "33  19/09/2019 00:00                   0  1,648,133.02\n",
              "34  18/09/2019 00:00                   0  1,648,133.02\n",
              "35  17/09/2019 00:00                   0  1,648,133.02\n",
              "36  16/09/2019 00:00                   0  1,648,133.02\n",
              "37  15/09/2019 00:00                   0  1,648,133.02\n",
              "38  14/09/2019 00:00                   0  1,648,133.02\n",
              "39  13/09/2019 00:00                   0  1,648,133.02"
            ]
          },
          "metadata": {
            "tags": []
          },
          "execution_count": 4
        }
      ]
    },
    {
      "cell_type": "code",
      "metadata": {
        "colab": {
          "base_uri": "https://localhost:8080/"
        },
        "id": "4XUuqrab2Uqk",
        "outputId": "476630e6-ee1e-427a-ac2f-8c12ad2ca13b"
      },
      "source": [
        "# initial overview of the dataframe\n",
        "sandford_df.info()"
      ],
      "execution_count": 5,
      "outputs": [
        {
          "output_type": "stream",
          "text": [
            "<class 'pandas.core.frame.DataFrame'>\n",
            "RangeIndex: 369 entries, 0 to 368\n",
            "Data columns (total 3 columns):\n",
            " #   Column               Non-Null Count  Dtype \n",
            "---  ------               --------------  ----- \n",
            " 0   Reading Date         369 non-null    object\n",
            " 1   Incremental Reading  369 non-null    object\n",
            " 2   Meter Reading        320 non-null    object\n",
            "dtypes: object(3)\n",
            "memory usage: 8.8+ KB\n"
          ],
          "name": "stdout"
        }
      ]
    },
    {
      "cell_type": "markdown",
      "metadata": {
        "id": "MazmNxpQ28wn"
      },
      "source": [
        "**Having looked through the data, we require the following pre-processing steps:**\n",
        "- Datatypes: need to be changed from non-null to datetime and float\n",
        "  - The order of the dates is DD / MM / YYYY in the string and thus needs to be taken into account when using `pd.to_datetime`\n",
        "  - The dates need to be changed from timestamps to datetime\n",
        "  - The strings of the readings in the 'Incremental Readings' and 'Meter Readings' columns have commas ',' in them which need to be removed to allow conversion of data to floats\n",
        "- Missing data: can either be exluded or interpolated\n"
      ]
    },
    {
      "cell_type": "code",
      "metadata": {
        "id": "yj64_Oce3YOV"
      },
      "source": [
        "# changing the datatype of the 'Reading Date' column to datetime\n",
        "sandford_df['Reading Date'] =  pd.to_datetime(sandford_df['Reading Date'], dayfirst = True)     # the data has the date first in the string"
      ],
      "execution_count": 6,
      "outputs": []
    },
    {
      "cell_type": "code",
      "metadata": {
        "colab": {
          "base_uri": "https://localhost:8080/",
          "height": 419
        },
        "id": "YZvdufg2u_zQ",
        "outputId": "6d74f413-e701-41dc-d7d8-c5d3b758b06f"
      },
      "source": [
        "#sandford_df['NEWDATE'] = sandford_df['Reading Date'].apply(lambda x: str(x.day)+'/'+str(x.month)+'/'+str(x.year)).  # spare lambda function to deal with dates\n",
        "sandford_df"
      ],
      "execution_count": 7,
      "outputs": [
        {
          "output_type": "execute_result",
          "data": {
            "text/html": [
              "<div>\n",
              "<style scoped>\n",
              "    .dataframe tbody tr th:only-of-type {\n",
              "        vertical-align: middle;\n",
              "    }\n",
              "\n",
              "    .dataframe tbody tr th {\n",
              "        vertical-align: top;\n",
              "    }\n",
              "\n",
              "    .dataframe thead th {\n",
              "        text-align: right;\n",
              "    }\n",
              "</style>\n",
              "<table border=\"1\" class=\"dataframe\">\n",
              "  <thead>\n",
              "    <tr style=\"text-align: right;\">\n",
              "      <th></th>\n",
              "      <th>Reading Date</th>\n",
              "      <th>Incremental Reading</th>\n",
              "      <th>Meter Reading</th>\n",
              "    </tr>\n",
              "  </thead>\n",
              "  <tbody>\n",
              "    <tr>\n",
              "      <th>0</th>\n",
              "      <td>2019-10-22</td>\n",
              "      <td>1,284.10</td>\n",
              "      <td>1,763,145.53</td>\n",
              "    </tr>\n",
              "    <tr>\n",
              "      <th>1</th>\n",
              "      <td>2019-10-21</td>\n",
              "      <td>1,175.01</td>\n",
              "      <td>1,761,861.43</td>\n",
              "    </tr>\n",
              "    <tr>\n",
              "      <th>2</th>\n",
              "      <td>2019-10-20</td>\n",
              "      <td>1,175.01</td>\n",
              "      <td>NaN</td>\n",
              "    </tr>\n",
              "    <tr>\n",
              "      <th>3</th>\n",
              "      <td>2019-10-19</td>\n",
              "      <td>1,175.01</td>\n",
              "      <td>NaN</td>\n",
              "    </tr>\n",
              "    <tr>\n",
              "      <th>4</th>\n",
              "      <td>2019-10-18</td>\n",
              "      <td>2,265.09</td>\n",
              "      <td>1,758,336.41</td>\n",
              "    </tr>\n",
              "    <tr>\n",
              "      <th>...</th>\n",
              "      <td>...</td>\n",
              "      <td>...</td>\n",
              "      <td>...</td>\n",
              "    </tr>\n",
              "    <tr>\n",
              "      <th>364</th>\n",
              "      <td>2018-10-22</td>\n",
              "      <td>0</td>\n",
              "      <td>548,149.91</td>\n",
              "    </tr>\n",
              "    <tr>\n",
              "      <th>365</th>\n",
              "      <td>2018-10-21</td>\n",
              "      <td>0</td>\n",
              "      <td>548,149.91</td>\n",
              "    </tr>\n",
              "    <tr>\n",
              "      <th>366</th>\n",
              "      <td>2018-10-20</td>\n",
              "      <td>0</td>\n",
              "      <td>548,149.91</td>\n",
              "    </tr>\n",
              "    <tr>\n",
              "      <th>367</th>\n",
              "      <td>2018-10-19</td>\n",
              "      <td>0</td>\n",
              "      <td>548,149.91</td>\n",
              "    </tr>\n",
              "    <tr>\n",
              "      <th>368</th>\n",
              "      <td>2018-10-18</td>\n",
              "      <td>0</td>\n",
              "      <td>548,149.91</td>\n",
              "    </tr>\n",
              "  </tbody>\n",
              "</table>\n",
              "<p>369 rows × 3 columns</p>\n",
              "</div>"
            ],
            "text/plain": [
              "    Reading Date Incremental Reading Meter Reading\n",
              "0     2019-10-22            1,284.10  1,763,145.53\n",
              "1     2019-10-21            1,175.01  1,761,861.43\n",
              "2     2019-10-20            1,175.01           NaN\n",
              "3     2019-10-19            1,175.01           NaN\n",
              "4     2019-10-18            2,265.09  1,758,336.41\n",
              "..           ...                 ...           ...\n",
              "364   2018-10-22                   0    548,149.91\n",
              "365   2018-10-21                   0    548,149.91\n",
              "366   2018-10-20                   0    548,149.91\n",
              "367   2018-10-19                   0    548,149.91\n",
              "368   2018-10-18                   0    548,149.91\n",
              "\n",
              "[369 rows x 3 columns]"
            ]
          },
          "metadata": {
            "tags": []
          },
          "execution_count": 7
        }
      ]
    },
    {
      "cell_type": "code",
      "metadata": {
        "id": "xZhbwkkh660M"
      },
      "source": [
        "# removing the commas from the reading data so we can convert them into floats\n",
        "sandford_df['Incremental Reading'] = sandford_df['Incremental Reading'].str.replace(',', '').astype(float)\n",
        "sandford_df['Meter Reading'] = sandford_df['Meter Reading'].str.replace(',', '').astype(float)"
      ],
      "execution_count": 8,
      "outputs": []
    },
    {
      "cell_type": "code",
      "metadata": {
        "id": "CwlOVYvc3hzK"
      },
      "source": [
        "# changing the other data types to floats\n",
        "sandford_df[sandford_df.columns[1: ]] = sandford_df[sandford_df.columns[1: ]].apply(pd.to_numeric)"
      ],
      "execution_count": 9,
      "outputs": []
    },
    {
      "cell_type": "code",
      "metadata": {
        "id": "y4kbrmy78ZUr",
        "colab": {
          "base_uri": "https://localhost:8080/"
        },
        "outputId": "1947202b-7356-42a6-eb5c-c24274bc1342"
      },
      "source": [
        "sandford_df.info()"
      ],
      "execution_count": 10,
      "outputs": [
        {
          "output_type": "stream",
          "text": [
            "<class 'pandas.core.frame.DataFrame'>\n",
            "RangeIndex: 369 entries, 0 to 368\n",
            "Data columns (total 3 columns):\n",
            " #   Column               Non-Null Count  Dtype         \n",
            "---  ------               --------------  -----         \n",
            " 0   Reading Date         369 non-null    datetime64[ns]\n",
            " 1   Incremental Reading  369 non-null    float64       \n",
            " 2   Meter Reading        320 non-null    float64       \n",
            "dtypes: datetime64[ns](1), float64(2)\n",
            "memory usage: 8.8 KB\n"
          ],
          "name": "stdout"
        }
      ]
    },
    {
      "cell_type": "markdown",
      "metadata": {
        "id": "CBNbNHuI7qmh"
      },
      "source": [
        "Now let us get an initial plot to see what the data looks like"
      ]
    },
    {
      "cell_type": "code",
      "metadata": {
        "colab": {
          "base_uri": "https://localhost:8080/",
          "height": 637
        },
        "id": "giB2tFvd6gqN",
        "outputId": "816344ac-b173-4627-ef38-13e4bd632587"
      },
      "source": [
        "s_fig, s_ax = plt.subplots(figsize=(10, 10))\n",
        "\n",
        "# Add x-axis and y-axis\n",
        "s_ax.plot(sandford_df['Reading Date'], sandford_df['Incremental Reading'], color='blue')\n",
        "\n",
        "# Set title and labels for axes\n",
        "s_ax.set(xlabel=\"Date\",\n",
        "       ylabel=\"Meter Reading\",\n",
        "       title=\"Meter Reading over Time for Sandford Hydro\\nDecember 2018 - October 2019\")\n",
        "\n",
        "# Change the date format if we want\n",
        "#x_dates = pd.to_datetime(sandford_df['Reading Date']).dt.strftime('%m-%y')#.sort_values()#.unique()\n",
        "#s_ax.xaxis.set_major_formatter(plt.FixedFormatter(x_dates))\n",
        "#s_ax.xaxis.set_major_locator(mdates.MonthLocator(interval=2))\n",
        "\n",
        "plt.show()"
      ],
      "execution_count": 11,
      "outputs": [
        {
          "output_type": "display_data",
          "data": {
            "image/png": "[encoded data removed]",
            "text/plain": [
              "<Figure size 720x720 with 1 Axes>"
            ]
          },
          "metadata": {
            "tags": [],
            "needs_background": "light"
          }
        }
      ]
    },
    {
      "cell_type": "code",
      "metadata": {
        "id": "52fxk5AgXzSx"
      },
      "source": [
        ""
      ],
      "execution_count": 11,
      "outputs": []
    }
  ]
}