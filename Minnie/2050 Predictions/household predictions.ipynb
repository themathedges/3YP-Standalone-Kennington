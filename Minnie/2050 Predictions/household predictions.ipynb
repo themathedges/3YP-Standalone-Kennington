{
 "metadata": {
  "language_info": {
   "codemirror_mode": {
    "name": "ipython",
    "version": 3
   },
   "file_extension": ".py",
   "mimetype": "text/x-python",
   "name": "python",
   "nbconvert_exporter": "python",
   "pygments_lexer": "ipython3",
   "version": 3
  },
  "orig_nbformat": 2
 },
 "nbformat": 4,
 "nbformat_minor": 2,
 "cells": [
  {
   "source": [
    "# Kennington Households Predictions up to 2050"
   ],
   "cell_type": "markdown",
   "metadata": {}
  },
  {
   "source": [
    "**Author:** Minnie Karanjavala\n",
    "\n",
    "**Date:** April 3rd, 2021\n",
    "\n",
    "**College:** St Peter's"
   ],
   "cell_type": "markdown",
   "metadata": {}
  },
  {
   "source": [
    "## Goal:\n",
    "\n",
    "- produce a plot for Kennington # households from 2018 to 2050"
   ],
   "cell_type": "markdown",
   "metadata": {}
  },
  {
   "source": [
    "## Plan:\n",
    "- I have a data set for # households of The Vale of the White Horse from 2018 to 2043 prediction. So I need to scale this down to Kennington first.\n",
    "- then I need to add a line of best fit to the data so that I can take the prediction from 2043 to 2050\n",
    "\n",
    "## Todo:\n",
    "- I might need to look into methods for adding a line of best fit (ie curve_fit)"
   ],
   "cell_type": "markdown",
   "metadata": {}
  },
  {
   "cell_type": "code",
   "execution_count": null,
   "metadata": {},
   "outputs": [],
   "source": []
  }
 ]
}