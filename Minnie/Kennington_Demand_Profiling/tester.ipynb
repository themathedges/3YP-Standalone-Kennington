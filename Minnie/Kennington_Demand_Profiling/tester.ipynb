{
 "metadata": {
  "language_info": {
   "codemirror_mode": {
    "name": "ipython",
    "version": 3
   },
   "file_extension": ".py",
   "mimetype": "text/x-python",
   "name": "python",
   "nbconvert_exporter": "python",
   "pygments_lexer": "ipython3",
   "version": "3.8.3-final"
  },
  "orig_nbformat": 2,
  "kernelspec": {
   "name": "python3",
   "display_name": "Python 3",
   "language": "python"
  }
 },
 "nbformat": 4,
 "nbformat_minor": 2,
 "cells": [
  {
   "cell_type": "code",
   "execution_count": 2,
   "metadata": {},
   "outputs": [],
   "source": [
    "import numpy as np\n",
    "import pandas as pd\n"
   ]
  },
  {
   "cell_type": "code",
   "execution_count": 3,
   "metadata": {},
   "outputs": [
    {
     "output_type": "stream",
     "name": "stdout",
     "text": [
      "[1 2 3 4 5]\n(5,)\n[ 3  6  9 12 15]\n[1.5 3.  4.5 6.  7.5]\n"
     ]
    }
   ],
   "source": [
    "demand = np.array([1, 2, 3, 4, 5])  # kW half hourly data \n",
    "\n",
    "nHouses = 3\n",
    "\n",
    "dt = 0.5    # hr \n",
    "\n",
    "output1 = demand * nHouses\n",
    "output2 = output1 * dt\n",
    "\n",
    "print(demand)\n",
    "print(demand.shape)\n",
    "print(output1)\n",
    "print(output2)\n"
   ]
  },
  {
   "source": [
    "## How to add an index to CSV \n",
    "\n",
    "- I did it manually by creating a vector of ascending values and then appending that column to my column of data (so I had 2 columns in my numpy array). Then I converted the numpy to a dataframe then wrote it to a csv file \n",
    "- a quicker way to do the same thing is just to set the 'index' parameter = True when using the df.to_csv function"
   ],
   "cell_type": "markdown",
   "metadata": {}
  },
  {
   "cell_type": "code",
   "execution_count": 4,
   "metadata": {},
   "outputs": [
    {
     "output_type": "stream",
     "name": "stdout",
     "text": [
      "[[1]\n [2]\n [3]\n [4]]\n(4, 1)\n[[5]\n [6]\n [7]\n [8]]\n[[1 5]\n [2 6]\n [3 7]\n [4 8]]\n"
     ]
    }
   ],
   "source": [
    "x = np.arange(1,5)\n",
    "y = np.arange(5,9)\n",
    "\n",
    "\n",
    "x = np.reshape(x,(x.shape[0],1))\n",
    "y = np.reshape(y,(y.shape[0],1))\n",
    "\n",
    "\n",
    "z = np.concatenate((x,y),axis=1)\n",
    "\n",
    "print(x)\n",
    "print(x.shape)\n",
    "print(y)\n",
    "print(z)"
   ]
  },
  {
   "cell_type": "code",
   "execution_count": 5,
   "metadata": {},
   "outputs": [
    {
     "output_type": "stream",
     "name": "stdout",
     "text": [
      "   index  power (kW)\n0      1           5\n1      2           6\n2      3           7\n3      4           8\n"
     ]
    }
   ],
   "source": [
    "df = pd.DataFrame(z,columns=['index','power (kW)'])\n",
    "print(df)"
   ]
  },
  {
   "cell_type": "code",
   "execution_count": 6,
   "metadata": {},
   "outputs": [],
   "source": [
    "# by setting index = \"False\" we will not have an index in our CSV file\n",
    "df.to_csv('tester1.csv',index=False)\n",
    "\n",
    "# by setting the index parameter = \"True\" we will have a first column in our data which is an index starting at 0 and counting up \n",
    "df.to_csv('tester2.csv',index=True)"
   ]
  },
  {
   "source": [
    "## Tester of indexing in python\n"
   ],
   "cell_type": "markdown",
   "metadata": {}
  },
  {
   "cell_type": "code",
   "execution_count": 11,
   "metadata": {},
   "outputs": [
    {
     "output_type": "stream",
     "name": "stdout",
     "text": [
      "[8 4 9 6 2]\n"
     ]
    }
   ],
   "source": [
    "a = np.array([5,8,4,9,6,2])\n",
    "x = a[1:4]\n",
    "y = a[4:]\n",
    "z = np.append(x,y)\n",
    "\n",
    "\n",
    "print(z)\n",
    "\n",
    "\n"
   ]
  },
  {
   "source": [
    "## Misc\n",
    "\n",
    "- figure out what the following line does:\n",
    " nondom = [i[0] for i in load_site2.getOutput(dt).tolist()]  \n"
   ],
   "cell_type": "markdown",
   "metadata": {}
  },
  {
   "cell_type": "code",
   "execution_count": 24,
   "metadata": {},
   "outputs": [
    {
     "output_type": "stream",
     "name": "stdout",
     "text": [
      "[[5]\n [8]\n [4]\n [9]\n [6]\n [2]]\n[[5], [8], [4], [9], [6], [2]]\n[5, 8, 4, 9, 6, 2]\n"
     ]
    }
   ],
   "source": [
    "a = np.array([[5],[8],[4],[9],[6],[2]])\n",
    "print(a)\n",
    "a = a.tolist()\n",
    "print(a)\n",
    " \n",
    "nondom = [i[0] for i in a]  \n",
    "\n",
    "print(nondom)"
   ]
  },
  {
   "cell_type": "code",
   "execution_count": 28,
   "metadata": {},
   "outputs": [
    {
     "output_type": "stream",
     "name": "stdout",
     "text": [
      "[5 8 4 9 6 2]\n<class 'numpy.ndarray'>\n[5, 8, 4, 9, 6, 2]\n<class 'list'>\n"
     ]
    }
   ],
   "source": [
    "x = np.array([5,8,4,9,6,2])\n",
    "print(x)\n",
    "print(type(x))\n",
    "\n",
    "list_x = [i for i in x]\n",
    "\n",
    "print(list_x)\n",
    "print(type(list_x))"
   ]
  },
  {
   "cell_type": "code",
   "execution_count": null,
   "metadata": {},
   "outputs": [],
   "source": []
  }
 ]
}